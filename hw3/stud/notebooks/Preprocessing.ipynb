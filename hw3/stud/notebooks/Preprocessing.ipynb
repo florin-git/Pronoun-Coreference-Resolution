{
 "cells": [
  {
   "cell_type": "markdown",
   "metadata": {},
   "source": [
    "# Setup"
   ]
  },
  {
   "cell_type": "code",
   "execution_count": 1,
   "metadata": {},
   "outputs": [],
   "source": [
    "import torch\n",
    "import numpy as np\n",
    "import pandas as pd\n",
    "import matplotlib.pyplot as plt\n",
    "\n",
    "import os\n",
    "import random\n",
    "from typing import *\n",
    "from collections import Counter\n",
    "\n",
    "\n",
    "SEED = 10\n",
    "\n",
    "random.seed(SEED)\n",
    "np.random.seed(SEED)\n",
    "torch.manual_seed(SEED)\n",
    "torch.cuda.manual_seed(SEED)\n",
    "torch.cuda.manual_seed_all(SEED)\n",
    "torch.backends.cudnn.benchmark = True\n",
    "torch.backends.cudnn.deterministic = True\n",
    "\n",
    "# Display the entire text\n",
    "pd.set_option(\"display.max_colwidth\", None)"
   ]
  },
  {
   "cell_type": "code",
   "execution_count": 3,
   "metadata": {},
   "outputs": [
    {
     "data": {
      "text/plain": [
       "device(type='cuda')"
      ]
     },
     "execution_count": 3,
     "metadata": {},
     "output_type": "execute_result"
    }
   ],
   "source": [
    "device = torch.device(\"cuda\" if torch.cuda.is_available() else \"cpu\")\n",
    "# device = torch.device(\"cpu\")\n",
    "device"
   ]
  },
  {
   "cell_type": "code",
   "execution_count": null,
   "metadata": {},
   "outputs": [],
   "source": [
    "# For Colab\n",
    "from google.colab import drive\n",
    "drive.mount('/content/drive/')\n",
    "\n",
    "curr_location = \"/content/drive/MyDrive/Colab Notebooks/Deep Learning/NLP/nlp2022-hw3/hw3/stud/\"\n",
    "os.chdir(curr_location)"
   ]
  },
  {
   "cell_type": "code",
   "execution_count": 3,
   "metadata": {},
   "outputs": [],
   "source": [
    "curr_location = \"H:/My Drive/Colab Notebooks/Deep Learning/NLP/nlp2022-hw3/hw3/stud\"\n",
    "os.chdir(curr_location)"
   ]
  },
  {
   "cell_type": "markdown",
   "metadata": {},
   "source": [
    "This notebook contains all the relevant preprocessing part I have done.\n",
    "\n",
    "It is organized in two parts:\n",
    "\n",
    "1. The first part concerns a general analysis on the datasets.\n",
    "2. The second part delves into the analysis of the Bert tokenized text."
   ]
  },
  {
   "cell_type": "markdown",
   "metadata": {},
   "source": [
    "# 1. Preprocessing"
   ]
  },
  {
   "cell_type": "markdown",
   "metadata": {},
   "source": [
    "## Data Analysis"
   ]
  },
  {
   "cell_type": "markdown",
   "metadata": {},
   "source": [
    "The `read_datset` function is taken from the `evaluate.py` file."
   ]
  },
  {
   "cell_type": "code",
   "execution_count": 5,
   "metadata": {},
   "outputs": [],
   "source": [
    "def read_dataset(path: str) -> List[Dict]:\n",
    "    samples: List[Dict] = []\n",
    "    pron_counter = Counter()\n",
    "    with open(path) as f:\n",
    "        next(f)\n",
    "        for line in f:\n",
    "            (\n",
    "                id,\n",
    "                text,\n",
    "                pron,\n",
    "                p_offset,\n",
    "                entity_A,\n",
    "                offset_A,\n",
    "                is_coref_A,\n",
    "                entity_B,\n",
    "                offset_B,\n",
    "                is_coref_B,\n",
    "                url,\n",
    "            ) = line.strip().split(\"\\t\")\n",
    "            pron_counter[pron.lower()] += 1\n",
    "            samples.append(\n",
    "                {\n",
    "                    \"id\": id,\n",
    "                    \"text\": text,\n",
    "                    \"pron\": pron,\n",
    "                    \"p_offset\": int(p_offset),\n",
    "                    \"entity_A\": entity_A,\n",
    "                    \"offset_A\": int(offset_A),\n",
    "                    \"is_coref_A\": is_coref_A,\n",
    "                    \"entity_B\": entity_B,\n",
    "                    \"offset_B\": int(offset_B),\n",
    "                    \"is_coref_B\": is_coref_B,\n",
    "                    \"url\": url,\n",
    "                }\n",
    "            )\n",
    "    print(pron_counter)\n",
    "    return samples, pron_counter"
   ]
  },
  {
   "cell_type": "code",
   "execution_count": 7,
   "metadata": {},
   "outputs": [],
   "source": [
    "train_path = \"../../model/data/train.tsv\"\n",
    "valid_path = \"../../model/data/dev.tsv\""
   ]
  },
  {
   "cell_type": "code",
   "execution_count": 8,
   "metadata": {},
   "outputs": [
    {
     "name": "stdout",
     "output_type": "stream",
     "text": [
      "Counter({'his': 904, 'her': 773, 'he': 610, 'she': 555, 'him': 157})\n",
      "Counter({'her': 140, 'his': 108, 'he': 93, 'she': 87, 'him': 26})\n"
     ]
    }
   ],
   "source": [
    "train_dataset, train_pron_counter = read_dataset(train_path)\n",
    "valid_dataset, valid_pron_counter = read_dataset(valid_path)"
   ]
  },
  {
   "cell_type": "markdown",
   "metadata": {},
   "source": [
    "In the **training** dataset there is a slightly **bias** towards the **male** pronouns (1671 M vs 1328 F)."
   ]
  },
  {
   "cell_type": "code",
   "execution_count": 11,
   "metadata": {},
   "outputs": [
    {
     "data": {
      "text/plain": [
       "{'F': 1328, 'M': 1671}"
      ]
     },
     "execution_count": 11,
     "metadata": {},
     "output_type": "execute_result"
    }
   ],
   "source": [
    "train_gender_pron_counter = {\n",
    "    \"F\": train_pron_counter['her'] + train_pron_counter['she'],\n",
    "    \"M\": train_pron_counter['his'] + train_pron_counter['him'] + train_pron_counter['he']\n",
    "}\n",
    "train_gender_pron_counter"
   ]
  },
  {
   "cell_type": "markdown",
   "metadata": {},
   "source": [
    "The **validation** dataset is **perfectly balanced** between gender pronouns (227 pronous for both Female and Male)."
   ]
  },
  {
   "cell_type": "code",
   "execution_count": 13,
   "metadata": {},
   "outputs": [
    {
     "data": {
      "text/plain": [
       "{'F': 227, 'M': 227}"
      ]
     },
     "execution_count": 13,
     "metadata": {},
     "output_type": "execute_result"
    }
   ],
   "source": [
    "valid_gender_pron_counter = {\n",
    "    \"F\": valid_pron_counter['her'] + valid_pron_counter['she'],\n",
    "    \"M\": valid_pron_counter['his'] + valid_pron_counter['him'] + valid_pron_counter['he']\n",
    "}\n",
    "valid_gender_pron_counter"
   ]
  },
  {
   "cell_type": "code",
   "execution_count": 14,
   "metadata": {},
   "outputs": [],
   "source": [
    "from matplotlib.pyplot import figure\n",
    "def plot_freq(frequencies: dict, title: str = \"plot\"):\n",
    "    \"\"\"\n",
    "    A bar chart with frequency of tokens.\n",
    "    \"\"\"\n",
    "    figure(figsize=(8, 4), dpi=80)\n",
    "\n",
    "    tokens = list(frequencies.keys())\n",
    "    freq = list(frequencies.values())\n",
    "\n",
    "    plt.bar(range(len(frequencies)), freq, tick_label=tokens)\n",
    "    plt.xticks(rotation=45)\n",
    "    plt.title(title)\n",
    "    plt.show()"
   ]
  },
  {
   "cell_type": "code",
   "execution_count": 12,
   "metadata": {},
   "outputs": [
    {
     "data": {
      "image/png": "[encoded data removed]",
      "text/plain": [
       "<Figure size 640x320 with 1 Axes>"
      ]
     },
     "metadata": {
      "needs_background": "light"
     },
     "output_type": "display_data"
    },
    {
     "data": {
      "image/png": "[encoded data removed]",
      "text/plain": [
       "<Figure size 640x320 with 1 Axes>"
      ]
     },
     "metadata": {
      "needs_background": "light"
     },
     "output_type": "display_data"
    }
   ],
   "source": [
    "plot_freq(train_pron_counter, \"Train\")\n",
    "plot_freq(valid_pron_counter, \"Valid\")"
   ]
  },
  {
   "cell_type": "code",
   "execution_count": 15,
   "metadata": {},
   "outputs": [],
   "source": [
    "df_train = pd.DataFrame(train_dataset)\n",
    "df_valid = pd.DataFrame(valid_dataset)"
   ]
  },
  {
   "cell_type": "code",
   "execution_count": null,
   "metadata": {},
   "outputs": [],
   "source": []
  },
  {
   "cell_type": "code",
   "execution_count": 14,
   "metadata": {},
   "outputs": [],
   "source": [
    "def freq_most_common_tokens(dataset_text: List[str], n: int = 20) -> dict:\n",
    "    \"\"\"\n",
    "    Returns\n",
    "    -------\n",
    "        The first n common tokens and their frequencies, where the tokens are\n",
    "        retrieved from the list 'dataset_text'.\n",
    "        \n",
    "    Parameters\n",
    "    ----------\n",
    "    dataset_text: List[str]\n",
    "        A list of strings. In this case each string is a sentence.\n",
    "    \n",
    "    n: int\n",
    "        Indicates how many tokens to consider.\n",
    "        If it is a negative number, \n",
    "        the function returns the frequencies of all the tokens in the dataset.\n",
    "    \n",
    "    \"\"\"\n",
    "\n",
    "    # If negative number, return the frequency of all the tokens\n",
    "    if n <= -1:\n",
    "        return dict(Counter(dataset_text).most_common(len(Counter(dataset_text))))\n",
    "    else:\n",
    "        return dict(Counter(dataset_text).most_common(n))"
   ]
  },
  {
   "cell_type": "code",
   "execution_count": 15,
   "metadata": {
    "scrolled": true
   },
   "outputs": [
    {
     "data": {
      "text/plain": [
       "{'According to her mother, Tatyana Vladimovna, Demkina was a fast learner, but was otherwise a normal child until she was ten years old, at which time her ability began to manifest itself.': 2,\n",
       " \"Zoe Telford -- played the police officer girlfriend of Simon, Maggie. Dumped by Simon in the final episode of series 1, after he slept with Jenny, and is not seen again. Phoebe Thomas played Cheryl Cassidy, Pauline's friend and also a year 11 pupil in Simon's class. Dumped her boyfriend following Simon's advice after he wouldn't have sex with her but later realised this was due to him catching crabs off her friend Pauline.\": 1,\n",
       " 'He grew up in Evanston, Illinois the second oldest of five children including his brothers, Fred and Gordon and sisters, Marge (Peppy) and Marilyn. His high school days were spent at New Trier High School in Winnetka, Illinois. MacKenzie studied with Bernard Leach from 1949 to 1952. His simple, wheel-thrown functional pottery is heavily influenced by the oriental aesthetic of Shoji Hamada and Kanjiro Kawai.': 1,\n",
       " \"He had been reelected to Congress, but resigned in 1990 to accept a post as Ambassador to Brazil. De la Sota again ran for governor of C*rdoba in 1991. Defeated by Governor Angeloz by over 15%, this latter setback was significant because it cost De la Sota much of his support within the Justicialist Party (which was flush with victory in the 1991 mid-terms), leading to President Carlos Menem 's endorsement of a separate party list in C*rdoba for the 1993 mid-term elections, and to De la Sota's failure to regain a seat in Congress.\": 1,\n",
       " \"The current members of Crime have also performed in San Francisco under the band name ''Remote Viewers``. Strike has published two works of fiction in recent years: Ports of Hell, which is listed in the Rock and Roll Hall of Fame Library, and A Loud Humming Sound Came from Above. Rank has produced numerous films (under his real name, Henry Rosenthal) including the hit The Devil and Daniel Johnston.\": 1}"
      ]
     },
     "execution_count": 15,
     "metadata": {},
     "output_type": "execute_result"
    }
   ],
   "source": [
    "freq_most_common_tokens(df_train['text'].tolist(),n=5)"
   ]
  },
  {
   "cell_type": "markdown",
   "metadata": {},
   "source": [
    "In the **training** set there is a sentence containing two different ambiguous pronouns.\n",
    "\n",
    "Indices 1900 and 1901."
   ]
  },
  {
   "cell_type": "code",
   "execution_count": 16,
   "metadata": {},
   "outputs": [
    {
     "name": "stdout",
     "output_type": "stream",
     "text": [
      "1900\n",
      "1901\n"
     ]
    }
   ],
   "source": [
    "for idx, sent in enumerate(df_train['text']):\n",
    "    if sent == \"According to her mother, Tatyana Vladimovna, Demkina was a fast learner, but was otherwise a normal child until she was ten years old, at which time her ability began to manifest itself.\":\n",
    "        print(idx)"
   ]
  },
  {
   "cell_type": "code",
   "execution_count": 17,
   "metadata": {
    "scrolled": true
   },
   "outputs": [
    {
     "data": {
      "text/plain": [
       "id                                                                                                                                                                                            train-1901\n",
       "text          According to her mother, Tatyana Vladimovna, Demkina was a fast learner, but was otherwise a normal child until she was ten years old, at which time her ability began to manifest itself.\n",
       "pron                                                                                                                                                                                                 her\n",
       "p_offset                                                                                                                                                                                              13\n",
       "entity_A                                                                                                                                                                              Tatyana Vladimovna\n",
       "offset_A                                                                                                                                                                                              25\n",
       "is_coref_A                                                                                                                                                                                         FALSE\n",
       "entity_B                                                                                                                                                                                         Demkina\n",
       "offset_B                                                                                                                                                                                              45\n",
       "is_coref_B                                                                                                                                                                                          TRUE\n",
       "url                                                                                                                                                         http://en.wikipedia.org/wiki/Natasha_Demkina\n",
       "Name: 1900, dtype: object"
      ]
     },
     "execution_count": 17,
     "metadata": {},
     "output_type": "execute_result"
    }
   ],
   "source": [
    "df_train.iloc[1900]"
   ]
  },
  {
   "cell_type": "code",
   "execution_count": 18,
   "metadata": {},
   "outputs": [
    {
     "data": {
      "text/plain": [
       "id                                                                                                                                                                                            train-1902\n",
       "text          According to her mother, Tatyana Vladimovna, Demkina was a fast learner, but was otherwise a normal child until she was ten years old, at which time her ability began to manifest itself.\n",
       "pron                                                                                                                                                                                                 she\n",
       "p_offset                                                                                                                                                                                             112\n",
       "entity_A                                                                                                                                                                              Tatyana Vladimovna\n",
       "offset_A                                                                                                                                                                                              25\n",
       "is_coref_A                                                                                                                                                                                         FALSE\n",
       "entity_B                                                                                                                                                                                         Demkina\n",
       "offset_B                                                                                                                                                                                              45\n",
       "is_coref_B                                                                                                                                                                                          TRUE\n",
       "url                                                                                                                                                         http://en.wikipedia.org/wiki/Natasha_Demkina\n",
       "Name: 1901, dtype: object"
      ]
     },
     "execution_count": 18,
     "metadata": {},
     "output_type": "execute_result"
    }
   ],
   "source": [
    "df_train.iloc[1901]"
   ]
  },
  {
   "cell_type": "code",
   "execution_count": 19,
   "metadata": {},
   "outputs": [],
   "source": [
    "all_train_text = [\"\".join(df_train['text'])]"
   ]
  },
  {
   "cell_type": "code",
   "execution_count": 20,
   "metadata": {},
   "outputs": [
    {
     "data": {
      "image/png": "[encoded data removed]",
      "text/plain": [
       "<Figure size 640x320 with 1 Axes>"
      ]
     },
     "metadata": {
      "needs_background": "light"
     },
     "output_type": "display_data"
    }
   ],
   "source": [
    "plot_freq(freq_most_common_tokens(all_train_text[0].split()), title=\"Common Tokens Train\")"
   ]
  },
  {
   "cell_type": "code",
   "execution_count": 21,
   "metadata": {},
   "outputs": [],
   "source": [
    "all_valid_text = [\"\".join(df_valid['text'])]"
   ]
  },
  {
   "cell_type": "code",
   "execution_count": 22,
   "metadata": {
    "scrolled": true
   },
   "outputs": [
    {
     "data": {
      "image/png": "[encoded data removed]",
      "text/plain": [
       "<Figure size 640x320 with 1 Axes>"
      ]
     },
     "metadata": {
      "needs_background": "light"
     },
     "output_type": "display_data"
    }
   ],
   "source": [
    "plot_freq(freq_most_common_tokens(all_valid_text[0].split()), title=\"Common Tokens Valid\")"
   ]
  },
  {
   "cell_type": "code",
   "execution_count": 23,
   "metadata": {},
   "outputs": [
    {
     "name": "stdout",
     "output_type": "stream",
     "text": [
      "# sentences: 2999\n",
      "# sentences neither: 315 (10.50%)\n",
      "# sentences A: 1331 (44.38%)\n",
      "# sentences B: 1353 (45.12%)\n"
     ]
    }
   ],
   "source": [
    "# Dataframe containing sentences where neither entities A nor B are the right entities coreferenced by the pronoun\n",
    "df_train_neither_ent = df_train.loc[(df_train['is_coref_A'] == \"FALSE\") & (df_train['is_coref_B'] == \"FALSE\")]\n",
    "\n",
    "df_train_A_ent = df_train.loc[df_train['is_coref_A'] == \"TRUE\"]\n",
    "df_train_B_ent = df_train.loc[df_train['is_coref_B'] == \"TRUE\"]\n",
    "\n",
    "print(\"# sentences:\", df_train.shape[0])\n",
    "print(f\"# sentences neither: {df_train_neither_ent.shape[0]} ({((df_train_neither_ent.shape[0] / df_train.shape[0]) * 100):.2f}%)\")\n",
    "print(f\"# sentences A: {df_train_A_ent.shape[0]} ({((df_train_A_ent.shape[0] / df_train.shape[0]) * 100):.2f}%)\")\n",
    "print(f\"# sentences B: {df_train_B_ent.shape[0]} ({((df_train_B_ent.shape[0] / df_train.shape[0]) * 100):.2f}%)\")"
   ]
  },
  {
   "cell_type": "code",
   "execution_count": 24,
   "metadata": {},
   "outputs": [],
   "source": [
    "assert 2999 == 315+1331+1353"
   ]
  },
  {
   "cell_type": "code",
   "execution_count": 25,
   "metadata": {},
   "outputs": [
    {
     "name": "stdout",
     "output_type": "stream",
     "text": [
      "# sentences: 454\n",
      "# sentences neither: 62 (13.66%)\n",
      "# sentences A: 187 (41.19%)\n",
      "# sentences B: 205 (45.15%)\n"
     ]
    }
   ],
   "source": [
    "# Dataframe containing sentences where neither entities A nor B are the right entities coreferenced by the pronoun\n",
    "df_valid_neither_ent = df_valid.loc[(df_valid['is_coref_A'] == \"FALSE\") & (df_valid['is_coref_B'] == \"FALSE\")]\n",
    "\n",
    "df_valid_A_ent = df_valid.loc[df_valid['is_coref_A'] == \"TRUE\"]\n",
    "df_valid_B_ent = df_valid.loc[df_valid['is_coref_B'] == \"TRUE\"]\n",
    "\n",
    "print(\"# sentences:\", df_valid.shape[0])\n",
    "print(f\"# sentences neither: {df_valid_neither_ent.shape[0]} ({((df_valid_neither_ent.shape[0] / df_valid.shape[0]) * 100):.2f}%)\")\n",
    "print(f\"# sentences A: {df_valid_A_ent.shape[0]} ({((df_valid_A_ent.shape[0] / df_valid.shape[0]) * 100):.2f}%)\")\n",
    "print(f\"# sentences B: {df_valid_B_ent.shape[0]} ({((df_valid_B_ent.shape[0] / df_valid.shape[0]) * 100):.2f}%)\")"
   ]
  },
  {
   "cell_type": "code",
   "execution_count": 26,
   "metadata": {},
   "outputs": [],
   "source": [
    "assert 454 == 62+187+205"
   ]
  },
  {
   "cell_type": "markdown",
   "metadata": {},
   "source": [
    "The datasets are pretty balanced with respect to the A and B entities; but we have fewer examples of \"neither\"."
   ]
  },
  {
   "cell_type": "markdown",
   "metadata": {},
   "source": [
    "### How many sentences have the entity mention after the pronoun?"
   ]
  },
  {
   "cell_type": "code",
   "execution_count": 27,
   "metadata": {},
   "outputs": [],
   "source": [
    "def get_coreferent_entity_offset(row: Union[dict, pd.Series]) -> int:\n",
    "    \"\"\"\n",
    "    Returns\n",
    "    -------\n",
    "        The offset of the enitity coreferenced by the pronoun;\n",
    "        or -1 if the pronoun does not refer to any of the \n",
    "        two mentions.\n",
    "\n",
    "    Parameters\n",
    "    ----------\n",
    "    row: Union[dict, pd.Series]\n",
    "        A dictionary or a pandas Series containing\n",
    "        information about enitities offset positions\n",
    "        and whether they are coreferenced by the pronoun. \n",
    "    \"\"\"\n",
    "\n",
    "    not_coref_A = row[\"is_coref_A\"] in [\"FALSE\", \"False\", False]\n",
    "    not_coref_B = row[\"is_coref_B\"] in [\"FALSE\", \"False\", False]\n",
    "    if not_coref_A and not_coref_B:\n",
    "        return -1\n",
    "    is_coref_A = row[\"is_coref_A\"] in [\"TRUE\", \"True\", True]\n",
    "    return row[\"offset_A\"] if is_coref_A else row[\"offset_B\"]"
   ]
  },
  {
   "cell_type": "code",
   "execution_count": 28,
   "metadata": {},
   "outputs": [],
   "source": [
    "def count_entity_after_pronoun(dataset: List[Dict]):\n",
    "    count_entity_after = 0\n",
    "    for row in dataset:\n",
    "        offset = get_coreferent_entity_offset(row)\n",
    "        p_offset = row['p_offset']\n",
    "\n",
    "        if offset > p_offset:\n",
    "            count_entity_after += 1\n",
    "\n",
    "    return count_entity_after"
   ]
  },
  {
   "cell_type": "code",
   "execution_count": 29,
   "metadata": {},
   "outputs": [
    {
     "name": "stdout",
     "output_type": "stream",
     "text": [
      "Number of entities after the pronoun in training set: 537 (17.91%)\n",
      "Number of entities after the pronoun in validation set: 80 (17.62%)\n"
     ]
    }
   ],
   "source": [
    "num_entity_after_pronoun_train = count_entity_after_pronoun(train_dataset)\n",
    "print(f\"Number of entities after the pronoun in training set: {num_entity_after_pronoun_train} ({((num_entity_after_pronoun_train / len(train_dataset)) * 100):.2f}%)\")\n",
    "num_entity_after_pronoun_valid = count_entity_after_pronoun(valid_dataset)\n",
    "print(f\"Number of entities after the pronoun in validation set: {num_entity_after_pronoun_valid} ({((num_entity_after_pronoun_valid / len(valid_dataset)) * 100):.2f}%)\")"
   ]
  },
  {
   "cell_type": "markdown",
   "metadata": {},
   "source": [
    "As we can see, a good percentage of sentences have the coreferenced entity after the ambiguous pronoun."
   ]
  },
  {
   "cell_type": "markdown",
   "metadata": {},
   "source": [
    "### Which is the distance between the mentions and the pronoun?"
   ]
  },
  {
   "cell_type": "code",
   "execution_count": 30,
   "metadata": {},
   "outputs": [],
   "source": [
    "def print_distance_ent_pront(df: pd.DataFrame):\n",
    "    print(f\"Minimum distance from A: {df['distance_A'].min()}\")\n",
    "    print(f\"Maximum distance from A: {df['distance_A'].max()}\")\n",
    "    print(f\"Average distance from A: {df['distance_A'].mean():.1f}\")\n",
    "    print()\n",
    "    print(f\"Minimum distance from B: {df['distance_B'].min()}\")\n",
    "    print(f\"Maximum distance from B: {df['distance_B'].max()}\")\n",
    "    print(f\"Average distance from B: {df['distance_B'].mean():.1f}\")"
   ]
  },
  {
   "cell_type": "code",
   "execution_count": 31,
   "metadata": {},
   "outputs": [],
   "source": [
    "df_train['distance_A'] = abs(df_train['p_offset'] - df_train['offset_A'])\n",
    "df_train['distance_B'] = abs(df_train['p_offset'] - df_train['offset_B'])"
   ]
  },
  {
   "cell_type": "code",
   "execution_count": 32,
   "metadata": {},
   "outputs": [
    {
     "name": "stdout",
     "output_type": "stream",
     "text": [
      "Minimum distance from A: 4\n",
      "Maximum distance from A: 577\n",
      "Average distance from A: 95.3\n",
      "\n",
      "Minimum distance from B: 4\n",
      "Maximum distance from B: 461\n",
      "Average distance from B: 58.3\n"
     ]
    }
   ],
   "source": [
    "print_distance_ent_pront(df_train)"
   ]
  },
  {
   "cell_type": "code",
   "execution_count": 33,
   "metadata": {},
   "outputs": [],
   "source": [
    "df_valid['distance_A'] = abs(df_valid['p_offset'] - df_valid['offset_A'])\n",
    "df_valid['distance_B'] = abs(df_valid['p_offset'] - df_valid['offset_B'])"
   ]
  },
  {
   "cell_type": "code",
   "execution_count": 34,
   "metadata": {
    "scrolled": true
   },
   "outputs": [
    {
     "name": "stdout",
     "output_type": "stream",
     "text": [
      "Minimum distance from A: 5\n",
      "Maximum distance from A: 580\n",
      "Average distance from A: 89.2\n",
      "\n",
      "Minimum distance from B: 4\n",
      "Maximum distance from B: 396\n",
      "Average distance from B: 52.9\n"
     ]
    }
   ],
   "source": [
    "print_distance_ent_pront(df_valid)"
   ]
  },
  {
   "cell_type": "markdown",
   "metadata": {},
   "source": [
    "Perhaps the distance analysis may be useful if applied to the tokenized text, as we can consider the distance between tokens and not characters."
   ]
  },
  {
   "cell_type": "code",
   "execution_count": 35,
   "metadata": {},
   "outputs": [],
   "source": [
    "def print_text_length(df: pd.DataFrame):\n",
    "    df_text_lens = df['text'].map(lambda sentence: len(sentence))\n",
    "\n",
    "    print(\"Sentences length in dataframe:\")\n",
    "    print(f\"Mean length: {df_text_lens.mean():.2f}\")\n",
    "    print(f\"Min length: {df_text_lens.min():.2f}\")\n",
    "    print(f\"Max length: {df_text_lens.max():.2f}\")"
   ]
  },
  {
   "cell_type": "code",
   "execution_count": 36,
   "metadata": {},
   "outputs": [
    {
     "name": "stdout",
     "output_type": "stream",
     "text": [
      "Sentences length in dataframe:\n",
      "Mean length: 430.92\n",
      "Min length: 69.00\n",
      "Max length: 1347.00\n"
     ]
    }
   ],
   "source": [
    "print_text_length(df_train)"
   ]
  },
  {
   "cell_type": "code",
   "execution_count": 37,
   "metadata": {},
   "outputs": [
    {
     "name": "stdout",
     "output_type": "stream",
     "text": [
      "Sentences length in dataframe:\n",
      "Mean length: 426.39\n",
      "Min length: 147.00\n",
      "Max length: 1012.00\n"
     ]
    }
   ],
   "source": [
    "print_text_length(df_valid)"
   ]
  },
  {
   "cell_type": "markdown",
   "metadata": {},
   "source": [
    "## Data Cleaning"
   ]
  },
  {
   "cell_type": "markdown",
   "metadata": {},
   "source": [
    "I want to check if there are special characters in the datasets."
   ]
  },
  {
   "cell_type": "code",
   "execution_count": 38,
   "metadata": {},
   "outputs": [],
   "source": [
    "special_symbols = [\"؛\", \"۔\", \"،\", \"。\", \"؟\", \"।\", \"、\", \n",
    "                    \"，\", \"¡\", \"¿\", \"…\", \"‡\",\"×\", \"†\", \n",
    "                    \"√\", \"·\", \"→\", \"«\", \"»\", \"™\", \"′\", \n",
    "                    \"•\", \"„\", \"½\", \"¼\", \"¾\", \"∞\", \"θ\",\n",
    "                    \"∅\", \"²\", \"³\"]\n",
    "currencies = ['£', '€', '¥', '฿', '₽', '﷼', '₴', '₠', '₡', '₢', '₣', '₤', '₥', '₦', '₧', '₨', '₩', '₪', '₫', '€', '₭', '₮', '₯', '₰', '₱', '₲', '₳', '₴', '₵', '₶', '₷', '₸', '₹', '₺', '₻', '₼', '₽', '₾', '₿']\n",
    "dashes = ['–', \"―\", \"—\"]\n",
    "quotes = [\"‘\",\"’\", \"“\", \"”\", \"„\", \"\\\"\"]\n",
    "\n",
    "special_characters = special_symbols + currencies + dashes + quotes"
   ]
  },
  {
   "cell_type": "code",
   "execution_count": 39,
   "metadata": {},
   "outputs": [],
   "source": [
    "def check_for_special_char(text: str) -> bool:\n",
    "    \"\"\"\n",
    "    Returns\n",
    "    -------\n",
    "        True if a special_character is in text;\n",
    "        False otherwise.\n",
    "    \"\"\"\n",
    "    for c in special_characters:\n",
    "        if c in text:\n",
    "            print(c)\n",
    "            return True\n",
    "    return False"
   ]
  },
  {
   "cell_type": "code",
   "execution_count": 40,
   "metadata": {},
   "outputs": [],
   "source": [
    "special_in_train = df_train['text'].map(check_for_special_char)\n",
    "special_in_valid = df_valid['text'].map(check_for_special_char)"
   ]
  },
  {
   "cell_type": "code",
   "execution_count": 41,
   "metadata": {},
   "outputs": [],
   "source": [
    "if any(special_in_train):\n",
    "    print(\"There are special characters in the training set.\")\n",
    "if any(special_in_valid):\n",
    "    print(\"There are special characters in the validation set.\")"
   ]
  },
  {
   "cell_type": "markdown",
   "metadata": {},
   "source": [
    "After the check I can say that the datasets are pretty cleaned."
   ]
  },
  {
   "cell_type": "code",
   "execution_count": 42,
   "metadata": {
    "collapsed": true
   },
   "outputs": [
    {
     "data": {
      "text/html": [
       "<div>\n",
       "<style scoped>\n",
       "    .dataframe tbody tr th:only-of-type {\n",
       "        vertical-align: middle;\n",
       "    }\n",
       "\n",
       "    .dataframe tbody tr th {\n",
       "        vertical-align: top;\n",
       "    }\n",
       "\n",
       "    .dataframe thead th {\n",
       "        text-align: right;\n",
       "    }\n",
       "</style>\n",
       "<table border=\"1\" class=\"dataframe\">\n",
       "  <thead>\n",
       "    <tr style=\"text-align: right;\">\n",
       "      <th></th>\n",
       "      <th>id</th>\n",
       "      <th>text</th>\n",
       "      <th>pron</th>\n",
       "      <th>p_offset</th>\n",
       "      <th>entity_A</th>\n",
       "      <th>offset_A</th>\n",
       "      <th>is_coref_A</th>\n",
       "      <th>entity_B</th>\n",
       "      <th>offset_B</th>\n",
       "      <th>is_coref_B</th>\n",
       "      <th>url</th>\n",
       "      <th>distance_A</th>\n",
       "      <th>distance_B</th>\n",
       "    </tr>\n",
       "  </thead>\n",
       "  <tbody>\n",
       "    <tr>\n",
       "      <th>1779</th>\n",
       "      <td>train-1780</td>\n",
       "      <td>Jeanine Basinger (born 3 February 1936), a film historian, is Corwin-Fuller Professor of Film Studies and Founder and Curator of The Cinema Archives at Wesleyan University, Middletown, Connecticut. She is also a Trustee of the American Film Institute (which awarded her an honorary degree, a Doctorate of Humane Letters, on June 7, 2006 ), a member of the Steering Committee of the National Center for Film and Video Preservation, and one of the Board of Advisors for the Association of Independent Video and Filmmakers.</td>\n",
       "      <td>She</td>\n",
       "      <td>198</td>\n",
       "      <td>Jeanine Basinger</td>\n",
       "      <td>0</td>\n",
       "      <td>TRUE</td>\n",
       "      <td>Trustee</td>\n",
       "      <td>212</td>\n",
       "      <td>FALSE</td>\n",
       "      <td>http://en.wikipedia.org/wiki/Jeanine_Basinger</td>\n",
       "      <td>198</td>\n",
       "      <td>14</td>\n",
       "    </tr>\n",
       "    <tr>\n",
       "      <th>341</th>\n",
       "      <td>train-342</td>\n",
       "      <td>Heather O'Rourke (December 27, 1975 -- February 1, 1988) was an American child actress who played Carol Anne Freeling in the Poltergeist film trilogy and made several television guest appearance s. O'Rourke died due to medical error, and her death had long-lasting effects on her family and the media industry.</td>\n",
       "      <td>her</td>\n",
       "      <td>238</td>\n",
       "      <td>Carol Anne Freeling</td>\n",
       "      <td>98</td>\n",
       "      <td>FALSE</td>\n",
       "      <td>O'Rourke</td>\n",
       "      <td>198</td>\n",
       "      <td>TRUE</td>\n",
       "      <td>http://en.wikipedia.org/wiki/Heather_O'Rourke</td>\n",
       "      <td>140</td>\n",
       "      <td>40</td>\n",
       "    </tr>\n",
       "    <tr>\n",
       "      <th>1276</th>\n",
       "      <td>train-1277</td>\n",
       "      <td>George Sherwood Hume, (March 1, 1893 -- 1979) was a Canadian geologist. Born in Milton West, Ontario, Hume was a graduate of the University of Toronto. After serving in World War I, he received a Ph.D. from Yale University in 1920.</td>\n",
       "      <td>he</td>\n",
       "      <td>182</td>\n",
       "      <td>Milton West</td>\n",
       "      <td>80</td>\n",
       "      <td>FALSE</td>\n",
       "      <td>Hume</td>\n",
       "      <td>102</td>\n",
       "      <td>TRUE</td>\n",
       "      <td>http://en.wikipedia.org/wiki/George_Sherwood_Hume</td>\n",
       "      <td>102</td>\n",
       "      <td>80</td>\n",
       "    </tr>\n",
       "    <tr>\n",
       "      <th>1012</th>\n",
       "      <td>train-1013</td>\n",
       "      <td>On June 13 she hosted with Raul Gracia, Felipe Viel, Elizabeth Lopez and Carolina La O, Bienvenido el Mundial (Welcome to the World Cup), welcoming the FIFA World Cup. On June 28 in North Carolina, Sandoval received an award for being the boldest host. On July 12, she was a host on the memorial special for Michael Jackson.</td>\n",
       "      <td>she</td>\n",
       "      <td>265</td>\n",
       "      <td>Elizabeth Lopez</td>\n",
       "      <td>53</td>\n",
       "      <td>FALSE</td>\n",
       "      <td>Carolina La O</td>\n",
       "      <td>73</td>\n",
       "      <td>FALSE</td>\n",
       "      <td>http://en.wikipedia.org/wiki/Carolina_Sandoval</td>\n",
       "      <td>212</td>\n",
       "      <td>192</td>\n",
       "    </tr>\n",
       "    <tr>\n",
       "      <th>470</th>\n",
       "      <td>train-471</td>\n",
       "      <td>In addition, her father was the first head of their church's credit union, which helped the parishioners with small loans. Polly has two sisters: Fernie, now a retired Dean from the University of Colorado, and Bettie Baca, a consultant in Washington, DC. Her great-grandfather helped found Trinidad, Colorado.</td>\n",
       "      <td>Her</td>\n",
       "      <td>255</td>\n",
       "      <td>Polly</td>\n",
       "      <td>123</td>\n",
       "      <td>TRUE</td>\n",
       "      <td>Bettie Baca</td>\n",
       "      <td>210</td>\n",
       "      <td>FALSE</td>\n",
       "      <td>http://en.wikipedia.org/wiki/Polly_Baca</td>\n",
       "      <td>132</td>\n",
       "      <td>45</td>\n",
       "    </tr>\n",
       "  </tbody>\n",
       "</table>\n",
       "</div>"
      ],
      "text/plain": [
       "              id  \\\n",
       "1779  train-1780   \n",
       "341    train-342   \n",
       "1276  train-1277   \n",
       "1012  train-1013   \n",
       "470    train-471   \n",
       "\n",
       "                                                                                                                                                                                                                                                                                                                                                                                                                                                                                                                                          text  \\\n",
       "1779  Jeanine Basinger (born 3 February 1936), a film historian, is Corwin-Fuller Professor of Film Studies and Founder and Curator of The Cinema Archives at Wesleyan University, Middletown, Connecticut. She is also a Trustee of the American Film Institute (which awarded her an honorary degree, a Doctorate of Humane Letters, on June 7, 2006 ), a member of the Steering Committee of the National Center for Film and Video Preservation, and one of the Board of Advisors for the Association of Independent Video and Filmmakers.   \n",
       "341                                                                                                                                                                                                                     Heather O'Rourke (December 27, 1975 -- February 1, 1988) was an American child actress who played Carol Anne Freeling in the Poltergeist film trilogy and made several television guest appearance s. O'Rourke died due to medical error, and her death had long-lasting effects on her family and the media industry.   \n",
       "1276                                                                                                                                                                                                                                                                                                   George Sherwood Hume, (March 1, 1893 -- 1979) was a Canadian geologist. Born in Milton West, Ontario, Hume was a graduate of the University of Toronto. After serving in World War I, he received a Ph.D. from Yale University in 1920.   \n",
       "1012                                                                                                                                                                                                      On June 13 she hosted with Raul Gracia, Felipe Viel, Elizabeth Lopez and Carolina La O, Bienvenido el Mundial (Welcome to the World Cup), welcoming the FIFA World Cup. On June 28 in North Carolina, Sandoval received an award for being the boldest host. On July 12, she was a host on the memorial special for Michael Jackson.   \n",
       "470                                                                                                                                                                                                                      In addition, her father was the first head of their church's credit union, which helped the parishioners with small loans. Polly has two sisters: Fernie, now a retired Dean from the University of Colorado, and Bettie Baca, a consultant in Washington, DC. Her great-grandfather helped found Trinidad, Colorado.   \n",
       "\n",
       "     pron  p_offset             entity_A  offset_A is_coref_A       entity_B  \\\n",
       "1779  She       198     Jeanine Basinger         0       TRUE        Trustee   \n",
       "341   her       238  Carol Anne Freeling        98      FALSE       O'Rourke   \n",
       "1276   he       182          Milton West        80      FALSE           Hume   \n",
       "1012  she       265      Elizabeth Lopez        53      FALSE  Carolina La O   \n",
       "470   Her       255                Polly       123       TRUE    Bettie Baca   \n",
       "\n",
       "      offset_B is_coref_B                                                url  \\\n",
       "1779       212      FALSE      http://en.wikipedia.org/wiki/Jeanine_Basinger   \n",
       "341        198       TRUE      http://en.wikipedia.org/wiki/Heather_O'Rourke   \n",
       "1276       102       TRUE  http://en.wikipedia.org/wiki/George_Sherwood_Hume   \n",
       "1012        73      FALSE     http://en.wikipedia.org/wiki/Carolina_Sandoval   \n",
       "470        210      FALSE            http://en.wikipedia.org/wiki/Polly_Baca   \n",
       "\n",
       "      distance_A  distance_B  \n",
       "1779         198          14  \n",
       "341          140          40  \n",
       "1276         102          80  \n",
       "1012         212         192  \n",
       "470          132          45  "
      ]
     },
     "execution_count": 42,
     "metadata": {},
     "output_type": "execute_result"
    }
   ],
   "source": [
    "df_train.sample(5)"
   ]
  },
  {
   "cell_type": "markdown",
   "metadata": {},
   "source": [
    "The only thing I noticed is the presence of the backtick **\\`** in some parts of the text: it opens a quotation but it doesn't close it. Therefore, I decided to replace the backtick with a single quote **'**."
   ]
  },
  {
   "cell_type": "code",
   "execution_count": 43,
   "metadata": {},
   "outputs": [],
   "source": [
    "def clean_text(text):\n",
    "    text = text.translate(str.maketrans(\"`\", \"'\"))\n",
    "    return text"
   ]
  },
  {
   "cell_type": "code",
   "execution_count": 44,
   "metadata": {},
   "outputs": [],
   "source": [
    "def clean_dataframe(df):\n",
    "    df['text'] = df['text'].map(clean_text)\n",
    "    df['entity_A'] = df['entity_A'].map(clean_text) \n",
    "    df['entity_B'] = df['entity_B'].map(clean_text) "
   ]
  },
  {
   "cell_type": "code",
   "execution_count": 45,
   "metadata": {},
   "outputs": [],
   "source": [
    "clean_dataframe(df_train)\n",
    "clean_dataframe(df_valid)"
   ]
  },
  {
   "cell_type": "markdown",
   "metadata": {},
   "source": [
    "Save the cleaned datasets to disk, so they can be directly loaded during training."
   ]
  },
  {
   "cell_type": "markdown",
   "metadata": {},
   "source": [
    "    train_clean_path = \"../../model/data/train_clean.tsv\"\n",
    "    valid_clean_path = \"../../model/data/valid_clean.tsv\"\n",
    "    df_train.to_csv(path_or_buf=train_clean_path, sep=\"\\t\", index=False)\n",
    "    df_valid.to_csv(path_or_buf=valid_clean_path, sep=\"\\t\", index=False)"
   ]
  },
  {
   "cell_type": "markdown",
   "metadata": {},
   "source": [
    "# 2. Data Analysis on Tokenized Text"
   ]
  },
  {
   "cell_type": "code",
   "execution_count": 1,
   "metadata": {},
   "outputs": [],
   "source": [
    "from transformers import (\n",
    "    AutoTokenizer,\n",
    "    BertModel,\n",
    "    logging\n",
    ")\n",
    "logging.set_verbosity_error()"
   ]
  },
  {
   "cell_type": "code",
   "execution_count": 4,
   "metadata": {},
   "outputs": [],
   "source": [
    "train_clean_path = \"../../model/data/train_clean.tsv\"\n",
    "valid_clean_path = \"../../model/data/valid_clean.tsv\"\n",
    "\n",
    "df_train = pd.read_csv(filepath_or_buffer=train_clean_path, sep=\"\\t\")\n",
    "df_valid = pd.read_csv(filepath_or_buffer=valid_clean_path, sep=\"\\t\")"
   ]
  },
  {
   "cell_type": "markdown",
   "metadata": {},
   "source": [
    "For simplicity I will use the Bert `base-uncased` tokenizer."
   ]
  },
  {
   "cell_type": "code",
   "execution_count": null,
   "metadata": {},
   "outputs": [],
   "source": [
    "tokenizer = AutoTokenizer.from_pretrained('bert-base-uncased')"
   ]
  },
  {
   "cell_type": "code",
   "execution_count": 49,
   "metadata": {},
   "outputs": [],
   "source": [
    "def print_tokenized_text_length(df: pd.DataFrame):\n",
    "    df_text_lens = df['text'].map(lambda sentence: len(tokenizer.tokenize(sentence)))\n",
    "\n",
    "    print(\"Tokenized sentences length in dataframe:\")\n",
    "    print(f\"Mean length: {df_text_lens.mean():.2f}\")\n",
    "    print(f\"Min length: {df_text_lens.min():.2f}\")\n",
    "    print(f\"Max length: {df_text_lens.max():.2f}\")"
   ]
  },
  {
   "cell_type": "code",
   "execution_count": 50,
   "metadata": {},
   "outputs": [
    {
     "name": "stdout",
     "output_type": "stream",
     "text": [
      "Tokenized sentences length in dataframe:\n",
      "Mean length: 96.01\n",
      "Min length: 13.00\n",
      "Max length: 353.00\n"
     ]
    }
   ],
   "source": [
    "print_tokenized_text_length(df_train)"
   ]
  },
  {
   "cell_type": "code",
   "execution_count": 51,
   "metadata": {},
   "outputs": [
    {
     "name": "stdout",
     "output_type": "stream",
     "text": [
      "Tokenized sentences length in dataframe:\n",
      "Mean length: 94.88\n",
      "Min length: 35.00\n",
      "Max length: 226.00\n"
     ]
    }
   ],
   "source": [
    "print_tokenized_text_length(df_valid)"
   ]
  },
  {
   "cell_type": "markdown",
   "metadata": {},
   "source": [
    "Since the maximum lenght of the tokenized sentences is less than 512, I should not have problem with bert models. This because the maximum sequence length accepted by a Bert model is 512."
   ]
  },
  {
   "cell_type": "code",
   "execution_count": null,
   "metadata": {},
   "outputs": [],
   "source": []
  },
  {
   "cell_type": "code",
   "execution_count": 52,
   "metadata": {
    "scrolled": true
   },
   "outputs": [
    {
     "name": "stdout",
     "output_type": "stream",
     "text": [
      "Tokenizer vacabulary length: 30522\n"
     ]
    }
   ],
   "source": [
    "print(f\"Tokenizer vacabulary length: {len(tokenizer.vocab)}\")"
   ]
  },
  {
   "cell_type": "code",
   "execution_count": 53,
   "metadata": {},
   "outputs": [
    {
     "data": {
      "text/plain": [
       "5"
      ]
     },
     "execution_count": 53,
     "metadata": {},
     "output_type": "execute_result"
    }
   ],
   "source": [
    "tokenizer.add_tokens([\"<a>\", \"</a>\", \"<b>\", \"</b>\", \"<p>\"], special_tokens=True)"
   ]
  },
  {
   "cell_type": "markdown",
   "metadata": {},
   "source": [
    "In the training part, it may happen that I need to insert some special tokens in the sentences, therefore the vocabulary size of the tokenizer increases.\n",
    "\n",
    "This may be problematic if the vocabulary size is not compliant with the embedding size of the transformer model. For solving this issue I have to resize the embedding size using the huggingface method `resize_token_embeddings`."
   ]
  },
  {
   "cell_type": "code",
   "execution_count": 54,
   "metadata": {},
   "outputs": [
    {
     "name": "stdout",
     "output_type": "stream",
     "text": [
      "Tokenizer vacabulary length: 30527\n"
     ]
    }
   ],
   "source": [
    "print(f\"Tokenizer vacabulary length: {len(tokenizer.vocab)}\")"
   ]
  },
  {
   "cell_type": "code",
   "execution_count": 55,
   "metadata": {},
   "outputs": [],
   "source": [
    "bert_model_name = \"bert-base-uncased\"\n",
    "bert = BertModel.from_pretrained(bert_model_name).to(device, non_blocking=True)"
   ]
  },
  {
   "cell_type": "code",
   "execution_count": 56,
   "metadata": {},
   "outputs": [
    {
     "data": {
      "text/plain": [
       "Embedding(30522, 768, padding_idx=0)"
      ]
     },
     "execution_count": 56,
     "metadata": {},
     "output_type": "execute_result"
    }
   ],
   "source": [
    "bert.embeddings.word_embeddings"
   ]
  },
  {
   "cell_type": "code",
   "execution_count": 57,
   "metadata": {},
   "outputs": [
    {
     "data": {
      "text/plain": [
       "True"
      ]
     },
     "execution_count": 57,
     "metadata": {},
     "output_type": "execute_result"
    }
   ],
   "source": [
    "bert.config.vocab_size != len(tokenizer.vocab)"
   ]
  },
  {
   "cell_type": "code",
   "execution_count": 58,
   "metadata": {},
   "outputs": [
    {
     "data": {
      "text/plain": [
       "Embedding(30527, 768)"
      ]
     },
     "execution_count": 58,
     "metadata": {},
     "output_type": "execute_result"
    }
   ],
   "source": [
    "bert.resize_token_embeddings(len(tokenizer.vocab))"
   ]
  },
  {
   "cell_type": "code",
   "execution_count": 59,
   "metadata": {},
   "outputs": [
    {
     "data": {
      "text/plain": [
       "Embedding(30527, 768)"
      ]
     },
     "execution_count": 59,
     "metadata": {},
     "output_type": "execute_result"
    }
   ],
   "source": [
    "bert.embeddings.word_embeddings"
   ]
  },
  {
   "cell_type": "code",
   "execution_count": 60,
   "metadata": {},
   "outputs": [
    {
     "data": {
      "text/plain": [
       "True"
      ]
     },
     "execution_count": 60,
     "metadata": {},
     "output_type": "execute_result"
    }
   ],
   "source": [
    "bert.config.vocab_size == len(tokenizer.vocab)"
   ]
  }
 ],
 "metadata": {
  "kernelspec": {
   "display_name": "Python 3.7.13 ('DL')",
   "language": "python",
   "name": "python3"
  },
  "language_info": {
   "codemirror_mode": {
    "name": "ipython",
    "version": 3
   },
   "file_extension": ".py",
   "mimetype": "text/x-python",
   "name": "python",
   "nbconvert_exporter": "python",
   "pygments_lexer": "ipython3",
   "version": "3.7.13"
  },
  "vscode": {
   "interpreter": {
    "hash": "bf37a2529baf03c803266b8d55d553bda8f92a60c47b8d9f7bdcfc02cbd55fef"
   }
  }
 },
 "nbformat": 4,
 "nbformat_minor": 2
}
