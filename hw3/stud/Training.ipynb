{
 "cells": [
  {
   "cell_type": "code",
   "execution_count": 1,
   "id": "wIOz40JYJddq",
   "metadata": {
    "id": "wIOz40JYJddq"
   },
   "outputs": [],
   "source": [
    "# ! pip install transformers"
   ]
  },
  {
   "cell_type": "code",
   "execution_count": 1,
   "id": "3244dc15",
   "metadata": {
    "executionInfo": {
     "elapsed": 8630,
     "status": "ok",
     "timestamp": 1660493913007,
     "user": {
      "displayName": "Florin Cuconasu",
      "userId": "13345521608196528334"
     },
     "user_tz": -120
    },
    "id": "3244dc15"
   },
   "outputs": [],
   "source": [
    "import os\n",
    "from transformers import (\n",
    "    Trainer,\n",
    "    BertTokenizer,\n",
    "    BertModel\n",
    ")\n",
    "import transformers\n",
    "import numpy as np\n",
    "import pandas as pd\n",
    "\n",
    "import random\n",
    "import time\n",
    "import yaml\n",
    "from typing import *\n",
    "from arguments import CustomTrainingArguments\n",
    "\n",
    "import torch\n",
    "from torch import nn\n",
    "from torch.utils.data import Dataset, DataLoader\n",
    "from torch.cuda.amp import GradScaler\n",
    "\n",
    "SEED = 10\n",
    "\n",
    "random.seed(SEED)\n",
    "np.random.seed(SEED)\n",
    "torch.manual_seed(SEED)\n",
    "torch.cuda.manual_seed(SEED)\n",
    "torch.cuda.manual_seed_all(SEED)\n",
    "torch.backends.cudnn.benchmark = True\n",
    "torch.backends.cudnn.deterministic = True\n",
    "\n",
    "# Display the entire text\n",
    "pd.set_option(\"display.max_colwidth\", None)"
   ]
  },
  {
   "cell_type": "code",
   "execution_count": 2,
   "id": "58276aa2",
   "metadata": {
    "colab": {
     "base_uri": "https://localhost:8080/"
    },
    "executionInfo": {
     "elapsed": 208,
     "status": "ok",
     "timestamp": 1660493916533,
     "user": {
      "displayName": "Florin Cuconasu",
      "userId": "13345521608196528334"
     },
     "user_tz": -120
    },
    "id": "58276aa2",
    "outputId": "0b14ad80-9dd6-4da5-cfab-36c155684301"
   },
   "outputs": [
    {
     "data": {
      "text/plain": [
       "device(type='cuda')"
      ]
     },
     "execution_count": 2,
     "metadata": {},
     "output_type": "execute_result"
    }
   ],
   "source": [
    "os.environ['CUDA_LAUNCH_BLOCKING'] = \"1\"\n",
    "device = torch.device(\"cuda\" if torch.cuda.is_available() else \"cpu\")\n",
    "device"
   ]
  },
  {
   "cell_type": "code",
   "execution_count": 3,
   "id": "kYGIp3MoJug2",
   "metadata": {
    "colab": {
     "base_uri": "https://localhost:8080/"
    },
    "executionInfo": {
     "elapsed": 16671,
     "status": "ok",
     "timestamp": 1660493967859,
     "user": {
      "displayName": "Florin Cuconasu",
      "userId": "13345521608196528334"
     },
     "user_tz": -120
    },
    "id": "kYGIp3MoJug2",
    "outputId": "c91f8476-ea76-432b-e1b9-757f3546e044"
   },
   "outputs": [],
   "source": [
    "# from google.colab import drive\n",
    "# drive.mount('/content/drive')"
   ]
  },
  {
   "cell_type": "code",
   "execution_count": 4,
   "id": "eljw893sJ5t1",
   "metadata": {
    "executionInfo": {
     "elapsed": 257,
     "status": "ok",
     "timestamp": 1660494196549,
     "user": {
      "displayName": "Florin Cuconasu",
      "userId": "13345521608196528334"
     },
     "user_tz": -120
    },
    "id": "eljw893sJ5t1"
   },
   "outputs": [],
   "source": [
    "train_clean_path = \"/content/drive/MyDrive/Colab Notebooks/Deep Learning/NLP/nlp2022-hw3/model/data/train_clean.tsv\"\n",
    "valid_clean_path = \"/content/drive/MyDrive/Colab Notebooks/Deep Learning/NLP/nlp2022-hw3/model/data/valid_clean.tsv\""
   ]
  },
  {
   "cell_type": "code",
   "execution_count": 5,
   "id": "3633ef51",
   "metadata": {
    "executionInfo": {
     "elapsed": 244,
     "status": "ok",
     "timestamp": 1660494139597,
     "user": {
      "displayName": "Florin Cuconasu",
      "userId": "13345521608196528334"
     },
     "user_tz": -120
    },
    "id": "3633ef51"
   },
   "outputs": [],
   "source": [
    "train_clean_path = \"../../model/data/train_clean.tsv\"\n",
    "valid_clean_path = \"../../model/data/valid_clean.tsv\""
   ]
  },
  {
   "cell_type": "code",
   "execution_count": 6,
   "id": "B1CvSmUrKc1y",
   "metadata": {
    "executionInfo": {
     "elapsed": 1219,
     "status": "ok",
     "timestamp": 1660494199029,
     "user": {
      "displayName": "Florin Cuconasu",
      "userId": "13345521608196528334"
     },
     "user_tz": -120
    },
    "id": "B1CvSmUrKc1y"
   },
   "outputs": [],
   "source": [
    "df_train = pd.read_csv(filepath_or_buffer=train_clean_path, sep=\"\\t\")\n",
    "df_valid = pd.read_csv(filepath_or_buffer=valid_clean_path, sep=\"\\t\")"
   ]
  },
  {
   "cell_type": "code",
   "execution_count": 7,
   "id": "1f5ec9c1",
   "metadata": {
    "executionInfo": {
     "elapsed": 3,
     "status": "ok",
     "timestamp": 1660494206486,
     "user": {
      "displayName": "Florin Cuconasu",
      "userId": "13345521608196528334"
     },
     "user_tz": -120
    },
    "id": "1f5ec9c1"
   },
   "outputs": [],
   "source": [
    "FEMININE = 0\n",
    "MASCULINE = 1\n",
    "UNKNOWN = 2\n",
    "\n",
    "def get_gender(pronoun: str):\n",
    "    gender_mapping = {\n",
    "        'she': FEMININE,\n",
    "        'her': FEMININE,\n",
    "        'he': MASCULINE,\n",
    "        'his': MASCULINE,\n",
    "        'him': MASCULINE,\n",
    "    }\n",
    "\n",
    "    return gender_mapping.get(pronoun.lower(), UNKNOWN)"
   ]
  },
  {
   "cell_type": "code",
   "execution_count": 8,
   "id": "4df00da9",
   "metadata": {
    "executionInfo": {
     "elapsed": 241,
     "status": "ok",
     "timestamp": 1660494208917,
     "user": {
      "displayName": "Florin Cuconasu",
      "userId": "13345521608196528334"
     },
     "user_tz": -120
    },
    "id": "4df00da9"
   },
   "outputs": [],
   "source": [
    "class GAPDataset(Dataset):\n",
    "    \"\"\"Custom GAP Dataset class\"\"\"\n",
    "\n",
    "    def __init__(self, df, tokenizer, labeled=True):\n",
    "        self.df = df\n",
    "\n",
    "        self.labeled = labeled\n",
    "        self.tokenizer = tokenizer\n",
    "        self.offsets, self.tokens = [], []\n",
    "#         self.original_offsets = []\n",
    "\n",
    "        if labeled:\n",
    "            self._extract_target()\n",
    "            self.labels = df.target.values.astype(\"uint8\")\n",
    "\n",
    "        self._convert_tokens_to_ids()\n",
    "\n",
    "    @staticmethod\n",
    "    def get_class_id(is_coref_A: Union[str, bool], is_coref_B: Union[str, bool]) -> int:\n",
    "        if is_coref_A == \"TRUE\" or is_coref_A is True:\n",
    "            return 0\n",
    "        elif is_coref_B == \"TRUE\" or is_coref_B is True:\n",
    "            return 1\n",
    "        else:\n",
    "            return 2\n",
    "        \n",
    "    def _extract_target(self):\n",
    "        self.df['target'] = [self.get_class_id(is_coref_A, is_coref_B) \n",
    "                             for is_coref_A, is_coref_B in zip(self.df['is_coref_A'],  \n",
    "                                                               self.df['is_coref_B'])]\n",
    "        \n",
    "    def _convert_tokens_to_ids(self):\n",
    "        CLS = [self.tokenizer.cls_token]\n",
    "        SEP = [self.tokenizer.sep_token]\n",
    "\n",
    "        for _, row in self.df.iterrows():\n",
    "            tokens, offsets = self._tokenize(row)\n",
    "#             self.original_offsets.append([row.offset_A, row.offset_B, row.p_offset])\n",
    "            self.offsets.append(offsets)\n",
    "            self.tokens.append(self.tokenizer.convert_tokens_to_ids(\n",
    "                CLS + tokens + SEP))\n",
    "\n",
    "    def _tokenize(self, row):\n",
    "        # The order is important because we want the pronoun to come after all the\n",
    "        # coreferenced entities in the output, even if B could come after the pronoun.\n",
    "        break_points = sorted([\n",
    "            (\"A\", row['offset_A'], row['entity_A']),\n",
    "            (\"B\", row['offset_B'], row['entity_B']),\n",
    "            (\"P\", row['p_offset'], row['pron'])\n",
    "        ], key=lambda x: x[0])\n",
    "\n",
    "        tokens, spans, current_pos = [], {}, 0\n",
    "        for name, offset, text in break_points:\n",
    "            tokens.extend(self.tokenizer.tokenize(\n",
    "                row[\"text\"][current_pos:offset]))\n",
    "            # Make sure we do not get it wrong\n",
    "            assert row[\"text\"][offset:offset+len(text)] == text\n",
    "            # Tokenize the target\n",
    "            tmp_tokens = self.tokenizer.tokenize(\n",
    "                row[\"text\"][offset:offset+len(text)])\n",
    "\n",
    "            # [num_tokens until entity, num_tokens including the entity]\n",
    "            spans[name] = [len(tokens), len(tokens) +\n",
    "                           len(tmp_tokens) - 1]  # inclusive\n",
    "            # In the last iteration, the pronoun is appended to the end\n",
    "            tokens.extend(tmp_tokens)\n",
    "            current_pos = offset + len(text)\n",
    "\n",
    "        tokens.extend(self.tokenizer.tokenize(row[\"text\"][current_pos:offset]))\n",
    "\n",
    "        # The pronoun is a single token, so the span is the same\n",
    "        assert spans[\"P\"][0] == spans[\"P\"][1]\n",
    "        return tokens, (spans[\"A\"] + spans[\"B\"] + [spans[\"P\"][0]])\n",
    "\n",
    "    def __len__(self):\n",
    "        return len(self.tokens)\n",
    "\n",
    "    def __getitem__(self, idx):\n",
    "        if self.labeled:\n",
    "            return self.tokens[idx], self.offsets[idx], self.labels[idx] \n",
    "        return self.tokens[idx], self.offsets[idx], None"
   ]
  },
  {
   "cell_type": "code",
   "execution_count": 9,
   "id": "e6844631",
   "metadata": {
    "id": "e6844631"
   },
   "outputs": [],
   "source": [
    "model_name_or_path = \"bert-base-uncased\"\n",
    "tokenizer = BertTokenizer.from_pretrained(model_name_or_path)"
   ]
  },
  {
   "cell_type": "code",
   "execution_count": 10,
   "id": "7997cbe1",
   "metadata": {
    "executionInfo": {
     "elapsed": 7540,
     "status": "ok",
     "timestamp": 1660494236683,
     "user": {
      "displayName": "Florin Cuconasu",
      "userId": "13345521608196528334"
     },
     "user_tz": -120
    },
    "id": "7997cbe1"
   },
   "outputs": [
    {
     "name": "stderr",
     "output_type": "stream",
     "text": [
      "C:\\Users\\flori\\miniconda3\\envs\\DL\\lib\\site-packages\\ipykernel_launcher.py:30: SettingWithCopyWarning: \n",
      "A value is trying to be set on a copy of a slice from a DataFrame.\n",
      "Try using .loc[row_indexer,col_indexer] = value instead\n",
      "\n",
      "See the caveats in the documentation: https://pandas.pydata.org/pandas-docs/stable/user_guide/indexing.html#returning-a-view-versus-a-copy\n"
     ]
    }
   ],
   "source": [
    "train_ds = GAPDataset(df_train[:100], tokenizer)\n",
    "valid_ds = GAPDataset(df_valid[:50], tokenizer)"
   ]
  },
  {
   "cell_type": "code",
   "execution_count": 11,
   "id": "c3e93a13",
   "metadata": {
    "id": "c3e93a13",
    "outputId": "d48fd267-ff92-4ad1-8064-6769064f6cf4"
   },
   "outputs": [
    {
     "data": {
      "text/plain": [
       "\"her boyfriend following Simon's advice after he wouldn't have sex with her but later realised this was due to him catching crabs off her friend Pauline.\""
      ]
     },
     "execution_count": 11,
     "metadata": {},
     "output_type": "execute_result"
    }
   ],
   "source": [
    "df_train['text'][0][274:]"
   ]
  },
  {
   "cell_type": "code",
   "execution_count": 12,
   "id": "72067558",
   "metadata": {
    "executionInfo": {
     "elapsed": 6,
     "status": "ok",
     "timestamp": 1660494236685,
     "user": {
      "displayName": "Florin Cuconasu",
      "userId": "13345521608196528334"
     },
     "user_tz": -120
    },
    "id": "72067558"
   },
   "outputs": [],
   "source": [
    "def collate_batch(batch, truncate_len=400):\n",
    "    \"\"\"Batch preparation.\n",
    "\n",
    "    1. Pad the sequences\n",
    "    2. Transform the target.\n",
    "    \"\"\"\n",
    "    batch_features, batch_offsets, batch_labels = zip(*batch)\n",
    "\n",
    "    max_len = min(\n",
    "        max((len(x) for x in batch_features)),\n",
    "        truncate_len\n",
    "    )\n",
    "\n",
    "    # Features\n",
    "    features = np.zeros((len(batch), max_len), dtype=np.int64)\n",
    "\n",
    "    # Padding\n",
    "    for i, row in enumerate(batch_features):\n",
    "        features[i, :len(row)] = row\n",
    "\n",
    "    features_tensor = torch.tensor(features, device=device)\n",
    "\n",
    "    # Offsets\n",
    "    offsets_tensor = torch.stack([\n",
    "        torch.tensor(x, dtype=torch.int64, device=device) for x in batch_offsets\n",
    "    ], dim=0) + 1  # Account for the [CLS] token\n",
    "\n",
    "    # Labels\n",
    "    if batch_labels[0] is None:\n",
    "        return features_tensor, offsets_tensor, None\n",
    "\n",
    "    labels_tensor = torch.tensor(\n",
    "        batch_labels, dtype=torch.uint8, device=device)\n",
    "    return features_tensor, offsets_tensor, labels_tensor"
   ]
  },
  {
   "cell_type": "code",
   "execution_count": 13,
   "id": "9a3c2791",
   "metadata": {
    "id": "9a3c2791"
   },
   "outputs": [],
   "source": [
    "class Collator:\n",
    "    def __init__(self, device):\n",
    "        self.device = device\n",
    "        \n",
    "    def __call__(self, batch, truncate_len=400):\n",
    "        \"\"\"Batch preparation.\n",
    "\n",
    "        1. Pad the sequences\n",
    "        2. Transform the target.\n",
    "        \"\"\"\n",
    "        batch_features, batch_offsets, batch_labels = zip(*batch)\n",
    "\n",
    "        max_len = min(\n",
    "            max((len(x) for x in batch_features)),\n",
    "            truncate_len\n",
    "        )\n",
    "\n",
    "        # Features\n",
    "        features = np.zeros((len(batch), max_len), dtype=np.int64)\n",
    "\n",
    "        # Padding\n",
    "        for i, row in enumerate(batch_features):\n",
    "            features[i, :len(row)] = row\n",
    "\n",
    "        features_tensor = torch.tensor(features, device=self.device)\n",
    "\n",
    "        # Offsets\n",
    "        offsets_tensor = torch.stack([\n",
    "            torch.tensor(x, dtype=torch.int64, device=self.device) for x in batch_offsets\n",
    "        ], dim=0) + 1  # Account for the [CLS] token\n",
    "\n",
    "        # Labels\n",
    "        if batch_labels[0] is None:\n",
    "            return features_tensor, offsets_tensor, None\n",
    "\n",
    "        labels_tensor = torch.tensor(\n",
    "            batch_labels, dtype=torch.uint8, device=self.device)\n",
    "        return features_tensor, offsets_tensor, labels_tensor"
   ]
  },
  {
   "cell_type": "code",
   "execution_count": 14,
   "id": "8185e7a8",
   "metadata": {
    "executionInfo": {
     "elapsed": 245,
     "status": "ok",
     "timestamp": 1660494242800,
     "user": {
      "displayName": "Florin Cuconasu",
      "userId": "13345521608196528334"
     },
     "user_tz": -120
    },
    "id": "8185e7a8"
   },
   "outputs": [],
   "source": [
    "class CorefHead(nn.Module):\n",
    "    def __init__(self, bert_hidden_size: int):\n",
    "        super().__init__()\n",
    "        self.bert_hidden_size = bert_hidden_size\n",
    "        self.head_hidden_size = 512\n",
    "\n",
    "#         self.fc = nn.Sequential(\n",
    "#             nn.Dropout(0.1),\n",
    "#             nn.Linear(bert_hidden_size * 3, 512),\n",
    "#             nn.ReLU(),\n",
    "#             nn.Linear(512, 3)\n",
    "#         )\n",
    "\n",
    "        # a) Always BN -> AC, (Nothing b/w them).\n",
    "        # b) BN -> Dropout over Dropout -> BN, but try both. [Newer research, finds 1st better ]\n",
    "        # c) BN eliminates the need of Dropout, no need to use Dropout.\n",
    "        # e) BN before Dropout is data Leakage.\n",
    "        # f) Best thing is to try every combination.\n",
    "        # SO CALLED BEST METHOD -\n",
    "        # Layer -> BN -> AC -> Dropout ->Layer\n",
    "\n",
    "        self.fc = nn.Sequential(\n",
    "            #             nn.BatchNorm1d(bert_hidden_size * 3),\n",
    "            #             nn.Dropout(0.5),\n",
    "            #             nn.LeakyReLU(),\n",
    "            #             nn.Linear(bert_hidden_size * 3, self.head_hidden_size),\n",
    "            #             nn.BatchNorm1d(self.head_hidden_size),\n",
    "            #             nn.Dropout(0.5),\n",
    "            #             nn.Linear(self.head_hidden_size, self.head_hidden_size),\n",
    "            #             nn.ReLU(),\n",
    "            #             nn.BatchNorm1d(self.head_hidden_size),\n",
    "            #             nn.Dropout(0.5),\n",
    "            nn.Dropout(0.1),\n",
    "            nn.Linear(bert_hidden_size * 3, self.head_hidden_size),\n",
    "            nn.BatchNorm1d(self.head_hidden_size),\n",
    "            nn.LeakyReLU(),\n",
    "            nn.Linear(self.head_hidden_size, 3)\n",
    "        )\n",
    "\n",
    "    def forward(self, bert_outputs, offsets):\n",
    "        assert bert_outputs.shape[2] == self.bert_hidden_size\n",
    "        embeddings = self._retrieve_entities_and_pron_embeddings(bert_outputs,\n",
    "                                                           offsets)\n",
    "\n",
    "        return self.fc(embeddings)\n",
    "    \n",
    "    def _retrieve_entities_and_pron_embeddings(self, bert_embeddings, entities_and_pron_offsets):\n",
    "        embeddings_A = []\n",
    "        embeddings_B = []\n",
    "        embeddings_pron = []\n",
    "\n",
    "        # Consider embeddings and offsets in each batch separately\n",
    "        for embeddings, off in zip(bert_embeddings, entities_and_pron_offsets):\n",
    "            # The offsets of mention A are the first and the second\n",
    "            # in the 'off' tensor\n",
    "            offsets_ent_A = range(off[0], off[1]+1)\n",
    "            # The offsets of mention B are the third and the fourth\n",
    "            # in the 'off' tensor\n",
    "            offsets_ent_B = range(off[2], off[3]+1)\n",
    "            # The offset of the pronoun is the last in the 'off' tensor\n",
    "            offset_pron = off[-1]\n",
    "\n",
    "            # The embedding of a mention is the mean of\n",
    "            # all the subtokens embeddings that represent it\n",
    "            embeddings_A.append(embeddings[offsets_ent_A].mean(dim=0))\n",
    "            embeddings_B.append(embeddings[offsets_ent_B].mean(dim=0))\n",
    "            embeddings_pron.append(embeddings[offset_pron])\n",
    "\n",
    "        # Merge outputs\n",
    "        merged_entities_and_pron_embeddings = torch.cat([\n",
    "            torch.stack(embeddings_A, dim=0),\n",
    "            torch.stack(embeddings_B, dim=0),\n",
    "            torch.stack(embeddings_pron, dim=0)\n",
    "        ], dim=1)\n",
    "        # print(torch.stack(outputs_A, dim=0))\n",
    "        # torch.stack(outputs_B, dim=0)\n",
    "        # print(torch.stack(outputs_pron, dim=0))\n",
    "\n",
    "        # shape: batch_size x (embedding_dim * 3)\n",
    "        return merged_entities_and_pron_embeddings"
   ]
  },
  {
   "cell_type": "code",
   "execution_count": 15,
   "id": "eb7c679d",
   "metadata": {
    "executionInfo": {
     "elapsed": 261,
     "status": "ok",
     "timestamp": 1660494246731,
     "user": {
      "displayName": "Florin Cuconasu",
      "userId": "13345521608196528334"
     },
     "user_tz": -120
    },
    "id": "eb7c679d"
   },
   "outputs": [],
   "source": [
    "class GAPModel(nn.Module):\n",
    "    \"\"\"The main model.\"\"\"\n",
    "\n",
    "    def __init__(self, bert_model: str):\n",
    "        super().__init__()\n",
    "\n",
    "        if bert_model in (\"bert-base-uncased\", \"bert-base-cased\"):\n",
    "            self.bert_hidden_size = 768\n",
    "        elif bert_model in (\"bert-large-uncased\", \"bert-large-cased\"):\n",
    "            self.bert_hidden_size = 1024\n",
    "        else:\n",
    "            raise ValueError(\"Unsupported BERT model.\")\n",
    "\n",
    "        self.bert = BertModel.from_pretrained(\n",
    "            bert_model).to(device, non_blocking=True)\n",
    "        self.head = CorefHead(self.bert_hidden_size).to(\n",
    "            device, non_blocking=True)\n",
    "\n",
    "    def forward(self, x, offsets):\n",
    "        bert_outputs = self.bert(\n",
    "            x, attention_mask=(x > 0).long(),\n",
    "            token_type_ids=None, output_hidden_states=True)\n",
    "#         concat_bert = torch.cat((bert_outputs[-1],bert_outputs[-2],bert_outputs[-3]),dim=-1)\n",
    "\n",
    "        last_layer = bert_outputs.last_hidden_state\n",
    "        head_outputs = self.head(last_layer, offsets)\n",
    "#         return concat_bert\n",
    "        return head_outputs"
   ]
  },
  {
   "cell_type": "markdown",
   "id": "f4f489d7",
   "metadata": {
    "id": "f4f489d7"
   },
   "source": [
    "GradScaler: https://pytorch.org/docs/stable/notes/amp_examples.html#gradient-clipping\n",
    "\n",
    "https://pytorch.org/docs/stable/amp.html#gradient-scaling"
   ]
  },
  {
   "cell_type": "markdown",
   "id": "21a41065",
   "metadata": {
    "id": "21a41065"
   },
   "source": [
    "**Gradient Scaling**\n",
    "\n",
    "If the forward pass for a particular op has float16 inputs, the backward pass for that op will produce float16 gradients. Gradient values with small magnitudes may not be representable in float16. These values will flush to zero (“underflow”), so the update for the corresponding parameters will be lost.\n",
    "\n",
    "To prevent underflow, “gradient scaling” multiplies the network’s loss(es) by a scale factor and invokes a backward pass on the scaled loss(es). Gradients flowing backward through the network are then scaled by the same factor. In other words, gradient values have a larger magnitude, so they don’t flush to zero.\n",
    "\n",
    "The method `step(optimizer, *args, **kwargs)` internally invokes `unscale_(optimizer)`and if no inf/NaN gradients are found, invokes `optimizer.step()` using the unscaled gradients. Otherwise `optimizer.step()` is skipped to avoid corrupting the params.\n",
    "\n",
    "\\**Note for Gradient Clipping*\n",
    "\n",
    "If you wish to modify the gradients (like in gradient clipping), you should unscale them first. If you attempted to clip *without* unscaling, the gradients' norm magnitude would also be scaled, so your requested threshold would be invalid."
   ]
  },
  {
   "cell_type": "code",
   "execution_count": 16,
   "id": "47cdacb2",
   "metadata": {
    "id": "47cdacb2"
   },
   "outputs": [],
   "source": [
    "# class Trainer:\n",
    "    \n",
    "#     def __init__(\n",
    "#         self,\n",
    "#         model: nn.Module,\n",
    "#         args: TrainingArguments,\n",
    "#         train_dataloader: DataLoader,\n",
    "#         valid_dataloader: DataLoader,\n",
    "#         criterion: torch.nn,\n",
    "#         optimizer: torch.optim.Optimizer,\n",
    "#         scheduler: torch.optim.lr_scheduler = None,\n",
    "        \n",
    "#     ):\n",
    "        \n",
    "#         self.model = model\n",
    "#         self.train_dataloader = train_dataloader\n",
    "#         self.valid_dataloader = valid_dataloader\n",
    "#         self.criterion = criterion\n",
    "#         self.optimizer = optimizer\n",
    "#         self.scheduler = scheduler\n",
    "        \n",
    "#         if args is None:\n",
    "#             output_dir = \"../../model/tmp_trainer\"\n",
    "#             print(f\"No 'TrainingArguments' passed, using 'output_dir={output_dir}'.\")\n",
    "#             args = TrainingArguments(output_dir=output_dir)\n",
    "        \n",
    "#         self.args = args\n",
    "        \n",
    "#     def train(self, grad_clipping, save_model):\n",
    "#         args = self.args\n",
    "#         train_dataloader = self.train_dataloader\n",
    "#         valid_dataloader = self.valid_dataloader\n",
    "        \n",
    "#         train_losses = []\n",
    "#         train_acc_list = []\n",
    "#         valid_losses = []\n",
    "#         valid_acc_list = []\n",
    "        \n",
    "#         epochs = args.num_train_epochs\n",
    "#         train_loss = 0.0\n",
    "#         train_acc, total_count = 0.0, 0.0\n",
    "#         training_start_time = time.time()\n",
    "        \n",
    "#         scaler = GradScaler()\n",
    "#         self.model.train()\n",
    "#         for epoch in range(epochs):\n",
    "#             epoch_loss = 0.0\n",
    "            \n",
    "#             for step, (features, offsets, labels) in enumerate(train_dataloader):\n",
    "#                 # Empty gradients\n",
    "#                 self.optimizer.zero_grad(set_to_none=True)\n",
    "                \n",
    "#                 # Forward\n",
    "# #                 predictions = self.model(features, offsets)\n",
    "# #                 loss = self.criterion(predictions, labels)\n",
    "#                 # Forward pass with mixed precision\n",
    "#                 with torch.cuda.amp.autocast(): # autocast as a context manager\n",
    "#                     predictions = self.model(features, offsets)\n",
    "#                     loss = self.criterion(predictions, labels)\n",
    "                \n",
    "#                 train_acc += (predictions.argmax(1) == labels).sum().item()\n",
    "#                 total_count += labels.shape[0]\n",
    "                \n",
    "# #                 # Backward  \n",
    "# #                 loss.backward()\n",
    "#                 # Backward pass without mixed precision\n",
    "#                 # It's not recommended to use mixed precision for backward pass\n",
    "#                 # Because we need more precise loss\n",
    "#                 scaler.scale(loss).backward()\n",
    "                \n",
    "#                 torch.nn.utils.clip_grad_norm_(self.model.parameters(), grad_clipping)\n",
    "                \n",
    "#                 # Update weights \n",
    "# #                 self.optimizer.step()\n",
    "#                 scaler.step(self.optimizer)\n",
    "#                 scaler.update()\n",
    "        \n",
    "                \n",
    "#                 epoch_loss += loss.tolist()\n",
    "\n",
    "#                 if step % args.logging_steps == args.logging_steps - 1:\n",
    "#                     mid_loss = epoch_loss / (step + 1)\n",
    "#                     mid_acc = train_acc / total_count\n",
    "# #                     print('\\t[E: {:2d} @ step {}] current avg loss = {:0.4f}'.format(epoch, step, mid_loss))\n",
    "#                     print(f'\\t| step {step+1:3d}/{len(train_dataloader):d} | train_loss: {mid_loss:.3f} | ' \\\n",
    "#                     f'train_acc: {mid_acc:.3f} |')\n",
    "            \n",
    "#             avg_epoch_loss = epoch_loss / len(train_dataloader)\n",
    "#             train_loss += avg_epoch_loss\n",
    "#             train_losses.append(train_loss)\n",
    "#             train_acc_list.append(train_acc / total_count)\n",
    "            \n",
    "# #             print('\\t[E: {:2d}] train loss = {:0.4f}'.format(epoch, avg_epoch_loss))  # print train loss at the end of the epoch\n",
    "            \n",
    "    \n",
    "#             valid_loss, valid_acc = self.evaluate(valid_dataloader)\n",
    "#             valid_losses.append(valid_loss)\n",
    "#             valid_acc_list.append(valid_acc)\n",
    "            \n",
    "# #             print('  [E: {:2d}] valid loss = {:0.4f}'.format(epoch, valid_loss))\n",
    "#             print('-' * 74)\n",
    "#             print(f'| epoch {epoch+1:3d}/{epochs:d} | train_loss: {avg_epoch_loss:.3f} | ' \\\n",
    "#                     f'valid_loss: {valid_loss:.3f} | valid_acc: {valid_acc:.3f} |')\n",
    "#             print('-' * 74)\n",
    "\n",
    "            \n",
    "#         training_time = time.time() - training_start_time\n",
    "#         print(f'Training time: {training_time:.2f}s')\n",
    "#         avg_epoch_loss = train_loss / epochs\n",
    "#         histories = {\n",
    "#             \"train_losses\": train_losses,\n",
    "#             \"train_acc\": train_acc_list,\n",
    "#             \"valid_losses\": valid_losses,\n",
    "#             \"valid_acc\": valid_acc_list,\n",
    "\n",
    "#         }\n",
    "#         print(histories)\n",
    "#         if save_model:\n",
    "#             self._save_model(epoch, valid_acc)\n",
    "    \n",
    "    \n",
    "#         return #avg_epoch_loss, histories\n",
    "            \n",
    "#     def evaluate(self, eval_dataloader):\n",
    "#         valid_loss = 0.0\n",
    "#         eval_acc, total_count = 0, 0\n",
    "        \n",
    "#         self.model.eval()\n",
    "#         with torch.no_grad():\n",
    "#             for (features, offsets, labels) in eval_dataloader:\n",
    "                \n",
    "#                 predictions = self.model(features, offsets)\n",
    "#                 loss = self.criterion(predictions, labels)\n",
    "#                 valid_loss += loss.tolist()\n",
    "\n",
    "#                 eval_acc += (predictions.argmax(1) == labels).sum().item()\n",
    "#                 total_count += labels.shape[0]\n",
    "        \n",
    "#         return valid_loss / len(eval_dataloader), eval_acc / total_count\n",
    "    \n",
    "#     def _save_model(self, epoch, valid_acc):\n",
    "#         torch.save({\n",
    "#                 \"epoch\": epoch,\n",
    "#                 \"model_state_dict\": self.model.state_dict(),\n",
    "#                 \"optimizer_state_dict\": self.optimizer.state_dict(),\n",
    "#             }, f\"{self.args.output_dir}my_model_{str(valid_acc)[2:5]}_{epoch+1}.pth\")"
   ]
  },
  {
   "cell_type": "code",
   "execution_count": 28,
   "id": "766de1e5",
   "metadata": {
    "executionInfo": {
     "elapsed": 576,
     "status": "ok",
     "timestamp": 1660494298114,
     "user": {
      "displayName": "Florin Cuconasu",
      "userId": "13345521608196528334"
     },
     "user_tz": -120
    },
    "id": "766de1e5"
   },
   "outputs": [],
   "source": [
    "class Trainer:\n",
    "    \n",
    "    def __init__(\n",
    "        self,\n",
    "        model: nn.Module,\n",
    "        args: CustomTrainingArguments,\n",
    "        train_dataloader: DataLoader,\n",
    "        valid_dataloader: DataLoader,\n",
    "        criterion: torch.nn,\n",
    "        optimizer: torch.optim.Optimizer,\n",
    "        scheduler: torch.optim.lr_scheduler = None,\n",
    "        \n",
    "    ):\n",
    "        \n",
    "        self.model = model\n",
    "        self.train_dataloader = train_dataloader\n",
    "        self.valid_dataloader = valid_dataloader\n",
    "        self.criterion = criterion\n",
    "        self.optimizer = optimizer\n",
    "        self.scheduler = scheduler\n",
    "        \n",
    "        if args is None:\n",
    "            output_dir = \"../../model/tmp_trainer\"\n",
    "            print(f\"No 'TrainingArguments' passed, using 'output_dir={output_dir}'.\")\n",
    "            args = CustomTrainingArguments(output_dir=output_dir)\n",
    "        \n",
    "        self.args = args\n",
    "        \n",
    "    def train(self):\n",
    "        args = self.args\n",
    "        valid_dataloader = self.valid_dataloader\n",
    "        epochs = args.num_train_epochs\n",
    "        \n",
    "        train_losses = []\n",
    "        train_acc_list = []\n",
    "        valid_losses = []\n",
    "        valid_acc_list = []\n",
    "        \n",
    "        if args.early_stopping:\n",
    "            patience_counter = 0 \n",
    "\n",
    "        scaler = GradScaler()\n",
    "\n",
    "        if args.resume_from_checkpoint is not None:\n",
    "            self._resume_model(args.resume_from_checkpoint, scaler)\n",
    "\n",
    "        training_start_time = time.time()\n",
    "        print(\"\\nTraining...\")\n",
    "        for epoch in range(epochs):\n",
    "            train_loss, train_acc = self._inner_training_loop(scaler)\n",
    "            train_losses.append(train_loss)\n",
    "            train_acc_list.append(train_acc)\n",
    "\n",
    "            valid_loss, valid_acc = self.evaluate(valid_dataloader)\n",
    "            valid_losses.append(valid_loss)\n",
    "            valid_acc_list.append(valid_acc)\n",
    "\n",
    "            if self.scheduler is not None:\n",
    "                print('-' * 14)\n",
    "                print(f\"  LR: {self.scheduler.get_last_lr()[0]:.2e}\")\n",
    "                self.scheduler.step()\n",
    "            \n",
    "            \n",
    "            self._print_epoch_log(epoch, epochs, train_loss, valid_loss, valid_acc)\n",
    "\n",
    "            if args.early_stopping and len(valid_acc_list) >= 2:\n",
    "                # stop = args.early_stopping_mode == 'min' and epoch > 0 and valid_acc_list[-1] > valid_acc_list[-2]\n",
    "                stop = args.early_stopping_mode == 'max' and epoch > 0 and valid_acc_list[-1] < valid_acc_list[-2]\n",
    "                if stop:\n",
    "                    if patience_counter >= args.early_stopping_patience:\n",
    "                        print('Early stop.')\n",
    "                        break\n",
    "                    else:\n",
    "                        print('-- Patience.\\n')\n",
    "                        patience_counter += 1\n",
    "        \n",
    "        training_time = time.time() - training_start_time\n",
    "        print(f'Training time: {training_time:.2f}s')\n",
    "\n",
    "        metrics_history = {\n",
    "            \"train_losses\": train_losses,\n",
    "            \"train_acc\": train_acc_list,\n",
    "            \"valid_losses\": valid_losses,\n",
    "            \"valid_acc\": valid_acc_list,\n",
    "        }\n",
    "#         print(metrics_history)\n",
    "        if args.save_model:\n",
    "            self._save_model(epoch, valid_acc, scaler)\n",
    "    \n",
    "        return metrics_history\n",
    "\n",
    "    def _inner_training_loop(self, scaler):\n",
    "        args = self.args\n",
    "        train_dataloader = self.train_dataloader\n",
    "        \n",
    "        train_loss = 0.0\n",
    "        train_acc, total_count = 0.0, 0.0\n",
    "\n",
    "        self.model.train()\n",
    "        for step, (features, offsets, labels) in enumerate(train_dataloader):\n",
    "            # Empty gradients\n",
    "            self.optimizer.zero_grad(set_to_none=True)\n",
    "            \n",
    "            # Forward\n",
    "            predictions = self.model(features, offsets)\n",
    "            loss = self.criterion(predictions, labels)\n",
    "            # with torch.cuda.amp.autocast(): # autocast as a context manager\n",
    "            #     predictions = self.model(features, offsets)\n",
    "            #     loss = self.criterion(predictions, labels)\n",
    "\n",
    "            train_acc += (predictions.argmax(1) == labels).sum().item()\n",
    "            total_count += labels.shape[0]\n",
    "            \n",
    "#                 # Backward  \n",
    "            # loss.backward()\n",
    "            # Backward pass without mixed precision\n",
    "            # It's not recommended to use mixed precision for backward pass\n",
    "            # Because we need more precise loss\n",
    "            scaler.scale(loss).backward()\n",
    "            \n",
    "            scaler.unscale_(optimizer)\n",
    "            \n",
    "            if args.grad_clipping is not None:\n",
    "                torch.nn.utils.clip_grad_norm_(self.model.parameters(), args.grad_clipping)\n",
    "            \n",
    "            # Update weights \n",
    "            # self.optimizer.step()\n",
    "            scaler.step(self.optimizer)\n",
    "            scaler.update()\n",
    "\n",
    "            train_loss += loss.item()\n",
    "\n",
    "            if step % args.logging_steps == args.logging_steps - 1:\n",
    "                running_loss = train_loss / (step + 1)\n",
    "                running_acc = train_acc / total_count\n",
    "                self._print_step_log(step, running_loss, running_acc)\n",
    "                \n",
    "        return train_loss / len(train_dataloader), train_acc / total_count\n",
    "\n",
    "\n",
    "    def evaluate(self, eval_dataloader):\n",
    "        valid_loss = 0.0\n",
    "        eval_acc, total_count = 0, 0\n",
    "        \n",
    "        self.model.eval()\n",
    "        with torch.no_grad():\n",
    "            for (features, offsets, labels) in eval_dataloader:\n",
    "                \n",
    "                predictions = self.model(features, offsets)\n",
    "                loss = self.criterion(predictions, labels)\n",
    "                valid_loss += loss.item()\n",
    "\n",
    "                eval_acc += (predictions.argmax(1) == labels).sum().item()\n",
    "                total_count += labels.shape[0]\n",
    "        \n",
    "        return valid_loss / len(eval_dataloader), eval_acc / total_count\n",
    "\n",
    "\n",
    "    def _print_step_log(self, step, running_loss, running_acc):\n",
    "        print(f'\\t| step {step+1:3d}/{len(self.train_dataloader):d} | train_loss: {running_loss:.3f} | ' \\\n",
    "                f'train_acc: {running_acc:.3f} |')\n",
    "\n",
    "    def _print_epoch_log(self, epoch, epochs, train_loss, valid_loss, valid_acc):\n",
    "        print('-' * 74)\n",
    "        print(f'| epoch {epoch+1:3d}/{epochs:d} | train_loss: {train_loss:.3f} | ' \\\n",
    "                f'valid_loss: {valid_loss:.3f} | valid_acc: {valid_acc:.3f} |')\n",
    "        print('-' * 74)\n",
    "        \n",
    "    \n",
    "    def _save_model(self, epoch, valid_acc, scaler):\n",
    "        print(\"Saving model...\")\n",
    "        torch.save({\n",
    "                \"epoch\": epoch,\n",
    "                \"model_state_dict\": self.model.state_dict(),\n",
    "                \"optimizer_state_dict\": self.optimizer.state_dict(),\n",
    "                \"scaler_state_dict\": scaler.state_dict(),\n",
    "            }, f\"{self.args.output_dir}my_model_{str(valid_acc)[2:5]}_{epoch+1}.pth\")\n",
    "        print(\"Model saved.\")\n",
    "\n",
    "    def _resume_model(self, path, scaler):\n",
    "        checkpoint = torch.load(path, map_location=device)\n",
    "        self.model.load_state_dict(checkpoint['model_state_dict'])\n",
    "        self.optimizer.load_state_dict(checkpoint['optimizer_state_dict'])\n",
    "        scaler.load_state_dict(checkpoint['scaler_state_dict'])\n"
   ]
  },
  {
   "cell_type": "code",
   "execution_count": 33,
   "id": "31aa4455",
   "metadata": {
    "colab": {
     "base_uri": "https://localhost:8080/",
     "height": 121,
     "referenced_widgets": [
      "33f4b3cc68744f15a9050ab13fa50369",
      "5aa9444352044afbab11e80a90ad11ce",
      "a357bf43127d4b818aca2fae5663097e",
      "77855a78ad6d4eab8803037a54d4f110",
      "bdd013c6bd6c4093adfe23ad74806294",
      "56846c464a09417a9cee013d0c6364fa",
      "4ae3e2d7cd1847fe91e3032c86d313bd",
      "04b1e4e278cd42f8b38dcc45a3e70a44",
      "3c6ee84b2e3b44dc949033915a2229f7",
      "7ec9dc5b2d10478982523e4fbadc626a",
      "3db13623113342b0adfacabe692109fd"
     ]
    },
    "executionInfo": {
     "elapsed": 22294,
     "status": "ok",
     "timestamp": 1660494395331,
     "user": {
      "displayName": "Florin Cuconasu",
      "userId": "13345521608196528334"
     },
     "user_tz": -120
    },
    "id": "31aa4455",
    "outputId": "3665464a-054f-47b5-94e3-c9356b545dac",
    "scrolled": true
   },
   "outputs": [
    {
     "name": "stderr",
     "output_type": "stream",
     "text": [
      "Some weights of the model checkpoint at bert-base-uncased were not used when initializing BertModel: ['cls.predictions.decoder.weight', 'cls.predictions.transform.LayerNorm.weight', 'cls.predictions.transform.dense.weight', 'cls.predictions.transform.LayerNorm.bias', 'cls.seq_relationship.weight', 'cls.predictions.transform.dense.bias', 'cls.predictions.bias', 'cls.seq_relationship.bias']\n",
      "- This IS expected if you are initializing BertModel from the checkpoint of a model trained on another task or with another architecture (e.g. initializing a BertForSequenceClassification model from a BertForPreTraining model).\n",
      "- This IS NOT expected if you are initializing BertModel from the checkpoint of a model that you expect to be exactly identical (initializing a BertForSequenceClassification model from a BertForSequenceClassification model).\n"
     ]
    }
   ],
   "source": [
    "model = GAPModel(model_name_or_path).to(device, non_blocking=True)\n",
    "\n",
    "yaml_file = \"/content/drive/MyDrive/Colab Notebooks/Deep Learning/NLP/nlp2022-hw3/hw3/stud/train_notebook.yaml\"\n",
    "yaml_file = \"./train_notebook.yaml\"\n",
    "# Read configuration file with all the necessary parameters\n",
    "with open(yaml_file) as file:\n",
    "    config = yaml.safe_load(file)\n",
    "    \n",
    "training_args = CustomTrainingArguments(**config['training_args'])\n",
    "\n",
    "# Make sure that the learning rate is read as a number and not as a string\n",
    "training_args.learning_rate = float(training_args.learning_rate)\n",
    "\n",
    "\n",
    "criterion = torch.nn.CrossEntropyLoss().to(device=device, non_blocking=True)\n",
    "optimizer = torch.optim.Adam(model.parameters(), lr=training_args.learning_rate)\n",
    "# scheduler = torch.optim.lr_scheduler.LinearLR(optimizer, start_factor=0.1)\n",
    "scheduler = torch.optim.lr_scheduler.StepLR(optimizer, step_size=3, gamma=0.1)\n",
    "\n",
    "batch_size = 4\n",
    "\n",
    "train_dataloader = DataLoader(train_ds, batch_size=batch_size, \n",
    "                              collate_fn=collate_batch, shuffle=True)\n",
    "valid_dataloader = DataLoader(valid_ds, batch_size=batch_size, \n",
    "                              collate_fn=collate_batch, shuffle=False)\n",
    "\n",
    "trainer = Trainer(model, training_args, \n",
    "                  train_dataloader, valid_dataloader, \n",
    "                  criterion, optimizer, scheduler)"
   ]
  },
  {
   "cell_type": "code",
   "execution_count": 34,
   "id": "e7c8f03a",
   "metadata": {
    "colab": {
     "base_uri": "https://localhost:8080/",
     "height": 783
    },
    "executionInfo": {
     "elapsed": 403281,
     "status": "error",
     "timestamp": 1660495715345,
     "user": {
      "displayName": "Florin Cuconasu",
      "userId": "13345521608196528334"
     },
     "user_tz": -120
    },
    "id": "e7c8f03a",
    "outputId": "069ebd09-c4e9-4184-b659-75c93a7aacc9"
   },
   "outputs": [
    {
     "name": "stdout",
     "output_type": "stream",
     "text": [
      "\n",
      "Training...\n",
      "\t| step  10/25 | train_loss: 1.638 | train_acc: 0.450 |\n",
      "\t| step  20/25 | train_loss: 1.557 | train_acc: 0.475 |\n",
      "--------------\n",
      "  LR: 4.55e-03\n",
      "--------------------------------------------------------------------------\n",
      "| epoch   1/10 | train_loss: 1.585 | valid_loss: 0.781 | valid_acc: 0.560 |\n",
      "--------------------------------------------------------------------------\n",
      "\t| step  10/25 | train_loss: 1.721 | train_acc: 0.375 |\n",
      "\t| step  20/25 | train_loss: 1.655 | train_acc: 0.362 |\n",
      "--------------\n",
      "  LR: 4.55e-03\n",
      "--------------------------------------------------------------------------\n",
      "| epoch   2/10 | train_loss: 1.581 | valid_loss: 3.030 | valid_acc: 0.020 |\n",
      "--------------------------------------------------------------------------\n",
      "\t| step  10/25 | train_loss: 1.454 | train_acc: 0.425 |\n",
      "\t| step  20/25 | train_loss: 1.395 | train_acc: 0.388 |\n",
      "--------------\n",
      "  LR: 4.55e-03\n",
      "--------------------------------------------------------------------------\n",
      "| epoch   3/10 | train_loss: 1.473 | valid_loss: 0.986 | valid_acc: 0.420 |\n",
      "--------------------------------------------------------------------------\n",
      "\t| step  10/25 | train_loss: 1.273 | train_acc: 0.425 |\n",
      "\t| step  20/25 | train_loss: 1.212 | train_acc: 0.425 |\n",
      "--------------\n",
      "  LR: 4.55e-04\n",
      "--------------------------------------------------------------------------\n",
      "| epoch   4/10 | train_loss: 1.181 | valid_loss: 1.057 | valid_acc: 0.560 |\n",
      "--------------------------------------------------------------------------\n",
      "\t| step  10/25 | train_loss: 1.244 | train_acc: 0.475 |\n",
      "\t| step  20/25 | train_loss: 1.225 | train_acc: 0.412 |\n",
      "--------------\n",
      "  LR: 4.55e-04\n",
      "--------------------------------------------------------------------------\n",
      "| epoch   5/10 | train_loss: 1.188 | valid_loss: 1.075 | valid_acc: 0.560 |\n",
      "--------------------------------------------------------------------------\n",
      "\t| step  10/25 | train_loss: 1.316 | train_acc: 0.350 |\n",
      "\t| step  20/25 | train_loss: 1.280 | train_acc: 0.287 |\n",
      "--------------\n",
      "  LR: 4.55e-04\n",
      "--------------------------------------------------------------------------\n",
      "| epoch   6/10 | train_loss: 1.231 | valid_loss: 1.081 | valid_acc: 0.560 |\n",
      "--------------------------------------------------------------------------\n",
      "\t| step  10/25 | train_loss: 1.215 | train_acc: 0.325 |\n",
      "\t| step  20/25 | train_loss: 1.149 | train_acc: 0.425 |\n",
      "--------------\n",
      "  LR: 4.55e-05\n",
      "--------------------------------------------------------------------------\n",
      "| epoch   7/10 | train_loss: 1.176 | valid_loss: 1.083 | valid_acc: 0.560 |\n",
      "--------------------------------------------------------------------------\n",
      "\t| step  10/25 | train_loss: 1.070 | train_acc: 0.400 |\n",
      "\t| step  20/25 | train_loss: 1.006 | train_acc: 0.525 |\n",
      "--------------\n",
      "  LR: 4.55e-05\n",
      "--------------------------------------------------------------------------\n",
      "| epoch   8/10 | train_loss: 1.034 | valid_loss: 1.066 | valid_acc: 0.560 |\n",
      "--------------------------------------------------------------------------\n",
      "\t| step  10/25 | train_loss: 1.066 | train_acc: 0.425 |\n",
      "\t| step  20/25 | train_loss: 1.063 | train_acc: 0.438 |\n",
      "--------------\n",
      "  LR: 4.55e-05\n",
      "--------------------------------------------------------------------------\n",
      "| epoch   9/10 | train_loss: 1.089 | valid_loss: 1.075 | valid_acc: 0.560 |\n",
      "--------------------------------------------------------------------------\n",
      "\t| step  10/25 | train_loss: 1.294 | train_acc: 0.200 |\n",
      "\t| step  20/25 | train_loss: 1.240 | train_acc: 0.275 |\n",
      "--------------\n",
      "  LR: 4.55e-06\n",
      "--------------------------------------------------------------------------\n",
      "| epoch  10/10 | train_loss: 1.249 | valid_loss: 1.102 | valid_acc: 0.560 |\n",
      "--------------------------------------------------------------------------\n",
      "Training time: 56.82s\n"
     ]
    }
   ],
   "source": [
    "metrics_history = trainer.train()"
   ]
  },
  {
   "cell_type": "code",
   "execution_count": null,
   "id": "3280693e",
   "metadata": {
    "id": "3280693e"
   },
   "outputs": [],
   "source": [
    "metrics_history"
   ]
  },
  {
   "cell_type": "code",
   "execution_count": 28,
   "id": "8569d8f9",
   "metadata": {
    "id": "8569d8f9",
    "outputId": "57936374-9bc5-47ed-a694-4ad2953e0ea5"
   },
   "outputs": [
    {
     "data": {
      "image/png": "[encoded data removed]",
      "text/plain": [
       "<Figure size 432x288 with 1 Axes>"
      ]
     },
     "metadata": {
      "needs_background": "light"
     },
     "output_type": "display_data"
    }
   ],
   "source": [
    "from matplotlib import pyplot as plt\n",
    "plt.plot(metrics_history['train_acc'])\n",
    "plt.plot(metrics_history['valid_acc'])\n",
    "plt.title('model accuracy')\n",
    "plt.ylabel('accuracy')\n",
    "plt.xlabel('epoch')\n",
    "plt.legend(['train', 'val'], loc='upper left')\n",
    "plt.show()"
   ]
  },
  {
   "cell_type": "code",
   "execution_count": 30,
   "id": "e847996d",
   "metadata": {},
   "outputs": [
    {
     "ename": "TypeError",
     "evalue": "get_linear_schedule_with_warmup() missing 3 required positional arguments: 'optimizer', 'num_warmup_steps', and 'num_training_steps'",
     "output_type": "error",
     "traceback": [
      "\u001b[1;31m---------------------------------------------------------------------------\u001b[0m",
      "\u001b[1;31mTypeError\u001b[0m                                 Traceback (most recent call last)",
      "\u001b[1;32m~\\AppData\\Local\\Temp\\ipykernel_21352\\2506784198.py\u001b[0m in \u001b[0;36m<module>\u001b[1;34m\u001b[0m\n\u001b[0;32m      2\u001b[0m \u001b[1;33m\u001b[0m\u001b[0m\n\u001b[0;32m      3\u001b[0m \u001b[1;33m\u001b[0m\u001b[0m\n\u001b[1;32m----> 4\u001b[1;33m \u001b[0mscheduler\u001b[0m \u001b[1;33m=\u001b[0m \u001b[0mget_linear_schedule_with_warmup\u001b[0m\u001b[1;33m(\u001b[0m\u001b[1;33m)\u001b[0m\u001b[1;33m\u001b[0m\u001b[1;33m\u001b[0m\u001b[0m\n\u001b[0m",
      "\u001b[1;31mTypeError\u001b[0m: get_linear_schedule_with_warmup() missing 3 required positional arguments: 'optimizer', 'num_warmup_steps', and 'num_training_steps'"
     ]
    }
   ],
   "source": [
    "from transformers import get_linear_schedule_with_warmup\n",
    "\n",
    "\n",
    "scheduler = get_linear_schedule_with_warmup()"
   ]
  },
  {
   "cell_type": "code",
   "execution_count": 21,
   "id": "bfcc7055",
   "metadata": {
    "id": "bfcc7055",
    "outputId": "91099e06-378b-4b8b-c1d2-5cd2fbd75b71"
   },
   "outputs": [
    {
     "name": "stderr",
     "output_type": "stream",
     "text": [
      "Some weights of the model checkpoint at bert-base-uncased were not used when initializing BertModel: ['cls.predictions.bias', 'cls.predictions.transform.dense.weight', 'cls.seq_relationship.weight', 'cls.seq_relationship.bias', 'cls.predictions.transform.LayerNorm.bias', 'cls.predictions.decoder.weight', 'cls.predictions.transform.LayerNorm.weight', 'cls.predictions.transform.dense.bias']\n",
      "- This IS expected if you are initializing BertModel from the checkpoint of a model trained on another task or with another architecture (e.g. initializing a BertForSequenceClassification model from a BertForPreTraining model).\n",
      "- This IS NOT expected if you are initializing BertModel from the checkpoint of a model that you expect to be exactly identical (initializing a BertForSequenceClassification model from a BertForSequenceClassification model).\n"
     ]
    }
   ],
   "source": [
    "model_resumed = GAPModel(model_name_or_path).to(device, non_blocking=True)\n",
    "optimizer_resumed = torch.optim.Adam(model_resumed.parameters())"
   ]
  },
  {
   "cell_type": "code",
   "execution_count": 20,
   "id": "f9a3799f",
   "metadata": {
    "id": "f9a3799f"
   },
   "outputs": [],
   "source": [
    "path = \"../../model/checkpoints/my_model_850_6.pth\""
   ]
  },
  {
   "cell_type": "code",
   "execution_count": 22,
   "id": "683896dc",
   "metadata": {
    "id": "683896dc"
   },
   "outputs": [],
   "source": [
    "checkpoint = torch.load(path, map_location=device)\n",
    "model_resumed.load_state_dict(checkpoint['model_state_dict'])\n",
    "optimizer_resumed.load_state_dict(checkpoint['optimizer_state_dict'])"
   ]
  },
  {
   "cell_type": "code",
   "execution_count": 24,
   "id": "e0617e0d",
   "metadata": {},
   "outputs": [],
   "source": [
    "# del checkpoint"
   ]
  },
  {
   "cell_type": "code",
   "execution_count": 23,
   "id": "a02d185d",
   "metadata": {},
   "outputs": [
    {
     "data": {
      "text/plain": [
       "Adam (\n",
       "Parameter Group 0\n",
       "    amsgrad: False\n",
       "    betas: (0.9, 0.999)\n",
       "    eps: 1e-08\n",
       "    lr: 5e-06\n",
       "    maximize: False\n",
       "    weight_decay: 0\n",
       ")"
      ]
     },
     "execution_count": 23,
     "metadata": {},
     "output_type": "execute_result"
    }
   ],
   "source": [
    "optimizer_resumed"
   ]
  },
  {
   "cell_type": "code",
   "execution_count": null,
   "id": "01d78d01",
   "metadata": {
    "id": "01d78d01",
    "outputId": "d8d325cb-1780-40be-a878-d38f59c6a88e"
   },
   "outputs": [
    {
     "data": {
      "text/plain": [
       "[41, 42, 44, 44, 61]"
      ]
     },
     "execution_count": 46,
     "metadata": {},
     "output_type": "execute_result"
    }
   ],
   "source": [
    "tokens = tokenizer.convert_ids_to_tokens(train_ds[0][0])\n",
    "# tokens[train_ds[0][1][0] - 1]\n",
    "train_ds[0][1]"
   ]
  },
  {
   "cell_type": "code",
   "execution_count": null,
   "id": "36ad9afe",
   "metadata": {
    "id": "36ad9afe",
    "outputId": "6b9cc51f-8378-4a0a-f39f-a9f85115b9f6"
   },
   "outputs": [
    {
     "data": {
      "text/plain": [
       "['cheryl', 'cassidy']"
      ]
     },
     "execution_count": 68,
     "metadata": {},
     "output_type": "execute_result"
    }
   ],
   "source": [
    "tokens[42:44]"
   ]
  },
  {
   "cell_type": "markdown",
   "id": "095dabb5",
   "metadata": {
    "id": "095dabb5"
   },
   "source": [
    "A List with your predictions.\n",
    "\n",
    "Each prediction is a tuple, composed by two tuples:\n",
    "(ambigous_pronoun, ambiguous_pronoun_offset), (coreferent_entity, coreferent_entity_offset))\n",
    "\n",
    "for example:\n",
    "    [(('her', 274), ('Pauline', 418))]"
   ]
  },
  {
   "cell_type": "markdown",
   "id": "6bf34075",
   "metadata": {
    "id": "6bf34075"
   },
   "source": [
    "I need to know the original positions.\n",
    "\n",
    "The model return the label prediction (0 1 2)\n",
    "\n",
    "If pred == 0 => A\n",
    "\n",
    "elif pred == 1 => B\n",
    "\n",
    "else => --\n",
    "\n",
    "I have to know:\n",
    "1. The pronoun and its pos\n",
    "2. The predicted entity and its pos\n",
    "\n",
    "\n",
    "1. I can retrieve the pronoun through the last offset in offsets after encoding the ids.\n",
    "    I also need its original position.\n",
    "    \n",
    "2. \n",
    "    \n"
   ]
  },
  {
   "cell_type": "code",
   "execution_count": 33,
   "id": "180d6256",
   "metadata": {
    "id": "180d6256"
   },
   "outputs": [],
   "source": [
    "def read_dataset(path: str) -> List[Dict]:\n",
    "    samples: List[Dict] = []\n",
    "    pron_counter = Counter()\n",
    "    with open(path) as f:\n",
    "        next(f)\n",
    "        for line in f:\n",
    "            (\n",
    "                id,\n",
    "                text,\n",
    "                pron,\n",
    "                p_offset,\n",
    "                entity_A,\n",
    "                offset_A,\n",
    "                is_coref_A,\n",
    "                entity_B,\n",
    "                offset_B,\n",
    "                is_coref_B,\n",
    "                url,\n",
    "            ) = line.strip().split(\"\\t\")\n",
    "            pron_counter[pron.lower()] += 1\n",
    "            samples.append(\n",
    "                {\n",
    "                    \"id\": id,\n",
    "                    \"text\": text,\n",
    "                    \"pron\": pron,\n",
    "                    \"p_offset\": int(p_offset),\n",
    "                    \"entity_A\": entity_A,\n",
    "                    \"offset_A\": int(offset_A),\n",
    "                    \"is_coref_A\": is_coref_A,\n",
    "                    \"entity_B\": entity_B,\n",
    "                    \"offset_B\": int(offset_B),\n",
    "                    \"is_coref_B\": is_coref_B,\n",
    "                    \"url\": url,\n",
    "                }\n",
    "            )\n",
    "    print(pron_counter)\n",
    "    return samples, pron_counter"
   ]
  },
  {
   "cell_type": "code",
   "execution_count": 34,
   "id": "b8a8bee5",
   "metadata": {
    "id": "b8a8bee5"
   },
   "outputs": [],
   "source": [
    "train_path = \"../../model/data/train.tsv\"\n",
    "valid_path = \"../../model/data/dev.tsv\""
   ]
  },
  {
   "cell_type": "code",
   "execution_count": 35,
   "id": "4ab5e64b",
   "metadata": {
    "id": "4ab5e64b",
    "outputId": "067c9bad-ec3a-4414-8989-e1fdaf39e8a1"
   },
   "outputs": [
    {
     "name": "stdout",
     "output_type": "stream",
     "text": [
      "Counter({'his': 904, 'her': 773, 'he': 610, 'she': 555, 'him': 157})\n",
      "Counter({'her': 140, 'his': 108, 'he': 93, 'she': 87, 'him': 26})\n"
     ]
    }
   ],
   "source": [
    "train_dataset, train_pron_counter = read_dataset(train_path)\n",
    "valid_dataset, valid_pron_counter = read_dataset(valid_path)"
   ]
  },
  {
   "cell_type": "code",
   "execution_count": null,
   "id": "7cbc6e74",
   "metadata": {
    "id": "7cbc6e74",
    "outputId": "611ea31b-3883-4644-c1df-057ce66f683e"
   },
   "outputs": [
    {
     "data": {
      "text/plain": [
       "{'id': 'train-1',\n",
       " 'text': \"Zoe Telford -- played the police officer girlfriend of Simon, Maggie. Dumped by Simon in the final episode of series 1, after he slept with Jenny, and is not seen again. Phoebe Thomas played Cheryl Cassidy, Pauline's friend and also a year 11 pupil in Simon's class. Dumped her boyfriend following Simon's advice after he wouldn't have sex with her but later realised this was due to him catching crabs off her friend Pauline.\",\n",
       " 'pron': 'her',\n",
       " 'p_offset': 274,\n",
       " 'entity_A': 'Cheryl Cassidy',\n",
       " 'offset_A': 191,\n",
       " 'is_coref_A': 'TRUE',\n",
       " 'entity_B': 'Pauline',\n",
       " 'offset_B': 207,\n",
       " 'is_coref_B': 'FALSE',\n",
       " 'url': 'http://en.wikipedia.org/wiki/List_of_Teachers_(UK_TV_series)_characters'}"
      ]
     },
     "execution_count": 99,
     "metadata": {},
     "output_type": "execute_result"
    }
   ],
   "source": [
    "train_dataset[0]"
   ]
  },
  {
   "cell_type": "code",
   "execution_count": 30,
   "id": "e635bc0e",
   "metadata": {
    "id": "e635bc0e"
   },
   "outputs": [],
   "source": [
    "def get_entity_and_offset_from_id(label_id, sentence):\n",
    "    if label_id == 0: # Entity A\n",
    "        return sentence['entity_A'], sentence['offset_A']\n",
    "    elif label_id == 1: # Entity B\n",
    "        return sentence['entity_B'], sentence['offset_B']\n",
    "    else: # Neither\n",
    "        return None, None "
   ]
  },
  {
   "cell_type": "code",
   "execution_count": null,
   "id": "3a00c15d",
   "metadata": {
    "id": "3a00c15d",
    "outputId": "2390d1d4-9f8b-4102-ee5b-1d15fa04e839"
   },
   "outputs": [
    {
     "data": {
      "text/plain": [
       "(None, None)"
      ]
     },
     "execution_count": 112,
     "metadata": {},
     "output_type": "execute_result"
    }
   ],
   "source": [
    "get_entity_and_offset_from_id(2, train_dataset[0])"
   ]
  },
  {
   "cell_type": "code",
   "execution_count": 31,
   "id": "6ca534a6",
   "metadata": {
    "id": "6ca534a6"
   },
   "outputs": [],
   "source": [
    "def predict(model, sentences: List[Dict]) -> List[Tuple[Tuple[str, int], Tuple[str, int]]]:\n",
    "    df = pd.DataFrame(sentences)\n",
    "    \n",
    "    # tokenizer will be self.tokenizer in the final implementation\n",
    "    dataset = GAPDataset(df, tokenizer)\n",
    "    collator = Collator(device)\n",
    "\n",
    "    predictions = []\n",
    "    \n",
    "    #self.model.eval()\n",
    "    model.eval()\n",
    "    with torch.no_grad():\n",
    "        dataloader = DataLoader(dataset, batch_size=1, \n",
    "                                collate_fn=collator, shuffle=False)\n",
    "        \n",
    "        for (features, offsets, labels), sentence in zip(dataloader, sentences):\n",
    "            \n",
    "#             predictions = self.model(features, offsets).argmax(1).item()\n",
    "            predicted_label_id = model(features, offsets).argmax(1).item()\n",
    "            pred_entity, pred_entity_offset = get_entity_and_offset_from_id(predicted_label_id, sentence)\n",
    "            pron, pron_offset = sentence['pron'],  sentence['p_offset']\n",
    "            \n",
    "            predictions.append(((pron, pron_offset), (pred_entity, pred_entity_offset)))\n",
    "            \n",
    "    return predictions\n",
    "            "
   ]
  },
  {
   "cell_type": "code",
   "execution_count": 36,
   "id": "c427614f",
   "metadata": {
    "id": "c427614f"
   },
   "outputs": [],
   "source": [
    "pred = predict(model, valid_dataset)"
   ]
  },
  {
   "cell_type": "code",
   "execution_count": 48,
   "id": "9bba0ffa",
   "metadata": {},
   "outputs": [],
   "source": [
    "gold_values = []\n",
    "for sentence in valid_dataset:\n",
    "    gold_both_wrong = sentence[\"is_coref_A\"] == \"FALSE\" and sentence[\"is_coref_B\"] == \"FALSE\"\n",
    "    if gold_both_wrong:\n",
    "        gold_entity_offset = None\n",
    "        gold_entity = None\n",
    "    else:\n",
    "        gold_entity_offset = (\n",
    "            sentence[\"offset_A\"] if sentence[\"is_coref_A\"] == \"TRUE\" else sentence[\"offset_B\"]\n",
    "        )\n",
    "        gold_entity = (\n",
    "            sentence[\"entity_A\"] if sentence[\"is_coref_A\"] == \"TRUE\" else sentence[\"entity_B\"]\n",
    "        )\n",
    "    \n",
    "    \n",
    "    gold_values.append(((sentence['pron'], sentence['p_offset']),(gold_entity, gold_entity_offset)))"
   ]
  },
  {
   "cell_type": "code",
   "execution_count": 79,
   "id": "94057fda",
   "metadata": {},
   "outputs": [
    {
     "data": {
      "text/plain": [
       "0"
      ]
     },
     "execution_count": 79,
     "metadata": {},
     "output_type": "execute_result"
    }
   ],
   "source": [
    "a = {}\n",
    "\n",
    "a.setdefault(\"age\", 0)\n",
    "a.setdefault(\"age\", 5)"
   ]
  },
  {
   "cell_type": "code",
   "execution_count": 80,
   "id": "940ba563",
   "metadata": {},
   "outputs": [
    {
     "data": {
      "text/plain": [
       "{'age': 0, 'a': 0}"
      ]
     },
     "execution_count": 80,
     "metadata": {},
     "output_type": "execute_result"
    }
   ],
   "source": [
    "a['a'] = 0\n",
    "a"
   ]
  },
  {
   "cell_type": "code",
   "execution_count": 55,
   "id": "b86c72b7",
   "metadata": {},
   "outputs": [],
   "source": [
    "wrong = []\n",
    "for p, g in zip(pred, gold_values):\n",
    "    if g[1][0] != p[1][0]:\n",
    "        wrong.append((g, p))\n",
    "#     print(p[1], g[1])"
   ]
  },
  {
   "cell_type": "code",
   "execution_count": 88,
   "id": "5d5f3f38",
   "metadata": {},
   "outputs": [],
   "source": [
    "pr = wrong[0][0][0][0]\n",
    "get_gender(\"she\")\n",
    "\n",
    "gender = {}\n",
    "\n",
    "for pair in wrong:\n",
    "    pr = pair[0][0][0]\n",
    "    gender.setdefault(get_gender(pr.lower()), 0)\n",
    "    gender[get_gender(pr.lower())] += 1 \n"
   ]
  },
  {
   "cell_type": "code",
   "execution_count": 89,
   "id": "19ef2627",
   "metadata": {},
   "outputs": [
    {
     "data": {
      "text/plain": [
       "{1: 35, 0: 34}"
      ]
     },
     "execution_count": 89,
     "metadata": {},
     "output_type": "execute_result"
    }
   ],
   "source": [
    "gender"
   ]
  },
  {
   "cell_type": "code",
   "execution_count": null,
   "id": "2d475e6f",
   "metadata": {
    "id": "2d475e6f",
    "outputId": "b09b0735-78cd-41d6-f2ab-a67274d07c31"
   },
   "outputs": [
    {
     "data": {
      "text/plain": [
       "{'id': 'validation-2',\n",
       " 'text': \"Kathleen Nott was born in Camberwell, London. Her father, Philip, was a lithographic printer, and her mother, Ellen, ran a boarding house in Brixton; Kathleen was their third daughter. She was educated at Mary Datchelor Girls' School (now closed), London, before attending King's College, London.\",\n",
       " 'pron': 'She',\n",
       " 'p_offset': 185,\n",
       " 'entity_A': 'Ellen',\n",
       " 'offset_A': 110,\n",
       " 'is_coref_A': 'FALSE',\n",
       " 'entity_B': 'Kathleen',\n",
       " 'offset_B': 150,\n",
       " 'is_coref_B': 'TRUE',\n",
       " 'url': 'http://en.wikipedia.org/wiki/Kathleen_Nott'}"
      ]
     },
     "execution_count": 124,
     "metadata": {},
     "output_type": "execute_result"
    }
   ],
   "source": [
    "valid_dataset[1]"
   ]
  },
  {
   "cell_type": "code",
   "execution_count": 37,
   "id": "f429bd56",
   "metadata": {
    "id": "f429bd56"
   },
   "outputs": [],
   "source": [
    "def compute_metrics(predictions_s, samples):\n",
    "    total = 0\n",
    "    correct = 0\n",
    "    for pred, label in zip(predictions_s, samples):\n",
    "        gold_pron_offset = label[\"p_offset\"]\n",
    "        pred_pron_offset = pred[0][1] if len(pred[0]) > 0 else None\n",
    "        gold_pron = label[\"pron\"]\n",
    "        pred_pron = pred[0][0] if len(pred[0]) > 0 else None\n",
    "        gold_both_wrong = label[\"is_coref_A\"] == \"FALSE\" and label[\"is_coref_B\"] == \"FALSE\"\n",
    "        pred_entity_offset = pred[1][1] if len(pred[1]) > 0 else None\n",
    "        pred_entity = pred[1][0] if len(pred[1]) > 0 else None\n",
    "              \n",
    "        if gold_both_wrong:\n",
    "            if pred_entity is None and gold_pron_offset == pred_pron_offset and gold_pron == pred_pron:\n",
    "                correct += 1\n",
    "            total += 1\n",
    "        else:\n",
    "            gold_entity_offset = (\n",
    "                label[\"offset_A\"] if label[\"is_coref_A\"] == \"TRUE\" else label[\"offset_B\"]\n",
    "            )\n",
    "            gold_entity = (\n",
    "                label[\"entity_A\"] if label[\"is_coref_A\"] == \"TRUE\" else label[\"entity_B\"]\n",
    "            )\n",
    "            if (\n",
    "                gold_pron_offset == pred_pron_offset\n",
    "                and gold_pron == pred_pron\n",
    "                and gold_entity_offset == pred_entity_offset\n",
    "                and gold_entity == pred_entity\n",
    "            ):\n",
    "                correct += 1\n",
    "            total += 1\n",
    "    \n",
    "    print(f\"# instances: {total}\")\n",
    "    acc = float(correct) / total\n",
    "    print(f\"# accuracy: {acc:.4f}\")"
   ]
  },
  {
   "cell_type": "code",
   "execution_count": 38,
   "id": "f970c3d9",
   "metadata": {
    "id": "f970c3d9",
    "outputId": "a73a7b89-4175-45f2-ce1b-1c88e4ee808e"
   },
   "outputs": [
    {
     "name": "stdout",
     "output_type": "stream",
     "text": [
      "# instances: 454\n",
      "# accuracy: 0.8480\n"
     ]
    }
   ],
   "source": [
    "compute_metrics(pred, valid_dataset)"
   ]
  },
  {
   "cell_type": "code",
   "execution_count": 2,
   "id": "3908b386",
   "metadata": {},
   "outputs": [],
   "source": [
    "from arguments import CustomTrainingArguments\n",
    "a = CustomTrainingArguments(output_dir=\"c\")"
   ]
  },
  {
   "cell_type": "code",
   "execution_count": 3,
   "id": "aaff3c45",
   "metadata": {},
   "outputs": [
    {
     "data": {
      "text/plain": [
       "CustomTrainingArguments(output_dir='c', resume_from_checkpoint=None, save_model=False, num_train_epochs=3, logging_steps=250, learning_rate=0.0005, grad_clipping=None, early_stopping=False, early_stopping_mode='max', early_stopping_patience=0)"
      ]
     },
     "execution_count": 3,
     "metadata": {},
     "output_type": "execute_result"
    }
   ],
   "source": [
    "a"
   ]
  },
  {
   "cell_type": "code",
   "execution_count": 129,
   "id": "0b7ae21f",
   "metadata": {
    "id": "0b7ae21f",
    "outputId": "22c6c145-e93b-4a94-f7fb-47600fbbc5cc"
   },
   "outputs": [
    {
     "ename": "TypeError",
     "evalue": "__init__() got an unexpected keyword argument 'resume_from_checkpoint'",
     "output_type": "error",
     "traceback": [
      "\u001b[1;31m---------------------------------------------------------------------------\u001b[0m",
      "\u001b[1;31mTypeError\u001b[0m                                 Traceback (most recent call last)",
      "\u001b[1;32m~\\AppData\\Local\\Temp\\ipykernel_9356\\1665919785.py\u001b[0m in \u001b[0;36m<module>\u001b[1;34m\u001b[0m\n\u001b[0;32m      7\u001b[0m     \u001b[0mconfig\u001b[0m \u001b[1;33m=\u001b[0m \u001b[0myaml\u001b[0m\u001b[1;33m.\u001b[0m\u001b[0msafe_load\u001b[0m\u001b[1;33m(\u001b[0m\u001b[0mfile\u001b[0m\u001b[1;33m)\u001b[0m\u001b[1;33m\u001b[0m\u001b[1;33m\u001b[0m\u001b[0m\n\u001b[0;32m      8\u001b[0m \u001b[1;33m\u001b[0m\u001b[0m\n\u001b[1;32m----> 9\u001b[1;33m \u001b[0marg\u001b[0m \u001b[1;33m=\u001b[0m \u001b[0mCustomTrainingArguments\u001b[0m\u001b[1;33m(\u001b[0m\u001b[1;33m**\u001b[0m\u001b[0mconfig\u001b[0m\u001b[1;33m[\u001b[0m\u001b[1;34m'training_args'\u001b[0m\u001b[1;33m]\u001b[0m\u001b[1;33m)\u001b[0m\u001b[1;33m\u001b[0m\u001b[1;33m\u001b[0m\u001b[0m\n\u001b[0m",
      "\u001b[1;31mTypeError\u001b[0m: __init__() got an unexpected keyword argument 'resume_from_checkpoint'"
     ]
    }
   ],
   "source": [
    "from arguments import CustomTrainingArguments\n",
    "\n",
    "yaml_file = \"./train.yaml\"\n",
    "\n",
    "# Read configuration file with all the necessary parameters\n",
    "with open(yaml_file) as file:\n",
    "    config = yaml.safe_load(file)\n",
    "    \n",
    "arg = CustomTrainingArguments(**config['training_args'])"
   ]
  },
  {
   "cell_type": "code",
   "execution_count": 120,
   "id": "d9e9ff37",
   "metadata": {},
   "outputs": [
    {
     "name": "stdout",
     "output_type": "stream",
     "text": [
      "CustomTrainingArguments(output_dir='../../model/checkpoints/', num_train_epochs=6, logging_steps=250, save_model=False, learning_rate=5e-06, grad_clipping=None, early_stopping=False, early_stopping_mode='max', early_stopping_patience=0)\n"
     ]
    }
   ],
   "source": [
    "print(arg)"
   ]
  },
  {
   "cell_type": "code",
   "execution_count": null,
   "id": "c3a6450b",
   "metadata": {},
   "outputs": [],
   "source": []
  }
 ],
 "metadata": {
  "accelerator": "GPU",
  "colab": {
   "collapsed_sections": [],
   "name": "Training.ipynb",
   "provenance": []
  },
  "gpuClass": "standard",
  "kernelspec": {
   "display_name": "Python 3.7 (DL)",
   "language": "python",
   "name": "dl"
  },
  "language_info": {
   "codemirror_mode": {
    "name": "ipython",
    "version": 3
   },
   "file_extension": ".py",
   "mimetype": "text/x-python",
   "name": "python",
   "nbconvert_exporter": "python",
   "pygments_lexer": "ipython3",
   "version": "3.7.13"
  },
  "widgets": {
   "application/vnd.jupyter.widget-state+json": {
    "04b1e4e278cd42f8b38dcc45a3e70a44": {
     "model_module": "@jupyter-widgets/base",
     "model_module_version": "1.2.0",
     "model_name": "LayoutModel",
     "state": {
      "_model_module": "@jupyter-widgets/base",
      "_model_module_version": "1.2.0",
      "_model_name": "LayoutModel",
      "_view_count": null,
      "_view_module": "@jupyter-widgets/base",
      "_view_module_version": "1.2.0",
      "_view_name": "LayoutView",
      "align_content": null,
      "align_items": null,
      "align_self": null,
      "border": null,
      "bottom": null,
      "display": null,
      "flex": null,
      "flex_flow": null,
      "grid_area": null,
      "grid_auto_columns": null,
      "grid_auto_flow": null,
      "grid_auto_rows": null,
      "grid_column": null,
      "grid_gap": null,
      "grid_row": null,
      "grid_template_areas": null,
      "grid_template_columns": null,
      "grid_template_rows": null,
      "height": null,
      "justify_content": null,
      "justify_items": null,
      "left": null,
      "margin": null,
      "max_height": null,
      "max_width": null,
      "min_height": null,
      "min_width": null,
      "object_fit": null,
      "object_position": null,
      "order": null,
      "overflow": null,
      "overflow_x": null,
      "overflow_y": null,
      "padding": null,
      "right": null,
      "top": null,
      "visibility": null,
      "width": null
     }
    },
    "33f4b3cc68744f15a9050ab13fa50369": {
     "model_module": "@jupyter-widgets/controls",
     "model_module_version": "1.5.0",
     "model_name": "HBoxModel",
     "state": {
      "_dom_classes": [],
      "_model_module": "@jupyter-widgets/controls",
      "_model_module_version": "1.5.0",
      "_model_name": "HBoxModel",
      "_view_count": null,
      "_view_module": "@jupyter-widgets/controls",
      "_view_module_version": "1.5.0",
      "_view_name": "HBoxView",
      "box_style": "",
      "children": [
       "IPY_MODEL_5aa9444352044afbab11e80a90ad11ce",
       "IPY_MODEL_a357bf43127d4b818aca2fae5663097e",
       "IPY_MODEL_77855a78ad6d4eab8803037a54d4f110"
      ],
      "layout": "IPY_MODEL_bdd013c6bd6c4093adfe23ad74806294"
     }
    },
    "3c6ee84b2e3b44dc949033915a2229f7": {
     "model_module": "@jupyter-widgets/controls",
     "model_module_version": "1.5.0",
     "model_name": "ProgressStyleModel",
     "state": {
      "_model_module": "@jupyter-widgets/controls",
      "_model_module_version": "1.5.0",
      "_model_name": "ProgressStyleModel",
      "_view_count": null,
      "_view_module": "@jupyter-widgets/base",
      "_view_module_version": "1.2.0",
      "_view_name": "StyleView",
      "bar_color": null,
      "description_width": ""
     }
    },
    "3db13623113342b0adfacabe692109fd": {
     "model_module": "@jupyter-widgets/controls",
     "model_module_version": "1.5.0",
     "model_name": "DescriptionStyleModel",
     "state": {
      "_model_module": "@jupyter-widgets/controls",
      "_model_module_version": "1.5.0",
      "_model_name": "DescriptionStyleModel",
      "_view_count": null,
      "_view_module": "@jupyter-widgets/base",
      "_view_module_version": "1.2.0",
      "_view_name": "StyleView",
      "description_width": ""
     }
    },
    "4ae3e2d7cd1847fe91e3032c86d313bd": {
     "model_module": "@jupyter-widgets/controls",
     "model_module_version": "1.5.0",
     "model_name": "DescriptionStyleModel",
     "state": {
      "_model_module": "@jupyter-widgets/controls",
      "_model_module_version": "1.5.0",
      "_model_name": "DescriptionStyleModel",
      "_view_count": null,
      "_view_module": "@jupyter-widgets/base",
      "_view_module_version": "1.2.0",
      "_view_name": "StyleView",
      "description_width": ""
     }
    },
    "56846c464a09417a9cee013d0c6364fa": {
     "model_module": "@jupyter-widgets/base",
     "model_module_version": "1.2.0",
     "model_name": "LayoutModel",
     "state": {
      "_model_module": "@jupyter-widgets/base",
      "_model_module_version": "1.2.0",
      "_model_name": "LayoutModel",
      "_view_count": null,
      "_view_module": "@jupyter-widgets/base",
      "_view_module_version": "1.2.0",
      "_view_name": "LayoutView",
      "align_content": null,
      "align_items": null,
      "align_self": null,
      "border": null,
      "bottom": null,
      "display": null,
      "flex": null,
      "flex_flow": null,
      "grid_area": null,
      "grid_auto_columns": null,
      "grid_auto_flow": null,
      "grid_auto_rows": null,
      "grid_column": null,
      "grid_gap": null,
      "grid_row": null,
      "grid_template_areas": null,
      "grid_template_columns": null,
      "grid_template_rows": null,
      "height": null,
      "justify_content": null,
      "justify_items": null,
      "left": null,
      "margin": null,
      "max_height": null,
      "max_width": null,
      "min_height": null,
      "min_width": null,
      "object_fit": null,
      "object_position": null,
      "order": null,
      "overflow": null,
      "overflow_x": null,
      "overflow_y": null,
      "padding": null,
      "right": null,
      "top": null,
      "visibility": null,
      "width": null
     }
    },
    "5aa9444352044afbab11e80a90ad11ce": {
     "model_module": "@jupyter-widgets/controls",
     "model_module_version": "1.5.0",
     "model_name": "HTMLModel",
     "state": {
      "_dom_classes": [],
      "_model_module": "@jupyter-widgets/controls",
      "_model_module_version": "1.5.0",
      "_model_name": "HTMLModel",
      "_view_count": null,
      "_view_module": "@jupyter-widgets/controls",
      "_view_module_version": "1.5.0",
      "_view_name": "HTMLView",
      "description": "",
      "description_tooltip": null,
      "layout": "IPY_MODEL_56846c464a09417a9cee013d0c6364fa",
      "placeholder": "​",
      "style": "IPY_MODEL_4ae3e2d7cd1847fe91e3032c86d313bd",
      "value": "Downloading pytorch_model.bin: 100%"
     }
    },
    "77855a78ad6d4eab8803037a54d4f110": {
     "model_module": "@jupyter-widgets/controls",
     "model_module_version": "1.5.0",
     "model_name": "HTMLModel",
     "state": {
      "_dom_classes": [],
      "_model_module": "@jupyter-widgets/controls",
      "_model_module_version": "1.5.0",
      "_model_name": "HTMLModel",
      "_view_count": null,
      "_view_module": "@jupyter-widgets/controls",
      "_view_module_version": "1.5.0",
      "_view_name": "HTMLView",
      "description": "",
      "description_tooltip": null,
      "layout": "IPY_MODEL_7ec9dc5b2d10478982523e4fbadc626a",
      "placeholder": "​",
      "style": "IPY_MODEL_3db13623113342b0adfacabe692109fd",
      "value": " 420M/420M [00:13&lt;00:00, 55.4MB/s]"
     }
    },
    "7ec9dc5b2d10478982523e4fbadc626a": {
     "model_module": "@jupyter-widgets/base",
     "model_module_version": "1.2.0",
     "model_name": "LayoutModel",
     "state": {
      "_model_module": "@jupyter-widgets/base",
      "_model_module_version": "1.2.0",
      "_model_name": "LayoutModel",
      "_view_count": null,
      "_view_module": "@jupyter-widgets/base",
      "_view_module_version": "1.2.0",
      "_view_name": "LayoutView",
      "align_content": null,
      "align_items": null,
      "align_self": null,
      "border": null,
      "bottom": null,
      "display": null,
      "flex": null,
      "flex_flow": null,
      "grid_area": null,
      "grid_auto_columns": null,
      "grid_auto_flow": null,
      "grid_auto_rows": null,
      "grid_column": null,
      "grid_gap": null,
      "grid_row": null,
      "grid_template_areas": null,
      "grid_template_columns": null,
      "grid_template_rows": null,
      "height": null,
      "justify_content": null,
      "justify_items": null,
      "left": null,
      "margin": null,
      "max_height": null,
      "max_width": null,
      "min_height": null,
      "min_width": null,
      "object_fit": null,
      "object_position": null,
      "order": null,
      "overflow": null,
      "overflow_x": null,
      "overflow_y": null,
      "padding": null,
      "right": null,
      "top": null,
      "visibility": null,
      "width": null
     }
    },
    "a357bf43127d4b818aca2fae5663097e": {
     "model_module": "@jupyter-widgets/controls",
     "model_module_version": "1.5.0",
     "model_name": "FloatProgressModel",
     "state": {
      "_dom_classes": [],
      "_model_module": "@jupyter-widgets/controls",
      "_model_module_version": "1.5.0",
      "_model_name": "FloatProgressModel",
      "_view_count": null,
      "_view_module": "@jupyter-widgets/controls",
      "_view_module_version": "1.5.0",
      "_view_name": "ProgressView",
      "bar_style": "success",
      "description": "",
      "description_tooltip": null,
      "layout": "IPY_MODEL_04b1e4e278cd42f8b38dcc45a3e70a44",
      "max": 440473133,
      "min": 0,
      "orientation": "horizontal",
      "style": "IPY_MODEL_3c6ee84b2e3b44dc949033915a2229f7",
      "value": 440473133
     }
    },
    "bdd013c6bd6c4093adfe23ad74806294": {
     "model_module": "@jupyter-widgets/base",
     "model_module_version": "1.2.0",
     "model_name": "LayoutModel",
     "state": {
      "_model_module": "@jupyter-widgets/base",
      "_model_module_version": "1.2.0",
      "_model_name": "LayoutModel",
      "_view_count": null,
      "_view_module": "@jupyter-widgets/base",
      "_view_module_version": "1.2.0",
      "_view_name": "LayoutView",
      "align_content": null,
      "align_items": null,
      "align_self": null,
      "border": null,
      "bottom": null,
      "display": null,
      "flex": null,
      "flex_flow": null,
      "grid_area": null,
      "grid_auto_columns": null,
      "grid_auto_flow": null,
      "grid_auto_rows": null,
      "grid_column": null,
      "grid_gap": null,
      "grid_row": null,
      "grid_template_areas": null,
      "grid_template_columns": null,
      "grid_template_rows": null,
      "height": null,
      "justify_content": null,
      "justify_items": null,
      "left": null,
      "margin": null,
      "max_height": null,
      "max_width": null,
      "min_height": null,
      "min_width": null,
      "object_fit": null,
      "object_position": null,
      "order": null,
      "overflow": null,
      "overflow_x": null,
      "overflow_y": null,
      "padding": null,
      "right": null,
      "top": null,
      "visibility": null,
      "width": null
     }
    }
   }
  }
 },
 "nbformat": 4,
 "nbformat_minor": 5
}
