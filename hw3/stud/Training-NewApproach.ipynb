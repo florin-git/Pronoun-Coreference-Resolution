{
 "cells": [
  {
   "cell_type": "code",
   "execution_count": null,
   "id": "wIOz40JYJddq",
   "metadata": {
    "id": "wIOz40JYJddq"
   },
   "outputs": [],
   "source": [
    "! pip install transformers"
   ]
  },
  {
   "cell_type": "code",
   "execution_count": 2,
   "id": "3244dc15",
   "metadata": {
    "executionInfo": {
     "elapsed": 5489,
     "status": "ok",
     "timestamp": 1660751770217,
     "user": {
      "displayName": "Florin Cuconasu",
      "userId": "13345521608196528334"
     },
     "user_tz": -120
    },
    "id": "3244dc15"
   },
   "outputs": [],
   "source": [
    "import os\n",
    "from transformers import (\n",
    "    Trainer,\n",
    "    BertTokenizer,\n",
    "    BertModel\n",
    ")\n",
    "import transformers\n",
    "import numpy as np\n",
    "import pandas as pd\n",
    "\n",
    "import random\n",
    "import time\n",
    "import yaml\n",
    "from typing import *\n",
    "\n",
    "import torch\n",
    "from torch import nn\n",
    "from torch.utils.data import Dataset, DataLoader\n",
    "from torch.cuda.amp import GradScaler\n",
    "\n",
    "SEED = 10\n",
    "\n",
    "random.seed(SEED)\n",
    "np.random.seed(SEED)\n",
    "torch.manual_seed(SEED)\n",
    "torch.cuda.manual_seed(SEED)\n",
    "torch.cuda.manual_seed_all(SEED)\n",
    "torch.backends.cudnn.benchmark = True\n",
    "torch.backends.cudnn.deterministic = True\n",
    "\n",
    "# Display the entire text\n",
    "pd.set_option(\"display.max_colwidth\", None)"
   ]
  },
  {
   "cell_type": "code",
   "execution_count": 3,
   "id": "58276aa2",
   "metadata": {
    "colab": {
     "base_uri": "https://localhost:8080/"
    },
    "executionInfo": {
     "elapsed": 259,
     "status": "ok",
     "timestamp": 1660751781007,
     "user": {
      "displayName": "Florin Cuconasu",
      "userId": "13345521608196528334"
     },
     "user_tz": -120
    },
    "id": "58276aa2",
    "outputId": "150bbcf1-dbcd-480d-9e85-82e77346e83f"
   },
   "outputs": [
    {
     "data": {
      "text/plain": [
       "device(type='cuda')"
      ]
     },
     "execution_count": 3,
     "metadata": {},
     "output_type": "execute_result"
    }
   ],
   "source": [
    "os.environ['CUDA_LAUNCH_BLOCKING'] = \"1\"\n",
    "\n",
    "model_name_or_path = \"bert-base-cased\"\n",
    "\n",
    "device = torch.device(\"cuda\" if torch.cuda.is_available() else \"cpu\")\n",
    "# device = torch.device(\"cpu\")\n",
    "device"
   ]
  },
  {
   "cell_type": "code",
   "execution_count": 6,
   "id": "kYGIp3MoJug2",
   "metadata": {
    "colab": {
     "base_uri": "https://localhost:8080/"
    },
    "executionInfo": {
     "elapsed": 15143,
     "status": "ok",
     "timestamp": 1660751806072,
     "user": {
      "displayName": "Florin Cuconasu",
      "userId": "13345521608196528334"
     },
     "user_tz": -120
    },
    "id": "kYGIp3MoJug2",
    "outputId": "aad7d923-b163-4609-93a9-a07790cbfba2"
   },
   "outputs": [
    {
     "name": "stdout",
     "output_type": "stream",
     "text": [
      "Mounted at /content/drive/\n"
     ]
    }
   ],
   "source": [
    "from google.colab import drive\n",
    "drive.mount('/content/drive/')"
   ]
  },
  {
   "cell_type": "code",
   "execution_count": 7,
   "id": "QFqvmoaqhbyn",
   "metadata": {
    "executionInfo": {
     "elapsed": 1526,
     "status": "ok",
     "timestamp": 1660751810222,
     "user": {
      "displayName": "Florin Cuconasu",
      "userId": "13345521608196528334"
     },
     "user_tz": -120
    },
    "id": "QFqvmoaqhbyn"
   },
   "outputs": [],
   "source": [
    "import os\n",
    "\n",
    "curr_location = \"/content/drive/MyDrive/Colab Notebooks/Deep Learning/NLP/nlp2022-hw3/hw3/stud/\"\n",
    "os.chdir(curr_location)"
   ]
  },
  {
   "cell_type": "code",
   "execution_count": 4,
   "id": "fM1EDyRLifxE",
   "metadata": {
    "executionInfo": {
     "elapsed": 1348,
     "status": "ok",
     "timestamp": 1660751818200,
     "user": {
      "displayName": "Florin Cuconasu",
      "userId": "13345521608196528334"
     },
     "user_tz": -120
    },
    "id": "fM1EDyRLifxE"
   },
   "outputs": [],
   "source": [
    "from arguments import CustomTrainingArguments"
   ]
  },
  {
   "cell_type": "code",
   "execution_count": 5,
   "id": "3633ef51",
   "metadata": {
    "executionInfo": {
     "elapsed": 279,
     "status": "ok",
     "timestamp": 1660751819788,
     "user": {
      "displayName": "Florin Cuconasu",
      "userId": "13345521608196528334"
     },
     "user_tz": -120
    },
    "id": "3633ef51"
   },
   "outputs": [],
   "source": [
    "train_clean_path = \"../../model/data/train_clean.tsv\"\n",
    "valid_clean_path = \"../../model/data/valid_clean.tsv\""
   ]
  },
  {
   "cell_type": "code",
   "execution_count": 6,
   "id": "B1CvSmUrKc1y",
   "metadata": {
    "executionInfo": {
     "elapsed": 1177,
     "status": "ok",
     "timestamp": 1660751822725,
     "user": {
      "displayName": "Florin Cuconasu",
      "userId": "13345521608196528334"
     },
     "user_tz": -120
    },
    "id": "B1CvSmUrKc1y"
   },
   "outputs": [],
   "source": [
    "df_train = pd.read_csv(filepath_or_buffer=train_clean_path, sep=\"\\t\")\n",
    "df_valid = pd.read_csv(filepath_or_buffer=valid_clean_path, sep=\"\\t\")"
   ]
  },
  {
   "cell_type": "markdown",
   "id": "677693f1",
   "metadata": {},
   "source": [
    "Is a token classification: for each token I need to say if it is ambiguous or not. "
   ]
  },
  {
   "cell_type": "code",
   "execution_count": 6,
   "id": "c4ccf9f6",
   "metadata": {},
   "outputs": [],
   "source": [
    "# I should introduce a mention tag for the pronoun"
   ]
  },
  {
   "cell_type": "code",
   "execution_count": 8,
   "id": "1f5ec9c1",
   "metadata": {
    "id": "1f5ec9c1"
   },
   "outputs": [],
   "source": [
    "FEMININE = 0\n",
    "MASCULINE = 1\n",
    "UNKNOWN = 2\n",
    "\n",
    "def get_gender(pronoun: str):\n",
    "    gender_mapping = {\n",
    "        'she': FEMININE,\n",
    "        'her': FEMININE,\n",
    "        'he': MASCULINE,\n",
    "        'his': MASCULINE,\n",
    "        'him': MASCULINE,\n",
    "    }\n",
    "\n",
    "    return gender_mapping.get(pronoun.lower(), UNKNOWN)"
   ]
  },
  {
   "cell_type": "code",
   "execution_count": 7,
   "id": "4df00da9",
   "metadata": {
    "executionInfo": {
     "elapsed": 243,
     "status": "ok",
     "timestamp": 1660751829631,
     "user": {
      "displayName": "Florin Cuconasu",
      "userId": "13345521608196528334"
     },
     "user_tz": -120
    },
    "id": "4df00da9"
   },
   "outputs": [],
   "source": [
    "class GAPAmbiguousDataset(Dataset):\n",
    "    \"\"\"Custom GAP Dataset class\"\"\"\n",
    "\n",
    "    def __init__(self, df, tokenizer, labeled=True):\n",
    "        self.df = df\n",
    "\n",
    "        self.labeled = labeled\n",
    "        self.tokenizer = tokenizer\n",
    "        self.tokens = []\n",
    "        self.pron_offsets = []\n",
    "#         self.original_offsets = []\n",
    "\n",
    "        self._convert_tokens_to_ids()\n",
    "\n",
    "        if labeled:\n",
    "            self.labels = []\n",
    "            self._assign_class_to_tokens()\n",
    "        \n",
    "        assert len(self.tokens) == len(self.labels)\n",
    "\n",
    "        \n",
    "    def _assign_class_to_tokens(self):        \n",
    "        labels = []\n",
    "        for idx, sentence in enumerate(self.tokens):\n",
    "            for token_idx in range(len(sentence)):\n",
    "#                 if token_id == sentence[self.pron_offsets[idx]]:\n",
    "                if token_idx == self.pron_offsets[idx]:\n",
    "                    labels.append(2)\n",
    "                    \n",
    "                else:\n",
    "                    labels.append(1)\n",
    "                    \n",
    "            self.labels.append(labels)\n",
    "            labels = []    \n",
    "        \n",
    "    def _convert_tokens_to_ids(self):\n",
    "        CLS = [self.tokenizer.cls_token]\n",
    "        SEP = [self.tokenizer.sep_token]\n",
    "\n",
    "        for _, row in self.df.iterrows():\n",
    "            tokens, pron_offset = self._tokenize(row)\n",
    "            self.tokens.append(self.tokenizer.convert_tokens_to_ids(\n",
    "                CLS + tokens + SEP))\n",
    "            \n",
    "            # Because of the introduction of CLS we have to add 1\n",
    "            self.pron_offsets.append(pron_offset+1)\n",
    "   \n",
    "\n",
    "    def _insert_tag(self, text, pronoun_offset):\n",
    "        \"\"\"Insert custom tags to help us find the position of A, B, and the pronoun after tokenization.\"\"\"\n",
    "        to_be_inserted = sorted([\n",
    "        #         (a_offset, \" [A] \"),\n",
    "        #         (b_offset, \" [B] \"),\n",
    "            (pronoun_offset, \" <P> \")\n",
    "        ], key=lambda x: x[0], reverse=True)\n",
    "\n",
    "        for offset, tag in to_be_inserted:\n",
    "            text = text[:offset] + tag + text[offset:]\n",
    "        return text\n",
    "\n",
    "    def _tokenize(self, row):\n",
    "        \"\"\"Returns a list of tokens and the positions of A, B, and the pronoun.\"\"\"\n",
    "        entries = {}\n",
    "        final_tokens = []\n",
    "        \n",
    "        text = self._insert_tag(row['text'], row['p_offset'])\n",
    "        for token in tokenizer.tokenize(text):\n",
    "            if token == (\"<P>\"):\n",
    "                entries[token] = len(final_tokens)\n",
    "                continue\n",
    "            final_tokens.append(token)\n",
    "        return final_tokens, entries[\"<P>\"]\n",
    "\n",
    "    def __len__(self):\n",
    "        return len(self.tokens)\n",
    "\n",
    "    def __getitem__(self, idx):\n",
    "        if self.labeled:\n",
    "            assert len(self.tokens[idx]) == len(self.labels[idx])\n",
    "            return self.tokens[idx], self.labels[idx] \n",
    "        return self.tokens[idx], None"
   ]
  },
  {
   "cell_type": "code",
   "execution_count": 8,
   "id": "e6844631",
   "metadata": {
    "id": "e6844631"
   },
   "outputs": [],
   "source": [
    "model_name_or_path = \"./tokenizer/\"\n",
    "tokenizer = BertTokenizer.from_pretrained(model_name_or_path)"
   ]
  },
  {
   "cell_type": "code",
   "execution_count": 9,
   "id": "7997cbe1",
   "metadata": {
    "executionInfo": {
     "elapsed": 5692,
     "status": "ok",
     "timestamp": 1660751846338,
     "user": {
      "displayName": "Florin Cuconasu",
      "userId": "13345521608196528334"
     },
     "user_tz": -120
    },
    "id": "7997cbe1"
   },
   "outputs": [],
   "source": [
    "train_ds = GAPAmbiguousDataset(df_train, tokenizer)\n",
    "valid_ds = GAPAmbiguousDataset(df_valid, tokenizer)"
   ]
  },
  {
   "cell_type": "code",
   "execution_count": 10,
   "id": "72067558",
   "metadata": {
    "executionInfo": {
     "elapsed": 10,
     "status": "ok",
     "timestamp": 1660751846339,
     "user": {
      "displayName": "Florin Cuconasu",
      "userId": "13345521608196528334"
     },
     "user_tz": -120
    },
    "id": "72067558"
   },
   "outputs": [],
   "source": [
    "def collate_batch(batch, truncate_len=400):\n",
    "    \"\"\"Batch preparation.\n",
    "\n",
    "    1. Pad the sequences\n",
    "    2. Transform the target.\n",
    "    \"\"\"\n",
    "    batch_features, batch_labels = zip(*batch)\n",
    "\n",
    "    max_len = min(\n",
    "        max((len(x) for x in batch_features)),\n",
    "        truncate_len\n",
    "    )\n",
    "\n",
    "    # Features\n",
    "    features = np.zeros((len(batch), max_len), dtype=np.int64)\n",
    "#     features = np.full((len(batch), max_len), -100, dtype=np.int64)\n",
    "\n",
    "    # Padding\n",
    "    for i, row in enumerate(batch_features):\n",
    "        features[i, :len(row)] = row\n",
    "\n",
    "    features_tensor = torch.tensor(features, device=device)\n",
    "\n",
    "    # Labels\n",
    "    if batch_labels[0] is None:\n",
    "        return features_tensor, None\n",
    "    \n",
    "    labels = np.zeros((len(batch), max_len), dtype=np.uint8)\n",
    "#     labels = np.full((len(batch), max_len), -1, dtype=np.uint8)\n",
    "\n",
    "    # Padding\n",
    "    for i, row in enumerate(batch_labels):\n",
    "        labels[i, :len(row)] = row\n",
    "#         labels.append(pad_sequence(row, max_len, -100))\n",
    "        \n",
    "    labels_tensor = torch.tensor(\n",
    "        labels, dtype=torch.uint8, device=device)\n",
    "    return features_tensor, labels_tensor"
   ]
  },
  {
   "cell_type": "code",
   "execution_count": 12,
   "id": "1bc03a80",
   "metadata": {},
   "outputs": [],
   "source": [
    "# collate_batch(train_ds)[0][0]\n",
    "# collate_batch(train_ds)[1][0]"
   ]
  },
  {
   "cell_type": "code",
   "execution_count": 120,
   "id": "78a8c2ff",
   "metadata": {},
   "outputs": [],
   "source": [
    "# for fea, lab in train_ds:\n",
    "#     count = 0\n",
    "#     for l in lab:\n",
    "#         if l == 2:\n",
    "#             count += 1\n",
    "    \n",
    "#     if count > 1:\n",
    "#         print(\"fre\")"
   ]
  },
  {
   "cell_type": "code",
   "execution_count": 117,
   "id": "f4cf6a81",
   "metadata": {},
   "outputs": [
    {
     "data": {
      "text/plain": [
       "'her'"
      ]
     },
     "execution_count": 117,
     "metadata": {},
     "output_type": "execute_result"
    }
   ],
   "source": [
    "# tokenizer.convert_ids_to_tokens(train_ds[0][0][66])"
   ]
  },
  {
   "cell_type": "code",
   "execution_count": null,
   "id": "386f58ba",
   "metadata": {},
   "outputs": [],
   "source": []
  },
  {
   "cell_type": "code",
   "execution_count": 13,
   "id": "9a3c2791",
   "metadata": {
    "id": "9a3c2791"
   },
   "outputs": [],
   "source": [
    "class Collator:\n",
    "    def __init__(self, device):\n",
    "        self.device = device\n",
    "        \n",
    "    def __call__(self, batch, truncate_len=400):\n",
    "        \"\"\"Batch preparation.\n",
    "\n",
    "        1. Pad the sequences\n",
    "        2. Transform the target.\n",
    "        \"\"\"\n",
    "        batch_features, batch_offsets, batch_labels = zip(*batch)\n",
    "\n",
    "        max_len = min(\n",
    "            max((len(x) for x in batch_features)),\n",
    "            truncate_len\n",
    "        )\n",
    "\n",
    "        # Features\n",
    "        features = np.zeros((len(batch), max_len), dtype=np.int64)\n",
    "\n",
    "        # Padding\n",
    "        for i, row in enumerate(batch_features):\n",
    "            features[i, :len(row)] = row\n",
    "\n",
    "        features_tensor = torch.tensor(features, device=self.device)\n",
    "\n",
    "        # Offsets\n",
    "        offsets_tensor = torch.stack([\n",
    "            torch.tensor(x, dtype=torch.int64, device=self.device) for x in batch_offsets\n",
    "        ], dim=0) + 1  # Account for the [CLS] token\n",
    "\n",
    "        # Labels\n",
    "        if batch_labels[0] is None:\n",
    "            return features_tensor, offsets_tensor, None\n",
    "\n",
    "        labels_tensor = torch.tensor(\n",
    "            batch_labels, dtype=torch.uint8, device=self.device)\n",
    "        return features_tensor, offsets_tensor, labels_tensor"
   ]
  },
  {
   "cell_type": "code",
   "execution_count": 13,
   "id": "8185e7a8",
   "metadata": {
    "executionInfo": {
     "elapsed": 255,
     "status": "ok",
     "timestamp": 1660751850397,
     "user": {
      "displayName": "Florin Cuconasu",
      "userId": "13345521608196528334"
     },
     "user_tz": -120
    },
    "id": "8185e7a8"
   },
   "outputs": [],
   "source": [
    "class CorefHead(nn.Module):\n",
    "    def __init__(self, bert_hidden_size: int):\n",
    "        super().__init__()\n",
    "        self.bert_hidden_size = bert_hidden_size\n",
    "        self.head_hidden_size = 512\n",
    "\n",
    "#         self.fc = nn.Sequential(\n",
    "#             nn.Dropout(0.1),\n",
    "#             nn.Linear(bert_hidden_size * 3, 512),\n",
    "#             nn.ReLU(),\n",
    "#             nn.Linear(512, 3)\n",
    "#         )\n",
    "\n",
    "        # a) Always BN -> AC, (Nothing b/w them).\n",
    "        # b) BN -> Dropout over Dropout -> BN, but try both. [Newer research, finds 1st better ]\n",
    "        # c) BN eliminates the need of Dropout, no need to use Dropout.\n",
    "        # e) BN before Dropout is data Leakage.\n",
    "        # f) Best thing is to try every combination.\n",
    "        # SO CALLED BEST METHOD -\n",
    "        # Layer -> BN -> AC -> Dropout ->Layer\n",
    "\n",
    "        self.fc = nn.Sequential(\n",
    "            #             nn.BatchNorm1d(bert_hidden_size * 3),\n",
    "            #             nn.Dropout(0.5),\n",
    "            #             nn.LeakyReLU(),\n",
    "            #             nn.Linear(bert_hidden_size * 3, self.head_hidden_size),\n",
    "            #             nn.BatchNorm1d(self.head_hidden_size),\n",
    "            #             nn.Dropout(0.5),\n",
    "            #             nn.Linear(self.head_hidden_size, self.head_hidden_size),\n",
    "            #             nn.ReLU(),\n",
    "            #             nn.BatchNorm1d(self.head_hidden_size),\n",
    "            #             nn.Dropout(0.5),\n",
    "#             nn.Dropout(0.1),\n",
    "#             nn.Linear(bert_hidden_size * 3, self.head_hidden_size),\n",
    "#             nn.BatchNorm1d(self.head_hidden_size),\n",
    "#             nn.LeakyReLU(),\n",
    "#             nn.Linear(self.head_hidden_size, 3)\n",
    "            nn.Linear(bert_hidden_size, self.head_hidden_size),\n",
    "#             nn.BatchNorm1d(self.head_hidden_size),\n",
    "            nn.LeakyReLU(),\n",
    "            nn.Dropout(0.1),\n",
    "        )\n",
    "\n",
    "\n",
    "#         lstm_hidden_dim = 256\n",
    "#         bidirectional = True\n",
    "#         self.lstm = nn.LSTM(self.head_hidden_size, \n",
    "#                             lstm_hidden_dim, \n",
    "#                             bidirectional=bidirectional,\n",
    "#                             num_layers=1,\n",
    "#                             dropout=0.1,\n",
    "#                             batch_first=True)\n",
    "        \n",
    "#         lstm_output_dim = lstm_hidden_dim if bidirectional is False \\\n",
    "#                             else lstm_hidden_dim * 2\n",
    "\n",
    "#         self.relu = nn.LeakyReLU()\n",
    "        \n",
    "        self.classifier = nn.Linear(self.head_hidden_size, 3)\n",
    "\n",
    "    def forward(self, x):\n",
    "#         embeddings = self._retrieve_entities_and_pron_embeddings(bert_outputs,\n",
    "#                                                            offsets)\n",
    "\n",
    "        x = self.fc(x)\n",
    "#         x, _ = self.lstm(x)\n",
    "#         x = self.relu(x)\n",
    "\n",
    "        output = self.classifier(x)\n",
    "        return output\n",
    "    \n",
    "#     def _retrieve_entities_and_pron_embeddings(self, bert_embeddings, entities_and_pron_offsets):\n",
    "#         embeddings_A = []\n",
    "#         embeddings_B = []\n",
    "#         embeddings_pron = []\n",
    "\n",
    "#         # Consider embeddings and offsets in each batch separately\n",
    "#         for embeddings, off in zip(bert_embeddings, entities_and_pron_offsets):\n",
    "#             # The offsets of mention A are the first and the second\n",
    "#             # in the 'off' tensor\n",
    "#             offsets_ent_A = range(off[0], off[1]+1)\n",
    "#             # The offsets of mention B are the third and the fourth\n",
    "#             # in the 'off' tensor\n",
    "#             offsets_ent_B = range(off[2], off[3]+1)\n",
    "#             # The offset of the pronoun is the last in the 'off' tensor\n",
    "#             offset_pron = off[-1]\n",
    "\n",
    "#             # The embedding of a mention is the mean of\n",
    "#             # all the subtokens embeddings that represent it\n",
    "#             embeddings_A.append(embeddings[offsets_ent_A].mean(dim=0))\n",
    "#             embeddings_B.append(embeddings[offsets_ent_B].mean(dim=0))\n",
    "#             embeddings_pron.append(embeddings[offset_pron])\n",
    "\n",
    "#         # Merge outputs\n",
    "#         merged_entities_and_pron_embeddings = torch.cat([\n",
    "#             torch.stack(embeddings_A, dim=0),\n",
    "#             torch.stack(embeddings_B, dim=0),\n",
    "#             torch.stack(embeddings_pron, dim=0)\n",
    "#         ], dim=1)\n",
    "#         # print(torch.stack(outputs_A, dim=0))\n",
    "#         # torch.stack(outputs_B, dim=0)\n",
    "#         # print(torch.stack(outputs_pron, dim=0))\n",
    "\n",
    "#         # shape: batch_size x (embedding_dim * 3)\n",
    "#         return merged_entities_and_pron_embeddings"
   ]
  },
  {
   "cell_type": "code",
   "execution_count": 14,
   "id": "eb7c679d",
   "metadata": {
    "executionInfo": {
     "elapsed": 372,
     "status": "ok",
     "timestamp": 1660751878734,
     "user": {
      "displayName": "Florin Cuconasu",
      "userId": "13345521608196528334"
     },
     "user_tz": -120
    },
    "id": "eb7c679d"
   },
   "outputs": [],
   "source": [
    "class GAPModel(nn.Module):\n",
    "    \"\"\"The main model.\"\"\"\n",
    "\n",
    "    def __init__(self, bert_model: str):\n",
    "        super().__init__()\n",
    "\n",
    "        if bert_model in {\"bert-base-uncased\", \"bert-base-cased\"}:\n",
    "            self.bert_hidden_size = 768\n",
    "        elif bert_model in {\"bert-large-uncased\", \"bert-large-cased\"}:\n",
    "            self.bert_hidden_size = 1024\n",
    "        else:\n",
    "            raise ValueError(\"Unsupported BERT model.\")\n",
    "\n",
    "        self.bert = BertModel.from_pretrained(\n",
    "            bert_model).to(device, non_blocking=True)\n",
    "        self.head = CorefHead(self.bert_hidden_size).to(\n",
    "            device, non_blocking=True)\n",
    "\n",
    "    def forward(self, x):\n",
    "        bert_outputs = self.bert(\n",
    "            x, attention_mask=(x > 0).long(),\n",
    "            token_type_ids=None, output_hidden_states=True)\n",
    "#         concat_bert = torch.cat((bert_outputs[-1],bert_outputs[-2],bert_outputs[-3]),dim=-1)\n",
    "        # concat_bert = torch.cat((bert_outputs.hidden_states[-1], bert_outputs.hidden_states[-2],\n",
    "        #                          bert_outputs.hidden_states[-3], bert_outputs.hidden_states[-4]), dim=-1)\n",
    "        \n",
    "        last_layer = bert_outputs.last_hidden_state\n",
    "        head_outputs = self.head(last_layer)\n",
    "#         return concat_bert\n",
    "        return head_outputs"
   ]
  },
  {
   "cell_type": "code",
   "execution_count": null,
   "id": "6897420f",
   "metadata": {},
   "outputs": [],
   "source": []
  },
  {
   "cell_type": "markdown",
   "id": "f4f489d7",
   "metadata": {
    "id": "f4f489d7"
   },
   "source": [
    "GradScaler: https://pytorch.org/docs/stable/notes/amp_examples.html#gradient-clipping\n",
    "\n",
    "https://pytorch.org/docs/stable/amp.html#gradient-scaling"
   ]
  },
  {
   "cell_type": "markdown",
   "id": "21a41065",
   "metadata": {
    "id": "21a41065"
   },
   "source": [
    "**Gradient Scaling**\n",
    "\n",
    "If the forward pass for a particular op has float16 inputs, the backward pass for that op will produce float16 gradients. Gradient values with small magnitudes may not be representable in float16. These values will flush to zero (“underflow”), so the update for the corresponding parameters will be lost.\n",
    "\n",
    "To prevent underflow, “gradient scaling” multiplies the network’s loss(es) by a scale factor and invokes a backward pass on the scaled loss(es). Gradients flowing backward through the network are then scaled by the same factor. In other words, gradient values have a larger magnitude, so they don’t flush to zero.\n",
    "\n",
    "The method `step(optimizer, *args, **kwargs)` internally invokes `unscale_(optimizer)`and if no inf/NaN gradients are found, invokes `optimizer.step()` using the unscaled gradients. Otherwise `optimizer.step()` is skipped to avoid corrupting the params.\n",
    "\n",
    "\\**Note for Gradient Clipping*\n",
    "\n",
    "If you wish to modify the gradients (like in gradient clipping), you should unscale them first. If you attempted to clip *without* unscaling, the gradients' norm magnitude would also be scaled, so your requested threshold would be invalid."
   ]
  },
  {
   "cell_type": "code",
   "execution_count": 15,
   "id": "766de1e5",
   "metadata": {
    "executionInfo": {
     "elapsed": 242,
     "status": "ok",
     "timestamp": 1660751890792,
     "user": {
      "displayName": "Florin Cuconasu",
      "userId": "13345521608196528334"
     },
     "user_tz": -120
    },
    "id": "766de1e5"
   },
   "outputs": [],
   "source": [
    "class Trainer:\n",
    "    \n",
    "    def __init__(\n",
    "        self,\n",
    "        model: nn.Module,\n",
    "        args: CustomTrainingArguments,\n",
    "        train_dataloader: DataLoader,\n",
    "        valid_dataloader: DataLoader,\n",
    "        criterion: torch.nn,\n",
    "        optimizer: torch.optim.Optimizer,\n",
    "        scheduler: torch.optim.lr_scheduler = None,\n",
    "        \n",
    "    ):\n",
    "        \n",
    "        self.model = model\n",
    "        self.train_dataloader = train_dataloader\n",
    "        self.valid_dataloader = valid_dataloader\n",
    "        self.criterion = criterion\n",
    "        self.optimizer = optimizer\n",
    "        self.scheduler = scheduler\n",
    "        \n",
    "        if args is None:\n",
    "            output_dir = \"../../model/tmp_trainer\"\n",
    "            print(f\"No 'TrainingArguments' passed, using 'output_dir={output_dir}'.\")\n",
    "            args = CustomTrainingArguments(output_dir=output_dir)\n",
    "        \n",
    "        self.args = args\n",
    "        \n",
    "    def train(self):\n",
    "        args = self.args\n",
    "        valid_dataloader = self.valid_dataloader\n",
    "        epochs = args.num_train_epochs\n",
    "        \n",
    "        train_losses = []\n",
    "        train_acc_list = []\n",
    "        valid_losses = []\n",
    "        valid_acc_list = []\n",
    "        \n",
    "        if args.early_stopping:\n",
    "            patience_counter = 0 \n",
    "\n",
    "        scaler = GradScaler()\n",
    "\n",
    "        if args.resume_from_checkpoint is not None:\n",
    "            self._resume_model(args.resume_from_checkpoint, scaler)\n",
    "\n",
    "        training_start_time = time.time()\n",
    "        print(\"\\nTraining...\")\n",
    "        for epoch in range(epochs):\n",
    "            train_loss, train_acc = self._inner_training_loop(scaler)\n",
    "            train_losses.append(train_loss)\n",
    "            train_acc_list.append(train_acc)\n",
    "\n",
    "            valid_loss, valid_acc = self.evaluate(valid_dataloader)\n",
    "            valid_losses.append(valid_loss)\n",
    "            valid_acc_list.append(valid_acc)\n",
    "\n",
    "            if self.scheduler is not None:\n",
    "                print('-' * 17)\n",
    "                print(f\"| LR: {self.scheduler.get_last_lr()[0]:.3e} |\")\n",
    "                self.scheduler.step()\n",
    "\n",
    "            self._print_epoch_log(epoch, epochs, train_loss, valid_loss, valid_acc)\n",
    "\n",
    "            if args.early_stopping and len(valid_acc_list) >= 2:\n",
    "                # stop = args.early_stopping_mode == 'min' and epoch > 0 and valid_acc_list[-1] > valid_acc_list[-2]\n",
    "                stop = args.early_stopping_mode == 'max' and epoch > 0 and valid_acc_list[-1] < valid_acc_list[-2]\n",
    "                if stop:\n",
    "                    if patience_counter >= args.early_stopping_patience:\n",
    "                        print('Early stop.')\n",
    "                        break\n",
    "                    else:\n",
    "                        print('-- Patience.\\n')\n",
    "                        patience_counter += 1\n",
    "        \n",
    "        training_time = time.time() - training_start_time\n",
    "        print(f'Training time: {training_time:.2f}s')\n",
    "\n",
    "        metrics_history = {\n",
    "            \"train_losses\": train_losses,\n",
    "            \"train_acc\": train_acc_list,\n",
    "            \"valid_losses\": valid_losses,\n",
    "            \"valid_acc\": valid_acc_list,\n",
    "        }\n",
    "        print(metrics_history)\n",
    "        if args.save_model:\n",
    "            self._save_model(epoch, valid_acc, scaler, metrics_history)\n",
    "    \n",
    "        return #metrics_history\n",
    "\n",
    "    def _inner_training_loop(self, scaler):\n",
    "        args = self.args\n",
    "        train_dataloader = self.train_dataloader\n",
    "        \n",
    "        train_loss = 0.0\n",
    "        train_correct, total_count = 0.0, 0.0\n",
    "\n",
    "        self.model.train()\n",
    "        for step, (features, labels) in enumerate(train_dataloader):\n",
    "            # Empty gradients\n",
    "            self.optimizer.zero_grad(set_to_none=True)\n",
    "            \n",
    "            # Forward\n",
    "            # predictions = self.model(features, offsets)\n",
    "            # loss = self.criterion(predictions, labels)\n",
    "#             with torch.cuda.amp.autocast(): # autocast as a context manager\n",
    "            predictions = self.model(features)\n",
    "\n",
    "            predictions = predictions.view(-1, predictions.shape[-1])\n",
    "            labels = labels.view(-1)\n",
    "            loss = self.criterion(predictions, labels)\n",
    "\n",
    "            mask = labels != 0\n",
    "            predictions = predictions.argmax(1)\n",
    "            predictions = predictions[mask]\n",
    "            labels = labels[mask]\n",
    "            train_correct += (predictions == labels).sum().item()\n",
    "            total_count += labels.shape[0]\n",
    "            \n",
    "            # Backward  \n",
    "            loss.backward()\n",
    "            # Backward pass without mixed precision\n",
    "            # It's not recommended to use mixed precision for backward pass\n",
    "            # Because we need more precise loss\n",
    "#             scaler.scale(loss).backward()\n",
    "            \n",
    "            if args.grad_clipping is not None:\n",
    "#                 scaler.unscale_(optimizer)\n",
    "                torch.nn.utils.clip_grad_norm_(self.model.parameters(), args.grad_clipping)\n",
    "            \n",
    "            # Update weights \n",
    "            self.optimizer.step()\n",
    "#             scaler.step(self.optimizer)\n",
    "#             scaler.update()\n",
    "\n",
    "            train_loss += loss.item()\n",
    "\n",
    "            if step % args.logging_steps == args.logging_steps - 1:\n",
    "                running_loss = train_loss / (step + 1)\n",
    "                running_acc = train_correct / total_count\n",
    "                self._print_step_log(step, running_loss, running_acc)\n",
    "                \n",
    "        return train_loss / len(train_dataloader), train_correct / total_count\n",
    "\n",
    "\n",
    "    def evaluate(self, eval_dataloader):\n",
    "        valid_loss = 0.0\n",
    "        eval_correct, total_count = 0, 0\n",
    "        \n",
    "        self.model.eval()\n",
    "        with torch.no_grad():\n",
    "            for (features, labels) in eval_dataloader:\n",
    "                \n",
    "                predictions = self.model(features)\n",
    "                \n",
    "                predictions = predictions.view(-1, predictions.shape[-1])\n",
    "                labels = labels.view(-1)\n",
    "                loss = self.criterion(predictions, labels)\n",
    "                valid_loss += loss.item()\n",
    "                \n",
    "                mask = labels != 0\n",
    "                predictions = predictions.argmax(1)\n",
    "                predictions = predictions[mask]\n",
    "                labels = labels[mask]\n",
    "                eval_correct += (predictions == labels).sum().item()\n",
    "                total_count += labels.shape[0]\n",
    "        \n",
    "        return valid_loss / len(eval_dataloader), eval_correct / total_count\n",
    "\n",
    "\n",
    "    def _print_step_log(self, step, running_loss, running_acc):\n",
    "        print(f'\\t| step {step+1:3d}/{len(self.train_dataloader):d} | train_loss: {running_loss:.3f} | ' \\\n",
    "                f'train_acc: {running_acc:.3f} |')\n",
    "\n",
    "    def _print_epoch_log(self, epoch, epochs, train_loss, valid_loss, valid_acc):\n",
    "        print('-' * 76)\n",
    "        print(f'| epoch {epoch+1:>3d}/{epochs:<3d} | train_loss: {train_loss:.3f} | ' \\\n",
    "                f'valid_loss: {valid_loss:.3f} | valid_acc: {valid_acc:.3f} |')\n",
    "        print('-' * 76)\n",
    "        \n",
    "    \n",
    "    def _save_model(self, epoch, valid_acc, scaler):\n",
    "        print(\"Saving model...\")\n",
    "        if self.scheduler is None:\n",
    "            torch.save({\n",
    "                    \"epoch\": epoch,\n",
    "                    \"model_state_dict\": self.model.state_dict(),\n",
    "                    \"optimizer_state_dict\": self.optimizer.state_dict(),\n",
    "                    \"scaler_state_dict\": scaler.state_dict(),\n",
    "                }, f\"{self.args.output_dir}my_model_{str(valid_acc)[2:5]}_{epoch+1}.pth\")\n",
    "        else:\n",
    "            torch.save({\n",
    "                    \"epoch\": epoch,\n",
    "                    \"model_state_dict\": self.model.state_dict(),\n",
    "                    \"optimizer_state_dict\": self.optimizer.state_dict(),\n",
    "                    \"scheduler_state_dict\": self.scheduler.state_dict(),\n",
    "                    \"scaler_state_dict\": scaler.state_dict(),\n",
    "                }, f\"{self.args.output_dir}my_model_{str(valid_acc)[2:5]}_{epoch+1}.pth\")\n",
    "\n",
    "        print(\"Model saved.\")\n",
    "\n",
    "    def _resume_model(self, path, scaler):\n",
    "        checkpoint = torch.load(path, map_location=device)\n",
    "        self.model.load_state_dict(checkpoint['model_state_dict'])\n",
    "        self.optimizer.load_state_dict(checkpoint['optimizer_state_dict'])\n",
    "        scaler.load_state_dict(checkpoint['scaler_state_dict'])\n"
   ]
  },
  {
   "cell_type": "code",
   "execution_count": 16,
   "id": "31aa4455",
   "metadata": {
    "colab": {
     "base_uri": "https://localhost:8080/"
    },
    "executionInfo": {
     "elapsed": 2064,
     "status": "ok",
     "timestamp": 1660753117653,
     "user": {
      "displayName": "Florin Cuconasu",
      "userId": "13345521608196528334"
     },
     "user_tz": -120
    },
    "id": "31aa4455",
    "outputId": "790097d0-16fa-439c-b121-325837a47121",
    "scrolled": true
   },
   "outputs": [
    {
     "name": "stderr",
     "output_type": "stream",
     "text": [
      "Some weights of the model checkpoint at bert-base-cased were not used when initializing BertModel: ['cls.seq_relationship.weight', 'cls.predictions.transform.LayerNorm.bias', 'cls.predictions.bias', 'cls.predictions.transform.dense.weight', 'cls.predictions.transform.LayerNorm.weight', 'cls.predictions.decoder.weight', 'cls.predictions.transform.dense.bias', 'cls.seq_relationship.bias']\n",
      "- This IS expected if you are initializing BertModel from the checkpoint of a model trained on another task or with another architecture (e.g. initializing a BertForSequenceClassification model from a BertForPreTraining model).\n",
      "- This IS NOT expected if you are initializing BertModel from the checkpoint of a model that you expect to be exactly identical (initializing a BertForSequenceClassification model from a BertForSequenceClassification model).\n"
     ]
    },
    {
     "name": "stdout",
     "output_type": "stream",
     "text": [
      "CustomTrainingArguments(output_dir='../../model/checkpoints/', resume_from_checkpoint=None, save_model=False, num_train_epochs=4, logging_steps=250, learning_rate=5e-06, grad_clipping=None, early_stopping=True, early_stopping_mode='max', early_stopping_patience=2)\n"
     ]
    }
   ],
   "source": [
    "model_name_or_path = \"bert-base-cased\"\n",
    "model = GAPModel(model_name_or_path).to(device, non_blocking=True)\n",
    "\n",
    "# last_frozen_layer = 6\n",
    "\n",
    "# modules = [model.bert.embeddings, *model.bert.encoder.layer[:last_frozen_layer]]\n",
    "# for module in modules:\n",
    "#     for param in module.parameters():\n",
    "#         param.requires_grad = False\n",
    "\n",
    "yaml_file = \"./train_notebook.yaml\"\n",
    "# Read configuration file with all the necessary parameters\n",
    "with open(yaml_file) as file:\n",
    "    config = yaml.safe_load(file)\n",
    "    \n",
    "training_args = CustomTrainingArguments(**config['training_args'])\n",
    "\n",
    "# Make sure that the learning rate is read as a number and not as a string\n",
    "training_args.learning_rate = float(training_args.learning_rate)\n",
    "print(training_args)\n",
    "\n",
    "criterion = torch.nn.CrossEntropyLoss(ignore_index=0).to(device=device, non_blocking=True)\n",
    "optimizer = torch.optim.Adam(model.parameters(), lr=training_args.learning_rate)\n",
    "# scheduler = torch.optim.lr_scheduler.LinearLR(optimizer, start_factor=0.1)\n",
    "# scheduler = torch.optim.lr_scheduler.StepLR(optimizer, step_size=2, gamma=0.1)\n",
    "scheduler = None\n",
    "\n",
    "batch_size = 4\n",
    "\n",
    "train_dataloader = DataLoader(train_ds, batch_size=batch_size, \n",
    "                              collate_fn=collate_batch, shuffle=True)\n",
    "valid_dataloader = DataLoader(valid_ds, batch_size=batch_size, \n",
    "                              collate_fn=collate_batch, shuffle=False)\n",
    "\n",
    "trainer = Trainer(model, training_args, \n",
    "                  train_dataloader, valid_dataloader, \n",
    "                  criterion, optimizer, scheduler)\n"
   ]
  },
  {
   "cell_type": "code",
   "execution_count": null,
   "id": "e7c8f03a",
   "metadata": {
    "colab": {
     "base_uri": "https://localhost:8080/"
    },
    "executionInfo": {
     "elapsed": 735134,
     "status": "ok",
     "timestamp": 1660753855156,
     "user": {
      "displayName": "Florin Cuconasu",
      "userId": "13345521608196528334"
     },
     "user_tz": -120
    },
    "id": "e7c8f03a",
    "outputId": "8349c872-e0c2-4428-f04b-6ed2f8496ffc"
   },
   "outputs": [
    {
     "name": "stdout",
     "output_type": "stream",
     "text": [
      "\n",
      "Training...\n",
      "\t| step 250/750 | train_loss: 0.186 | train_acc: 0.968 |\n",
      "\t| step 500/750 | train_loss: 0.103 | train_acc: 0.981 |\n",
      "\t| step 750/750 | train_loss: 0.072 | train_acc: 0.986 |\n",
      "----------------------------------------------------------------------------\n",
      "| epoch   1/4   | train_loss: 0.072 | valid_loss: 0.008 | valid_acc: 0.997 |\n",
      "----------------------------------------------------------------------------\n",
      "\t| step 250/750 | train_loss: 0.006 | train_acc: 0.998 |\n",
      "\t| step 500/750 | train_loss: 0.006 | train_acc: 0.998 |\n",
      "\t| step 750/750 | train_loss: 0.005 | train_acc: 0.998 |\n",
      "----------------------------------------------------------------------------\n",
      "| epoch   2/4   | train_loss: 0.005 | valid_loss: 0.005 | valid_acc: 0.998 |\n",
      "----------------------------------------------------------------------------\n",
      "\t| step 250/750 | train_loss: 0.004 | train_acc: 0.999 |\n",
      "\t| step 500/750 | train_loss: 0.003 | train_acc: 0.999 |\n",
      "\t| step 750/750 | train_loss: 0.003 | train_acc: 0.999 |\n",
      "----------------------------------------------------------------------------\n",
      "| epoch   3/4   | train_loss: 0.003 | valid_loss: 0.007 | valid_acc: 0.998 |\n",
      "----------------------------------------------------------------------------\n",
      "-- Patience.\n",
      "\n",
      "\t| step 250/750 | train_loss: 0.002 | train_acc: 0.999 |\n",
      "\t| step 500/750 | train_loss: 0.002 | train_acc: 0.999 |\n",
      "\t| step 750/750 | train_loss: 0.002 | train_acc: 0.999 |\n"
     ]
    }
   ],
   "source": [
    "metrics_history = trainer.train()"
   ]
  },
  {
   "cell_type": "code",
   "execution_count": null,
   "id": "3280693e",
   "metadata": {
    "id": "3280693e"
   },
   "outputs": [],
   "source": [
    "metrics_history"
   ]
  },
  {
   "cell_type": "code",
   "execution_count": 16,
   "id": "8b0aafda",
   "metadata": {},
   "outputs": [],
   "source": [
    "y_true_list = []\n",
    "y_pred_list = []\n",
    "\n",
    "eval_correct, total_count = 0.0, 0.0\n",
    "model.eval()\n",
    "with torch.no_grad():\n",
    "    dataloader = DataLoader(valid_ds, batch_size=1, collate_fn=collate_batch, shuffle=False)\n",
    "    for (features, labels) in dataloader:\n",
    "        predicted_labels = model(features)\n",
    "\n",
    "        predicted_labels = predicted_labels.view(-1, predicted_labels.shape[-1])\n",
    "        labels = labels.view(-1)\n",
    "\n",
    "        mask = labels != 0\n",
    "        predicted_labels = predicted_labels.argmax(1)\n",
    "        predicted_labels = predicted_labels[mask].tolist()\n",
    "        \n",
    "        y_pred_list.append(predicted_labels)\n",
    "        \n",
    "        \n",
    "        labels = labels[mask].tolist()\n",
    "        y_true_list.append(labels)\n",
    "        \n",
    "        \n",
    "#         eval_correct += (predicted_labels == labels).sum().item()\n",
    "#         total_count += labels.shape[0]\n",
    "            "
   ]
  },
  {
   "cell_type": "code",
   "execution_count": 17,
   "id": "d2a8f92f",
   "metadata": {},
   "outputs": [
    {
     "name": "stdout",
     "output_type": "stream",
     "text": [
      "True Pred\n",
      "Id: 46\n",
      "2 1\n",
      "Id: 67\n",
      "2 1\n",
      "Id: 67\n",
      "1 2\n",
      "Id: 87\n",
      "1 2\n",
      "Id: 87\n",
      "2 1\n",
      "Id: 98\n",
      "1 2\n",
      "Id: 98\n",
      "2 1\n",
      "Id: 110\n",
      "2 1\n",
      "Id: 110\n",
      "1 2\n",
      "Id: 136\n",
      "1 2\n",
      "Id: 136\n",
      "2 1\n",
      "Id: 153\n",
      "1 2\n",
      "Id: 153\n",
      "2 1\n",
      "Id: 156\n",
      "1 2\n",
      "Id: 156\n",
      "2 1\n",
      "Id: 157\n",
      "1 2\n",
      "Id: 163\n",
      "1 2\n",
      "Id: 163\n",
      "2 1\n",
      "Id: 164\n",
      "1 2\n",
      "Id: 164\n",
      "2 1\n",
      "Id: 171\n",
      "1 2\n",
      "Id: 171\n",
      "2 1\n",
      "Id: 174\n",
      "1 2\n",
      "Id: 189\n",
      "1 2\n",
      "Id: 197\n",
      "2 1\n",
      "Id: 206\n",
      "2 1\n",
      "Id: 207\n",
      "2 1\n",
      "Id: 207\n",
      "1 2\n",
      "Id: 219\n",
      "1 2\n",
      "Id: 225\n",
      "2 1\n",
      "Id: 233\n",
      "1 2\n",
      "Id: 233\n",
      "2 1\n",
      "Id: 252\n",
      "1 2\n",
      "Id: 252\n",
      "2 1\n",
      "Id: 255\n",
      "1 2\n",
      "Id: 255\n",
      "2 1\n",
      "Id: 272\n",
      "1 2\n",
      "Id: 272\n",
      "2 1\n",
      "Id: 275\n",
      "1 2\n",
      "Id: 275\n",
      "2 1\n",
      "Id: 287\n",
      "1 2\n",
      "Id: 287\n",
      "2 1\n",
      "Id: 296\n",
      "1 2\n",
      "Id: 300\n",
      "1 2\n",
      "Id: 300\n",
      "2 1\n",
      "Id: 321\n",
      "2 1\n",
      "Id: 329\n",
      "1 2\n",
      "Id: 338\n",
      "1 2\n",
      "Id: 338\n",
      "2 1\n",
      "Id: 348\n",
      "1 2\n",
      "Id: 355\n",
      "2 1\n",
      "Id: 362\n",
      "2 1\n",
      "Id: 372\n",
      "1 2\n",
      "Id: 372\n",
      "2 1\n",
      "Id: 375\n",
      "2 1\n",
      "Id: 377\n",
      "1 2\n",
      "Id: 377\n",
      "2 1\n",
      "Id: 380\n",
      "2 1\n",
      "Id: 380\n",
      "1 2\n",
      "Id: 397\n",
      "1 2\n",
      "Id: 400\n",
      "1 2\n",
      "Id: 400\n",
      "2 1\n",
      "Id: 403\n",
      "2 1\n",
      "Id: 405\n",
      "2 1\n",
      "Id: 420\n",
      "1 2\n",
      "Id: 420\n",
      "2 1\n",
      "Id: 423\n",
      "1 2\n",
      "Id: 423\n",
      "2 1\n",
      "Id: 424\n",
      "1 2\n",
      "Id: 424\n",
      "2 1\n",
      "Id: 426\n",
      "2 1\n",
      "Id: 426\n",
      "1 2\n",
      "Id: 429\n",
      "2 1\n",
      "Id: 429\n",
      "1 2\n",
      "Id: 443\n",
      "2 1\n",
      "Id: 447\n",
      "1 2\n",
      "Id: 447\n",
      "2 1\n",
      "Id: 450\n",
      "1 2\n",
      "Id: 450\n",
      "2 1\n"
     ]
    }
   ],
   "source": [
    "print(\"True\", \"Pred\")\n",
    "count = 0\n",
    "count_wrong = 0\n",
    "for sentence_id, (true, pred) in enumerate(zip(y_true_list, y_pred_list)):\n",
    "    \n",
    "    for idx, elem in enumerate(true):\n",
    "        if (elem == 2 and pred[idx] == 1) or (elem == 1 and pred[idx] == 2):\n",
    "            print(\"Id:\", sentence_id)\n",
    "            print(elem, pred[idx])\n",
    "            count_wrong += 1\n",
    "    \n",
    "#     print(\"\\n\")\n",
    "    count += 1\n",
    "    \n",
    "#     if count == 100:\n",
    "#         break"
   ]
  },
  {
   "cell_type": "code",
   "execution_count": 18,
   "id": "9febb1fb",
   "metadata": {},
   "outputs": [
    {
     "data": {
      "text/plain": [
       "0.8259911894273128"
      ]
     },
     "execution_count": 18,
     "metadata": {},
     "output_type": "execute_result"
    }
   ],
   "source": [
    "1 - count_wrong / len(valid_ds)"
   ]
  },
  {
   "cell_type": "code",
   "execution_count": 57,
   "id": "29cf2011",
   "metadata": {},
   "outputs": [
    {
     "name": "stdout",
     "output_type": "stream",
     "text": [
      "65\n"
     ]
    }
   ],
   "source": [
    "for i, num in enumerate(y_true_list[451]):\n",
    "    if num == 2:\n",
    "        print(i)"
   ]
  },
  {
   "cell_type": "code",
   "execution_count": 58,
   "id": "34657e75",
   "metadata": {},
   "outputs": [
    {
     "name": "stdout",
     "output_type": "stream",
     "text": [
      "65\n",
      "68\n"
     ]
    }
   ],
   "source": [
    "for i, num in enumerate(y_pred_list[451]):\n",
    "    if num == 2:\n",
    "        print(i)"
   ]
  },
  {
   "cell_type": "code",
   "execution_count": 63,
   "id": "129ad16e",
   "metadata": {},
   "outputs": [],
   "source": [
    "# valid_ds[451][0]"
   ]
  },
  {
   "cell_type": "code",
   "execution_count": 61,
   "id": "a20cf6e1",
   "metadata": {
    "scrolled": true
   },
   "outputs": [
    {
     "data": {
      "text/plain": [
       "'she'"
      ]
     },
     "execution_count": 61,
     "metadata": {},
     "output_type": "execute_result"
    }
   ],
   "source": [
    "tokenizer.convert_ids_to_tokens(valid_ds[451][0][65])"
   ]
  },
  {
   "cell_type": "code",
   "execution_count": 64,
   "id": "1a2a7354",
   "metadata": {},
   "outputs": [
    {
     "data": {
      "text/plain": [
       "id                                                                                                                                                                                                                                                                                                                                                                                                                                              validation-452\n",
       "text          She manipulates Michael into giving her custody and refuses to let him see Scarlett. Alice works for Janine as Scarlett's nanny, and Michael uses Alice's attraction to manipulate her into letting him see Scarlett. Janine finds out and leaves Walford with Scarlett, so Michael angrily blames Alice but when she states that he is angry because he has no control over anything or anyone, he once again manipulates Alice by kissing her.\n",
       "pron                                                                                                                                                                                                                                                                                                                                                                                                                                                       she\n",
       "p_offset                                                                                                                                                                                                                                                                                                                                                                                                                                                   306\n",
       "entity_A                                                                                                                                                                                                                                                                                                                                                                                                                                              Scarlett\n",
       "offset_A                                                                                                                                                                                                                                                                                                                                                                                                                                                   255\n",
       "is_coref_A                                                                                                                                                                                                                                                                                                                                                                                                                                               False\n",
       "entity_B                                                                                                                                                                                                                                                                                                                                                                                                                                                 Alice\n",
       "offset_B                                                                                                                                                                                                                                                                                                                                                                                                                                                   291\n",
       "is_coref_B                                                                                                                                                                                                                                                                                                                                                                                                                                                True\n",
       "url                                                                                                                                                                                                                                                                                                                                                                                                     http://en.wikipedia.org/wiki/Michael_Moon_(EastEnders)\n",
       "Name: 451, dtype: object"
      ]
     },
     "execution_count": 64,
     "metadata": {},
     "output_type": "execute_result"
    }
   ],
   "source": [
    "df_valid.iloc[451]"
   ]
  },
  {
   "cell_type": "code",
   "execution_count": 16,
   "id": "886b42fa",
   "metadata": {},
   "outputs": [],
   "source": [
    "batch_size = 2\n",
    "\n",
    "train_dataloader = DataLoader(train_ds, batch_size=batch_size, \n",
    "                              collate_fn=collate_batch, shuffle=False)"
   ]
  },
  {
   "cell_type": "code",
   "execution_count": 17,
   "id": "b7f92b8b",
   "metadata": {},
   "outputs": [
    {
     "name": "stderr",
     "output_type": "stream",
     "text": [
      "Some weights of the model checkpoint at bert-base-cased were not used when initializing BertModel: ['cls.predictions.transform.LayerNorm.weight', 'cls.predictions.transform.dense.bias', 'cls.seq_relationship.weight', 'cls.seq_relationship.bias', 'cls.predictions.bias', 'cls.predictions.transform.dense.weight', 'cls.predictions.decoder.weight', 'cls.predictions.transform.LayerNorm.bias']\n",
      "- This IS expected if you are initializing BertModel from the checkpoint of a model trained on another task or with another architecture (e.g. initializing a BertForSequenceClassification model from a BertForPreTraining model).\n",
      "- This IS NOT expected if you are initializing BertModel from the checkpoint of a model that you expect to be exactly identical (initializing a BertForSequenceClassification model from a BertForSequenceClassification model).\n"
     ]
    }
   ],
   "source": [
    "bert_model_name = \"bert-base-cased\"\n",
    "\n",
    "bert = BertModel.from_pretrained(bert_model_name).to(device, non_blocking=True)"
   ]
  },
  {
   "cell_type": "code",
   "execution_count": 18,
   "id": "ade4af05",
   "metadata": {},
   "outputs": [
    {
     "name": "stderr",
     "output_type": "stream",
     "text": [
      "Some weights of the model checkpoint at bert-base-cased were not used when initializing BertModel: ['cls.predictions.transform.LayerNorm.weight', 'cls.predictions.transform.dense.bias', 'cls.seq_relationship.weight', 'cls.seq_relationship.bias', 'cls.predictions.bias', 'cls.predictions.transform.dense.weight', 'cls.predictions.decoder.weight', 'cls.predictions.transform.LayerNorm.bias']\n",
      "- This IS expected if you are initializing BertModel from the checkpoint of a model trained on another task or with another architecture (e.g. initializing a BertForSequenceClassification model from a BertForPreTraining model).\n",
      "- This IS NOT expected if you are initializing BertModel from the checkpoint of a model that you expect to be exactly identical (initializing a BertForSequenceClassification model from a BertForSequenceClassification model).\n"
     ]
    }
   ],
   "source": [
    "model = GAPModel(\"bert-base-cased\").to(device, non_blocking=True)"
   ]
  },
  {
   "cell_type": "code",
   "execution_count": 19,
   "id": "yfvwpncpkmtU",
   "metadata": {
    "id": "yfvwpncpkmtU"
   },
   "outputs": [],
   "source": [
    "for features, labels in train_dataloader:\n",
    "    output = bert(features, attention_mask=(features > 0).long(), \n",
    "                  token_type_ids=None, output_hidden_states=True, output_attentions=True)\n",
    "    \n",
    "#     res = head(output.hidden_states[-1], offsets)\n",
    "    \n",
    "    break"
   ]
  },
  {
   "cell_type": "code",
   "execution_count": 20,
   "id": "28ae6549",
   "metadata": {},
   "outputs": [
    {
     "data": {
      "text/plain": [
       "[[101, 140, 1465, 1186, 3435, 191, 1161, 28996, 102]]"
      ]
     },
     "execution_count": 20,
     "metadata": {},
     "output_type": "execute_result"
    }
   ],
   "source": [
    "a = tokenizer([\"Ciao Come va <P>\"])\n",
    "a.input_ids"
   ]
  },
  {
   "cell_type": "code",
   "execution_count": 21,
   "id": "3f5d57b4",
   "metadata": {},
   "outputs": [],
   "source": [
    "for features, labels in train_dataloader:\n",
    "    output = model(features)\n",
    "#     res = head(output.hidden_states[-1], offsets)\n",
    "    \n",
    "    break"
   ]
  },
  {
   "cell_type": "code",
   "execution_count": 22,
   "id": "665abfcd",
   "metadata": {},
   "outputs": [],
   "source": [
    "pred = output.view(-1, output.shape[-1])\n",
    "labels = labels.view(-1)"
   ]
  },
  {
   "cell_type": "code",
   "execution_count": 23,
   "id": "b8c74e9e",
   "metadata": {},
   "outputs": [],
   "source": [
    "mask = labels != 0"
   ]
  },
  {
   "cell_type": "code",
   "execution_count": 24,
   "id": "b75363f0",
   "metadata": {},
   "outputs": [
    {
     "data": {
      "text/plain": [
       "195"
      ]
     },
     "execution_count": 24,
     "metadata": {},
     "output_type": "execute_result"
    }
   ],
   "source": [
    "# l = labels[mask].tolist() \n",
    "l = labels[mask]\n",
    "len(l)"
   ]
  },
  {
   "cell_type": "code",
   "execution_count": 25,
   "id": "bf023c7f",
   "metadata": {},
   "outputs": [],
   "source": [
    "pred = pred.argmax(1)\n",
    "# p = pred[mask].tolist()\n",
    "p = pred[mask]"
   ]
  },
  {
   "cell_type": "code",
   "execution_count": 26,
   "id": "18c4a500",
   "metadata": {},
   "outputs": [
    {
     "data": {
      "text/plain": [
       "174"
      ]
     },
     "execution_count": 26,
     "metadata": {},
     "output_type": "execute_result"
    }
   ],
   "source": [
    "(p == l).sum().item()"
   ]
  },
  {
   "cell_type": "code",
   "execution_count": 31,
   "id": "316eef0d",
   "metadata": {},
   "outputs": [],
   "source": [
    "# ! pip install torchmetrics"
   ]
  },
  {
   "cell_type": "code",
   "execution_count": 41,
   "id": "7d69cca2",
   "metadata": {},
   "outputs": [],
   "source": [
    "# Utility function taken from the 'evaluate.py' script\n",
    "def flat_list(l: List[List[Any]]) -> List[Any]:\n",
    "    \"\"\"\n",
    "    Returns\n",
    "    -------\n",
    "        A single list containing all elements that\n",
    "        were in the input list.\n",
    "        \n",
    "    Parameters\n",
    "    ----------\n",
    "    l: List[List[Any]]\n",
    "        A list of lists of any type\n",
    "    \"\"\"\n",
    "    return [_e for e in l for _e in e]"
   ]
  },
  {
   "cell_type": "code",
   "execution_count": 46,
   "id": "599df696",
   "metadata": {},
   "outputs": [
    {
     "data": {
      "text/plain": [
       "tensor(0.9973)"
      ]
     },
     "execution_count": 46,
     "metadata": {},
     "output_type": "execute_result"
    }
   ],
   "source": [
    "from torchmetrics import F1Score\n",
    "\n",
    "f1 = F1Score(3)\n",
    "f1(torch.tensor(flat_list(y_pred_list)), torch.tensor(flat_list(y_true_list)))"
   ]
  },
  {
   "cell_type": "code",
   "execution_count": null,
   "id": "a223155d",
   "metadata": {},
   "outputs": [],
   "source": []
  },
  {
   "cell_type": "code",
   "execution_count": null,
   "id": "7efb3d47",
   "metadata": {},
   "outputs": [],
   "source": []
  },
  {
   "cell_type": "code",
   "execution_count": null,
   "id": "8b8e9715",
   "metadata": {},
   "outputs": [],
   "source": []
  },
  {
   "cell_type": "code",
   "execution_count": null,
   "id": "32fb954d",
   "metadata": {},
   "outputs": [],
   "source": []
  },
  {
   "cell_type": "code",
   "execution_count": null,
   "id": "4149b3ad",
   "metadata": {
    "id": "4149b3ad",
    "outputId": "bb0ab979-3747-4941-f533-1e06ca29d047"
   },
   "outputs": [
    {
     "name": "stdout",
     "output_type": "stream",
     "text": [
      "-----------------\n",
      "| LR: 1.000e-05 |\n",
      "| epoch   2/10  |\n"
     ]
    }
   ],
   "source": [
    "epoch = 1\n",
    "epochs = 10\n",
    "s = 0.00001\n",
    "print('-' * 17)\n",
    "print(f\"| LR: {s:.3e} |\")\n",
    "print(f'| epoch {epoch+1:>3d}/{epochs:<3d} |')"
   ]
  },
  {
   "cell_type": "code",
   "execution_count": null,
   "id": "8569d8f9",
   "metadata": {
    "id": "8569d8f9",
    "outputId": "57936374-9bc5-47ed-a694-4ad2953e0ea5"
   },
   "outputs": [
    {
     "data": {
      "image/png": "[encoded data removed]",
      "text/plain": [
       "<Figure size 432x288 with 1 Axes>"
      ]
     },
     "metadata": {
      "needs_background": "light"
     },
     "output_type": "display_data"
    }
   ],
   "source": [
    "from matplotlib import pyplot as plt\n",
    "plt.plot(metrics_history['train_acc'])\n",
    "plt.plot(metrics_history['valid_acc'])\n",
    "plt.title('model accuracy')\n",
    "plt.ylabel('accuracy')\n",
    "plt.xlabel('epoch')\n",
    "plt.legend(['train', 'val'], loc='upper left')\n",
    "plt.show()"
   ]
  },
  {
   "cell_type": "code",
   "execution_count": null,
   "id": "e847996d",
   "metadata": {
    "id": "e847996d",
    "outputId": "931b0268-2a3b-443c-dc6c-525121e52d23"
   },
   "outputs": [
    {
     "ename": "TypeError",
     "evalue": "get_linear_schedule_with_warmup() missing 3 required positional arguments: 'optimizer', 'num_warmup_steps', and 'num_training_steps'",
     "output_type": "error",
     "traceback": [
      "\u001b[1;31m---------------------------------------------------------------------------\u001b[0m",
      "\u001b[1;31mTypeError\u001b[0m                                 Traceback (most recent call last)",
      "\u001b[1;32m~\\AppData\\Local\\Temp\\ipykernel_21352\\2506784198.py\u001b[0m in \u001b[0;36m<module>\u001b[1;34m\u001b[0m\n\u001b[0;32m      2\u001b[0m \u001b[1;33m\u001b[0m\u001b[0m\n\u001b[0;32m      3\u001b[0m \u001b[1;33m\u001b[0m\u001b[0m\n\u001b[1;32m----> 4\u001b[1;33m \u001b[0mscheduler\u001b[0m \u001b[1;33m=\u001b[0m \u001b[0mget_linear_schedule_with_warmup\u001b[0m\u001b[1;33m(\u001b[0m\u001b[1;33m)\u001b[0m\u001b[1;33m\u001b[0m\u001b[1;33m\u001b[0m\u001b[0m\n\u001b[0m",
      "\u001b[1;31mTypeError\u001b[0m: get_linear_schedule_with_warmup() missing 3 required positional arguments: 'optimizer', 'num_warmup_steps', and 'num_training_steps'"
     ]
    }
   ],
   "source": [
    "from transformers import get_linear_schedule_with_warmup\n",
    "\n",
    "\n",
    "scheduler = get_linear_schedule_with_warmup()"
   ]
  },
  {
   "cell_type": "code",
   "execution_count": null,
   "id": "bfcc7055",
   "metadata": {
    "id": "bfcc7055",
    "outputId": "91099e06-378b-4b8b-c1d2-5cd2fbd75b71"
   },
   "outputs": [
    {
     "name": "stderr",
     "output_type": "stream",
     "text": [
      "Some weights of the model checkpoint at bert-base-uncased were not used when initializing BertModel: ['cls.predictions.transform.dense.bias', 'cls.predictions.transform.LayerNorm.weight', 'cls.seq_relationship.weight', 'cls.predictions.decoder.weight', 'cls.predictions.bias', 'cls.predictions.transform.LayerNorm.bias', 'cls.seq_relationship.bias', 'cls.predictions.transform.dense.weight']\n",
      "- This IS expected if you are initializing BertModel from the checkpoint of a model trained on another task or with another architecture (e.g. initializing a BertForSequenceClassification model from a BertForPreTraining model).\n",
      "- This IS NOT expected if you are initializing BertModel from the checkpoint of a model that you expect to be exactly identical (initializing a BertForSequenceClassification model from a BertForSequenceClassification model).\n"
     ]
    }
   ],
   "source": [
    "model_resumed = GAPModel(model_name_or_path).to(device, non_blocking=True)\n",
    "optimizer_resumed = torch.optim.Adam(model_resumed.parameters())"
   ]
  },
  {
   "cell_type": "code",
   "execution_count": null,
   "id": "f9a3799f",
   "metadata": {
    "id": "f9a3799f"
   },
   "outputs": [],
   "source": [
    "path = \"../../model/checkpoints/my_model_861_6.pth\""
   ]
  },
  {
   "cell_type": "code",
   "execution_count": null,
   "id": "683896dc",
   "metadata": {
    "id": "683896dc"
   },
   "outputs": [],
   "source": [
    "checkpoint = torch.load(path, map_location=device)\n",
    "model_resumed.load_state_dict(checkpoint['model_state_dict'])\n",
    "optimizer_resumed.load_state_dict(checkpoint['optimizer_state_dict'])"
   ]
  },
  {
   "cell_type": "code",
   "execution_count": null,
   "id": "e0617e0d",
   "metadata": {
    "id": "e0617e0d"
   },
   "outputs": [],
   "source": [
    "# del checkpoint"
   ]
  },
  {
   "cell_type": "code",
   "execution_count": null,
   "id": "a02d185d",
   "metadata": {
    "id": "a02d185d",
    "outputId": "a19a33b5-747b-414b-f51a-15fdae74ea22"
   },
   "outputs": [
    {
     "data": {
      "text/plain": [
       "Adam (\n",
       "Parameter Group 0\n",
       "    amsgrad: False\n",
       "    betas: (0.9, 0.999)\n",
       "    eps: 1e-08\n",
       "    initial_lr: 5e-06\n",
       "    lr: 2.5e-06\n",
       "    maximize: False\n",
       "    weight_decay: 0\n",
       ")"
      ]
     },
     "execution_count": 16,
     "metadata": {},
     "output_type": "execute_result"
    }
   ],
   "source": [
    "optimizer_resumed"
   ]
  },
  {
   "cell_type": "code",
   "execution_count": null,
   "id": "dd7d971b",
   "metadata": {
    "id": "dd7d971b",
    "outputId": "45dc87cc-1d6a-4de3-8cfc-8d18e52d9139"
   },
   "outputs": [
    {
     "data": {
      "text/plain": [
       "8"
      ]
     },
     "execution_count": 34,
     "metadata": {},
     "output_type": "execute_result"
    }
   ],
   "source": [
    "len(checkpoint['scheduler_state_dict'])"
   ]
  },
  {
   "cell_type": "code",
   "execution_count": null,
   "id": "da5c3b5f",
   "metadata": {
    "id": "da5c3b5f"
   },
   "outputs": [],
   "source": [
    "scheduler_resumed = torch.optim.lr_scheduler.StepLR(optimizer_resumed, step_size=4, gamma=0.5)"
   ]
  },
  {
   "cell_type": "code",
   "execution_count": null,
   "id": "b3d60c3a",
   "metadata": {
    "id": "b3d60c3a"
   },
   "outputs": [],
   "source": [
    "scheduler_resumed.load_state_dict(checkpoint['scheduler_state_dict'])"
   ]
  },
  {
   "cell_type": "code",
   "execution_count": null,
   "id": "dd48209e",
   "metadata": {
    "id": "dd48209e",
    "outputId": "6dedfb7b-a93e-4b32-9275-77da7aad5749"
   },
   "outputs": [
    {
     "name": "stdout",
     "output_type": "stream",
     "text": [
      "../../model/checkpoints\\my_model_861_6.pth\n",
      "861_6\n"
     ]
    }
   ],
   "source": [
    "import glob\n",
    "directory = \"../../model/checkpoints/*.pth\"\n",
    "files = glob.glob(directory)\n",
    "\n",
    "for file in files:\n",
    "    print(file)\n",
    "    print(file[-9:-4])"
   ]
  },
  {
   "cell_type": "code",
   "execution_count": null,
   "id": "01d78d01",
   "metadata": {
    "id": "01d78d01",
    "outputId": "d8d325cb-1780-40be-a878-d38f59c6a88e"
   },
   "outputs": [
    {
     "data": {
      "text/plain": [
       "[41, 42, 44, 44, 61]"
      ]
     },
     "execution_count": 46,
     "metadata": {},
     "output_type": "execute_result"
    }
   ],
   "source": [
    "tokens = tokenizer.convert_ids_to_tokens(train_ds[0][0])\n",
    "# tokens[train_ds[0][1][0] - 1]\n",
    "train_ds[0][1]"
   ]
  },
  {
   "cell_type": "code",
   "execution_count": null,
   "id": "36ad9afe",
   "metadata": {
    "id": "36ad9afe",
    "outputId": "6b9cc51f-8378-4a0a-f39f-a9f85115b9f6"
   },
   "outputs": [
    {
     "data": {
      "text/plain": [
       "['cheryl', 'cassidy']"
      ]
     },
     "execution_count": 68,
     "metadata": {},
     "output_type": "execute_result"
    }
   ],
   "source": [
    "tokens[42:44]"
   ]
  },
  {
   "cell_type": "markdown",
   "id": "095dabb5",
   "metadata": {
    "id": "095dabb5"
   },
   "source": [
    "A List with your predictions.\n",
    "\n",
    "Each prediction is a tuple, composed by two tuples:\n",
    "(ambigous_pronoun, ambiguous_pronoun_offset), (coreferent_entity, coreferent_entity_offset))\n",
    "\n",
    "for example:\n",
    "    [(('her', 274), ('Pauline', 418))]"
   ]
  },
  {
   "cell_type": "markdown",
   "id": "6bf34075",
   "metadata": {
    "id": "6bf34075"
   },
   "source": [
    "I need to know the original positions.\n",
    "\n",
    "The model return the label prediction (0 1 2)\n",
    "\n",
    "If pred == 0 => A\n",
    "\n",
    "elif pred == 1 => B\n",
    "\n",
    "else => --\n",
    "\n",
    "I have to know:\n",
    "1. The pronoun and its pos\n",
    "2. The predicted entity and its pos\n",
    "\n",
    "\n",
    "1. I can retrieve the pronoun through the last offset in offsets after encoding the ids.\n",
    "    I also need its original position.\n",
    "    \n",
    "2. \n",
    "    \n"
   ]
  },
  {
   "cell_type": "code",
   "execution_count": null,
   "id": "180d6256",
   "metadata": {
    "id": "180d6256"
   },
   "outputs": [],
   "source": [
    "def read_dataset(path: str) -> List[Dict]:\n",
    "    samples: List[Dict] = []\n",
    "    pron_counter = Counter()\n",
    "    with open(path) as f:\n",
    "        next(f)\n",
    "        for line in f:\n",
    "            (\n",
    "                id,\n",
    "                text,\n",
    "                pron,\n",
    "                p_offset,\n",
    "                entity_A,\n",
    "                offset_A,\n",
    "                is_coref_A,\n",
    "                entity_B,\n",
    "                offset_B,\n",
    "                is_coref_B,\n",
    "                url,\n",
    "            ) = line.strip().split(\"\\t\")\n",
    "            pron_counter[pron.lower()] += 1\n",
    "            samples.append(\n",
    "                {\n",
    "                    \"id\": id,\n",
    "                    \"text\": text,\n",
    "                    \"pron\": pron,\n",
    "                    \"p_offset\": int(p_offset),\n",
    "                    \"entity_A\": entity_A,\n",
    "                    \"offset_A\": int(offset_A),\n",
    "                    \"is_coref_A\": is_coref_A,\n",
    "                    \"entity_B\": entity_B,\n",
    "                    \"offset_B\": int(offset_B),\n",
    "                    \"is_coref_B\": is_coref_B,\n",
    "                    \"url\": url,\n",
    "                }\n",
    "            )\n",
    "    print(pron_counter)\n",
    "    return samples, pron_counter"
   ]
  },
  {
   "cell_type": "code",
   "execution_count": null,
   "id": "b8a8bee5",
   "metadata": {
    "id": "b8a8bee5"
   },
   "outputs": [],
   "source": [
    "train_path = \"../../model/data/train.tsv\"\n",
    "valid_path = \"../../model/data/dev.tsv\""
   ]
  },
  {
   "cell_type": "code",
   "execution_count": null,
   "id": "4ab5e64b",
   "metadata": {
    "id": "4ab5e64b",
    "outputId": "067c9bad-ec3a-4414-8989-e1fdaf39e8a1"
   },
   "outputs": [
    {
     "name": "stdout",
     "output_type": "stream",
     "text": [
      "Counter({'his': 904, 'her': 773, 'he': 610, 'she': 555, 'him': 157})\n",
      "Counter({'her': 140, 'his': 108, 'he': 93, 'she': 87, 'him': 26})\n"
     ]
    }
   ],
   "source": [
    "train_dataset, train_pron_counter = read_dataset(train_path)\n",
    "valid_dataset, valid_pron_counter = read_dataset(valid_path)"
   ]
  },
  {
   "cell_type": "code",
   "execution_count": null,
   "id": "7cbc6e74",
   "metadata": {
    "id": "7cbc6e74",
    "outputId": "611ea31b-3883-4644-c1df-057ce66f683e"
   },
   "outputs": [
    {
     "data": {
      "text/plain": [
       "{'id': 'train-1',\n",
       " 'text': \"Zoe Telford -- played the police officer girlfriend of Simon, Maggie. Dumped by Simon in the final episode of series 1, after he slept with Jenny, and is not seen again. Phoebe Thomas played Cheryl Cassidy, Pauline's friend and also a year 11 pupil in Simon's class. Dumped her boyfriend following Simon's advice after he wouldn't have sex with her but later realised this was due to him catching crabs off her friend Pauline.\",\n",
       " 'pron': 'her',\n",
       " 'p_offset': 274,\n",
       " 'entity_A': 'Cheryl Cassidy',\n",
       " 'offset_A': 191,\n",
       " 'is_coref_A': 'TRUE',\n",
       " 'entity_B': 'Pauline',\n",
       " 'offset_B': 207,\n",
       " 'is_coref_B': 'FALSE',\n",
       " 'url': 'http://en.wikipedia.org/wiki/List_of_Teachers_(UK_TV_series)_characters'}"
      ]
     },
     "execution_count": 99,
     "metadata": {},
     "output_type": "execute_result"
    }
   ],
   "source": [
    "train_dataset[0]"
   ]
  },
  {
   "cell_type": "code",
   "execution_count": null,
   "id": "e635bc0e",
   "metadata": {
    "id": "e635bc0e"
   },
   "outputs": [],
   "source": [
    "def get_entity_and_offset_from_id(label_id, sentence):\n",
    "    if label_id == 0: # Entity A\n",
    "        return sentence['entity_A'], sentence['offset_A']\n",
    "    elif label_id == 1: # Entity B\n",
    "        return sentence['entity_B'], sentence['offset_B']\n",
    "    else: # Neither\n",
    "        return None, None "
   ]
  },
  {
   "cell_type": "code",
   "execution_count": null,
   "id": "3a00c15d",
   "metadata": {
    "id": "3a00c15d",
    "outputId": "2390d1d4-9f8b-4102-ee5b-1d15fa04e839"
   },
   "outputs": [
    {
     "data": {
      "text/plain": [
       "(None, None)"
      ]
     },
     "execution_count": 112,
     "metadata": {},
     "output_type": "execute_result"
    }
   ],
   "source": [
    "get_entity_and_offset_from_id(2, train_dataset[0])"
   ]
  },
  {
   "cell_type": "code",
   "execution_count": null,
   "id": "6ca534a6",
   "metadata": {
    "id": "6ca534a6"
   },
   "outputs": [],
   "source": [
    "def predict(model, sentences: List[Dict]) -> List[Tuple[Tuple[str, int], Tuple[str, int]]]:\n",
    "    df = pd.DataFrame(sentences)\n",
    "    \n",
    "    # tokenizer will be self.tokenizer in the final implementation\n",
    "    dataset = GAPDataset(df, tokenizer)\n",
    "    collator = Collator(device)\n",
    "\n",
    "    predictions = []\n",
    "    \n",
    "    #self.model.eval()\n",
    "    model.eval()\n",
    "    with torch.no_grad():\n",
    "        dataloader = DataLoader(dataset, batch_size=1, \n",
    "                                collate_fn=collator, shuffle=False)\n",
    "        \n",
    "        for (features, offsets, labels), sentence in zip(dataloader, sentences):\n",
    "            \n",
    "#             predictions = self.model(features, offsets).argmax(1).item()\n",
    "            predicted_label_id = model(features, offsets).argmax(1).item()\n",
    "            pred_entity, pred_entity_offset = get_entity_and_offset_from_id(predicted_label_id, sentence)\n",
    "            pron, pron_offset = sentence['pron'],  sentence['p_offset']\n",
    "            \n",
    "            predictions.append(((pron, pron_offset), (pred_entity, pred_entity_offset)))\n",
    "            \n",
    "    return predictions\n",
    "            "
   ]
  },
  {
   "cell_type": "code",
   "execution_count": null,
   "id": "c427614f",
   "metadata": {
    "id": "c427614f"
   },
   "outputs": [],
   "source": [
    "pred = predict(model_resumed, valid_dataset)"
   ]
  },
  {
   "cell_type": "code",
   "execution_count": null,
   "id": "9bba0ffa",
   "metadata": {
    "id": "9bba0ffa"
   },
   "outputs": [],
   "source": [
    "gold_values = []\n",
    "for sentence in valid_dataset:\n",
    "    gold_both_wrong = sentence[\"is_coref_A\"] == \"FALSE\" and sentence[\"is_coref_B\"] == \"FALSE\"\n",
    "    if gold_both_wrong:\n",
    "        gold_entity_offset = None\n",
    "        gold_entity = None\n",
    "    else:\n",
    "        gold_entity_offset = (\n",
    "            sentence[\"offset_A\"] if sentence[\"is_coref_A\"] == \"TRUE\" else sentence[\"offset_B\"]\n",
    "        )\n",
    "        gold_entity = (\n",
    "            sentence[\"entity_A\"] if sentence[\"is_coref_A\"] == \"TRUE\" else sentence[\"entity_B\"]\n",
    "        )\n",
    "    \n",
    "    \n",
    "    gold_values.append(((sentence['pron'], sentence['p_offset']),(gold_entity, gold_entity_offset)))"
   ]
  },
  {
   "cell_type": "code",
   "execution_count": null,
   "id": "94057fda",
   "metadata": {
    "id": "94057fda",
    "outputId": "dd206596-b432-4181-f96d-97e7a2f3f1ec"
   },
   "outputs": [
    {
     "data": {
      "text/plain": [
       "0"
      ]
     },
     "execution_count": 79,
     "metadata": {},
     "output_type": "execute_result"
    }
   ],
   "source": [
    "a = {}\n",
    "\n",
    "a.setdefault(\"age\", 0)\n",
    "a.setdefault(\"age\", 5)"
   ]
  },
  {
   "cell_type": "code",
   "execution_count": null,
   "id": "940ba563",
   "metadata": {
    "id": "940ba563",
    "outputId": "dd0b78b1-dc5f-4023-dd76-677df3ffe869"
   },
   "outputs": [
    {
     "data": {
      "text/plain": [
       "{'age': 0, 'a': 0}"
      ]
     },
     "execution_count": 80,
     "metadata": {},
     "output_type": "execute_result"
    }
   ],
   "source": [
    "a['a'] = 0\n",
    "a"
   ]
  },
  {
   "cell_type": "code",
   "execution_count": null,
   "id": "b86c72b7",
   "metadata": {
    "id": "b86c72b7"
   },
   "outputs": [],
   "source": [
    "wrong = []\n",
    "for p, g in zip(pred, gold_values):\n",
    "    if g[1][0] != p[1][0]:\n",
    "        wrong.append((g, p))\n",
    "#     print(p[1], g[1])"
   ]
  },
  {
   "cell_type": "code",
   "execution_count": null,
   "id": "5d5f3f38",
   "metadata": {
    "id": "5d5f3f38"
   },
   "outputs": [],
   "source": [
    "pr = wrong[0][0][0][0]\n",
    "get_gender(\"she\")\n",
    "\n",
    "gender = {}\n",
    "\n",
    "for pair in wrong:\n",
    "    pr = pair[0][0][0]\n",
    "    gender.setdefault(get_gender(pr.lower()), 0)\n",
    "    gender[get_gender(pr.lower())] += 1 \n"
   ]
  },
  {
   "cell_type": "code",
   "execution_count": null,
   "id": "19ef2627",
   "metadata": {
    "id": "19ef2627",
    "outputId": "39bd69ff-30b3-4107-9796-c65d11499e76"
   },
   "outputs": [
    {
     "data": {
      "text/plain": [
       "{1: 35, 0: 34}"
      ]
     },
     "execution_count": 89,
     "metadata": {},
     "output_type": "execute_result"
    }
   ],
   "source": [
    "gender"
   ]
  },
  {
   "cell_type": "code",
   "execution_count": null,
   "id": "2d475e6f",
   "metadata": {
    "id": "2d475e6f",
    "outputId": "b09b0735-78cd-41d6-f2ab-a67274d07c31"
   },
   "outputs": [
    {
     "data": {
      "text/plain": [
       "{'id': 'validation-2',\n",
       " 'text': \"Kathleen Nott was born in Camberwell, London. Her father, Philip, was a lithographic printer, and her mother, Ellen, ran a boarding house in Brixton; Kathleen was their third daughter. She was educated at Mary Datchelor Girls' School (now closed), London, before attending King's College, London.\",\n",
       " 'pron': 'She',\n",
       " 'p_offset': 185,\n",
       " 'entity_A': 'Ellen',\n",
       " 'offset_A': 110,\n",
       " 'is_coref_A': 'FALSE',\n",
       " 'entity_B': 'Kathleen',\n",
       " 'offset_B': 150,\n",
       " 'is_coref_B': 'TRUE',\n",
       " 'url': 'http://en.wikipedia.org/wiki/Kathleen_Nott'}"
      ]
     },
     "execution_count": 124,
     "metadata": {},
     "output_type": "execute_result"
    }
   ],
   "source": [
    "valid_dataset[1]"
   ]
  },
  {
   "cell_type": "code",
   "execution_count": null,
   "id": "f429bd56",
   "metadata": {
    "id": "f429bd56"
   },
   "outputs": [],
   "source": [
    "def compute_metrics(predictions_s, samples):\n",
    "    total = 0\n",
    "    correct = 0\n",
    "    for pred, label in zip(predictions_s, samples):\n",
    "        gold_pron_offset = label[\"p_offset\"]\n",
    "        pred_pron_offset = pred[0][1] if len(pred[0]) > 0 else None\n",
    "        gold_pron = label[\"pron\"]\n",
    "        pred_pron = pred[0][0] if len(pred[0]) > 0 else None\n",
    "        gold_both_wrong = label[\"is_coref_A\"] == \"FALSE\" and label[\"is_coref_B\"] == \"FALSE\"\n",
    "        pred_entity_offset = pred[1][1] if len(pred[1]) > 0 else None\n",
    "        pred_entity = pred[1][0] if len(pred[1]) > 0 else None\n",
    "              \n",
    "        if gold_both_wrong:\n",
    "            if pred_entity is None and gold_pron_offset == pred_pron_offset and gold_pron == pred_pron:\n",
    "                correct += 1\n",
    "            total += 1\n",
    "        else:\n",
    "            gold_entity_offset = (\n",
    "                label[\"offset_A\"] if label[\"is_coref_A\"] == \"TRUE\" else label[\"offset_B\"]\n",
    "            )\n",
    "            gold_entity = (\n",
    "                label[\"entity_A\"] if label[\"is_coref_A\"] == \"TRUE\" else label[\"entity_B\"]\n",
    "            )\n",
    "            if (\n",
    "                gold_pron_offset == pred_pron_offset\n",
    "                and gold_pron == pred_pron\n",
    "                and gold_entity_offset == pred_entity_offset\n",
    "                and gold_entity == pred_entity\n",
    "            ):\n",
    "                correct += 1\n",
    "            total += 1\n",
    "    \n",
    "    print(f\"# instances: {total}\")\n",
    "    acc = float(correct) / total\n",
    "    print(f\"# accuracy: {acc:.4f}\")"
   ]
  },
  {
   "cell_type": "code",
   "execution_count": null,
   "id": "f970c3d9",
   "metadata": {
    "id": "f970c3d9",
    "outputId": "a73a7b89-4175-45f2-ce1b-1c88e4ee808e"
   },
   "outputs": [
    {
     "name": "stdout",
     "output_type": "stream",
     "text": [
      "# instances: 454\n",
      "# accuracy: 0.8568\n"
     ]
    }
   ],
   "source": [
    "compute_metrics(pred, valid_dataset)"
   ]
  },
  {
   "cell_type": "code",
   "execution_count": null,
   "id": "3908b386",
   "metadata": {
    "id": "3908b386"
   },
   "outputs": [],
   "source": [
    "from arguments import CustomTrainingArguments\n",
    "a = CustomTrainingArguments(output_dir=\"c\")"
   ]
  },
  {
   "cell_type": "code",
   "execution_count": null,
   "id": "aaff3c45",
   "metadata": {
    "id": "aaff3c45",
    "outputId": "a920bfef-2e7b-405d-e992-5756cf1ea819"
   },
   "outputs": [
    {
     "data": {
      "text/plain": [
       "CustomTrainingArguments(output_dir='c', resume_from_checkpoint=None, save_model=False, num_train_epochs=3, logging_steps=250, learning_rate=0.0005, grad_clipping=None, early_stopping=False, early_stopping_mode='max', early_stopping_patience=0)"
      ]
     },
     "execution_count": 3,
     "metadata": {},
     "output_type": "execute_result"
    }
   ],
   "source": [
    "a"
   ]
  },
  {
   "cell_type": "code",
   "execution_count": null,
   "id": "0b7ae21f",
   "metadata": {
    "id": "0b7ae21f",
    "outputId": "22c6c145-e93b-4a94-f7fb-47600fbbc5cc"
   },
   "outputs": [
    {
     "ename": "TypeError",
     "evalue": "__init__() got an unexpected keyword argument 'resume_from_checkpoint'",
     "output_type": "error",
     "traceback": [
      "\u001b[1;31m---------------------------------------------------------------------------\u001b[0m",
      "\u001b[1;31mTypeError\u001b[0m                                 Traceback (most recent call last)",
      "\u001b[1;32m~\\AppData\\Local\\Temp\\ipykernel_9356\\1665919785.py\u001b[0m in \u001b[0;36m<module>\u001b[1;34m\u001b[0m\n\u001b[0;32m      7\u001b[0m     \u001b[0mconfig\u001b[0m \u001b[1;33m=\u001b[0m \u001b[0myaml\u001b[0m\u001b[1;33m.\u001b[0m\u001b[0msafe_load\u001b[0m\u001b[1;33m(\u001b[0m\u001b[0mfile\u001b[0m\u001b[1;33m)\u001b[0m\u001b[1;33m\u001b[0m\u001b[1;33m\u001b[0m\u001b[0m\n\u001b[0;32m      8\u001b[0m \u001b[1;33m\u001b[0m\u001b[0m\n\u001b[1;32m----> 9\u001b[1;33m \u001b[0marg\u001b[0m \u001b[1;33m=\u001b[0m \u001b[0mCustomTrainingArguments\u001b[0m\u001b[1;33m(\u001b[0m\u001b[1;33m**\u001b[0m\u001b[0mconfig\u001b[0m\u001b[1;33m[\u001b[0m\u001b[1;34m'training_args'\u001b[0m\u001b[1;33m]\u001b[0m\u001b[1;33m)\u001b[0m\u001b[1;33m\u001b[0m\u001b[1;33m\u001b[0m\u001b[0m\n\u001b[0m",
      "\u001b[1;31mTypeError\u001b[0m: __init__() got an unexpected keyword argument 'resume_from_checkpoint'"
     ]
    }
   ],
   "source": [
    "from arguments import CustomTrainingArguments\n",
    "\n",
    "yaml_file = \"./train.yaml\"\n",
    "\n",
    "# Read configuration file with all the necessary parameters\n",
    "with open(yaml_file) as file:\n",
    "    config = yaml.safe_load(file)\n",
    "    \n",
    "arg = CustomTrainingArguments(**config['training_args'])"
   ]
  },
  {
   "cell_type": "code",
   "execution_count": null,
   "id": "d9e9ff37",
   "metadata": {
    "id": "d9e9ff37",
    "outputId": "0b3baa1d-1449-4619-deea-490de73200d6"
   },
   "outputs": [
    {
     "name": "stdout",
     "output_type": "stream",
     "text": [
      "CustomTrainingArguments(output_dir='../../model/checkpoints/', num_train_epochs=6, logging_steps=250, save_model=False, learning_rate=5e-06, grad_clipping=None, early_stopping=False, early_stopping_mode='max', early_stopping_patience=0)\n"
     ]
    }
   ],
   "source": [
    "print(arg)"
   ]
  },
  {
   "cell_type": "code",
   "execution_count": null,
   "id": "c3a6450b",
   "metadata": {
    "id": "c3a6450b"
   },
   "outputs": [],
   "source": []
  }
 ],
 "metadata": {
  "accelerator": "GPU",
  "colab": {
   "collapsed_sections": [],
   "name": "Training.ipynb",
   "provenance": []
  },
  "gpuClass": "standard",
  "kernelspec": {
   "display_name": "Python 3.7 (DL)",
   "language": "python",
   "name": "dl"
  },
  "language_info": {
   "codemirror_mode": {
    "name": "ipython",
    "version": 3
   },
   "file_extension": ".py",
   "mimetype": "text/x-python",
   "name": "python",
   "nbconvert_exporter": "python",
   "pygments_lexer": "ipython3",
   "version": "3.7.13"
  }
 },
 "nbformat": 4,
 "nbformat_minor": 5
}
