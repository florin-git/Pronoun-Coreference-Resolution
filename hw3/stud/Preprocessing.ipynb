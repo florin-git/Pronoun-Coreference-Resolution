{
 "cells": [
  {
   "cell_type": "markdown",
   "metadata": {},
   "source": [
    "BERT tutorial\n",
    "https://mccormickml.com/2019/07/22/BERT-fine-tuning/\n",
    "\n",
    "GAP preprocessing example\n",
    "https://www.kaggle.com/code/sunilcube/text-data-gendered-pronoun-resolution\n",
    "\n",
    "Transformer Explanation: https://nlp.seas.harvard.edu/2018/04/03/attention.html http://nlp.seas.harvard.edu/annotated-transformer/"
   ]
  },
  {
   "cell_type": "code",
   "execution_count": 1,
   "metadata": {},
   "outputs": [],
   "source": [
    "import numpy as np\n",
    "import pandas as pd\n",
    "import matplotlib.pyplot as plt\n",
    "\n",
    "import time\n",
    "import string\n",
    "import re\n",
    "from collections import Counter\n",
    "import random\n",
    "from typing import *\n",
    "import csv\n",
    "\n",
    "import torch\n",
    "from torch import nn\n",
    "from torch.utils.data import Dataset, DataLoader\n",
    "\n",
    "SEED = 10\n",
    "\n",
    "random.seed(SEED)\n",
    "np.random.seed(SEED)\n",
    "torch.manual_seed(SEED)\n",
    "torch.cuda.manual_seed(SEED)\n",
    "torch.backends.cudnn.deterministic = True\n",
    "\n",
    "# Display the entire text\n",
    "pd.set_option(\"display.max_colwidth\", None)"
   ]
  },
  {
   "cell_type": "code",
   "execution_count": 2,
   "metadata": {},
   "outputs": [
    {
     "data": {
      "text/plain": [
       "device(type='cuda')"
      ]
     },
     "execution_count": 2,
     "metadata": {},
     "output_type": "execute_result"
    }
   ],
   "source": [
    "device = torch.device(\"cuda\" if torch.cuda.is_available() else \"cpu\")\n",
    "device"
   ]
  },
  {
   "cell_type": "code",
   "execution_count": 3,
   "metadata": {},
   "outputs": [],
   "source": [
    "train_path = \"../../model/data/train.tsv\"\n",
    "valid_path = \"../../model/data/dev.tsv\""
   ]
  },
  {
   "cell_type": "code",
   "execution_count": 4,
   "metadata": {},
   "outputs": [],
   "source": [
    "def read_dataset(path: str) -> List[Dict]:\n",
    "    samples: List[Dict] = []\n",
    "    pron_counter = Counter()\n",
    "    with open(path) as f:\n",
    "        next(f)\n",
    "        for line in f:\n",
    "            (\n",
    "                id,\n",
    "                text,\n",
    "                pron,\n",
    "                p_offset,\n",
    "                entity_A,\n",
    "                offset_A,\n",
    "                is_coref_A,\n",
    "                entity_B,\n",
    "                offset_B,\n",
    "                is_coref_B,\n",
    "                url,\n",
    "            ) = line.strip().split(\"\\t\")\n",
    "            pron_counter[pron.lower()] += 1\n",
    "            samples.append(\n",
    "                {\n",
    "                    \"id\": id,\n",
    "                    \"text\": text,\n",
    "                    \"pron\": pron,\n",
    "                    \"p_offset\": int(p_offset),\n",
    "                    \"entity_A\": entity_A,\n",
    "                    \"offset_A\": int(offset_A),\n",
    "                    \"is_coref_A\": is_coref_A,\n",
    "                    \"entity_B\": entity_B,\n",
    "                    \"offset_B\": int(offset_B),\n",
    "                    \"is_coref_B\": is_coref_B,\n",
    "                    \"url\": url,\n",
    "                }\n",
    "            )\n",
    "    print(pron_counter)\n",
    "    return samples, pron_counter"
   ]
  },
  {
   "cell_type": "code",
   "execution_count": 5,
   "metadata": {},
   "outputs": [
    {
     "name": "stdout",
     "output_type": "stream",
     "text": [
      "Counter({'his': 904, 'her': 773, 'he': 610, 'she': 555, 'him': 157})\n",
      "Counter({'her': 140, 'his': 108, 'he': 93, 'she': 87, 'him': 26})\n"
     ]
    }
   ],
   "source": [
    "train_dataset, train_pron_counter = read_dataset(train_path)\n",
    "valid_dataset, valid_pron_counter = read_dataset(valid_path)"
   ]
  },
  {
   "cell_type": "code",
   "execution_count": 6,
   "metadata": {},
   "outputs": [
    {
     "data": {
      "text/plain": [
       "{'id': 'train-1',\n",
       " 'text': \"Zoe Telford -- played the police officer girlfriend of Simon, Maggie. Dumped by Simon in the final episode of series 1, after he slept with Jenny, and is not seen again. Phoebe Thomas played Cheryl Cassidy, Pauline's friend and also a year 11 pupil in Simon's class. Dumped her boyfriend following Simon's advice after he wouldn't have sex with her but later realised this was due to him catching crabs off her friend Pauline.\",\n",
       " 'pron': 'her',\n",
       " 'p_offset': 274,\n",
       " 'entity_A': 'Cheryl Cassidy',\n",
       " 'offset_A': 191,\n",
       " 'is_coref_A': 'TRUE',\n",
       " 'entity_B': 'Pauline',\n",
       " 'offset_B': 207,\n",
       " 'is_coref_B': 'FALSE',\n",
       " 'url': 'http://en.wikipedia.org/wiki/List_of_Teachers_(UK_TV_series)_characters'}"
      ]
     },
     "execution_count": 6,
     "metadata": {},
     "output_type": "execute_result"
    }
   ],
   "source": [
    "train_dataset[0]"
   ]
  },
  {
   "cell_type": "markdown",
   "metadata": {},
   "source": [
    "In the training dataset there is a slightly bias towards the male pronouns (1671 M vs 1328 F)."
   ]
  },
  {
   "cell_type": "code",
   "execution_count": 7,
   "metadata": {},
   "outputs": [
    {
     "data": {
      "text/plain": [
       "{'F': 1328, 'M': 1671}"
      ]
     },
     "execution_count": 7,
     "metadata": {},
     "output_type": "execute_result"
    }
   ],
   "source": [
    "train_gender_pron_counter = {\n",
    "    \"F\": train_pron_counter['her'] + train_pron_counter['she'],\n",
    "    \"M\": train_pron_counter['his'] + train_pron_counter['him'] + train_pron_counter['he']\n",
    "}\n",
    "train_gender_pron_counter"
   ]
  },
  {
   "cell_type": "markdown",
   "metadata": {},
   "source": [
    "The validation dataset is perfectly balanced between gender pronouns (227 pronous for both Female and Male)."
   ]
  },
  {
   "cell_type": "code",
   "execution_count": 8,
   "metadata": {},
   "outputs": [
    {
     "data": {
      "text/plain": [
       "{'F': 227, 'M': 227}"
      ]
     },
     "execution_count": 8,
     "metadata": {},
     "output_type": "execute_result"
    }
   ],
   "source": [
    "valid_gender_pron_counter = {\n",
    "    \"F\": valid_pron_counter['her'] + valid_pron_counter['she'],\n",
    "    \"M\": valid_pron_counter['his'] + valid_pron_counter['him'] + valid_pron_counter['he']\n",
    "}\n",
    "valid_gender_pron_counter"
   ]
  },
  {
   "cell_type": "code",
   "execution_count": 9,
   "metadata": {},
   "outputs": [],
   "source": [
    "def freq_most_common_tokens(dataset_text: List[List[str]], n: int = 20) -> dict:\n",
    "    \"\"\"\n",
    "    Returns\n",
    "    -------\n",
    "        The first n common tokens and their frequencies, where the tokens are\n",
    "        retrieved from the list 'dataset_text'.\n",
    "        \n",
    "    Parameters\n",
    "    ----------\n",
    "    dataset_text: List[List[str]]\n",
    "        A list of lists of strings. \n",
    "        In this case each nested list is a sentence.\n",
    "    \n",
    "    n: int\n",
    "        Indicates how many tokens to consider.\n",
    "        If it is a negative number, \n",
    "        the function returns the frequencies of all the tokens in the dataset.\n",
    "    \n",
    "    \"\"\"\n",
    "    # The input is flattened\n",
    "    tokens = flat_list(dataset_text)  \n",
    "\n",
    "    # If negative number, return the frequency of all the tokens\n",
    "    if n <= -1:\n",
    "        return dict(Counter(tokens).most_common(len(Counter(tokens))))\n",
    "    else:\n",
    "        return dict(Counter(tokens).most_common(n))"
   ]
  },
  {
   "cell_type": "code",
   "execution_count": 10,
   "metadata": {},
   "outputs": [],
   "source": [
    "from matplotlib.pyplot import figure\n",
    "def plot_freq(frequencies: dict, title: str = \"plot\"):\n",
    "    \"\"\"\n",
    "    A bar chart with frequency of tokens.\n",
    "    \"\"\"\n",
    "    figure(figsize=(8, 4), dpi=80)\n",
    "\n",
    "    words = list(frequencies.keys())\n",
    "    freq = list(frequencies.values())\n",
    "\n",
    "    plt.bar(range(len(frequencies)), freq, tick_label=words)\n",
    "    plt.xticks(rotation=45)\n",
    "    plt.title(title)\n",
    "    plt.show()"
   ]
  },
  {
   "cell_type": "code",
   "execution_count": 11,
   "metadata": {},
   "outputs": [
    {
     "data": {
      "image/png": "[encoded data removed]",
      "text/plain": [
       "<Figure size 640x320 with 1 Axes>"
      ]
     },
     "metadata": {
      "needs_background": "light"
     },
     "output_type": "display_data"
    },
    {
     "data": {
      "image/png": "[encoded data removed]",
      "text/plain": [
       "<Figure size 640x320 with 1 Axes>"
      ]
     },
     "metadata": {
      "needs_background": "light"
     },
     "output_type": "display_data"
    }
   ],
   "source": [
    "plot_freq(train_pron_counter)\n",
    "plot_freq(valid_pron_counter)"
   ]
  },
  {
   "cell_type": "code",
   "execution_count": 12,
   "metadata": {},
   "outputs": [],
   "source": [
    "df_train = pd.DataFrame(train_dataset)\n",
    "df_valid = pd.DataFrame(valid_dataset)"
   ]
  },
  {
   "cell_type": "code",
   "execution_count": 13,
   "metadata": {},
   "outputs": [
    {
     "data": {
      "text/html": [
       "<div>\n",
       "<style scoped>\n",
       "    .dataframe tbody tr th:only-of-type {\n",
       "        vertical-align: middle;\n",
       "    }\n",
       "\n",
       "    .dataframe tbody tr th {\n",
       "        vertical-align: top;\n",
       "    }\n",
       "\n",
       "    .dataframe thead th {\n",
       "        text-align: right;\n",
       "    }\n",
       "</style>\n",
       "<table border=\"1\" class=\"dataframe\">\n",
       "  <thead>\n",
       "    <tr style=\"text-align: right;\">\n",
       "      <th></th>\n",
       "      <th>entity_A</th>\n",
       "      <th>is_coref_A</th>\n",
       "      <th>entity_B</th>\n",
       "      <th>is_coref_B</th>\n",
       "    </tr>\n",
       "  </thead>\n",
       "  <tbody>\n",
       "    <tr>\n",
       "      <th>0</th>\n",
       "      <td>Cheryl Cassidy</td>\n",
       "      <td>TRUE</td>\n",
       "      <td>Pauline</td>\n",
       "      <td>FALSE</td>\n",
       "    </tr>\n",
       "    <tr>\n",
       "      <th>1</th>\n",
       "      <td>MacKenzie</td>\n",
       "      <td>TRUE</td>\n",
       "      <td>Bernard Leach</td>\n",
       "      <td>FALSE</td>\n",
       "    </tr>\n",
       "    <tr>\n",
       "      <th>2</th>\n",
       "      <td>Angeloz</td>\n",
       "      <td>FALSE</td>\n",
       "      <td>De la Sota</td>\n",
       "      <td>TRUE</td>\n",
       "    </tr>\n",
       "    <tr>\n",
       "      <th>3</th>\n",
       "      <td>Hell</td>\n",
       "      <td>FALSE</td>\n",
       "      <td>Henry Rosenthal</td>\n",
       "      <td>TRUE</td>\n",
       "    </tr>\n",
       "    <tr>\n",
       "      <th>4</th>\n",
       "      <td>Kitty Oppenheimer</td>\n",
       "      <td>FALSE</td>\n",
       "      <td>Rivera</td>\n",
       "      <td>TRUE</td>\n",
       "    </tr>\n",
       "    <tr>\n",
       "      <th>...</th>\n",
       "      <td>...</td>\n",
       "      <td>...</td>\n",
       "      <td>...</td>\n",
       "      <td>...</td>\n",
       "    </tr>\n",
       "    <tr>\n",
       "      <th>2994</th>\n",
       "      <td>Martin</td>\n",
       "      <td>TRUE</td>\n",
       "      <td>Robert Brandon</td>\n",
       "      <td>FALSE</td>\n",
       "    </tr>\n",
       "    <tr>\n",
       "      <th>2995</th>\n",
       "      <td>Arthur Davies</td>\n",
       "      <td>TRUE</td>\n",
       "      <td>John Frederick Mowbray-Clarke</td>\n",
       "      <td>FALSE</td>\n",
       "    </tr>\n",
       "    <tr>\n",
       "      <th>2996</th>\n",
       "      <td>Katharine Anthony</td>\n",
       "      <td>FALSE</td>\n",
       "      <td>Madge Jenison</td>\n",
       "      <td>FALSE</td>\n",
       "    </tr>\n",
       "    <tr>\n",
       "      <th>2997</th>\n",
       "      <td>Carole</td>\n",
       "      <td>TRUE</td>\n",
       "      <td>Lillian Grey</td>\n",
       "      <td>FALSE</td>\n",
       "    </tr>\n",
       "    <tr>\n",
       "      <th>2998</th>\n",
       "      <td>Wilcox</td>\n",
       "      <td>TRUE</td>\n",
       "      <td>Ivor Novello</td>\n",
       "      <td>FALSE</td>\n",
       "    </tr>\n",
       "  </tbody>\n",
       "</table>\n",
       "<p>2999 rows × 4 columns</p>\n",
       "</div>"
      ],
      "text/plain": [
       "               entity_A is_coref_A                       entity_B is_coref_B\n",
       "0        Cheryl Cassidy       TRUE                        Pauline      FALSE\n",
       "1             MacKenzie       TRUE                  Bernard Leach      FALSE\n",
       "2               Angeloz      FALSE                     De la Sota       TRUE\n",
       "3                  Hell      FALSE                Henry Rosenthal       TRUE\n",
       "4     Kitty Oppenheimer      FALSE                         Rivera       TRUE\n",
       "...                 ...        ...                            ...        ...\n",
       "2994             Martin       TRUE                 Robert Brandon      FALSE\n",
       "2995      Arthur Davies       TRUE  John Frederick Mowbray-Clarke      FALSE\n",
       "2996  Katharine Anthony      FALSE                  Madge Jenison      FALSE\n",
       "2997             Carole       TRUE                   Lillian Grey      FALSE\n",
       "2998             Wilcox       TRUE                   Ivor Novello      FALSE\n",
       "\n",
       "[2999 rows x 4 columns]"
      ]
     },
     "execution_count": 13,
     "metadata": {},
     "output_type": "execute_result"
    }
   ],
   "source": [
    "df_train_entities = df_train[['entity_A', 'is_coref_A', 'entity_B', 'is_coref_B']]\n",
    "df_train_entities"
   ]
  },
  {
   "cell_type": "code",
   "execution_count": 61,
   "metadata": {},
   "outputs": [
    {
     "name": "stdout",
     "output_type": "stream",
     "text": [
      "# sentences: 2999\n",
      "# sentences neither: 315 (10.50%)\n",
      "# sentences A pronoun: 1331 (44.38%)\n",
      "# sentences B pronoun: 1353 (45.12%)\n"
     ]
    }
   ],
   "source": [
    "# Dataframe contiaining sentences where neither A nor B entities are the right coreference entities to the pronoun\n",
    "df_train_neither_ent = df_train.loc[(df_train['is_coref_A'] == \"FALSE\") & (df_train['is_coref_B'] == \"FALSE\")]\n",
    "\n",
    "df_train_A_ent = df_train.loc[df_train['is_coref_A'] == \"TRUE\"]\n",
    "df_train_B_ent = df_train.loc[df_train['is_coref_B'] == \"TRUE\"]\n",
    "\n",
    "print(\"# sentences:\", df_train.shape[0])\n",
    "print(f\"# sentences neither: {df_train_neither_ent.shape[0]} ({((df_train_neither_ent.shape[0] / df_train.shape[0]) * 100):.2f}%)\")\n",
    "print(f\"# sentences A pronoun: {df_train_A_ent.shape[0]} ({((df_train_A_ent.shape[0] / df_train.shape[0]) * 100):.2f}%)\")\n",
    "print(f\"# sentences B pronoun: {df_train_B_ent.shape[0]} ({((df_train_B_ent.shape[0] / df_train.shape[0]) * 100):.2f}%)\")"
   ]
  },
  {
   "cell_type": "code",
   "execution_count": 49,
   "metadata": {},
   "outputs": [
    {
     "name": "stdout",
     "output_type": "stream",
     "text": [
      "# sentences: 454\n",
      "# sentences neither: 62 (13.66%)\n",
      "# sentences A pronoun: 187 (41.19%)\n",
      "# sentences B pronoun: 205 (45.15%)\n"
     ]
    }
   ],
   "source": [
    "# Dataframe contiaining sentences where neither A nor B entities are the right coreference entities to the pronoun\n",
    "df_valid_neither_ent = df_valid.loc[(df_valid['is_coref_A'] == \"FALSE\") & (df_valid['is_coref_B'] == \"FALSE\")]\n",
    "\n",
    "df_valid_A_ent = df_valid.loc[df_valid['is_coref_A'] == \"TRUE\"]\n",
    "df_valid_B_ent = df_valid.loc[df_valid['is_coref_B'] == \"TRUE\"]\n",
    "\n",
    "print(\"# sentences:\", df_valid.shape[0])\n",
    "print(f\"# sentences neither: {df_valid_neither_ent.shape[0]} ({((df_valid_neither_ent.shape[0] / df_valid.shape[0]) * 100):.2f}%)\")\n",
    "print(f\"# sentences A pronoun: {df_valid_A_ent.shape[0]} ({((df_valid_A_ent.shape[0] / df_valid.shape[0]) * 100):.2f}%)\")\n",
    "print(f\"# sentences B pronoun: {df_valid_B_ent.shape[0]} ({((df_valid_B_ent.shape[0] / df_valid.shape[0]) * 100):.2f}%)\")"
   ]
  },
  {
   "cell_type": "markdown",
   "metadata": {},
   "source": [
    "The datasets are pretty balanced with respect the A B pronouns; but we have fewer examples of \"neither\"."
   ]
  },
  {
   "cell_type": "code",
   "execution_count": 18,
   "metadata": {},
   "outputs": [
    {
     "data": {
      "text/plain": [
       "1779    Jeanine Basinger (born 3 February 1936), a film historian, is Corwin-Fuller Professor of Film Studies and Founder and Curator of The Cinema Archives at Wesleyan University, Middletown, Connecticut. She is also a Trustee of the American Film Institute (which awarded her an honorary degree, a Doctorate of Humane Letters, on June 7, 2006 ), a member of the Steering Committee of the National Center for Film and Video Preservation, and one of the Board of Advisors for the Association of Independent Video and Filmmakers.\n",
       "Name: text, dtype: object"
      ]
     },
     "execution_count": 18,
     "metadata": {},
     "output_type": "execute_result"
    }
   ],
   "source": [
    "df_train_text_only = df_train['text']\n",
    "df_train_text_only.sample()"
   ]
  },
  {
   "cell_type": "code",
   "execution_count": 75,
   "metadata": {},
   "outputs": [
    {
     "name": "stdout",
     "output_type": "stream",
     "text": [
      "Mean lenght: 430.92\n",
      "Min lenght: 69.00\n",
      "Max lenght: 1347.00\n"
     ]
    }
   ],
   "source": [
    "df_train_text_lens = df_train_text_only.map(lambda sentence: len(sentence))\n",
    "\n",
    "print(f\"Mean lenght: {df_train_text_lens.mean():.2f}\")\n",
    "print(f\"Min lenght: {df_train_text_lens.min():.2f}\")\n",
    "print(f\"Max lenght: {df_train_text_lens.max():.2f}\")"
   ]
  },
  {
   "cell_type": "code",
   "execution_count": 73,
   "metadata": {},
   "outputs": [
    {
     "data": {
      "text/plain": [
       "425    Peter's parish church, Hanwell. George Harris's work can now be much sought-after. In 2006 a late 17th-century lantern clock by George Harris was sold in a Bonhams auction for *12,000. George's third son Nicholas Harris (1657--1738) succeeded to his father's business.\n",
       "Name: text, dtype: object"
      ]
     },
     "execution_count": 73,
     "metadata": {},
     "output_type": "execute_result"
    }
   ],
   "source": [
    "df_valid_text_only = df_valid['text']\n",
    "df_valid_text_only.sample()"
   ]
  },
  {
   "cell_type": "code",
   "execution_count": 74,
   "metadata": {},
   "outputs": [
    {
     "name": "stdout",
     "output_type": "stream",
     "text": [
      "Mean lenght: 426.39\n",
      "Min lenght: 147.00\n",
      "Max lenght: 1012.00\n"
     ]
    }
   ],
   "source": [
    "df_valid_text_lens = df_valid_text_only.map(lambda sentence: len(sentence))\n",
    "\n",
    "print(f\"Mean lenght: {df_valid_text_lens.mean():.2f}\")\n",
    "print(f\"Min lenght: {df_valid_text_lens.min():.2f}\")\n",
    "print(f\"Max lenght: {df_valid_text_lens.max():.2f}\")"
   ]
  },
  {
   "cell_type": "code",
   "execution_count": 111,
   "metadata": {},
   "outputs": [
    {
     "data": {
      "text/plain": [
       "2342    1347\n",
       "Name: text, dtype: int64"
      ]
     },
     "execution_count": 111,
     "metadata": {},
     "output_type": "execute_result"
    }
   ],
   "source": [
    "df_train_text_lens[df_train_text_lens.map(lambda lenght: lenght == 1347)]"
   ]
  },
  {
   "cell_type": "code",
   "execution_count": 115,
   "metadata": {},
   "outputs": [
    {
     "data": {
      "text/plain": [
       "id                                                                                                                                                                                                                                                                                                                                                                                                                                                                                                                                                                                                                                                                                                                                                                                                                                                                                                                                                                                                                                                                                                                                                                                                                                                                                                                                                                                                     train-2343\n",
       "text          Upon her arrival, she was granted Drottningholm Palace as her summer residence, where the ``Young Court'', as it was called, amused themselves with picnics, masquerades and French language amateur theater. The crown prince's court was dominated by Carl Gustaf Tessin, who escorted Louisa Ulrika to Sweden and remained an influential favorite during her years as crown princess. Adolf Frederick never cared much for Tessin, but Louisa Ulrika had him appointed marshal at court and eventually royal governor of her son prince Gustav. Tessin was behind many amusements in the circle of the crown princess, and it was said that he was only too eager to please Louisa Ulrika in any way possible. There were unconfirmed rumors that Tessin was the lover of Louisa Ulrika during her tenure as crown princess. Her son Gustav III later addressed these rumors, that although Count Tessin had been in love with her, his feelings were one-sided and not answered by his mother, as a love affair with a noble contradicted the ``natural contempt'' which Louisa Ulrika herself as a royal felt for every subject, noble or not. Her circle at court included Henrika Juliana von Liewen, who immediately became her favorite among her ladies-in-waiting; the intellectual Cath*rine Charlotte De la Gardie, the scientist Eva Ekeblad, and the witty Anders Johan von H*pken.\n",
       "pron                                                                                                                                                                                                                                                                                                                                                                                                                                                                                                                                                                                                                                                                                                                                                                                                                                                                                                                                                                                                                                                                                                                                                                                                                                                                                                                                                                                                           he\n",
       "p_offset                                                                                                                                                                                                                                                                                                                                                                                                                                                                                                                                                                                                                                                                                                                                                                                                                                                                                                                                                                                                                                                                                                                                                                                                                                                                                                                                                                                                      624\n",
       "entity_A                                                                                                                                                                                                                                                                                                                                                                                                                                                                                                                                                                                                                                                                                                                                                                                                                                                                                                                                                                                                                                                                                                                                                                                                                                                                                                                                                                                                   Tessin\n",
       "offset_A                                                                                                                                                                                                                                                                                                                                                                                                                                                                                                                                                                                                                                                                                                                                                                                                                                                                                                                                                                                                                                                                                                                                                                                                                                                                                                                                                                                                      726\n",
       "is_coref_A                                                                                                                                                                                                                                                                                                                                                                                                                                                                                                                                                                                                                                                                                                                                                                                                                                                                                                                                                                                                                                                                                                                                                                                                                                                                                                                                                                                                   TRUE\n",
       "entity_B                                                                                                                                                                                                                                                                                                                                                                                                                                                                                                                                                                                                                                                                                                                                                                                                                                                                                                                                                                                                                                                                                                                                                                                                                                                                                                                                                                                               Gustav III\n",
       "offset_B                                                                                                                                                                                                                                                                                                                                                                                                                                                                                                                                                                                                                                                                                                                                                                                                                                                                                                                                                                                                                                                                                                                                                                                                                                                                                                                                                                                                      809\n",
       "is_coref_B                                                                                                                                                                                                                                                                                                                                                                                                                                                                                                                                                                                                                                                                                                                                                                                                                                                                                                                                                                                                                                                                                                                                                                                                                                                                                                                                                                                                  FALSE\n",
       "url                                                                                                                                                                                                                                                                                                                                                                                                                                                                                                                                                                                                                                                                                                                                                                                                                                                                                                                                                                                                                                                                                                                                                                                                                                                                                                                                                         http://en.wikipedia.org/wiki/Louisa_Ulrika_of_Prussia\n",
       "Name: 2342, dtype: object"
      ]
     },
     "execution_count": 115,
     "metadata": {},
     "output_type": "execute_result"
    }
   ],
   "source": [
    "df_train.iloc[2342]"
   ]
  },
  {
   "cell_type": "code",
   "execution_count": 117,
   "metadata": {},
   "outputs": [
    {
     "data": {
      "text/plain": [
       "'he'"
      ]
     },
     "execution_count": 117,
     "metadata": {},
     "output_type": "execute_result"
    }
   ],
   "source": [
    "df_train.iloc[2342]['text'][624:626]"
   ]
  },
  {
   "cell_type": "code",
   "execution_count": 118,
   "metadata": {},
   "outputs": [
    {
     "data": {
      "text/html": [
       "<div>\n",
       "<style scoped>\n",
       "    .dataframe tbody tr th:only-of-type {\n",
       "        vertical-align: middle;\n",
       "    }\n",
       "\n",
       "    .dataframe tbody tr th {\n",
       "        vertical-align: top;\n",
       "    }\n",
       "\n",
       "    .dataframe thead th {\n",
       "        text-align: right;\n",
       "    }\n",
       "</style>\n",
       "<table border=\"1\" class=\"dataframe\">\n",
       "  <thead>\n",
       "    <tr style=\"text-align: right;\">\n",
       "      <th></th>\n",
       "      <th>id</th>\n",
       "      <th>text</th>\n",
       "      <th>pron</th>\n",
       "      <th>p_offset</th>\n",
       "      <th>entity_A</th>\n",
       "      <th>offset_A</th>\n",
       "      <th>is_coref_A</th>\n",
       "      <th>entity_B</th>\n",
       "      <th>offset_B</th>\n",
       "      <th>is_coref_B</th>\n",
       "      <th>url</th>\n",
       "    </tr>\n",
       "  </thead>\n",
       "  <tbody>\n",
       "    <tr>\n",
       "      <th>0</th>\n",
       "      <td>train-1</td>\n",
       "      <td>Zoe Telford -- played the police officer girlfriend of Simon, Maggie. Dumped by Simon in the final episode of series 1, after he slept with Jenny, and is not seen again. Phoebe Thomas played Cheryl Cassidy, Pauline's friend and also a year 11 pupil in Simon's class. Dumped her boyfriend following Simon's advice after he wouldn't have sex with her but later realised this was due to him catching crabs off her friend Pauline.</td>\n",
       "      <td>her</td>\n",
       "      <td>274</td>\n",
       "      <td>Cheryl Cassidy</td>\n",
       "      <td>191</td>\n",
       "      <td>TRUE</td>\n",
       "      <td>Pauline</td>\n",
       "      <td>207</td>\n",
       "      <td>FALSE</td>\n",
       "      <td>http://en.wikipedia.org/wiki/List_of_Teachers_(UK_TV_series)_characters</td>\n",
       "    </tr>\n",
       "    <tr>\n",
       "      <th>1</th>\n",
       "      <td>train-2</td>\n",
       "      <td>He grew up in Evanston, Illinois the second oldest of five children including his brothers, Fred and Gordon and sisters, Marge (Peppy) and Marilyn. His high school days were spent at New Trier High School in Winnetka, Illinois. MacKenzie studied with Bernard Leach from 1949 to 1952. His simple, wheel-thrown functional pottery is heavily influenced by the oriental aesthetic of Shoji Hamada and Kanjiro Kawai.</td>\n",
       "      <td>His</td>\n",
       "      <td>284</td>\n",
       "      <td>MacKenzie</td>\n",
       "      <td>228</td>\n",
       "      <td>TRUE</td>\n",
       "      <td>Bernard Leach</td>\n",
       "      <td>251</td>\n",
       "      <td>FALSE</td>\n",
       "      <td>http://en.wikipedia.org/wiki/Warren_MacKenzie</td>\n",
       "    </tr>\n",
       "    <tr>\n",
       "      <th>2</th>\n",
       "      <td>train-3</td>\n",
       "      <td>He had been reelected to Congress, but resigned in 1990 to accept a post as Ambassador to Brazil. De la Sota again ran for governor of C*rdoba in 1991. Defeated by Governor Angeloz by over 15%, this latter setback was significant because it cost De la Sota much of his support within the Justicialist Party (which was flush with victory in the 1991 mid-terms), leading to President Carlos Menem 's endorsement of a separate party list in C*rdoba for the 1993 mid-term elections, and to De la Sota's failure to regain a seat in Congress.</td>\n",
       "      <td>his</td>\n",
       "      <td>265</td>\n",
       "      <td>Angeloz</td>\n",
       "      <td>173</td>\n",
       "      <td>FALSE</td>\n",
       "      <td>De la Sota</td>\n",
       "      <td>246</td>\n",
       "      <td>TRUE</td>\n",
       "      <td>http://en.wikipedia.org/wiki/Jos%C3%A9_Manuel_de_la_Sota</td>\n",
       "    </tr>\n",
       "    <tr>\n",
       "      <th>3</th>\n",
       "      <td>train-4</td>\n",
       "      <td>The current members of Crime have also performed in San Francisco under the band name ''Remote Viewers``. Strike has published two works of fiction in recent years: Ports of Hell, which is listed in the Rock and Roll Hall of Fame Library, and A Loud Humming Sound Came from Above. Rank has produced numerous films (under his real name, Henry Rosenthal) including the hit The Devil and Daniel Johnston.</td>\n",
       "      <td>his</td>\n",
       "      <td>321</td>\n",
       "      <td>Hell</td>\n",
       "      <td>174</td>\n",
       "      <td>FALSE</td>\n",
       "      <td>Henry Rosenthal</td>\n",
       "      <td>336</td>\n",
       "      <td>TRUE</td>\n",
       "      <td>http://en.wikipedia.org/wiki/Crime_(band)</td>\n",
       "    </tr>\n",
       "    <tr>\n",
       "      <th>4</th>\n",
       "      <td>train-5</td>\n",
       "      <td>Her Santa Fe Opera debut in 2005 was as Nuria in the revised edition of Golijov's Ainadamar. She sang on the subsequent Deutsche Grammophon recording of the opera. For his opera Doctor Atomic, Adams rewrote the role of Kitty Oppenheimer, originally a mezzo-soprano role, for soprano voice, and Rivera sang the rewritten part of Kitty Oppenheimer at Lyric Opera of Chicago, De Nederlandse Opera, and the Metropolitan Opera., all in 2007. She has since sung several parts and roles in John Adams' works, including the soprano part in El Ni*o, and the role of Kumudha in A Flowering Tree in the Peter Sellars production at the New Crowned Hope Festival in Vienna.</td>\n",
       "      <td>She</td>\n",
       "      <td>437</td>\n",
       "      <td>Kitty Oppenheimer</td>\n",
       "      <td>219</td>\n",
       "      <td>FALSE</td>\n",
       "      <td>Rivera</td>\n",
       "      <td>294</td>\n",
       "      <td>TRUE</td>\n",
       "      <td>http://en.wikipedia.org/wiki/Jessica_Rivera</td>\n",
       "    </tr>\n",
       "    <tr>\n",
       "      <th>...</th>\n",
       "      <td>...</td>\n",
       "      <td>...</td>\n",
       "      <td>...</td>\n",
       "      <td>...</td>\n",
       "      <td>...</td>\n",
       "      <td>...</td>\n",
       "      <td>...</td>\n",
       "      <td>...</td>\n",
       "      <td>...</td>\n",
       "      <td>...</td>\n",
       "      <td>...</td>\n",
       "    </tr>\n",
       "    <tr>\n",
       "      <th>2994</th>\n",
       "      <td>train-2995</td>\n",
       "      <td>(He is not the same as the Mr. Richard Martin (1570--1618) who was the recorder of London, counsel for the Virginia Company and organizer of The Society of Martin's Hundred, whose subsidiary ``particular plantation'' development circa 1618-1619 was known as Martin's Hundred). Martin commanded the Benjamin under Sir Francis Drake in the 1585--86 expedition to harass the Spanish ports in the New World. On his return, Captain Martin married Mary, daughter of Robert Brandon, a prominent English goldsmith and supplier to Queen Elizabeth I of England.</td>\n",
       "      <td>his</td>\n",
       "      <td>407</td>\n",
       "      <td>Martin</td>\n",
       "      <td>427</td>\n",
       "      <td>TRUE</td>\n",
       "      <td>Robert Brandon</td>\n",
       "      <td>460</td>\n",
       "      <td>FALSE</td>\n",
       "      <td>http://en.wikipedia.org/wiki/John_Martin_(Jamestown)</td>\n",
       "    </tr>\n",
       "    <tr>\n",
       "      <th>2995</th>\n",
       "      <td>train-2996</td>\n",
       "      <td>Feeling guilty, no doubt, for having inherited wealth, she came to deny herself some of the luxuries to which she was accustomed In compensation she collected the latest in experimental painting and gave money and meals to poor artists and writers.'' Arthur Davies, a principal organizer of the 1913 Armory Show along with John Frederick Mowbray-Clarke, was the designer of the interior of the shop. He chose a ``burning orange'' color for the walls and worked a prism of colors into the woodwork.</td>\n",
       "      <td>He</td>\n",
       "      <td>400</td>\n",
       "      <td>Arthur Davies</td>\n",
       "      <td>251</td>\n",
       "      <td>TRUE</td>\n",
       "      <td>John Frederick Mowbray-Clarke</td>\n",
       "      <td>323</td>\n",
       "      <td>FALSE</td>\n",
       "      <td>http://en.wikipedia.org/wiki/Madge_Jenison</td>\n",
       "    </tr>\n",
       "    <tr>\n",
       "      <th>2996</th>\n",
       "      <td>train-2997</td>\n",
       "      <td>He was immediately taken with her, later telling his wife, Mary Horgan Mowbray-Clarke, that he had been seated between ``two of the most interesting women in America.'' One was the biographer Katharine Anthony; the other was Madge Jenison. In late 1915, she conceived the idea that ``a bookshop of a different kind must be opened in America.''</td>\n",
       "      <td>she</td>\n",
       "      <td>254</td>\n",
       "      <td>Katharine Anthony</td>\n",
       "      <td>192</td>\n",
       "      <td>FALSE</td>\n",
       "      <td>Madge Jenison</td>\n",
       "      <td>225</td>\n",
       "      <td>FALSE</td>\n",
       "      <td>http://en.wikipedia.org/wiki/Madge_Jenison</td>\n",
       "    </tr>\n",
       "    <tr>\n",
       "      <th>2997</th>\n",
       "      <td>train-2998</td>\n",
       "      <td>Charles arrives to tell her that all arrangements are made for her to leave with him and the company for Burma, but she refuses saying she will never marry an actor. Barmaid Kate tells Charles why Carole feels the way she does about actors: Carole's mother, Lillian Grey , was with a touring show in 1913 when the handsome star, John Beaumont raised her from the chorus to be his partner in his first West End show.</td>\n",
       "      <td>her</td>\n",
       "      <td>350</td>\n",
       "      <td>Carole</td>\n",
       "      <td>241</td>\n",
       "      <td>TRUE</td>\n",
       "      <td>Lillian Grey</td>\n",
       "      <td>258</td>\n",
       "      <td>FALSE</td>\n",
       "      <td>http://en.wikipedia.org/wiki/Lilacs_in_the_Spring</td>\n",
       "    </tr>\n",
       "    <tr>\n",
       "      <th>2998</th>\n",
       "      <td>train-2999</td>\n",
       "      <td>It referenced several earlier hits of Neagle, including Nell Gwynn (1934) and Victoria the Great (1938). The film was made by Everest Pictures, a new production company from producer-director Herbert Wilcox. Wilcox had just made three films in collaboration with Republic Pictures, and hoped for them to finance films of two Ivor Novello musicals he had purchased.</td>\n",
       "      <td>he</td>\n",
       "      <td>347</td>\n",
       "      <td>Wilcox</td>\n",
       "      <td>208</td>\n",
       "      <td>TRUE</td>\n",
       "      <td>Ivor Novello</td>\n",
       "      <td>325</td>\n",
       "      <td>FALSE</td>\n",
       "      <td>http://en.wikipedia.org/wiki/Lilacs_in_the_Spring</td>\n",
       "    </tr>\n",
       "  </tbody>\n",
       "</table>\n",
       "<p>2999 rows × 11 columns</p>\n",
       "</div>"
      ],
      "text/plain": [
       "              id  \\\n",
       "0        train-1   \n",
       "1        train-2   \n",
       "2        train-3   \n",
       "3        train-4   \n",
       "4        train-5   \n",
       "...          ...   \n",
       "2994  train-2995   \n",
       "2995  train-2996   \n",
       "2996  train-2997   \n",
       "2997  train-2998   \n",
       "2998  train-2999   \n",
       "\n",
       "                                                                                                                                                                                                                                                                                                                                                                                                                                                                                                                                                                                                                                                                                      text  \\\n",
       "0                                                                                                                                                                                                                                               Zoe Telford -- played the police officer girlfriend of Simon, Maggie. Dumped by Simon in the final episode of series 1, after he slept with Jenny, and is not seen again. Phoebe Thomas played Cheryl Cassidy, Pauline's friend and also a year 11 pupil in Simon's class. Dumped her boyfriend following Simon's advice after he wouldn't have sex with her but later realised this was due to him catching crabs off her friend Pauline.   \n",
       "1                                                                                                                                                                                                                                                               He grew up in Evanston, Illinois the second oldest of five children including his brothers, Fred and Gordon and sisters, Marge (Peppy) and Marilyn. His high school days were spent at New Trier High School in Winnetka, Illinois. MacKenzie studied with Bernard Leach from 1949 to 1952. His simple, wheel-thrown functional pottery is heavily influenced by the oriental aesthetic of Shoji Hamada and Kanjiro Kawai.   \n",
       "2                                                                                                                                 He had been reelected to Congress, but resigned in 1990 to accept a post as Ambassador to Brazil. De la Sota again ran for governor of C*rdoba in 1991. Defeated by Governor Angeloz by over 15%, this latter setback was significant because it cost De la Sota much of his support within the Justicialist Party (which was flush with victory in the 1991 mid-terms), leading to President Carlos Menem 's endorsement of a separate party list in C*rdoba for the 1993 mid-term elections, and to De la Sota's failure to regain a seat in Congress.   \n",
       "3                                                                                                                                                                                                                                                                        The current members of Crime have also performed in San Francisco under the band name ''Remote Viewers``. Strike has published two works of fiction in recent years: Ports of Hell, which is listed in the Rock and Roll Hall of Fame Library, and A Loud Humming Sound Came from Above. Rank has produced numerous films (under his real name, Henry Rosenthal) including the hit The Devil and Daniel Johnston.   \n",
       "4     Her Santa Fe Opera debut in 2005 was as Nuria in the revised edition of Golijov's Ainadamar. She sang on the subsequent Deutsche Grammophon recording of the opera. For his opera Doctor Atomic, Adams rewrote the role of Kitty Oppenheimer, originally a mezzo-soprano role, for soprano voice, and Rivera sang the rewritten part of Kitty Oppenheimer at Lyric Opera of Chicago, De Nederlandse Opera, and the Metropolitan Opera., all in 2007. She has since sung several parts and roles in John Adams' works, including the soprano part in El Ni*o, and the role of Kumudha in A Flowering Tree in the Peter Sellars production at the New Crowned Hope Festival in Vienna.   \n",
       "...                                                                                                                                                                                                                                                                                                                                                                                                                                                                                                                                                                                                                                                                                    ...   \n",
       "2994                                                                                                               (He is not the same as the Mr. Richard Martin (1570--1618) who was the recorder of London, counsel for the Virginia Company and organizer of The Society of Martin's Hundred, whose subsidiary ``particular plantation'' development circa 1618-1619 was known as Martin's Hundred). Martin commanded the Benjamin under Sir Francis Drake in the 1585--86 expedition to harass the Spanish ports in the New World. On his return, Captain Martin married Mary, daughter of Robert Brandon, a prominent English goldsmith and supplier to Queen Elizabeth I of England.   \n",
       "2995                                                                                                                                                                     Feeling guilty, no doubt, for having inherited wealth, she came to deny herself some of the luxuries to which she was accustomed In compensation she collected the latest in experimental painting and gave money and meals to poor artists and writers.'' Arthur Davies, a principal organizer of the 1913 Armory Show along with John Frederick Mowbray-Clarke, was the designer of the interior of the shop. He chose a ``burning orange'' color for the walls and worked a prism of colors into the woodwork.   \n",
       "2996                                                                                                                                                                                                                                                                                                                               He was immediately taken with her, later telling his wife, Mary Horgan Mowbray-Clarke, that he had been seated between ``two of the most interesting women in America.'' One was the biographer Katharine Anthony; the other was Madge Jenison. In late 1915, she conceived the idea that ``a bookshop of a different kind must be opened in America.''   \n",
       "2997                                                                                                                                                                                                                                                       Charles arrives to tell her that all arrangements are made for her to leave with him and the company for Burma, but she refuses saying she will never marry an actor. Barmaid Kate tells Charles why Carole feels the way she does about actors: Carole's mother, Lillian Grey , was with a touring show in 1913 when the handsome star, John Beaumont raised her from the chorus to be his partner in his first West End show.   \n",
       "2998                                                                                                                                                                                                                                                                                                          It referenced several earlier hits of Neagle, including Nell Gwynn (1934) and Victoria the Great (1938). The film was made by Everest Pictures, a new production company from producer-director Herbert Wilcox. Wilcox had just made three films in collaboration with Republic Pictures, and hoped for them to finance films of two Ivor Novello musicals he had purchased.   \n",
       "\n",
       "     pron  p_offset           entity_A  offset_A is_coref_A  \\\n",
       "0     her       274     Cheryl Cassidy       191       TRUE   \n",
       "1     His       284          MacKenzie       228       TRUE   \n",
       "2     his       265            Angeloz       173      FALSE   \n",
       "3     his       321               Hell       174      FALSE   \n",
       "4     She       437  Kitty Oppenheimer       219      FALSE   \n",
       "...   ...       ...                ...       ...        ...   \n",
       "2994  his       407             Martin       427       TRUE   \n",
       "2995   He       400      Arthur Davies       251       TRUE   \n",
       "2996  she       254  Katharine Anthony       192      FALSE   \n",
       "2997  her       350             Carole       241       TRUE   \n",
       "2998   he       347             Wilcox       208       TRUE   \n",
       "\n",
       "                           entity_B  offset_B is_coref_B  \\\n",
       "0                           Pauline       207      FALSE   \n",
       "1                     Bernard Leach       251      FALSE   \n",
       "2                        De la Sota       246       TRUE   \n",
       "3                   Henry Rosenthal       336       TRUE   \n",
       "4                            Rivera       294       TRUE   \n",
       "...                             ...       ...        ...   \n",
       "2994                 Robert Brandon       460      FALSE   \n",
       "2995  John Frederick Mowbray-Clarke       323      FALSE   \n",
       "2996                  Madge Jenison       225      FALSE   \n",
       "2997                   Lillian Grey       258      FALSE   \n",
       "2998                   Ivor Novello       325      FALSE   \n",
       "\n",
       "                                                                          url  \n",
       "0     http://en.wikipedia.org/wiki/List_of_Teachers_(UK_TV_series)_characters  \n",
       "1                               http://en.wikipedia.org/wiki/Warren_MacKenzie  \n",
       "2                    http://en.wikipedia.org/wiki/Jos%C3%A9_Manuel_de_la_Sota  \n",
       "3                                   http://en.wikipedia.org/wiki/Crime_(band)  \n",
       "4                                 http://en.wikipedia.org/wiki/Jessica_Rivera  \n",
       "...                                                                       ...  \n",
       "2994                     http://en.wikipedia.org/wiki/John_Martin_(Jamestown)  \n",
       "2995                               http://en.wikipedia.org/wiki/Madge_Jenison  \n",
       "2996                               http://en.wikipedia.org/wiki/Madge_Jenison  \n",
       "2997                        http://en.wikipedia.org/wiki/Lilacs_in_the_Spring  \n",
       "2998                        http://en.wikipedia.org/wiki/Lilacs_in_the_Spring  \n",
       "\n",
       "[2999 rows x 11 columns]"
      ]
     },
     "execution_count": 118,
     "metadata": {},
     "output_type": "execute_result"
    }
   ],
   "source": []
  }
 ],
 "metadata": {
  "kernelspec": {
   "display_name": "Python 3.7.13 ('DL')",
   "language": "python",
   "name": "python3"
  },
  "language_info": {
   "codemirror_mode": {
    "name": "ipython",
    "version": 3
   },
   "file_extension": ".py",
   "mimetype": "text/x-python",
   "name": "python",
   "nbconvert_exporter": "python",
   "pygments_lexer": "ipython3",
   "version": "3.7.13"
  },
  "orig_nbformat": 4,
  "vscode": {
   "interpreter": {
    "hash": "bf37a2529baf03c803266b8d55d553bda8f92a60c47b8d9f7bdcfc02cbd55fef"
   }
  }
 },
 "nbformat": 4,
 "nbformat_minor": 2
}
