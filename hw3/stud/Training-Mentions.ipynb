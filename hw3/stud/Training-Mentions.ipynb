{
 "cells": [
  {
   "cell_type": "code",
   "execution_count": null,
   "id": "wIOz40JYJddq",
   "metadata": {
    "id": "wIOz40JYJddq"
   },
   "outputs": [],
   "source": [
    "! pip install transformers"
   ]
  },
  {
   "cell_type": "code",
   "execution_count": 1,
   "id": "3244dc15",
   "metadata": {
    "executionInfo": {
     "elapsed": 5489,
     "status": "ok",
     "timestamp": 1660751770217,
     "user": {
      "displayName": "Florin Cuconasu",
      "userId": "13345521608196528334"
     },
     "user_tz": -120
    },
    "id": "3244dc15"
   },
   "outputs": [],
   "source": [
    "from transformers import (\n",
    "    Trainer,\n",
    "    BertTokenizer,\n",
    "    AutoTokenizer,\n",
    "    BertConfig,\n",
    "    BertModel,\n",
    ")\n",
    "import transformers\n",
    "import numpy as np\n",
    "import pandas as pd\n",
    "import stanza\n",
    "\n",
    "import os\n",
    "import random\n",
    "import time\n",
    "import math\n",
    "import yaml\n",
    "import dill as pickle\n",
    "from typing import *\n",
    "from datetime import datetime\n",
    "from collections import namedtuple\n",
    "\n",
    "import torch\n",
    "from torch import nn\n",
    "from torch.utils.data import Dataset, DataLoader\n",
    "from torch.cuda.amp import GradScaler\n",
    "\n",
    "SEED = 10\n",
    "\n",
    "random.seed(SEED)\n",
    "np.random.seed(SEED)\n",
    "torch.manual_seed(SEED)\n",
    "torch.cuda.manual_seed(SEED)\n",
    "torch.cuda.manual_seed_all(SEED)\n",
    "torch.backends.cudnn.benchmark = True\n",
    "torch.backends.cudnn.deterministic = True\n",
    "\n",
    "# Display the entire text\n",
    "pd.set_option(\"display.max_colwidth\", None)"
   ]
  },
  {
   "cell_type": "code",
   "execution_count": 2,
   "id": "a1494436",
   "metadata": {},
   "outputs": [],
   "source": [
    "# stanza.download('en', processors='tokenize,pos')\n",
    "# stanza.download(lang=\"en\",package=None,processors={\"ner\":\"ontonotes\"})\n",
    "# stanza.download('en', processors='constituency')"
   ]
  },
  {
   "cell_type": "code",
   "execution_count": 4,
   "id": "58276aa2",
   "metadata": {
    "colab": {
     "base_uri": "https://localhost:8080/"
    },
    "executionInfo": {
     "elapsed": 259,
     "status": "ok",
     "timestamp": 1660751781007,
     "user": {
      "displayName": "Florin Cuconasu",
      "userId": "13345521608196528334"
     },
     "user_tz": -120
    },
    "id": "58276aa2",
    "outputId": "150bbcf1-dbcd-480d-9e85-82e77346e83f"
   },
   "outputs": [
    {
     "data": {
      "text/plain": [
       "device(type='cpu')"
      ]
     },
     "execution_count": 4,
     "metadata": {},
     "output_type": "execute_result"
    }
   ],
   "source": [
    "os.environ['CUDA_LAUNCH_BLOCKING'] = \"1\"\n",
    "\n",
    "model_name_or_path = \"bert-base-cased\"\n",
    "\n",
    "device = torch.device(\"cuda\" if torch.cuda.is_available() else \"cpu\")\n",
    "device = torch.device(\"cpu\")\n",
    "device"
   ]
  },
  {
   "cell_type": "code",
   "execution_count": 6,
   "id": "kYGIp3MoJug2",
   "metadata": {
    "colab": {
     "base_uri": "https://localhost:8080/"
    },
    "executionInfo": {
     "elapsed": 15143,
     "status": "ok",
     "timestamp": 1660751806072,
     "user": {
      "displayName": "Florin Cuconasu",
      "userId": "13345521608196528334"
     },
     "user_tz": -120
    },
    "id": "kYGIp3MoJug2",
    "outputId": "aad7d923-b163-4609-93a9-a07790cbfba2"
   },
   "outputs": [
    {
     "name": "stdout",
     "output_type": "stream",
     "text": [
      "Mounted at /content/drive/\n"
     ]
    }
   ],
   "source": [
    "from google.colab import drive\n",
    "drive.mount('/content/drive/')"
   ]
  },
  {
   "cell_type": "code",
   "execution_count": 7,
   "id": "QFqvmoaqhbyn",
   "metadata": {
    "executionInfo": {
     "elapsed": 1526,
     "status": "ok",
     "timestamp": 1660751810222,
     "user": {
      "displayName": "Florin Cuconasu",
      "userId": "13345521608196528334"
     },
     "user_tz": -120
    },
    "id": "QFqvmoaqhbyn"
   },
   "outputs": [],
   "source": [
    "curr_location = \"/content/drive/MyDrive/Colab Notebooks/Deep Learning/NLP/nlp2022-hw3/hw3/stud/\"\n",
    "os.chdir(curr_location)"
   ]
  },
  {
   "cell_type": "code",
   "execution_count": 5,
   "id": "fM1EDyRLifxE",
   "metadata": {
    "executionInfo": {
     "elapsed": 1348,
     "status": "ok",
     "timestamp": 1660751818200,
     "user": {
      "displayName": "Florin Cuconasu",
      "userId": "13345521608196528334"
     },
     "user_tz": -120
    },
    "id": "fM1EDyRLifxE"
   },
   "outputs": [],
   "source": [
    "from arguments import CustomTrainingArguments"
   ]
  },
  {
   "cell_type": "code",
   "execution_count": 6,
   "id": "3633ef51",
   "metadata": {
    "executionInfo": {
     "elapsed": 279,
     "status": "ok",
     "timestamp": 1660751819788,
     "user": {
      "displayName": "Florin Cuconasu",
      "userId": "13345521608196528334"
     },
     "user_tz": -120
    },
    "id": "3633ef51"
   },
   "outputs": [],
   "source": [
    "train_clean_path = \"../../model/data/train_clean.tsv\"\n",
    "valid_clean_path = \"../../model/data/valid_clean.tsv\""
   ]
  },
  {
   "cell_type": "code",
   "execution_count": 7,
   "id": "B1CvSmUrKc1y",
   "metadata": {
    "executionInfo": {
     "elapsed": 1177,
     "status": "ok",
     "timestamp": 1660751822725,
     "user": {
      "displayName": "Florin Cuconasu",
      "userId": "13345521608196528334"
     },
     "user_tz": -120
    },
    "id": "B1CvSmUrKc1y"
   },
   "outputs": [],
   "source": [
    "df_train = pd.read_csv(filepath_or_buffer=train_clean_path, sep=\"\\t\")\n",
    "df_valid = pd.read_csv(filepath_or_buffer=valid_clean_path, sep=\"\\t\")"
   ]
  },
  {
   "cell_type": "markdown",
   "id": "677693f1",
   "metadata": {},
   "source": [
    "Is a token classification: for each token I need to say if it is ambiguous or not. "
   ]
  },
  {
   "cell_type": "code",
   "execution_count": 6,
   "id": "c4ccf9f6",
   "metadata": {},
   "outputs": [],
   "source": [
    "# I should introduce a mention tag for the pronoun"
   ]
  },
  {
   "cell_type": "code",
   "execution_count": 7,
   "id": "1f5ec9c1",
   "metadata": {
    "id": "1f5ec9c1"
   },
   "outputs": [],
   "source": [
    "FEMININE = 0\n",
    "MASCULINE = 1\n",
    "UNKNOWN = 2\n",
    "\n",
    "def get_gender(pronoun: str):\n",
    "    gender_mapping = {\n",
    "        'she': FEMININE,\n",
    "        'her': FEMININE,\n",
    "        'he': MASCULINE,\n",
    "        'his': MASCULINE,\n",
    "        'him': MASCULINE,\n",
    "    }\n",
    "\n",
    "    return gender_mapping.get(pronoun.lower(), UNKNOWN)"
   ]
  },
  {
   "cell_type": "markdown",
   "id": "7dfba488",
   "metadata": {},
   "source": [
    "# For training don't consider neither"
   ]
  },
  {
   "cell_type": "code",
   "execution_count": 8,
   "id": "45423e86",
   "metadata": {},
   "outputs": [],
   "source": [
    "class GAP_AmbiguousDetection_Dataset(Dataset):\n",
    "    \"\"\"Custom GAP Dataset class\"\"\"\n",
    "\n",
    "    def __init__(self, df, tokenizer, stanza_processor, tag_labels, labeled=True):\n",
    "        self.df = df\n",
    "\n",
    "        self.labeled = labeled\n",
    "        self.tokenizer = tokenizer\n",
    "        self.stanza_processor = stanza_processor\n",
    "        self.tag_labels = tag_labels\n",
    "        \n",
    "        self.samples = []\n",
    "        self._convert_tokens_to_ids()\n",
    "        \n",
    "        \n",
    "    def _assign_class_to_tokens(self, entities_offsets, coreferent_ent_offset):\n",
    "        labels = []\n",
    "        for offset in entities_offsets:\n",
    "            if coreferent_ent_offset is not None and offset == coreferent_ent_offset[0]:\n",
    "                labels.append(2)\n",
    "            else:\n",
    "                labels.append(1)\n",
    "                \n",
    "        return labels  \n",
    "        \n",
    "    def _convert_tokens_to_ids(self):\n",
    "        CLS = [self.tokenizer.cls_token]\n",
    "        SEP = [self.tokenizer.sep_token]\n",
    "        \n",
    "        tag_labels = self.tag_labels\n",
    "        pronoun_tag = tag_labels['pronoun_tag']\n",
    "        start_entity_tag = tag_labels['start_entity_tag']\n",
    "        end_entity_tag = tag_labels['end_entity_tag']\n",
    "        start_coref_entity_tag = tag_labels['start_coref_entity_tag']\n",
    "        end_coref_entity_tag = tag_labels['end_coref_entity_tag']\n",
    "        \n",
    "        Sample = namedtuple(\"Sample\", ['tokens', 'start_entities_offsets', 'end_entities_offsets', 'coreferent_ent_offset', 'ambiguous_pron_offset'])\n",
    "        if self.labeled:\n",
    "            Sample = namedtuple(\"Sample\", Sample._fields + (\"labels\",))\n",
    "\n",
    "        for _, row in self.df.iterrows():\n",
    "            coreferent_ent_offset_tuple = None\n",
    "            tokens, entities_offsets = self.tokenize(row)\n",
    "            tokens_to_convert = CLS + tokens + SEP\n",
    "            sample = {'tokens': self.tokenizer.convert_tokens_to_ids(tokens_to_convert)}\n",
    "            \n",
    "            # Because of the introduction of CLS we have to add 1 to the offsets\n",
    "            if entities_offsets[pronoun_tag]:\n",
    "                sample['ambiguous_pron_offset'] = entities_offsets[pronoun_tag][0] + 1\n",
    "            if entities_offsets[start_coref_entity_tag]:\n",
    "                coreferent_ent_offset_tuple = (entities_offsets[start_coref_entity_tag][0] + 1, \n",
    "                                               entities_offsets[end_coref_entity_tag][0] + 1)\n",
    " \n",
    "            sample['coreferent_ent_offset'] = coreferent_ent_offset_tuple\n",
    "\n",
    "            start_entities_offsets = [off + 1 for off in entities_offsets[start_entity_tag]]\n",
    "            end_entities_offsets = [off + 1 for off in entities_offsets[end_entity_tag]]\n",
    "\n",
    "            \n",
    "            # all_entities_offsets = list(zip([off + 1 for off in entities_offsets[start_entity_tag]], \n",
    "            #                                 [off + 1 for off in entities_offsets[end_entity_tag]]))\n",
    "\n",
    "            if coreferent_ent_offset_tuple is not None:\n",
    "                # Add coreferent mention offsets\n",
    "                start_entities_offsets = sorted(start_entities_offsets + [coreferent_ent_offset_tuple[0]])\n",
    "                end_entities_offsets = sorted(end_entities_offsets + [coreferent_ent_offset_tuple[1]])\n",
    "                # all_entities_offsets = sorted(all_entities_offsets + [coreferent_ent_offset_tuple])\n",
    "            \n",
    "            # sample['all_entities_offsets'] = all_entities_offsets\n",
    "            sample['start_entities_offsets'] = start_entities_offsets\n",
    "            sample['end_entities_offsets'] = end_entities_offsets\n",
    "            \n",
    "\n",
    "\n",
    "            if self.labeled:\n",
    "                # sample['labels'] = self._assign_class_to_tokens(all_entities_offsets, coreferent_ent_offset_tuple)\n",
    "                sample['labels'] = self._assign_class_to_tokens(start_entities_offsets, coreferent_ent_offset_tuple)\n",
    "\n",
    "            sample_namedtuple = Sample(**sample)\n",
    "            self.samples.append(sample_namedtuple)\n",
    "    \n",
    "    @staticmethod\n",
    "    def get_coreferent_entity_offset(row):\n",
    "        not_coref_A = row[\"is_coref_A\"] in [\"FALSE\", False]\n",
    "        not_coref_B = row[\"is_coref_B\"] in [\"FALSE\", False]\n",
    "        if not_coref_A and not_coref_B:\n",
    "            return -1\n",
    "        is_coref_A = row[\"is_coref_A\"] in [\"TRUE\", True]\n",
    "        return row[\"offset_A\"] if is_coref_A else row[\"offset_B\"]\n",
    "    \n",
    "    def _delimit_entities(self, row):\n",
    "        \n",
    "        text = row['text']\n",
    "        pronoun_offset = row['p_offset']\n",
    "\n",
    "        coreferent_entity_offset = -1\n",
    "        if self.labeled:\n",
    "            coreferent_entity_offset = self.get_coreferent_entity_offset(row)\n",
    "        \n",
    "        # Parse the text using 'stanza'\n",
    "        doc_processed = self.stanza_processor(text)\n",
    "        \n",
    "        tag_labels = self.tag_labels\n",
    "        pronoun_tag = tag_labels['pronoun_tag']\n",
    "        start_entity_tag = tag_labels['start_entity_tag']\n",
    "        end_entity_tag = tag_labels['end_entity_tag']\n",
    "        start_coref_entity_tag = tag_labels['start_coref_entity_tag']\n",
    "        end_coref_entity_tag = tag_labels['end_coref_entity_tag']\n",
    "         \n",
    "#         offsets = []\n",
    "        count_entities = 0\n",
    "\n",
    "        # Insert pronoun tag\n",
    "        text = self._insert_tag(text, (pronoun_offset, None), pronoun_tag)\n",
    "\n",
    "        # Number of characters inserted to delimit an entity\n",
    "        len_tags = len(start_entity_tag) + len(end_entity_tag)\n",
    "\n",
    "        for ent in doc_processed.ents:\n",
    "            if ent.type == \"PERSON\":\n",
    "                # For every tag inserted we have to shift the offsets by the tag length\n",
    "                start_off = ent.start_char + len_tags*count_entities\n",
    "                end_off = ent.end_char + len_tags*count_entities\n",
    "\n",
    "                \n",
    "                # Because of the new tags, also the pronoun and the coreferent entity offsets are shifted\n",
    "                current_coreferent_entity_offset = coreferent_entity_offset + len_tags*count_entities\n",
    "                current_pronoun_offset = pronoun_offset + len_tags*count_entities\n",
    "                if start_off > current_pronoun_offset:\n",
    "                    start_off += len(pronoun_tag)\n",
    "                    end_off += len(pronoun_tag)\n",
    "                    current_coreferent_entity_offset += len(pronoun_tag)\n",
    "\n",
    "#                 offsets.append((start_off, end_off))\n",
    "                \n",
    "                # In order to identify the coreferent entity, I use special tags\n",
    "                if coreferent_entity_offset != -1 and start_off == current_coreferent_entity_offset:\n",
    "                    text = self._insert_tag(text, (start_off, end_off), start_coref_entity_tag, end_coref_entity_tag)\n",
    "\n",
    "                else:\n",
    "                    text = self._insert_tag(text, (start_off, end_off), start_entity_tag, end_entity_tag)\n",
    "                \n",
    "                count_entities += 1\n",
    "        \n",
    "        return text\n",
    "        \n",
    "\n",
    "    def _insert_tag(self, text, offsets, start_tag: str, end_tag: str = None):\n",
    "        start_off, end_off = offsets \n",
    "\n",
    "        # Starting tag only\n",
    "        if end_tag is None:\n",
    "            text = text[:start_off] + start_tag + text[start_off:]\n",
    "            return text\n",
    "\n",
    "        text = text[:start_off] + start_tag + text[start_off:end_off] + end_tag + text[end_off:]\n",
    "        return text\n",
    "    \n",
    "    \n",
    "    def tokenize(self, row):\n",
    "        final_tokens = []\n",
    "        tag_labels = self.tag_labels\n",
    "        entities_offsets = {tag: [] for tag in tag_labels.values()}\n",
    "        \n",
    "        start_entity_tag = tag_labels['start_entity_tag']\n",
    "        end_entity_tag = tag_labels['end_entity_tag']\n",
    "        start_coref_entity_tag = tag_labels['start_coref_entity_tag']\n",
    "        end_coref_entity_tag = tag_labels['end_coref_entity_tag']\n",
    "\n",
    "\n",
    "        text = self._delimit_entities(row)\n",
    "        \n",
    "        for token in self.tokenizer.tokenize(text):       \n",
    "            if token in [*tag_labels.values()]:\n",
    "                entities_offsets[token].append(len(final_tokens)) \n",
    "                continue\n",
    "            \n",
    "            # Replace the special tags with the general entity tags \n",
    "            if token == start_coref_entity_tag:\n",
    "                final_tokens.append(start_entity_tag)\n",
    "\n",
    "            elif token == end_coref_entity_tag:\n",
    "                final_tokens.append(end_entity_tag)\n",
    "\n",
    "            else:\n",
    "                final_tokens.append(token)\n",
    "\n",
    "        return final_tokens, entities_offsets\n",
    "\n",
    "    def __len__(self):\n",
    "        return len(self.samples)\n",
    "\n",
    "    def __getitem__(self, idx):\n",
    "        return self.samples[idx]"
   ]
  },
  {
   "cell_type": "code",
   "execution_count": 162,
   "id": "3a63d4a0",
   "metadata": {},
   "outputs": [],
   "source": [
    "df_train_neither_ent = df_train.loc[(df_train['is_coref_A'] == False) & (df_train['is_coref_B'] == False)]\n",
    "# df_train_trues = df_train.loc[(df_train['is_coref_A'] == True) | (df_train['is_coref_B'] == True)]\n",
    "# df_valid_trues = df_valid.loc[(df_valid['is_coref_A'] == True) | (df_valid['is_coref_B'] == True)]"
   ]
  },
  {
   "cell_type": "code",
   "execution_count": 217,
   "id": "e97196f4",
   "metadata": {},
   "outputs": [],
   "source": [
    "# df_train_neither_ent"
   ]
  },
  {
   "cell_type": "code",
   "execution_count": 9,
   "id": "0bdf09b3",
   "metadata": {},
   "outputs": [],
   "source": [
    "tag_labels = {\n",
    "    \"pronoun_tag\": \"<P>\",\n",
    "    \"start_entity_tag\": \"<E>\",\n",
    "    \"end_entity_tag\": \"</E>\",\n",
    "    \"start_coref_entity_tag\": \"<C>\",\n",
    "    \"end_coref_entity_tag\": \"</C>\"\n",
    "}"
   ]
  },
  {
   "cell_type": "code",
   "execution_count": 10,
   "id": "e6844631",
   "metadata": {
    "id": "e6844631"
   },
   "outputs": [
    {
     "name": "stderr",
     "output_type": "stream",
     "text": [
      "2022-08-27 10:38:57 INFO: Loading these models for language: en (English):\n",
      "=========================\n",
      "| Processor | Package   |\n",
      "-------------------------\n",
      "| tokenize  | combined  |\n",
      "| ner       | ontonotes |\n",
      "=========================\n",
      "\n",
      "2022-08-27 10:38:57 INFO: Use device: gpu\n",
      "2022-08-27 10:38:57 INFO: Loading: tokenize\n",
      "2022-08-27 10:39:00 INFO: Loading: ner\n",
      "2022-08-27 10:39:00 INFO: Done loading processors!\n"
     ]
    }
   ],
   "source": [
    "model_name_or_path = \"../../model/tokenizer/\"\n",
    "tokenizer = AutoTokenizer.from_pretrained(model_name_or_path)\n",
    "stanza_processor = stanza.Pipeline(lang='en', processors='tokenize,ner')"
   ]
  },
  {
   "cell_type": "code",
   "execution_count": 17,
   "id": "7997cbe1",
   "metadata": {
    "executionInfo": {
     "elapsed": 5692,
     "status": "ok",
     "timestamp": 1660751846338,
     "user": {
      "displayName": "Florin Cuconasu",
      "userId": "13345521608196528334"
     },
     "user_tz": -120
    },
    "id": "7997cbe1"
   },
   "outputs": [],
   "source": [
    "train_ds = GAP_AmbiguousDetection_Dataset(df_train[:50], tokenizer, stanza_processor, tag_labels)\n",
    "valid_ds = GAP_AmbiguousDetection_Dataset(df_valid[:30], tokenizer, stanza_processor, tag_labels)"
   ]
  },
  {
   "cell_type": "code",
   "execution_count": 11,
   "id": "02cca986",
   "metadata": {},
   "outputs": [],
   "source": [
    "train_ds_save_path = \"../../model/datasets/train_no_tags.ds\"\n",
    "valid_ds_save_path = \"../../model/datasets/valid_no_tags.ds\"\n"
   ]
  },
  {
   "cell_type": "code",
   "execution_count": 12,
   "id": "df910ac3",
   "metadata": {},
   "outputs": [],
   "source": [
    "# with open(train_ds_save_path, 'wb') as file:\n",
    "#     pickle.dump(train_ds, file)"
   ]
  },
  {
   "cell_type": "code",
   "execution_count": 13,
   "id": "41a61db8",
   "metadata": {},
   "outputs": [],
   "source": [
    "# with open(valid_ds_save_path, 'wb') as file:\n",
    "#     pickle.dump(valid_ds, file)"
   ]
  },
  {
   "cell_type": "code",
   "execution_count": 14,
   "id": "f24b1266",
   "metadata": {},
   "outputs": [],
   "source": [
    "with open(train_ds_save_path, 'rb') as file:\n",
    "    train_ds = pickle.load(file)\n",
    "\n",
    "with open(valid_ds_save_path, 'rb') as file:\n",
    "    valid_ds = pickle.load(file)"
   ]
  },
  {
   "cell_type": "code",
   "execution_count": 12,
   "id": "accf23c0",
   "metadata": {},
   "outputs": [
    {
     "data": {
      "text/plain": [
       "\"Reb Chaim Yaakov's wife is the sister of Rabbi Moishe Sternbuch, as is the wife of Rabbi Meshulam Dovid Soloveitchik, making the two Rabbis his uncles. Reb Asher's brother Rabbi Shlomo Arieli is the author of a critical edition of the novallae of Rabbi Akiva Eiger. Before his marriage, Rabbi Arieli studied in the Ponevezh Yeshiva headed by Rabbi Shmuel Rozovsky, and he later studied under his father-in-law in the Mirrer Yeshiva.\""
      ]
     },
     "execution_count": 12,
     "metadata": {},
     "output_type": "execute_result"
    }
   ],
   "source": [
    "idx = 6\n",
    "sent = df_train['text'][idx]\n",
    "sent"
   ]
  },
  {
   "cell_type": "code",
   "execution_count": 47,
   "id": "5e55e644",
   "metadata": {},
   "outputs": [
    {
     "data": {
      "text/plain": [
       "id                                                                                                                                                                                                                                                                                                                                                                                                                                               train-1\n",
       "text          Zoe Telford -- played the police officer girlfriend of Simon, Maggie. Dumped by Simon in the final episode of series 1, after he slept with Jenny, and is not seen again. Phoebe Thomas played Cheryl Cassidy, Pauline's friend and also a year 11 pupil in Simon's class. Dumped her boyfriend following Simon's advice after he wouldn't have sex with her but later realised this was due to him catching crabs off her friend Pauline.\n",
       "pron                                                                                                                                                                                                                                                                                                                                                                                                                                                 her\n",
       "p_offset                                                                                                                                                                                                                                                                                                                                                                                                                                             274\n",
       "entity_A                                                                                                                                                                                                                                                                                                                                                                                                                                  Cheryl Cassidy\n",
       "offset_A                                                                                                                                                                                                                                                                                                                                                                                                                                             191\n",
       "is_coref_A                                                                                                                                                                                                                                                                                                                                                                                                                                          True\n",
       "entity_B                                                                                                                                                                                                                                                                                                                                                                                                                                         Pauline\n",
       "offset_B                                                                                                                                                                                                                                                                                                                                                                                                                                             207\n",
       "is_coref_B                                                                                                                                                                                                                                                                                                                                                                                                                                         False\n",
       "url                                                                                                                                                                                                                                                                                                                                                                              http://en.wikipedia.org/wiki/List_of_Teachers_(UK_TV_series)_characters\n",
       "Name: 0, dtype: object"
      ]
     },
     "execution_count": 47,
     "metadata": {},
     "output_type": "execute_result"
    }
   ],
   "source": [
    "df_train.iloc[idx]"
   ]
  },
  {
   "cell_type": "code",
   "execution_count": 53,
   "id": "dbeafb63",
   "metadata": {},
   "outputs": [
    {
     "name": "stdout",
     "output_type": "stream",
     "text": [
      "162\n",
      "1281\n",
      "1730\n",
      "2309\n",
      "2472\n",
      "2592\n"
     ]
    }
   ],
   "source": [
    "for i in range(len(train_ds)):\n",
    "    if len(train_ds[i].labels) == 0:\n",
    "        print(i)"
   ]
  },
  {
   "cell_type": "code",
   "execution_count": 99,
   "id": "d85d4946",
   "metadata": {},
   "outputs": [
    {
     "data": {
      "text/plain": [
       "'Lemhouse entered school to pursue a degree in Visual Communications (Graphic Design). Upon finishing school he started Lemhouse Design.'"
      ]
     },
     "execution_count": 99,
     "metadata": {},
     "output_type": "execute_result"
    }
   ],
   "source": [
    "sent[209:]"
   ]
  },
  {
   "cell_type": "code",
   "execution_count": 71,
   "id": "eedaa5a9",
   "metadata": {},
   "outputs": [
    {
     "data": {
      "text/plain": [
       "Sample(tokens=[101, 3414, 4934, 1968, 1144, 1145, 1125, 4374, 3573, 1107, 1199, 1476, 2441, 117, 1259, 7206, 3089, 1399, 117, 4266, 1399, 113, 2679, 114, 117, 21129, 113, 2678, 114, 117, 1109, 8947, 1183, 10341, 113, 2573, 114, 117, 12050, 1106, 9322, 2706, 113, 2573, 114, 117, 19869, 112, 18653, 1693, 113, 2477, 114, 117, 1109, 2896, 12853, 2772, 113, 2424, 114, 117, 3369, 112, 5581, 113, 2449, 114, 117, 1109, 1130, 118, 12077, 113, 2333, 114, 117, 2185, 1335, 1752, 27400, 1162, 113, 2253, 114, 117, 1109, 4254, 20092, 3291, 4455, 1513, 1107, 1738, 113, 2253, 114, 117, 1422, 17037, 2772, 113, 2278, 114, 117, 1109, 5135, 1104, 9859, 13335, 7008, 113, 1997, 114, 1105, 138, 3921, 20840, 113, 1630, 114, 119, 2611, 1107, 29000, 1123, 1578, 117, 1131, 1310, 3679, 3176, 119, 102], start_entities_offsets=[], end_entities_offsets=[], coreferent_ent_offset=None, ambiguous_pron_offset=125, labels=[])"
      ]
     },
     "execution_count": 71,
     "metadata": {},
     "output_type": "execute_result"
    }
   ],
   "source": [
    "train_ds[idx]"
   ]
  },
  {
   "cell_type": "code",
   "execution_count": 41,
   "id": "b31404c1",
   "metadata": {},
   "outputs": [
    {
     "data": {
      "text/plain": [
       "'her'"
      ]
     },
     "execution_count": 41,
     "metadata": {},
     "output_type": "execute_result"
    }
   ],
   "source": [
    "tokenizer.convert_ids_to_tokens(1123)"
   ]
  },
  {
   "cell_type": "code",
   "execution_count": 18,
   "id": "d8d5fc04",
   "metadata": {},
   "outputs": [],
   "source": [
    "def insert_tag(text, offsets, start_tag: str, end_tag: str = None):\n",
    "    start_off, end_off = offsets \n",
    "\n",
    "    # Starting tag only\n",
    "    if end_tag is None:\n",
    "        text = text[:start_off] + start_tag + text[start_off:]\n",
    "        return text\n",
    "\n",
    "    text = text[:start_off] + start_tag + text[start_off:end_off] + end_tag + text[end_off:]\n",
    "    return text"
   ]
  },
  {
   "cell_type": "code",
   "execution_count": 92,
   "id": "4013eb44",
   "metadata": {},
   "outputs": [
    {
     "data": {
      "text/plain": [
       "\"<E>Reb Chaim Yaakov's</E> wife is the sister of <E>Rabbi Moishe Sternbuch</E>, as is the wife of <E>Rabbi Meshulam Dovid Soloveitchik</E>, making the two Rabbis his uncles. <E>Reb Asher's</E> brother <E>Rabbi Shlomo Arieli</E> is the author of a critical edition of the novallae of <E>Rabbi Akiva Eiger</E>. Before <P>his marriage, <E>Rabbi Arieli</E> studied in the Ponevezh Yeshiva headed by <E>Rabbi Shmuel Rozovsky</E>, and he later studied under his father-in-law in the Mirrer Yeshiva.\""
      ]
     },
     "execution_count": 92,
     "metadata": {},
     "output_type": "execute_result"
    }
   ],
   "source": [
    "text = sent\n",
    "pronoun_offset = df_train['p_offset'][idx]\n",
    "coref_ds = df_train.iloc[idx]\n",
    "coreferent_entity_offset = GAP_AmbiguousDetection_Dataset.get_coreferent_entity_offset(coref_ds)\n",
    "# coreferent_entity_offset = -1\n",
    "# Parse the text using 'stanza'\n",
    "doc_processed = stanza_processor(text)\n",
    "\n",
    "pronoun_tag = tag_labels['pronoun_tag']\n",
    "start_entity_tag = tag_labels['start_entity_tag']\n",
    "end_entity_tag = tag_labels['end_entity_tag']\n",
    "start_coref_entity_tag = tag_labels['start_coref_entity_tag']\n",
    "end_coref_entity_tag = tag_labels['end_coref_entity_tag']\n",
    "    \n",
    "#         offsets = []\n",
    "count_entities = 0\n",
    "\n",
    "# Insert pronoun tag\n",
    "text = insert_tag(text, (pronoun_offset, None), pronoun_tag)\n",
    "\n",
    "# Number of characters inserted to delimit an entity\n",
    "len_tags = len(start_entity_tag) + len(end_entity_tag)\n",
    "doc_processed = stanza_processor(sent)\n",
    "\n",
    "for ent in doc_processed.ents:\n",
    "    if ent.type == \"PERSON\":\n",
    "        # For every tag inserted we have to shift the offsets by the tag length\n",
    "        start_off = ent.start_char + len_tags*count_entities\n",
    "        end_off = ent.end_char + len_tags*count_entities\n",
    "\n",
    "        \n",
    "        # Because of the new tags, also the pronoun and the coreferent entity offsets are shifted\n",
    "        current_coreferent_entity_offset = coreferent_entity_offset + len_tags*count_entities\n",
    "        current_pronoun_offset = pronoun_offset + len_tags*count_entities\n",
    "        if start_off > current_pronoun_offset:\n",
    "            start_off += len(pronoun_tag)\n",
    "            end_off += len(pronoun_tag)\n",
    "            current_coreferent_entity_offset += len(pronoun_tag)\n",
    "\n",
    "#                 offsets.append((start_off, end_off))\n",
    "        \n",
    "        # In order to identify the coreferent entity, I use special tags\n",
    "        if coreferent_entity_offset != -1 and start_off == current_coreferent_entity_offset:\n",
    "            text = insert_tag(text, (start_off, end_off), start_coref_entity_tag, end_coref_entity_tag)\n",
    "\n",
    "        else:\n",
    "            text = insert_tag(text, (start_off, end_off), start_entity_tag, end_entity_tag)\n",
    "        \n",
    "        count_entities += 1\n",
    "\n",
    "text\n",
    "        "
   ]
  },
  {
   "cell_type": "code",
   "execution_count": 20,
   "id": "13177dbc",
   "metadata": {},
   "outputs": [],
   "source": [
    "# for e in doc_processed.ents:\n",
    "#     print(e) if e.type == \"ORG\" else None"
   ]
  },
  {
   "cell_type": "code",
   "execution_count": 21,
   "id": "03da7b5b",
   "metadata": {},
   "outputs": [],
   "source": [
    "# print([(ent.text, ent.type )for ent in doc_processed.ents])"
   ]
  },
  {
   "cell_type": "code",
   "execution_count": 99,
   "id": "38c62c4c",
   "metadata": {},
   "outputs": [],
   "source": [
    "def tokenize(text):\n",
    "    entities_offsets = {tag: [] for tag in tag_labels.values()}\n",
    "    final_tokens = []\n",
    "    \n",
    "    start_entity_tag = tag_labels['start_entity_tag']\n",
    "    end_entity_tag = tag_labels['end_entity_tag']\n",
    "    start_coref_entity_tag = tag_labels['start_coref_entity_tag']\n",
    "    end_coref_entity_tag = tag_labels['end_coref_entity_tag']\n",
    "\n",
    "    \n",
    "    for token in tokenizer.tokenize(text):\n",
    "        # Replace the special tags with the general entity tags\n",
    "        if token in [*tag_labels.values()]:\n",
    "            # If end tag, append the index of previous token\n",
    "#             if \"/\" in token:\n",
    "#                 entities_offsets[token].append(len(final_tokens) - 1)\n",
    "\n",
    "#             else:\n",
    "            entities_offsets[token].append(len(final_tokens))\n",
    "                \n",
    "            continue\n",
    "                \n",
    "        if token == start_coref_entity_tag:\n",
    "            final_tokens.append(start_entity_tag)\n",
    "\n",
    "        elif token == end_coref_entity_tag:\n",
    "            final_tokens.append(end_entity_tag)\n",
    "\n",
    "        else:\n",
    "            final_tokens.append(token)\n",
    "\n",
    "    print(final_tokens, entities_offsets)\n",
    "    return final_tokens, entities_offsets"
   ]
  },
  {
   "cell_type": "code",
   "execution_count": 100,
   "id": "86f76284",
   "metadata": {},
   "outputs": [
    {
     "name": "stdout",
     "output_type": "stream",
     "text": [
      "['Re', '##b', 'Cha', '##im', 'Ya', '##ak', '##ov', \"'\", 's', 'wife', 'is', 'the', 'sister', 'of', 'Rabbi', 'Mo', '##ish', '##e', 'Stern', '##bu', '##ch', ',', 'as', 'is', 'the', 'wife', 'of', 'Rabbi', 'Me', '##shu', '##lam', 'Do', '##vid', 'Solo', '##ve', '##itch', '##ik', ',', 'making', 'the', 'two', 'Rabbi', '##s', 'his', 'uncle', '##s', '.', 'Re', '##b', 'Asher', \"'\", 's', 'brother', 'Rabbi', 'S', '##hl', '##omo', 'Ariel', '##i', 'is', 'the', 'author', 'of', 'a', 'critical', 'edition', 'of', 'the', 'no', '##val', '##la', '##e', 'of', 'Rabbi', 'A', '##ki', '##va', 'E', '##iger', '.', 'Before', 'his', 'marriage', ',', 'Rabbi', 'Ariel', '##i', 'studied', 'in', 'the', 'Po', '##ne', '##vez', '##h', 'Yes', '##hiva', 'headed', 'by', 'Rabbi', 'S', '##hm', '##uel', 'R', '##oz', '##ovsky', ',', 'and', 'he', 'later', 'studied', 'under', 'his', 'father', '-', 'in', '-', 'law', 'in', 'the', 'Mir', '##rer', 'Yes', '##hiva', '.'] {'<P>': [81], '<E>': [0, 14, 27, 47, 53, 73, 84, 98], '</E>': [9, 21, 37, 52, 59, 79, 87, 105], '<C>': [], '</C>': []}\n"
     ]
    }
   ],
   "source": [
    "tokens, offsets = tokenize(text)"
   ]
  },
  {
   "cell_type": "code",
   "execution_count": 98,
   "id": "2d1a971f",
   "metadata": {},
   "outputs": [
    {
     "data": {
      "text/plain": [
       "['<E>', 'Rabbi', 'S', '##hm', '##uel', 'R', '##oz', '##ovsky']"
      ]
     },
     "execution_count": 98,
     "metadata": {},
     "output_type": "execute_result"
    }
   ],
   "source": [
    "tokens[113:121]"
   ]
  },
  {
   "cell_type": "code",
   "execution_count": 27,
   "id": "1e7b0bc3",
   "metadata": {},
   "outputs": [
    {
     "data": {
      "text/plain": [
       "'<E>Killian</E> in 1978--79, an assistant district attorney for Brunswick Judicial Circuit in 1979--80, and a practicing attorney in Glynn County in 1980--90. <E>Williams</E> was elected a Superior Court judge in 1990, taking the bench in 1991. In November 2010 <C>Williams</C> competed against <E>Mary Helen Moses</E> in <P>her most recent bid for re-election.'"
      ]
     },
     "execution_count": 27,
     "metadata": {},
     "output_type": "execute_result"
    }
   ],
   "source": [
    "text"
   ]
  },
  {
   "cell_type": "code",
   "execution_count": 15,
   "id": "2b1fb987",
   "metadata": {},
   "outputs": [],
   "source": [
    "class Collator:\n",
    "    def __init__(self, device, labeled=True):\n",
    "        self.device = device\n",
    "        self.labeled = labeled\n",
    "        \n",
    "    def __call__(self, batch, truncate_len=512):\n",
    "        \"\"\"Batch preparation.\n",
    "\n",
    "        1. Pad the sequences\n",
    "        2. Transform the target.\n",
    "        \"\"\"\n",
    "\n",
    "        # ['tokens', 'all_entities_offsets', 'coreferent_ent_offset', 'ambiguous_pron_offset', 'labels']\n",
    "        if self.labeled:\n",
    "            batch_features, batch_start_entities_offsets, batch_end_entities_offsets, _, _, batch_labels = zip(*batch)\n",
    "        \n",
    "        else:\n",
    "            batch_features, batch_start_entities_offsets, batch_end_entities_offsets, _, _ = zip(*batch)\n",
    "        \n",
    "        collate_sample = {}\n",
    "\n",
    "        max_len_features_in_batch = self.compute_max_len(batch_features, truncate_len)\n",
    "        max_len_offsets_in_batch = self.compute_max_len(batch_start_entities_offsets, truncate_len)\n",
    "\n",
    "        # Features        \n",
    "        padded_features = self.pad_sequence(batch_features, max_len_features_in_batch, 0)\n",
    "        features_tensor = torch.tensor(padded_features, device=device)\n",
    "        collate_sample['features'] = features_tensor\n",
    "\n",
    "        # Offsets\n",
    "        padded_start_entities_offsets = self.pad_sequence(batch_start_entities_offsets, max_len_offsets_in_batch, 0)\n",
    "        start_entities_offsets_tensor = torch.tensor(padded_start_entities_offsets, device=device)\n",
    "        # collate_sample['start_entities_offsets'] = start_entities_offsets_tensor\n",
    "\n",
    "        padded_end_entities_offsets = self.pad_sequence(batch_end_entities_offsets, max_len_offsets_in_batch, 0)\n",
    "        end_entities_offsets_tensor = torch.tensor(padded_end_entities_offsets, device=device)\n",
    "        # collate_sample['end_entities_offsets'] = end_entities_offsets_tensor\n",
    "\n",
    "        collate_sample['entities_offsets'] = list(zip(start_entities_offsets_tensor, end_entities_offsets_tensor))\n",
    "\n",
    "        # Labels\n",
    "        if not self.labeled:\n",
    "            return collate_sample\n",
    "\n",
    "        padded_labels = self.pad_sequence(batch_labels, max_len_offsets_in_batch, 0)\n",
    "        labels_tensor = torch.tensor(padded_labels, dtype=torch.uint8, device=device)\n",
    "        collate_sample['labels'] = labels_tensor\n",
    "        \n",
    "        return collate_sample\n",
    "    \n",
    "    @staticmethod\n",
    "    def compute_max_len(sentences, truncate_len) -> int:\n",
    "        # calculate the max sentence length in the dataset\n",
    "        max_len = min(\n",
    "            max((len(x) for x in sentences)),\n",
    "            truncate_len\n",
    "        )\n",
    "        return max_len\n",
    "    \n",
    "    @staticmethod\n",
    "    def pad_sequence(list_sequences: List[List[Any]], max_len: int, pad: int) -> List[Any]:\n",
    "    \n",
    "        features = np.full((len(list_sequences), max_len), pad, dtype=np.int64)\n",
    "\n",
    "        # Padding\n",
    "        for i, row in enumerate(list_sequences):\n",
    "            features[i, :len(row)] = row\n",
    "\n",
    "        return features"
   ]
  },
  {
   "cell_type": "code",
   "execution_count": 46,
   "id": "3eead60e",
   "metadata": {},
   "outputs": [],
   "source": [
    "def collate(batch, labeled = True, truncate_len=512):\n",
    "    # ['tokens', 'all_entities_offsets', 'coreferent_ent_offset', 'ambiguous_pron_offset', 'labels']\n",
    "    if labeled:\n",
    "        batch_features, batch_start_entities_offsets, batch_end_entities_offsets, _, _, batch_labels = zip(*batch)\n",
    "    \n",
    "    else:\n",
    "        batch_features, batch_start_entities_offsets, batch_end_entities_offsets, _, _ = zip(*batch)\n",
    "    \n",
    "    collate_sample = {}\n",
    "\n",
    "    max_len_features_in_batch = compute_max_len(batch_features, truncate_len)\n",
    "    max_len_offsets_in_batch = compute_max_len(batch_start_entities_offsets, truncate_len)\n",
    "\n",
    "    # Features        \n",
    "    padded_features = pad_sequence(batch_features, max_len_features_in_batch, 0)\n",
    "    features_tensor = torch.tensor(padded_features, device=device)\n",
    "    collate_sample['features'] = features_tensor\n",
    "\n",
    "    # Offsets\n",
    "    padded_start_entities_offsets = pad_sequence(batch_start_entities_offsets, max_len_offsets_in_batch, 0)\n",
    "    start_entities_offsets_tensor = torch.tensor(padded_start_entities_offsets, device=device)\n",
    "    # collate_sample['start_entities_offsets'] = start_entities_offsets_tensor\n",
    "\n",
    "    padded_end_entities_offsets = pad_sequence(batch_end_entities_offsets, max_len_offsets_in_batch, 0)\n",
    "    end_entities_offsets_tensor = torch.tensor(padded_end_entities_offsets, device=device)\n",
    "    # collate_sample['end_entities_offsets'] = end_entities_offsets_tensor\n",
    "\n",
    "    collate_sample['entities_offsets'] = list(zip(start_entities_offsets_tensor, end_entities_offsets_tensor))\n",
    "\n",
    "    # Labels\n",
    "    if not labeled:\n",
    "        return collate_sample\n",
    "\n",
    "    padded_labels = pad_sequence(batch_labels, max_len_offsets_in_batch, 0)\n",
    "    labels_tensor = torch.tensor(padded_labels, dtype=torch.uint8, device=device)\n",
    "    collate_sample['labels'] = labels_tensor\n",
    "    \n",
    "    return collate_sample\n",
    "    "
   ]
  },
  {
   "cell_type": "code",
   "execution_count": 16,
   "id": "00e20f88",
   "metadata": {},
   "outputs": [],
   "source": [
    "class CorefHead(nn.Module):\n",
    "    def __init__(self, bert_hidden_size: int):\n",
    "        super().__init__()\n",
    "        self.bert_hidden_size = bert_hidden_size\n",
    "        self.head_hidden_size = 512\n",
    "\n",
    "        # a) Always BN -> AC, (Nothing b/w them).\n",
    "        # b) BN -> Dropout over Dropout -> BN, but try both. [Newer research, finds 1st better ]\n",
    "        # c) BN eliminates the need of Dropout, no need to use Dropout.\n",
    "        # e) BN before Dropout is data Leakage.\n",
    "        # f) Best thing is to try every combination.\n",
    "        # SO CALLED BEST METHOD -\n",
    "        # Layer -> BN -> AC -> Dropout ->Layer\n",
    "\n",
    "        self.fc = nn.Sequential(\n",
    "            #             nn.BatchNorm1d(bert_hidden_size * 3),\n",
    "            #             nn.Dropout(0.5),\n",
    "            #             nn.LeakyReLU(),\n",
    "            #             nn.Linear(bert_hidden_size * 3, self.head_hidden_size),\n",
    "            #             nn.BatchNorm1d(self.head_hidden_size),\n",
    "            #             nn.Dropout(0.5),\n",
    "            #             nn.Linear(self.head_hidden_size, self.head_hidden_size),\n",
    "            #             nn.ReLU(),\n",
    "            #             nn.BatchNorm1d(self.head_hidden_size),\n",
    "            #             nn.Dropout(0.5),\n",
    "#             nn.Dropout(0.1),\n",
    "#             nn.Linear(bert_hidden_size * 3, self.head_hidden_size),\n",
    "#             nn.BatchNorm1d(self.head_hidden_size),\n",
    "#             nn.LeakyReLU(),\n",
    "#             nn.Linear(self.head_hidden_size, 3)\n",
    "            nn.Linear(bert_hidden_size, self.head_hidden_size),\n",
    "            # nn.BatchNorm1d(self.head_hidden_size),\n",
    "            nn.LeakyReLU(),\n",
    "            nn.Dropout(0.1),\n",
    "        )\n",
    "\n",
    "        \n",
    "        self.classifier = nn.Linear(self.head_hidden_size, 3)\n",
    "        \n",
    "        self._init_linear_weights(0.5)\n",
    "\n",
    "    def forward(self, bert_outputs, offsets):\n",
    "        embeddings = self._retrieve_entities_embeddings(bert_outputs, offsets)\n",
    "\n",
    "        x = self.fc(embeddings)\n",
    "        # x, _ = self.lstm(x)\n",
    "        # x = self.relu(x)\n",
    "\n",
    "        output = self.classifier(x)\n",
    "        return output\n",
    "    \n",
    "    def _init_linear_weights(self, initrange):\n",
    "        for module in self.fc:\n",
    "            if isinstance(module, nn.Linear):\n",
    "                nn.init.uniform_(module.weight,initrange, initrange)\n",
    "                nn.init.constant_(module.bias, 0)\n",
    "        \n",
    "        self.classifier.weight.data.uniform_(-initrange, initrange)\n",
    "        self.classifier.bias.data.zero_()\n",
    "    \n",
    "    def _retrieve_entities_embeddings(self, bert_embeddings, entities_offsets):\n",
    "        batch_embeddings = []\n",
    "\n",
    "        # Consider embeddings and offsets in each batch separately\n",
    "        for embeddings, offsets in zip(bert_embeddings, entities_offsets):\n",
    "            entities_embeddings = []\n",
    "\n",
    "            for start, end in zip(*offsets):\n",
    "                if (start, end) == (0, 0): # Dealing with padding\n",
    "                    entities_embeddings.append(torch.zeros(embeddings.shape[-1], device=device))\n",
    "                else:\n",
    "                    # The embedding of an entity is the mean of all the subtokens embeddings that represent it \n",
    "                    entities_embeddings.append(embeddings[start:end].mean(dim=0))\n",
    "\n",
    "            batch_embeddings.append(torch.stack(entities_embeddings, dim=0))\n",
    "\n",
    "        # Merge outputs\n",
    "        merged_entities_embeddings = torch.stack(batch_embeddings, dim=0)\n",
    "\n",
    "        # shape: batch_size x seq_length x embedding_dim\n",
    "        return merged_entities_embeddings"
   ]
  },
  {
   "cell_type": "code",
   "execution_count": 15,
   "id": "ae11350c",
   "metadata": {
    "scrolled": true
   },
   "outputs": [],
   "source": [
    "# for i, module in enumerate(model.head.fc):\n",
    "#     if isinstance(module, nn.Linear):\n",
    "#         print(i, module.bias)\n",
    "#         nn.init.uniform_(module.weight)\n",
    "#         self.classifier.weight.data.uniform_(-initrange, initrange)\n",
    "#         self.classifier.bias.data.zero_()"
   ]
  },
  {
   "cell_type": "code",
   "execution_count": 16,
   "id": "64d65d34",
   "metadata": {},
   "outputs": [],
   "source": [
    "class GAPModel(nn.Module):\n",
    "    \"\"\"The main model.\"\"\"\n",
    "\n",
    "    def __init__(self, bert_model: str, tokenizer):\n",
    "        super().__init__()\n",
    "\n",
    "        if bert_model in {\"bert-base-uncased\", \"bert-base-cased\"}:\n",
    "            self.bert_hidden_size = 768\n",
    "        elif bert_model in {\"bert-large-uncased\", \"bert-large-cased\"}:\n",
    "            self.bert_hidden_size = 1024\n",
    "        else:\n",
    "            raise ValueError(\"Unsupported BERT model.\")\n",
    "\n",
    "        # configuration = BertConfig(bert_model, output_hidden_states=True)\n",
    "        # configuration.vocab_size = len(tokenizer.vocab)\n",
    "        self.bert = BertModel.from_pretrained(bert_model).to(device, non_blocking=True)\n",
    "\n",
    "        embedding_layer = self.bert.embeddings.word_embeddings\n",
    "\n",
    "        old_num_tokens, old_embedding_dim = embedding_layer.weight.shape\n",
    "\n",
    "        # Creating new embedding layer with more entries\n",
    "        new_embeddings = nn.Embedding(\n",
    "            len(tokenizer.vocab), old_embedding_dim\n",
    "        )\n",
    "\n",
    "        # Setting device and type accordingly\n",
    "        new_embeddings.to(\n",
    "            embedding_layer.weight.device,\n",
    "            dtype=embedding_layer.weight.dtype,\n",
    "        )\n",
    "\n",
    "        # Copying the old entries\n",
    "        new_embeddings.weight.data[:old_num_tokens, :] = embedding_layer.weight.data[\n",
    "            :old_num_tokens, :\n",
    "        ]\n",
    "\n",
    "        self.bert.embeddings.word_embeddings = new_embeddings\n",
    "        self.head = CorefHead(self.bert_hidden_size).to(device, non_blocking=True)\n",
    "\n",
    "    def forward(self, sample):\n",
    "        x = sample['features']\n",
    "        x_offsets = sample['entities_offsets']\n",
    "\n",
    "        bert_outputs = self.bert(x, attention_mask=(x > 0).long(),token_type_ids=None)\n",
    "#         concat_bert = torch.cat((bert_outputs[-1],bert_outputs[-2],bert_outputs[-3]),dim=-1)\n",
    "        # concat_bert = torch.cat((bert_outputs.hidden_states[-1], bert_outputs.hidden_states[-2],\n",
    "        #                          bert_outputs.hidden_states[-3], bert_outputs.hidden_states[-4]), dim=-1)\n",
    "        \n",
    "        out = bert_outputs.last_hidden_state\n",
    "\n",
    "        # layers_to_sum = torch.stack([bert_outputs.hidden_states[x] for x in [-1, -2, -3, -4]], dim=0)\n",
    "        # out = torch.sum(layers_to_sum, dim=0)\n",
    "\n",
    "        # out = torch.cat([bert_outputs.hidden_states[x] for x in [-1, -2, -3, -4]], dim=-1)\n",
    "\n",
    "        head_outputs = self.head(out, x_offsets)\n",
    "#         return concat_bert\n",
    "        return head_outputs\n",
    "\n",
    "\n",
    "    "
   ]
  },
  {
   "cell_type": "code",
   "execution_count": 49,
   "id": "61a7e11c",
   "metadata": {},
   "outputs": [],
   "source": [
    "batch_size = 4\n",
    "\n",
    "collator = Collator(device)\n",
    "train_dataloader = DataLoader(train_ds, batch_size=batch_size, \n",
    "                              collate_fn=collator, shuffle=False)\n",
    "\n",
    "valid_dataloader = DataLoader(valid_ds, batch_size=batch_size, \n",
    "                              collate_fn=collator, shuffle=False)\n",
    "\n",
    "        "
   ]
  },
  {
   "cell_type": "code",
   "execution_count": 50,
   "id": "0a70fda6",
   "metadata": {},
   "outputs": [],
   "source": [
    "bert_model_name = \"bert-base-cased\"\n",
    "\n",
    "configuration = BertConfig(bert_model_name, output_hidden_states=True, output_attentions=True)\n",
    "configuration.vocab_size = len(tokenizer.vocab)\n",
    "bert = BertModel(configuration).to(device, non_blocking=True)"
   ]
  },
  {
   "cell_type": "code",
   "execution_count": 31,
   "id": "8228be89",
   "metadata": {},
   "outputs": [
    {
     "name": "stderr",
     "output_type": "stream",
     "text": [
      "Some weights of the model checkpoint at bert-base-cased were not used when initializing BertModel: ['cls.predictions.transform.LayerNorm.weight', 'cls.predictions.decoder.weight', 'cls.predictions.transform.LayerNorm.bias', 'cls.seq_relationship.weight', 'cls.predictions.bias', 'cls.predictions.transform.dense.bias', 'cls.seq_relationship.bias', 'cls.predictions.transform.dense.weight']\n",
      "- This IS expected if you are initializing BertModel from the checkpoint of a model trained on another task or with another architecture (e.g. initializing a BertForSequenceClassification model from a BertForPreTraining model).\n",
      "- This IS NOT expected if you are initializing BertModel from the checkpoint of a model that you expect to be exactly identical (initializing a BertForSequenceClassification model from a BertForSequenceClassification model).\n"
     ]
    }
   ],
   "source": [
    "bert_model_name = \"bert-base-cased\"\n",
    "bert = BertModel.from_pretrained(bert_model_name).to(device, non_blocking=True)"
   ]
  },
  {
   "cell_type": "code",
   "execution_count": 32,
   "id": "cecd053f",
   "metadata": {},
   "outputs": [
    {
     "data": {
      "text/plain": [
       "device(type='cuda', index=0)"
      ]
     },
     "execution_count": 32,
     "metadata": {},
     "output_type": "execute_result"
    }
   ],
   "source": [
    "bert.device"
   ]
  },
  {
   "cell_type": "code",
   "execution_count": 19,
   "id": "b328631e",
   "metadata": {},
   "outputs": [
    {
     "data": {
      "text/plain": [
       "Embedding(28996, 768, padding_idx=0)"
      ]
     },
     "execution_count": 19,
     "metadata": {},
     "output_type": "execute_result"
    }
   ],
   "source": [
    "bert.embeddings.word_embeddings"
   ]
  },
  {
   "cell_type": "code",
   "execution_count": 34,
   "id": "a4336fa9",
   "metadata": {},
   "outputs": [
    {
     "data": {
      "text/plain": [
       "device(type='cuda', index=0)"
      ]
     },
     "execution_count": 34,
     "metadata": {},
     "output_type": "execute_result"
    }
   ],
   "source": [
    "embedding_layer.weight.device"
   ]
  },
  {
   "cell_type": "code",
   "execution_count": 35,
   "id": "95773ef5",
   "metadata": {},
   "outputs": [],
   "source": [
    "embedding_layer = bert.embeddings.word_embeddings\n",
    "\n",
    "old_num_tokens, old_embedding_dim = embedding_layer.weight.shape\n",
    "\n",
    "# Creating new embedding layer with more entries\n",
    "new_embeddings = nn.Embedding(\n",
    "        len(tokenizer.vocab), old_embedding_dim\n",
    ")\n",
    "\n",
    "# Setting device and type accordingly\n",
    "new_embeddings.to(\n",
    "    embedding_layer.weight.device,\n",
    "    dtype=embedding_layer.weight.dtype,\n",
    ")\n",
    "\n",
    "# Copying the old entries\n",
    "new_embeddings.weight.data[:old_num_tokens, :] = embedding_layer.weight.data[\n",
    "    :old_num_tokens, :\n",
    "]\n",
    "\n",
    "bert.embeddings.word_embeddings = new_embeddings"
   ]
  },
  {
   "cell_type": "code",
   "execution_count": 38,
   "id": "b1431cc2",
   "metadata": {},
   "outputs": [
    {
     "data": {
      "text/plain": [
       "tensor([[-5.4784e-04, -4.1569e-02,  1.3084e-02,  ..., -3.8919e-03,\n",
       "         -3.3549e-02,  1.4984e-02],\n",
       "        [ 1.6883e-02, -3.1068e-02,  4.2053e-03,  ..., -1.4740e-02,\n",
       "         -3.5611e-02, -3.6223e-03],\n",
       "        [-5.7234e-04, -2.6736e-02,  8.0395e-03,  ..., -1.0025e-02,\n",
       "         -3.3116e-02, -1.6517e-02],\n",
       "        ...,\n",
       "        [ 9.9409e-01,  5.7340e-01,  1.2208e+00,  ..., -1.0702e+00,\n",
       "          1.5929e-01, -1.6526e+00],\n",
       "        [-9.8284e-01, -4.7983e-01,  1.0092e+00,  ...,  1.9583e+00,\n",
       "         -9.4387e-01,  1.8374e-01],\n",
       "        [ 1.0656e+00,  1.0088e+00, -1.7623e-01,  ...,  6.8488e-01,\n",
       "          2.8528e-01,  6.5319e-01]], device='cuda:0')"
      ]
     },
     "execution_count": 38,
     "metadata": {},
     "output_type": "execute_result"
    }
   ],
   "source": [
    "bert.embeddings.word_embeddings.weight.data"
   ]
  },
  {
   "cell_type": "markdown",
   "id": "3fd327e2",
   "metadata": {},
   "source": [
    "2148"
   ]
  },
  {
   "cell_type": "code",
   "execution_count": 51,
   "id": "ea87975c",
   "metadata": {},
   "outputs": [],
   "source": [
    "for idx, sample in enumerate(train_dataloader):\n",
    "    features = sample['features']\n",
    "    entities_offsets = sample['entities_offsets']        \n",
    "    output = bert(features, attention_mask=(features > 0).long(), token_type_ids=None)\n",
    "    \n",
    "#     res = head(output.hidden_states[-1], offsets)\n",
    "    \n",
    "    "
   ]
  },
  {
   "cell_type": "code",
   "execution_count": 136,
   "id": "ce85a20b",
   "metadata": {},
   "outputs": [],
   "source": [
    "bert_embeddings = output.last_hidden_state"
   ]
  },
  {
   "cell_type": "code",
   "execution_count": 170,
   "id": "44cac713",
   "metadata": {},
   "outputs": [
    {
     "data": {
      "text/plain": [
       "tensor(0.3617, grad_fn=<SelectBackward0>)"
      ]
     },
     "execution_count": 170,
     "metadata": {},
     "output_type": "execute_result"
    }
   ],
   "source": [
    "bert_embeddings[1][20:21].mean(0)[-1]"
   ]
  },
  {
   "cell_type": "code",
   "execution_count": 172,
   "id": "baa78150",
   "metadata": {},
   "outputs": [
    {
     "data": {
      "text/plain": [
       "tensor([[[ 0.5782, -0.9481, -0.8416,  ..., -1.0011, -0.5545,  0.2845],\n",
       "         [-0.2335, -1.8323, -0.7915,  ..., -0.7340, -0.2332, -0.0700],\n",
       "         [ 1.1578, -0.5641, -1.4273,  ...,  0.2484, -1.3667,  0.1463],\n",
       "         ...,\n",
       "         [-0.2578, -0.8541, -0.7586,  ..., -1.2105, -0.6433, -0.1823],\n",
       "         [-0.3026, -0.5799, -1.1335,  ..., -0.6303, -1.2873, -0.6189],\n",
       "         [ 0.7272, -0.5913, -0.8269,  ..., -0.3852, -1.4903,  0.1380]],\n",
       "\n",
       "        [[-1.2102, -0.2077, -0.7168,  ..., -1.2219, -0.3596,  0.3617],\n",
       "         [-0.0474, -0.3812, -1.5421,  ..., -0.7341, -0.8667,  0.4135],\n",
       "         [ 0.7614, -0.9988, -1.0558,  ...,  0.2296, -0.9178, -0.9329],\n",
       "         ...,\n",
       "         [ 0.1762, -0.4342, -1.1592,  ..., -0.0296, -1.0140, -0.1219],\n",
       "         [ 0.0000,  0.0000,  0.0000,  ...,  0.0000,  0.0000,  0.0000],\n",
       "         [ 0.0000,  0.0000,  0.0000,  ...,  0.0000,  0.0000,  0.0000]]],\n",
       "       grad_fn=<StackBackward0>)"
      ]
     },
     "execution_count": 172,
     "metadata": {},
     "output_type": "execute_result"
    }
   ],
   "source": [
    "\n",
    "batch_embeddings = []\n",
    "\n",
    "# Consider embeddings and offsets in each batch separately\n",
    "for embeddings, offsets in zip(bert_embeddings, entities_offsets):\n",
    "    entities_embeddings = []\n",
    "\n",
    "    for start, end in zip(*offsets):\n",
    "        if (start, end) == (0, 0): # Dealing with padding\n",
    "            entities_embeddings.append(torch.zeros(embeddings.shape[-1], device=device))\n",
    "        else:\n",
    "            # The embedding of an entity is the mean of all the subtokens embeddings that represent it \n",
    "            entities_embeddings.append(embeddings[start:end].mean(dim=0))\n",
    "\n",
    "    batch_embeddings.append(torch.stack(entities_embeddings, dim=0))\n",
    "\n",
    "# Merge outputs\n",
    "merged_entities_embeddings = torch.stack(batch_embeddings, dim=0)\n",
    "\n",
    "# shape: batch_size x seq_length x embedding_dim\n",
    "merged_entities_embeddings\n",
    "    \n"
   ]
  },
  {
   "cell_type": "code",
   "execution_count": 136,
   "id": "8b1fcb32",
   "metadata": {},
   "outputs": [],
   "source": [
    "def insert_tag(text, offsets, start_tag: str, end_tag: str = None):\n",
    "    start_off, end_off = offsets \n",
    "\n",
    "    # Starting tag only\n",
    "    if end_tag is None:\n",
    "        text = text[:start_off] + start_tag + text[start_off:]\n",
    "        return text\n",
    "\n",
    "    text = text[:start_off] + start_tag + text[start_off:end_off] + end_tag + text[end_off:]\n",
    "    return text"
   ]
  },
  {
   "cell_type": "code",
   "execution_count": 99,
   "id": "cd7221ce",
   "metadata": {},
   "outputs": [
    {
     "data": {
      "application/vnd.jupyter.widget-view+json": {
       "model_id": "97a57b5da96f47288c6e57d83d77f350",
       "version_major": 2,
       "version_minor": 0
      },
      "text/plain": [
       "Downloading:   0%|          | 0.00/443 [00:00<?, ?B/s]"
      ]
     },
     "metadata": {},
     "output_type": "display_data"
    },
    {
     "data": {
      "application/vnd.jupyter.widget-view+json": {
       "model_id": "6fc96e9eb3e74f51a5c7ed6bc5bf9e0b",
       "version_major": 2,
       "version_minor": 0
      },
      "text/plain": [
       "Downloading:   0%|          | 0.00/1.25G [00:00<?, ?B/s]"
      ]
     },
     "metadata": {},
     "output_type": "display_data"
    }
   ],
   "source": [
    "from transformers import BertForQuestionAnswering\n",
    "\n",
    "model = BertForQuestionAnswering.from_pretrained('bert-large-uncased-whole-word-masking-finetuned-squad')"
   ]
  },
  {
   "cell_type": "code",
   "execution_count": 100,
   "id": "10eac0a6",
   "metadata": {},
   "outputs": [
    {
     "data": {
      "application/vnd.jupyter.widget-view+json": {
       "model_id": "d3e3aa13f54b46c985796e3b59ee7cd6",
       "version_major": 2,
       "version_minor": 0
      },
      "text/plain": [
       "Downloading:   0%|          | 0.00/226k [00:00<?, ?B/s]"
      ]
     },
     "metadata": {},
     "output_type": "display_data"
    },
    {
     "data": {
      "application/vnd.jupyter.widget-view+json": {
       "model_id": "a6d8f7f2f7804490a8bbc83528996896",
       "version_major": 2,
       "version_minor": 0
      },
      "text/plain": [
       "Downloading:   0%|          | 0.00/28.0 [00:00<?, ?B/s]"
      ]
     },
     "metadata": {},
     "output_type": "display_data"
    }
   ],
   "source": [
    "from transformers import BertTokenizer\n",
    "\n",
    "tokenizer_qa = BertTokenizer.from_pretrained('bert-large-uncased-whole-word-masking-finetuned-squad')"
   ]
  },
  {
   "cell_type": "code",
   "execution_count": 102,
   "id": "28cff8af",
   "metadata": {},
   "outputs": [
    {
     "name": "stderr",
     "output_type": "stream",
     "text": [
      "No model was supplied, defaulted to distilbert-base-cased-distilled-squad (https://huggingface.co/distilbert-base-cased-distilled-squad)\n"
     ]
    }
   ],
   "source": [
    "from transformers import pipeline\n",
    "qa_model = pipeline(\"question-answering\")"
   ]
  },
  {
   "cell_type": "code",
   "execution_count": 139,
   "id": "65d9194d",
   "metadata": {},
   "outputs": [],
   "source": [
    "for idx, sentence in enumerate(df_train['text']):\n",
    "    if \"*\" in sentence:\n",
    "        print(idx)"
   ]
  },
  {
   "cell_type": "code",
   "execution_count": 140,
   "id": "a3096fae",
   "metadata": {},
   "outputs": [
    {
     "data": {
      "text/plain": [
       "['McCarthy', 'T', '##tra', '##ult']"
      ]
     },
     "execution_count": 140,
     "metadata": {},
     "output_type": "execute_result"
    }
   ],
   "source": [
    "tokenizer.tokenize(\"McCarthy Ttrault\")"
   ]
  },
  {
   "cell_type": "code",
   "execution_count": 146,
   "id": "ba532797",
   "metadata": {},
   "outputs": [
    {
     "data": {
      "text/plain": [
       "id                                                                                                                                                                                                                                                                                                                                                                                                                                                                                                     train-24\n",
       "text          Louis McNeill begin her publishing career selling short poems to the Saturday Evening Post. In 1931 her first collection, Mountain White, was published. She went on to publish six other collections. In the 1980s McNeill's literary reputation was re-established by the poet Maggie Anderson, who edited McNeill's memoir for the University of Pittsburgh Press, as well as a new and selected poems in 1991. In 1979 then-governor Jay Rockefeller named her West Virginia's poet laureate.\n",
       "pron                                                                                                                                                                                                                                                                                                                                                                                                                                                                                                        her\n",
       "p_offset                                                                                                                                                                                                                                                                                                                                                                                                                                                                                                    447\n",
       "entity_A                                                                                                                                                                                                                                                                                                                                                                                                                                                                                        Maggie Anderson\n",
       "offset_A                                                                                                                                                                                                                                                                                                                                                                                                                                                                                                    273\n",
       "is_coref_A                                                                                                                                                                                                                                                                                                                                                                                                                                                                                                False\n",
       "entity_B                                                                                                                                                                                                                                                                                                                                                                                                                                                                                                McNeill\n",
       "offset_B                                                                                                                                                                                                                                                                                                                                                                                                                                                                                                    301\n",
       "is_coref_B                                                                                                                                                                                                                                                                                                                                                                                                                                                                                                 True\n",
       "url                                                                                                                                                                                                                                                                                                                                                                                                                                                                 http://en.wikipedia.org/wiki/Louise_McNeill\n",
       "Name: 23, dtype: object"
      ]
     },
     "execution_count": 146,
     "metadata": {},
     "output_type": "execute_result"
    }
   ],
   "source": [
    "df_train.iloc[23]"
   ]
  },
  {
   "cell_type": "code",
   "execution_count": 148,
   "id": "d0dc2149",
   "metadata": {},
   "outputs": [
    {
     "data": {
      "text/plain": [
       "\"her West Virginia's poet laureate.\""
      ]
     },
     "execution_count": 148,
     "metadata": {},
     "output_type": "execute_result"
    }
   ],
   "source": [
    "df_train['text'][23][447:]"
   ]
  },
  {
   "cell_type": "code",
   "execution_count": 150,
   "id": "dc98ebae",
   "metadata": {},
   "outputs": [
    {
     "data": {
      "text/plain": [
       "{'score': 0.6841534376144409,\n",
       " 'start': 425,\n",
       " 'end': 440,\n",
       " 'answer': 'Jay Rockefeller'}"
      ]
     },
     "execution_count": 150,
     "metadata": {},
     "output_type": "execute_result"
    }
   ],
   "source": [
    "question = \"Rockefeller named her West Virginia. Who is her?\"\n",
    "context = df_train['text'][23]\n",
    "qa_model(question = question, context = context)"
   ]
  },
  {
   "cell_type": "code",
   "execution_count": 13,
   "id": "fb3fa8ee",
   "metadata": {},
   "outputs": [
    {
     "name": "stderr",
     "output_type": "stream",
     "text": [
      "Some weights of the model checkpoint at bert-base-uncased were not used when initializing BertForMultipleChoice: ['cls.predictions.transform.LayerNorm.bias', 'cls.predictions.transform.dense.bias', 'cls.predictions.decoder.weight', 'cls.predictions.transform.dense.weight', 'cls.predictions.transform.LayerNorm.weight', 'cls.seq_relationship.weight', 'cls.predictions.bias', 'cls.seq_relationship.bias']\n",
      "- This IS expected if you are initializing BertForMultipleChoice from the checkpoint of a model trained on another task or with another architecture (e.g. initializing a BertForSequenceClassification model from a BertForPreTraining model).\n",
      "- This IS NOT expected if you are initializing BertForMultipleChoice from the checkpoint of a model that you expect to be exactly identical (initializing a BertForSequenceClassification model from a BertForSequenceClassification model).\n",
      "Some weights of BertForMultipleChoice were not initialized from the model checkpoint at bert-base-uncased and are newly initialized: ['classifier.weight', 'classifier.bias']\n",
      "You should probably TRAIN this model on a down-stream task to be able to use it for predictions and inference.\n"
     ]
    }
   ],
   "source": [
    "from transformers import BertTokenizer, BertForMultipleChoice\n",
    "import torch\n",
    "\n",
    "tokenizer = BertTokenizer.from_pretrained(\"bert-base-uncased\")\n",
    "model = BertForMultipleChoice.from_pretrained(\"bert-base-uncased\")\n",
    "\n",
    "prompt = \"In Italy, pizza served in formal settings, such as at a restaurant, is presented unsliced.\"\n",
    "choice0 = \"It is eaten with a fork and a knife.\"\n",
    "choice1 = \"It is eaten while held in the hand.\"\n",
    "labels = torch.tensor(0).unsqueeze(0)  # choice0 is correct (according to Wikipedia ;)), batch size 1\n",
    "\n",
    "encoding = tokenizer([prompt, prompt], [choice0, choice1], return_tensors=\"pt\", padding=True)\n",
    "outputs = model(**{k: v.unsqueeze(0) for k, v in encoding.items()}, labels=labels)  # batch size is 1\n",
    "\n",
    "# the linear classifier still needs to be trained\n",
    "loss = outputs.loss\n",
    "logits = outputs.logits"
   ]
  },
  {
   "cell_type": "code",
   "execution_count": 22,
   "id": "aadcfeba",
   "metadata": {},
   "outputs": [
    {
     "data": {
      "text/plain": [
       "torch.Size([1, 2, 35])"
      ]
     },
     "execution_count": 22,
     "metadata": {},
     "output_type": "execute_result"
    }
   ],
   "source": [
    "encoding['input_ids'].unsqueeze(0).shape"
   ]
  },
  {
   "cell_type": "markdown",
   "id": "f4f489d7",
   "metadata": {
    "id": "f4f489d7"
   },
   "source": [
    "GradScaler: https://pytorch.org/docs/stable/notes/amp_examples.html#gradient-clipping\n",
    "\n",
    "https://pytorch.org/docs/stable/amp.html#gradient-scaling"
   ]
  },
  {
   "cell_type": "markdown",
   "id": "21a41065",
   "metadata": {
    "id": "21a41065"
   },
   "source": [
    "**Gradient Scaling**\n",
    "\n",
    "If the forward pass for a particular op has float16 inputs, the backward pass for that op will produce float16 gradients. Gradient values with small magnitudes may not be representable in float16. These values will flush to zero (“underflow”), so the update for the corresponding parameters will be lost.\n",
    "\n",
    "To prevent underflow, “gradient scaling” multiplies the network’s loss(es) by a scale factor and invokes a backward pass on the scaled loss(es). Gradients flowing backward through the network are then scaled by the same factor. In other words, gradient values have a larger magnitude, so they don’t flush to zero.\n",
    "\n",
    "The method `step(optimizer, *args, **kwargs)` internally invokes `unscale_(optimizer)`and if no inf/NaN gradients are found, invokes `optimizer.step()` using the unscaled gradients. Otherwise `optimizer.step()` is skipped to avoid corrupting the params.\n",
    "\n",
    "\\**Note for Gradient Clipping*\n",
    "\n",
    "If you wish to modify the gradients (like in gradient clipping), you should unscale them first. If you attempted to clip *without* unscaling, the gradients' norm magnitude would also be scaled, so your requested threshold would be invalid."
   ]
  },
  {
   "cell_type": "code",
   "execution_count": 18,
   "id": "766de1e5",
   "metadata": {
    "executionInfo": {
     "elapsed": 242,
     "status": "ok",
     "timestamp": 1660751890792,
     "user": {
      "displayName": "Florin Cuconasu",
      "userId": "13345521608196528334"
     },
     "user_tz": -120
    },
    "id": "766de1e5"
   },
   "outputs": [],
   "source": [
    "# class Trainer:\n",
    "    \n",
    "#     def __init__(\n",
    "#         self,\n",
    "#         model: nn.Module,\n",
    "#         args: CustomTrainingArguments,\n",
    "#         train_dataloader: DataLoader,\n",
    "#         valid_dataloader: DataLoader,\n",
    "#         criterion: torch.nn,\n",
    "#         optimizer: torch.optim.Optimizer,\n",
    "#         scheduler: torch.optim.lr_scheduler = None,\n",
    "        \n",
    "#     ):\n",
    "        \n",
    "#         self.model = model\n",
    "#         self.train_dataloader = train_dataloader\n",
    "#         self.valid_dataloader = valid_dataloader\n",
    "#         self.criterion = criterion\n",
    "#         self.optimizer = optimizer\n",
    "#         self.scheduler = scheduler\n",
    "        \n",
    "#         if args is None:\n",
    "#             output_dir = \"../../model/tmp_trainer\"\n",
    "#             print(f\"No 'TrainingArguments' passed, using 'output_dir={output_dir}'.\")\n",
    "#             args = CustomTrainingArguments(output_dir=output_dir)\n",
    "        \n",
    "#         self.args = args\n",
    "        \n",
    "#     def train(self):\n",
    "#         args = self.args\n",
    "#         valid_dataloader = self.valid_dataloader\n",
    "#         epochs = args.num_train_epochs\n",
    "        \n",
    "#         train_losses = []\n",
    "#         train_acc_list = []\n",
    "#         valid_losses = []\n",
    "#         valid_acc_list = []\n",
    "        \n",
    "#         if args.early_stopping:\n",
    "#             patience_counter = 0 \n",
    "\n",
    "#         scaler = GradScaler()\n",
    "\n",
    "#         if args.resume_from_checkpoint is not None:\n",
    "#             self._resume_model(args.resume_from_checkpoint, scaler)\n",
    "\n",
    "#         training_start_time = time.time()\n",
    "#         print(\"\\nTraining...\")\n",
    "#         for epoch in range(epochs):\n",
    "#             train_loss, train_acc = self._inner_training_loop(scaler)\n",
    "#             train_losses.append(train_loss)\n",
    "#             train_acc_list.append(train_acc)\n",
    "\n",
    "#             valid_loss, valid_acc = self.evaluate(valid_dataloader)\n",
    "#             valid_losses.append(valid_loss)\n",
    "#             valid_acc_list.append(valid_acc)\n",
    "\n",
    "#             if self.scheduler is not None:\n",
    "#                 print('-' * 17)\n",
    "#                 print(f\"| LR: {self.scheduler.get_last_lr()[0]:.3e} |\")\n",
    "#                 self.scheduler.step()\n",
    "\n",
    "#             self._print_epoch_log(epoch, epochs, train_loss, valid_loss, valid_acc)\n",
    "\n",
    "#             if args.early_stopping and len(valid_acc_list) >= 2:\n",
    "#                 # stop = args.early_stopping_mode == 'min' and epoch > 0 and valid_acc_list[-1] > valid_acc_list[-2]\n",
    "#                 stop = args.early_stopping_mode == 'max' and epoch > 0 and valid_acc_list[-1] < valid_acc_list[-2]\n",
    "#                 if stop:\n",
    "#                     if patience_counter >= args.early_stopping_patience:\n",
    "#                         print('Early stop.')\n",
    "#                         break\n",
    "#                     else:\n",
    "#                         print('-- Patience.\\n')\n",
    "#                         patience_counter += 1\n",
    "        \n",
    "#         training_time = time.time() - training_start_time\n",
    "#         print(f'Training time: {training_time:.2f}s')\n",
    "\n",
    "#         metrics_history = {\n",
    "#             \"train_losses\": train_losses,\n",
    "#             \"train_acc\": train_acc_list,\n",
    "#             \"valid_losses\": valid_losses,\n",
    "#             \"valid_acc\": valid_acc_list,\n",
    "#         }\n",
    "#         print(metrics_history)\n",
    "#         if args.save_model:\n",
    "#             self._save_model(epoch, valid_acc, scaler, metrics_history)\n",
    "    \n",
    "#         return #metrics_history\n",
    "\n",
    "#     def _inner_training_loop(self, scaler):\n",
    "#         args = self.args\n",
    "#         train_dataloader = self.train_dataloader\n",
    "        \n",
    "#         train_loss = 0.0\n",
    "#         train_correct, total_count = 0.0, 0.0\n",
    "\n",
    "#         self.model.train()\n",
    "#         for step, (features, labels) in enumerate(train_dataloader):\n",
    "#             # Empty gradients\n",
    "#             self.optimizer.zero_grad(set_to_none=True)\n",
    "            \n",
    "#             # Forward\n",
    "#             # predictions = self.model(features, offsets)\n",
    "#             # loss = self.criterion(predictions, labels)\n",
    "# #             with torch.cuda.amp.autocast(): # autocast as a context manager\n",
    "#             predictions = self.model(features)\n",
    "\n",
    "#             predictions = predictions.view(-1, predictions.shape[-1])\n",
    "#             labels = labels.view(-1)\n",
    "#             loss = self.criterion(predictions, labels)\n",
    "\n",
    "#             mask = labels != 0\n",
    "#             predictions = predictions.argmax(1)\n",
    "#             predictions = predictions[mask]\n",
    "#             labels = labels[mask]\n",
    "#             train_correct += (predictions == labels).sum().item()\n",
    "#             total_count += labels.shape[0]\n",
    "            \n",
    "#             # Backward  \n",
    "#             loss.backward()\n",
    "#             # Backward pass without mixed precision\n",
    "#             # It's not recommended to use mixed precision for backward pass\n",
    "#             # Because we need more precise loss\n",
    "# #             scaler.scale(loss).backward()\n",
    "            \n",
    "#             if args.grad_clipping is not None:\n",
    "# #                 scaler.unscale_(optimizer)\n",
    "#                 torch.nn.utils.clip_grad_norm_(self.model.parameters(), args.grad_clipping)\n",
    "            \n",
    "#             # Update weights \n",
    "#             self.optimizer.step()\n",
    "# #             scaler.step(self.optimizer)\n",
    "# #             scaler.update()\n",
    "\n",
    "#             train_loss += loss.item()\n",
    "\n",
    "#             if step % args.logging_steps == args.logging_steps - 1:\n",
    "#                 running_loss = train_loss / (step + 1)\n",
    "#                 running_acc = train_correct / total_count\n",
    "#                 self._print_step_log(step, running_loss, running_acc)\n",
    "                \n",
    "#         return train_loss / len(train_dataloader), train_correct / total_count\n",
    "\n",
    "\n",
    "#     def evaluate(self, eval_dataloader):\n",
    "#         valid_loss = 0.0\n",
    "#         eval_correct, total_count = 0, 0\n",
    "        \n",
    "#         self.model.eval()\n",
    "#         with torch.no_grad():\n",
    "#             for (features, labels) in eval_dataloader:\n",
    "                \n",
    "#                 predictions = self.model(features)\n",
    "                \n",
    "#                 predictions = predictions.view(-1, predictions.shape[-1])\n",
    "#                 labels = labels.view(-1)\n",
    "#                 loss = self.criterion(predictions, labels)\n",
    "#                 valid_loss += loss.item()\n",
    "                \n",
    "#                 mask = labels != 0\n",
    "#                 predictions = predictions.argmax(1)\n",
    "#                 predictions = predictions[mask]\n",
    "#                 labels = labels[mask]\n",
    "#                 eval_correct += (predictions == labels).sum().item()\n",
    "#                 total_count += labels.shape[0]\n",
    "        \n",
    "#         return valid_loss / len(eval_dataloader), eval_correct / total_count\n",
    "\n",
    "\n",
    "#     def _print_step_log(self, step, running_loss, running_acc):\n",
    "#         print(f'\\t| step {step+1:3d}/{len(self.train_dataloader):d} | train_loss: {running_loss:.3f} | ' \\\n",
    "#                 f'train_acc: {running_acc:.3f} |')\n",
    "\n",
    "#     def _print_epoch_log(self, epoch, epochs, train_loss, valid_loss, valid_acc):\n",
    "#         print('-' * 76)\n",
    "#         print(f'| epoch {epoch+1:>3d}/{epochs:<3d} | train_loss: {train_loss:.3f} | ' \\\n",
    "#                 f'valid_loss: {valid_loss:.3f} | valid_acc: {valid_acc:.3f} |')\n",
    "#         print('-' * 76)\n",
    "        \n",
    "    \n",
    "#     def _save_model(self, epoch, valid_acc, scaler):\n",
    "#         print(\"Saving model...\")\n",
    "#         if self.scheduler is None:\n",
    "#             torch.save({\n",
    "#                     \"epoch\": epoch,\n",
    "#                     \"model_state_dict\": self.model.state_dict(),\n",
    "#                     \"optimizer_state_dict\": self.optimizer.state_dict(),\n",
    "#                     \"scaler_state_dict\": scaler.state_dict(),\n",
    "#                 }, f\"{self.args.output_dir}my_model_{str(valid_acc)[2:5]}_{epoch+1}.pth\")\n",
    "#         else:\n",
    "#             torch.save({\n",
    "#                     \"epoch\": epoch,\n",
    "#                     \"model_state_dict\": self.model.state_dict(),\n",
    "#                     \"optimizer_state_dict\": self.optimizer.state_dict(),\n",
    "#                     \"scheduler_state_dict\": self.scheduler.state_dict(),\n",
    "#                     \"scaler_state_dict\": scaler.state_dict(),\n",
    "#                 }, f\"{self.args.output_dir}my_model_{str(valid_acc)[2:5]}_{epoch+1}.pth\")\n",
    "\n",
    "#         print(\"Model saved.\")\n",
    "\n",
    "#     def _resume_model(self, path, scaler):\n",
    "#         checkpoint = torch.load(path, map_location=device)\n",
    "#         self.model.load_state_dict(checkpoint['model_state_dict'])\n",
    "#         self.optimizer.load_state_dict(checkpoint['optimizer_state_dict'])\n",
    "#         scaler.load_state_dict(checkpoint['scaler_state_dict'])\n"
   ]
  },
  {
   "cell_type": "code",
   "execution_count": 17,
   "id": "00c6f4d5",
   "metadata": {},
   "outputs": [],
   "source": [
    "class Trainer:\n",
    "    \n",
    "    def __init__(\n",
    "        self,\n",
    "        model: nn.Module,\n",
    "        args: CustomTrainingArguments,\n",
    "        train_dataloader: DataLoader,\n",
    "        valid_dataloader: DataLoader,\n",
    "        criterion: torch.nn,\n",
    "        optimizer: torch.optim.Optimizer,\n",
    "        scheduler: torch.optim.lr_scheduler = None,\n",
    "        \n",
    "    ):\n",
    "        \n",
    "        self.model = model\n",
    "        self.train_dataloader = train_dataloader\n",
    "        self.valid_dataloader = valid_dataloader\n",
    "        self.criterion = criterion\n",
    "        self.optimizer = optimizer\n",
    "        self.scheduler = scheduler\n",
    "        \n",
    "        if args is None:\n",
    "            output_dir = \"../../model/tmp_trainer\"\n",
    "            print(f\"No 'TrainingArguments' passed, using 'output_dir={output_dir}'.\")\n",
    "            args = CustomTrainingArguments(output_dir=output_dir)\n",
    "        \n",
    "        self.args = args\n",
    "        \n",
    "    def train(self):\n",
    "        args = self.args\n",
    "        valid_dataloader = self.valid_dataloader\n",
    "        epochs = args.num_train_epochs\n",
    "        \n",
    "        train_losses = []\n",
    "        train_acc_list = []\n",
    "        valid_losses = []\n",
    "        valid_acc_list = []\n",
    "        \n",
    "        if args.early_stopping:\n",
    "            patience_counter = 0 \n",
    "\n",
    "        scaler = GradScaler()\n",
    "\n",
    "        if args.resume_from_checkpoint is not None:\n",
    "            self._resume_model(args.resume_from_checkpoint, scaler)\n",
    "\n",
    "        training_start_time = time.time()\n",
    "        print(\"\\nTraining...\")\n",
    "        for epoch in range(epochs):\n",
    "            train_loss, train_acc = self._inner_training_loop(scaler)\n",
    "            train_losses.append(train_loss)\n",
    "            train_acc_list.append(train_acc)\n",
    "\n",
    "            valid_loss, valid_acc = self.evaluate(valid_dataloader)\n",
    "            valid_losses.append(valid_loss)\n",
    "            valid_acc_list.append(valid_acc)\n",
    "\n",
    "            if self.scheduler is not None:\n",
    "                print('-' * 17)\n",
    "                print(f\"| LR: {self.scheduler.get_last_lr()[0]:.3e} |\")\n",
    "                self.scheduler.step()\n",
    "\n",
    "            self._print_epoch_log(epoch, epochs, train_loss, valid_loss, valid_acc)\n",
    "\n",
    "            if args.early_stopping and len(valid_acc_list) >= 2:\n",
    "                # stop = args.early_stopping_mode == 'min' and epoch > 0 and valid_acc_list[-1] > valid_acc_list[-2]\n",
    "                stop = args.early_stopping_mode == 'max' and epoch > 0 and valid_acc_list[-1] < valid_acc_list[-2]\n",
    "                if stop:\n",
    "                    if patience_counter >= args.early_stopping_patience:\n",
    "                        print('Early stop.')\n",
    "                        break\n",
    "                    else:\n",
    "                        print('-- Patience.\\n')\n",
    "                        patience_counter += 1\n",
    "        \n",
    "        training_time = time.time() - training_start_time\n",
    "        print(f'Training time: {self._print_time(training_time)}')\n",
    "\n",
    "        metrics_history = {\n",
    "            \"train_losses\": train_losses,\n",
    "            \"train_acc\": train_acc_list,\n",
    "            \"valid_losses\": valid_losses,\n",
    "            \"valid_acc\": valid_acc_list,\n",
    "        }\n",
    "        print(metrics_history)\n",
    "        if args.save_model:\n",
    "            self._save_model(\"2\", epoch, valid_acc, scaler, metrics_history)\n",
    "    \n",
    "        return #metrics_history\n",
    "\n",
    "    def _inner_training_loop(self, scaler):\n",
    "        args = self.args\n",
    "        train_dataloader = self.train_dataloader\n",
    "        \n",
    "        train_loss = 0.0\n",
    "        train_correct, total_count = 0.0, 0.0\n",
    "\n",
    "        self.model.train()\n",
    "        for step, sample in enumerate(train_dataloader):\n",
    "            # Empty gradients\n",
    "            self.optimizer.zero_grad(set_to_none=True)\n",
    "            \n",
    "            # Forward\n",
    "            # predictions = self.model(features, offsets)\n",
    "            # loss = self.criterion(predictions, labels)\n",
    "#             with torch.cuda.amp.autocast(): # autocast as a context manager\n",
    "            predictions = self.model(sample)\n",
    "\n",
    "            predictions = predictions.view(-1, predictions.shape[-1])\n",
    "            labels = sample['labels']\n",
    "            labels = labels.view(-1)\n",
    "            loss = self.criterion(predictions, labels)\n",
    "\n",
    "            mask = labels != 0\n",
    "            predictions = predictions.argmax(1)\n",
    "            predictions = predictions[mask]\n",
    "            labels = labels[mask]\n",
    "            train_correct += (predictions == labels).sum().item()\n",
    "            total_count += labels.shape[0]\n",
    "            \n",
    "            # Backward  \n",
    "            loss.backward()\n",
    "            # Backward pass without mixed precision\n",
    "            # It's not recommended to use mixed precision for backward pass\n",
    "            # Because we need more precise loss\n",
    "#             scaler.scale(loss).backward()\n",
    "            \n",
    "            if args.grad_clipping is not None:\n",
    "#                 scaler.unscale_(optimizer)\n",
    "                torch.nn.utils.clip_grad_norm_(self.model.parameters(), args.grad_clipping)\n",
    "            \n",
    "            # Update weights \n",
    "            self.optimizer.step()\n",
    "#             scaler.step(self.optimizer)\n",
    "#             scaler.update()\n",
    "\n",
    "            train_loss += loss.item()\n",
    "\n",
    "            if step % args.logging_steps == args.logging_steps - 1:\n",
    "                running_loss = train_loss / (step + 1)\n",
    "                running_acc = train_correct / total_count\n",
    "                self._print_step_log(step, running_loss, running_acc)\n",
    "                \n",
    "        return train_loss / len(train_dataloader), train_correct / total_count\n",
    "\n",
    "\n",
    "    def evaluate(self, eval_dataloader):\n",
    "        valid_loss = 0.0\n",
    "        eval_correct, total_count = 0, 0\n",
    "        \n",
    "        self.model.eval()\n",
    "        with torch.no_grad():\n",
    "            for sample in eval_dataloader:\n",
    "                \n",
    "                predictions = self.model(sample)\n",
    "                \n",
    "                predictions = predictions.view(-1, predictions.shape[-1])\n",
    "                labels = sample['labels']\n",
    "                labels = labels.view(-1)\n",
    "                loss = self.criterion(predictions, labels)\n",
    "                valid_loss += loss.item()\n",
    "                \n",
    "#                 accuracy = compute_score(predictions, labels)\n",
    "                \n",
    "                mask = labels != 0\n",
    "                predictions = predictions.argmax(1)\n",
    "                predictions = predictions[mask]\n",
    "                labels = labels[mask]\n",
    "                eval_correct += (predictions == labels).sum().item()\n",
    "                total_count += labels.shape[0]\n",
    "        \n",
    "        return valid_loss / len(eval_dataloader), eval_correct / total_count\n",
    "\n",
    "    \n",
    "    def compute_score(self, predictions: torch.Tensor, labels: torch.Tensor):\n",
    "        mask = labels != 0\n",
    "        labels = labels[mask]        \n",
    "        \n",
    "        predictions = predictions[mask]\n",
    "        maximum_logits, predicted_labels = predictions.max(1)\n",
    "        \n",
    "        # It may happen that more than one pronoun is classify as ambiguous\n",
    "        multiple_ambiguous_pronouns_mask = predicted_labels == 2\n",
    "        ambiguous_pronouns_logits = maximum_logits[multiple_ambiguous_pronouns_mask]\n",
    "\n",
    "        # More than one pronoun is classify as ambiguous\n",
    "        if len(ambiguous_pronouns_logits) > 1:\n",
    "            # Get the highest logit among the ambiguous ones\n",
    "            highest_ambiguous_pronoun_logit = ambiguous_pronouns_logits.max()\n",
    "\n",
    "            # Identity the position of the logit that should correspond to the ambiguous prononun class (2)\n",
    "            ambiguous_pronoun_mask = maximum_logits == highest_ambiguous_pronoun_logit\n",
    "\n",
    "            # All the predictions that are not of that class are set to the \"not ambiguous class\" (1)\n",
    "            predicted_labels[~ambiguous_pronoun_mask] = 1\n",
    "\n",
    "            # However, it may happen again that we have multiple pronouns classified as ambiguous, \n",
    "            # since there may be more than one logit with value = highest_ambiguous_pronoun_logit\n",
    "        \n",
    "        \n",
    "        label_ambiguous_mask = labels == 2\n",
    "        eval_correct += int(labels[label_ambiguous_mask] == predicted_labels[label_ambiguous_mask])\n",
    "        \n",
    "        return eval_correct\n",
    "    \n",
    "    def _print_time(self, s):\n",
    "        m = math.floor(s / 60)\n",
    "        s -= m * 60\n",
    "        return '%dm %ds' % (m, s)\n",
    "\n",
    "    def _print_step_log(self, step, running_loss, running_acc):\n",
    "        print(f'\\t| step {step+1:3d}/{len(self.train_dataloader):d} | train_loss: {running_loss:.3f} | ' \\\n",
    "                f'train_acc: {running_acc:.3f} |')\n",
    "\n",
    "    def _print_epoch_log(self, epoch, epochs, train_loss, valid_loss, valid_acc):\n",
    "        print('-' * 76)\n",
    "        print(f'| epoch {epoch+1:>3d}/{epochs:<3d} | train_loss: {train_loss:.3f} | ' \\\n",
    "                f'valid_loss: {valid_loss:.3f} | valid_acc: {valid_acc:.3f} |')\n",
    "        print('-' * 76)\n",
    "        \n",
    "    \n",
    "    def _save_model(self, task_type, epoch, valid_acc, scaler, metrics_history):\n",
    "        print(\"Saving model...\")\n",
    "        params_to_save = {\n",
    "            \"epoch\": epoch,\n",
    "            \"model_state_dict\": self.model.state_dict(),\n",
    "            \"optimizer_state_dict\": self.optimizer.state_dict(),\n",
    "            \"metrics_history\": metrics_history,\n",
    "        }\n",
    "        \n",
    "        if self.scheduler is not None:\n",
    "            params_to_save[\"scheduler_state_dict\"] = self.scheduler.state_dict()\n",
    "            \n",
    "        if scaler is not None:\n",
    "            params_to_save[\"scaler_state_dict\"] = scaler.state_dict(),\n",
    "            \n",
    "        save_path = f\"{self.args.output_dir}my_model{str(task_type)}_{str(valid_acc)[2:5]}_{epoch+1}\"\n",
    "        now = datetime.now()\n",
    "        current_time = now.strftime(\"%H-%M-%S\")\n",
    "        \n",
    "        if os.path.exists(f\"{save_path}_{current_time}.pth\"):\n",
    "            torch.save(params_to_save, f\"{save_path}_{current_time}_new.pth\")\n",
    "        else:\n",
    "            torch.save(params_to_save, f\"{save_path}_{current_time}.pth\")\n",
    "        \n",
    "        print(\"Model saved.\")\n",
    "\n",
    "    def _resume_model(self, path, scaler):\n",
    "        checkpoint = torch.load(path, map_location=device)\n",
    "        self.model.load_state_dict(checkpoint['model_state_dict'])\n",
    "        self.optimizer.load_state_dict(checkpoint['optimizer_state_dict'])\n",
    "        scaler.load_state_dict(checkpoint['scaler_state_dict'])\n"
   ]
  },
  {
   "cell_type": "code",
   "execution_count": 18,
   "id": "d7a11aea",
   "metadata": {},
   "outputs": [],
   "source": [
    "# torch.save({\n",
    "#     \"model_state_dict\": model.state_dict(),\n",
    "#     \"optimizer_state_dict\": optimizer.state_dict(),\n",
    "# #     \"scheduler_state_dict\": self.scheduler.state_dict(),\n",
    "# #     \"scaler_state_dict\": scaler.state_dict(),\n",
    "# }, f\"../../model/checkpoints/my_model_{str(946)}_{2}.pth\")"
   ]
  },
  {
   "cell_type": "code",
   "execution_count": 19,
   "id": "31aa4455",
   "metadata": {
    "colab": {
     "base_uri": "https://localhost:8080/"
    },
    "executionInfo": {
     "elapsed": 2064,
     "status": "ok",
     "timestamp": 1660753117653,
     "user": {
      "displayName": "Florin Cuconasu",
      "userId": "13345521608196528334"
     },
     "user_tz": -120
    },
    "id": "31aa4455",
    "outputId": "790097d0-16fa-439c-b121-325837a47121",
    "scrolled": true
   },
   "outputs": [
    {
     "name": "stderr",
     "output_type": "stream",
     "text": [
      "Some weights of the model checkpoint at bert-base-cased were not used when initializing BertModel: ['cls.predictions.transform.dense.weight', 'cls.predictions.transform.LayerNorm.weight', 'cls.seq_relationship.weight', 'cls.predictions.bias', 'cls.seq_relationship.bias', 'cls.predictions.transform.dense.bias', 'cls.predictions.transform.LayerNorm.bias', 'cls.predictions.decoder.weight']\n",
      "- This IS expected if you are initializing BertModel from the checkpoint of a model trained on another task or with another architecture (e.g. initializing a BertForSequenceClassification model from a BertForPreTraining model).\n",
      "- This IS NOT expected if you are initializing BertModel from the checkpoint of a model that you expect to be exactly identical (initializing a BertForSequenceClassification model from a BertForSequenceClassification model).\n"
     ]
    },
    {
     "name": "stdout",
     "output_type": "stream",
     "text": [
      "CustomTrainingArguments(output_dir='../../model/checkpoints/', resume_from_checkpoint=None, save_model=False, num_train_epochs=2, logging_steps=250, learning_rate=5e-05, grad_clipping=None, early_stopping=True, early_stopping_mode='max', early_stopping_patience=2)\n"
     ]
    }
   ],
   "source": [
    "model_name_or_path = \"bert-base-cased\"\n",
    "model = GAPModel(model_name_or_path, tokenizer).to(device, non_blocking=True)\n",
    "\n",
    "# last_frozen_layer = 6\n",
    "\n",
    "# modules = [model.bert.embeddings, *model.bert.encoder.layer[:last_frozen_layer]]\n",
    "# for module in modules:\n",
    "#     for param in module.parameters():\n",
    "#         param.requires_grad = False\n",
    "\n",
    "yaml_file = \"./train_notebook.yaml\"\n",
    "# Read configuration file with all the necessary parameters\n",
    "with open(yaml_file) as file:\n",
    "    config = yaml.safe_load(file)\n",
    "    \n",
    "training_args = CustomTrainingArguments(**config['training_args'])\n",
    "\n",
    "# Make sure that the learning rate is read as a number and not as a string\n",
    "training_args.learning_rate = float(training_args.learning_rate)\n",
    "print(training_args)\n",
    "\n",
    "criterion = torch.nn.CrossEntropyLoss(ignore_index=0).to(device=device, non_blocking=True)\n",
    "optimizer = torch.optim.Adam(model.parameters(), lr=training_args.learning_rate)\n",
    "# scheduler = torch.optim.lr_scheduler.LinearLR(optimizer, start_factor=0.1)\n",
    "# scheduler = torch.optim.lr_scheduler.StepLR(optimizer, step_size=2, gamma=0.1)\n",
    "scheduler = None\n",
    "\n",
    "batch_size = 4\n",
    "\n",
    "collator = Collator(device)\n",
    "train_dataloader = DataLoader(train_ds, batch_size=batch_size, \n",
    "                              collate_fn=collator, shuffle=True)\n",
    "valid_dataloader = DataLoader(valid_ds, batch_size=batch_size, \n",
    "                              collate_fn=collator, shuffle=False)\n",
    "\n",
    "trainer = Trainer(model, training_args, \n",
    "                  train_dataloader, valid_dataloader, \n",
    "                  criterion, optimizer, scheduler)\n"
   ]
  },
  {
   "cell_type": "code",
   "execution_count": 62,
   "id": "e7c8f03a",
   "metadata": {
    "colab": {
     "base_uri": "https://localhost:8080/"
    },
    "executionInfo": {
     "elapsed": 735134,
     "status": "ok",
     "timestamp": 1660753855156,
     "user": {
      "displayName": "Florin Cuconasu",
      "userId": "13345521608196528334"
     },
     "user_tz": -120
    },
    "id": "e7c8f03a",
    "outputId": "8349c872-e0c2-4428-f04b-6ed2f8496ffc"
   },
   "outputs": [
    {
     "name": "stdout",
     "output_type": "stream",
     "text": [
      "\n",
      "Training...\n",
      "----------------------------------------------------------------------------\n",
      "| epoch   1/2   | train_loss: 3.198 | valid_loss: 4.452 | valid_acc: 0.825 |\n",
      "----------------------------------------------------------------------------\n"
     ]
    },
    {
     "ename": "KeyboardInterrupt",
     "evalue": "",
     "output_type": "error",
     "traceback": [
      "\u001b[1;31m---------------------------------------------------------------------------\u001b[0m",
      "\u001b[1;31mKeyboardInterrupt\u001b[0m                         Traceback (most recent call last)",
      "\u001b[1;32m~\\AppData\\Local\\Temp\\ipykernel_12896\\2758054707.py\u001b[0m in \u001b[0;36m<module>\u001b[1;34m\u001b[0m\n\u001b[1;32m----> 1\u001b[1;33m \u001b[0mmetrics_history\u001b[0m \u001b[1;33m=\u001b[0m \u001b[0mtrainer\u001b[0m\u001b[1;33m.\u001b[0m\u001b[0mtrain\u001b[0m\u001b[1;33m(\u001b[0m\u001b[1;33m)\u001b[0m\u001b[1;33m\u001b[0m\u001b[1;33m\u001b[0m\u001b[0m\n\u001b[0m",
      "\u001b[1;32m~\\AppData\\Local\\Temp\\ipykernel_12896\\1218446353.py\u001b[0m in \u001b[0;36mtrain\u001b[1;34m(self)\u001b[0m\n\u001b[0;32m     48\u001b[0m         \u001b[0mprint\u001b[0m\u001b[1;33m(\u001b[0m\u001b[1;34m\"\\nTraining...\"\u001b[0m\u001b[1;33m)\u001b[0m\u001b[1;33m\u001b[0m\u001b[1;33m\u001b[0m\u001b[0m\n\u001b[0;32m     49\u001b[0m         \u001b[1;32mfor\u001b[0m \u001b[0mepoch\u001b[0m \u001b[1;32min\u001b[0m \u001b[0mrange\u001b[0m\u001b[1;33m(\u001b[0m\u001b[0mepochs\u001b[0m\u001b[1;33m)\u001b[0m\u001b[1;33m:\u001b[0m\u001b[1;33m\u001b[0m\u001b[1;33m\u001b[0m\u001b[0m\n\u001b[1;32m---> 50\u001b[1;33m             \u001b[0mtrain_loss\u001b[0m\u001b[1;33m,\u001b[0m \u001b[0mtrain_acc\u001b[0m \u001b[1;33m=\u001b[0m \u001b[0mself\u001b[0m\u001b[1;33m.\u001b[0m\u001b[0m_inner_training_loop\u001b[0m\u001b[1;33m(\u001b[0m\u001b[0mscaler\u001b[0m\u001b[1;33m)\u001b[0m\u001b[1;33m\u001b[0m\u001b[1;33m\u001b[0m\u001b[0m\n\u001b[0m\u001b[0;32m     51\u001b[0m             \u001b[0mtrain_losses\u001b[0m\u001b[1;33m.\u001b[0m\u001b[0mappend\u001b[0m\u001b[1;33m(\u001b[0m\u001b[0mtrain_loss\u001b[0m\u001b[1;33m)\u001b[0m\u001b[1;33m\u001b[0m\u001b[1;33m\u001b[0m\u001b[0m\n\u001b[0;32m     52\u001b[0m             \u001b[0mtrain_acc_list\u001b[0m\u001b[1;33m.\u001b[0m\u001b[0mappend\u001b[0m\u001b[1;33m(\u001b[0m\u001b[0mtrain_acc\u001b[0m\u001b[1;33m)\u001b[0m\u001b[1;33m\u001b[0m\u001b[1;33m\u001b[0m\u001b[0m\n",
      "\u001b[1;32m~\\AppData\\Local\\Temp\\ipykernel_12896\\1218446353.py\u001b[0m in \u001b[0;36m_inner_training_loop\u001b[1;34m(self, scaler)\u001b[0m\n\u001b[0;32m    131\u001b[0m \u001b[1;33m\u001b[0m\u001b[0m\n\u001b[0;32m    132\u001b[0m             \u001b[1;31m# Update weights\u001b[0m\u001b[1;33m\u001b[0m\u001b[1;33m\u001b[0m\u001b[1;33m\u001b[0m\u001b[0m\n\u001b[1;32m--> 133\u001b[1;33m             \u001b[0mself\u001b[0m\u001b[1;33m.\u001b[0m\u001b[0moptimizer\u001b[0m\u001b[1;33m.\u001b[0m\u001b[0mstep\u001b[0m\u001b[1;33m(\u001b[0m\u001b[1;33m)\u001b[0m\u001b[1;33m\u001b[0m\u001b[1;33m\u001b[0m\u001b[0m\n\u001b[0m\u001b[0;32m    134\u001b[0m \u001b[1;31m#             scaler.step(self.optimizer)\u001b[0m\u001b[1;33m\u001b[0m\u001b[1;33m\u001b[0m\u001b[1;33m\u001b[0m\u001b[0m\n\u001b[0;32m    135\u001b[0m \u001b[1;31m#             scaler.update()\u001b[0m\u001b[1;33m\u001b[0m\u001b[1;33m\u001b[0m\u001b[1;33m\u001b[0m\u001b[0m\n",
      "\u001b[1;32m~\\miniconda3\\envs\\DL\\lib\\site-packages\\torch\\optim\\optimizer.py\u001b[0m in \u001b[0;36mwrapper\u001b[1;34m(*args, **kwargs)\u001b[0m\n\u001b[0;32m     86\u001b[0m                 \u001b[0mprofile_name\u001b[0m \u001b[1;33m=\u001b[0m \u001b[1;34m\"Optimizer.step#{}.step\"\u001b[0m\u001b[1;33m.\u001b[0m\u001b[0mformat\u001b[0m\u001b[1;33m(\u001b[0m\u001b[0mobj\u001b[0m\u001b[1;33m.\u001b[0m\u001b[0m__class__\u001b[0m\u001b[1;33m.\u001b[0m\u001b[0m__name__\u001b[0m\u001b[1;33m)\u001b[0m\u001b[1;33m\u001b[0m\u001b[1;33m\u001b[0m\u001b[0m\n\u001b[0;32m     87\u001b[0m                 \u001b[1;32mwith\u001b[0m \u001b[0mtorch\u001b[0m\u001b[1;33m.\u001b[0m\u001b[0mautograd\u001b[0m\u001b[1;33m.\u001b[0m\u001b[0mprofiler\u001b[0m\u001b[1;33m.\u001b[0m\u001b[0mrecord_function\u001b[0m\u001b[1;33m(\u001b[0m\u001b[0mprofile_name\u001b[0m\u001b[1;33m)\u001b[0m\u001b[1;33m:\u001b[0m\u001b[1;33m\u001b[0m\u001b[1;33m\u001b[0m\u001b[0m\n\u001b[1;32m---> 88\u001b[1;33m                     \u001b[1;32mreturn\u001b[0m \u001b[0mfunc\u001b[0m\u001b[1;33m(\u001b[0m\u001b[1;33m*\u001b[0m\u001b[0margs\u001b[0m\u001b[1;33m,\u001b[0m \u001b[1;33m**\u001b[0m\u001b[0mkwargs\u001b[0m\u001b[1;33m)\u001b[0m\u001b[1;33m\u001b[0m\u001b[1;33m\u001b[0m\u001b[0m\n\u001b[0m\u001b[0;32m     89\u001b[0m             \u001b[1;32mreturn\u001b[0m \u001b[0mwrapper\u001b[0m\u001b[1;33m\u001b[0m\u001b[1;33m\u001b[0m\u001b[0m\n\u001b[0;32m     90\u001b[0m \u001b[1;33m\u001b[0m\u001b[0m\n",
      "\u001b[1;32m~\\miniconda3\\envs\\DL\\lib\\site-packages\\torch\\autograd\\grad_mode.py\u001b[0m in \u001b[0;36mdecorate_context\u001b[1;34m(*args, **kwargs)\u001b[0m\n\u001b[0;32m     25\u001b[0m         \u001b[1;32mdef\u001b[0m \u001b[0mdecorate_context\u001b[0m\u001b[1;33m(\u001b[0m\u001b[1;33m*\u001b[0m\u001b[0margs\u001b[0m\u001b[1;33m,\u001b[0m \u001b[1;33m**\u001b[0m\u001b[0mkwargs\u001b[0m\u001b[1;33m)\u001b[0m\u001b[1;33m:\u001b[0m\u001b[1;33m\u001b[0m\u001b[1;33m\u001b[0m\u001b[0m\n\u001b[0;32m     26\u001b[0m             \u001b[1;32mwith\u001b[0m \u001b[0mself\u001b[0m\u001b[1;33m.\u001b[0m\u001b[0mclone\u001b[0m\u001b[1;33m(\u001b[0m\u001b[1;33m)\u001b[0m\u001b[1;33m:\u001b[0m\u001b[1;33m\u001b[0m\u001b[1;33m\u001b[0m\u001b[0m\n\u001b[1;32m---> 27\u001b[1;33m                 \u001b[1;32mreturn\u001b[0m \u001b[0mfunc\u001b[0m\u001b[1;33m(\u001b[0m\u001b[1;33m*\u001b[0m\u001b[0margs\u001b[0m\u001b[1;33m,\u001b[0m \u001b[1;33m**\u001b[0m\u001b[0mkwargs\u001b[0m\u001b[1;33m)\u001b[0m\u001b[1;33m\u001b[0m\u001b[1;33m\u001b[0m\u001b[0m\n\u001b[0m\u001b[0;32m     28\u001b[0m         \u001b[1;32mreturn\u001b[0m \u001b[0mcast\u001b[0m\u001b[1;33m(\u001b[0m\u001b[0mF\u001b[0m\u001b[1;33m,\u001b[0m \u001b[0mdecorate_context\u001b[0m\u001b[1;33m)\u001b[0m\u001b[1;33m\u001b[0m\u001b[1;33m\u001b[0m\u001b[0m\n\u001b[0;32m     29\u001b[0m \u001b[1;33m\u001b[0m\u001b[0m\n",
      "\u001b[1;32m~\\miniconda3\\envs\\DL\\lib\\site-packages\\torch\\optim\\adam.py\u001b[0m in \u001b[0;36mstep\u001b[1;34m(self, closure)\u001b[0m\n\u001b[0;32m    151\u001b[0m                    \u001b[0mweight_decay\u001b[0m\u001b[1;33m=\u001b[0m\u001b[0mgroup\u001b[0m\u001b[1;33m[\u001b[0m\u001b[1;34m'weight_decay'\u001b[0m\u001b[1;33m]\u001b[0m\u001b[1;33m,\u001b[0m\u001b[1;33m\u001b[0m\u001b[1;33m\u001b[0m\u001b[0m\n\u001b[0;32m    152\u001b[0m                    \u001b[0meps\u001b[0m\u001b[1;33m=\u001b[0m\u001b[0mgroup\u001b[0m\u001b[1;33m[\u001b[0m\u001b[1;34m'eps'\u001b[0m\u001b[1;33m]\u001b[0m\u001b[1;33m,\u001b[0m\u001b[1;33m\u001b[0m\u001b[1;33m\u001b[0m\u001b[0m\n\u001b[1;32m--> 153\u001b[1;33m                    maximize=group['maximize'])\n\u001b[0m\u001b[0;32m    154\u001b[0m         \u001b[1;32mreturn\u001b[0m \u001b[0mloss\u001b[0m\u001b[1;33m\u001b[0m\u001b[1;33m\u001b[0m\u001b[0m\n",
      "\u001b[1;32m~\\miniconda3\\envs\\DL\\lib\\site-packages\\torch\\optim\\_functional.py\u001b[0m in \u001b[0;36madam\u001b[1;34m(params, grads, exp_avgs, exp_avg_sqs, max_exp_avg_sqs, state_steps, amsgrad, beta1, beta2, lr, weight_decay, eps, maximize)\u001b[0m\n\u001b[0;32m     95\u001b[0m \u001b[1;33m\u001b[0m\u001b[0m\n\u001b[0;32m     96\u001b[0m         \u001b[1;31m# Decay the first and second moment running average coefficient\u001b[0m\u001b[1;33m\u001b[0m\u001b[1;33m\u001b[0m\u001b[1;33m\u001b[0m\u001b[0m\n\u001b[1;32m---> 97\u001b[1;33m         \u001b[0mexp_avg\u001b[0m\u001b[1;33m.\u001b[0m\u001b[0mmul_\u001b[0m\u001b[1;33m(\u001b[0m\u001b[0mbeta1\u001b[0m\u001b[1;33m)\u001b[0m\u001b[1;33m.\u001b[0m\u001b[0madd_\u001b[0m\u001b[1;33m(\u001b[0m\u001b[0mgrad\u001b[0m\u001b[1;33m,\u001b[0m \u001b[0malpha\u001b[0m\u001b[1;33m=\u001b[0m\u001b[1;36m1\u001b[0m \u001b[1;33m-\u001b[0m \u001b[0mbeta1\u001b[0m\u001b[1;33m)\u001b[0m\u001b[1;33m\u001b[0m\u001b[1;33m\u001b[0m\u001b[0m\n\u001b[0m\u001b[0;32m     98\u001b[0m         \u001b[0mexp_avg_sq\u001b[0m\u001b[1;33m.\u001b[0m\u001b[0mmul_\u001b[0m\u001b[1;33m(\u001b[0m\u001b[0mbeta2\u001b[0m\u001b[1;33m)\u001b[0m\u001b[1;33m.\u001b[0m\u001b[0maddcmul_\u001b[0m\u001b[1;33m(\u001b[0m\u001b[0mgrad\u001b[0m\u001b[1;33m,\u001b[0m \u001b[0mgrad\u001b[0m\u001b[1;33m.\u001b[0m\u001b[0mconj\u001b[0m\u001b[1;33m(\u001b[0m\u001b[1;33m)\u001b[0m\u001b[1;33m,\u001b[0m \u001b[0mvalue\u001b[0m\u001b[1;33m=\u001b[0m\u001b[1;36m1\u001b[0m \u001b[1;33m-\u001b[0m \u001b[0mbeta2\u001b[0m\u001b[1;33m)\u001b[0m\u001b[1;33m\u001b[0m\u001b[1;33m\u001b[0m\u001b[0m\n\u001b[0;32m     99\u001b[0m         \u001b[1;32mif\u001b[0m \u001b[0mamsgrad\u001b[0m\u001b[1;33m:\u001b[0m\u001b[1;33m\u001b[0m\u001b[1;33m\u001b[0m\u001b[0m\n",
      "\u001b[1;31mKeyboardInterrupt\u001b[0m: "
     ]
    }
   ],
   "source": [
    "metrics_history = trainer.train()"
   ]
  },
  {
   "cell_type": "code",
   "execution_count": null,
   "id": "3280693e",
   "metadata": {
    "id": "3280693e"
   },
   "outputs": [],
   "source": [
    "# epoch   2/2   | train_loss: 0.375 | valid_loss: 0.335 | valid_acc: 0.877 000005\n",
    "metrics_history"
   ]
  },
  {
   "cell_type": "code",
   "execution_count": 20,
   "id": "f948bb93",
   "metadata": {},
   "outputs": [],
   "source": [
    "# torch.save(model, \"../../model/checkpoints/my_model2_876_2_17-06-10.pth\")"
   ]
  },
  {
   "cell_type": "code",
   "execution_count": 20,
   "id": "102f37c5",
   "metadata": {},
   "outputs": [],
   "source": [
    "path = \"../../model/checkpoints/my_model2_922_2_17-42-11.pth\""
   ]
  },
  {
   "cell_type": "code",
   "execution_count": 21,
   "id": "7bb7f80b",
   "metadata": {},
   "outputs": [
    {
     "data": {
      "text/plain": [
       "<All keys matched successfully>"
      ]
     },
     "execution_count": 21,
     "metadata": {},
     "output_type": "execute_result"
    }
   ],
   "source": [
    "checkpoint = torch.load(path, map_location=device)\n",
    "model.load_state_dict(checkpoint['model_state_dict'])\n",
    "# optimizer.load_state_dict(checkpoint['optimizer_state_dict'])"
   ]
  },
  {
   "cell_type": "code",
   "execution_count": 18,
   "id": "8b0aafda",
   "metadata": {},
   "outputs": [],
   "source": [
    "# y_true_list = []\n",
    "# y_pred_list = []\n",
    "\n",
    "# eval_correct, total_count = 0.0, 0.0\n",
    "# model.eval()\n",
    "# with torch.no_grad():\n",
    "#     dataloader = DataLoader(valid_ds, batch_size=1, collate_fn=collate_batch, shuffle=False)\n",
    "#     for (features, labels) in dataloader:\n",
    "#         predicted_labels = model(features)\n",
    "\n",
    "#         predicted_labels = predicted_labels.view(-1, predicted_labels.shape[-1])\n",
    "#         labels = labels.view(-1)\n",
    "\n",
    "#         mask = labels != 0\n",
    "#         predicted_labels = predicted_labels.argmax(1)\n",
    "#         predicted_labels = predicted_labels[mask].tolist()\n",
    "        \n",
    "#         y_pred_list.append(predicted_labels)\n",
    "        \n",
    "        \n",
    "#         labels = labels[mask].tolist()\n",
    "#         y_true_list.append(labels)\n",
    "        \n",
    "        \n",
    "# #         eval_correct += (predicted_labels == labels).sum().item()\n",
    "# #         total_count += labels.shape[0]\n",
    "            "
   ]
  },
  {
   "cell_type": "code",
   "execution_count": 49,
   "id": "992233ed",
   "metadata": {},
   "outputs": [
    {
     "data": {
      "text/plain": [
       "tensor([False, False,  True])"
      ]
     },
     "execution_count": 49,
     "metadata": {},
     "output_type": "execute_result"
    }
   ],
   "source": [
    "# It may happen that more than one pronoun is classify as ambiguous\n",
    "multiple_ambiguous_pronouns_mask = a[1] == 2\n",
    "\n",
    "ambiguous_pronouns_logits = a[0][multiple_ambiguous_pronouns_mask]\n",
    "\n",
    "# No ambiguity\n",
    "if len(ambiguous_pronouns_logits) <= 1:\n",
    "    print(\"RVFE\")\n",
    "\n",
    "# More than one pronoun is classify as ambiguous\n",
    "\n",
    "# Get the highest logit among the ambiguous ones\n",
    "highest_ambiguous_pronoun_logit = ambiguous_pronouns_logits.max()\n",
    "\n",
    "# Identity the position of the logit that should correspond to the ambiguous prononun class (2)\n",
    "ambiguous_pronoun_mask = a[0] == highest_ambiguous_pronoun_logit\n",
    "\n",
    "# All the predictions that are not of that class are set to the \"not ambiguous class\" (1)\n",
    "a[1][~ambiguous_pronoun_mask] = 1\n",
    "\n",
    "# However, With this function, it may happen again that we have multiple pronouns classified as ambiguous, \n",
    "# since there may be more than one logit with value = highest_ambiguous_pronoun_logit"
   ]
  },
  {
   "cell_type": "markdown",
   "id": "e9baedcf",
   "metadata": {},
   "source": [
    "182"
   ]
  },
  {
   "cell_type": "code",
   "execution_count": 104,
   "id": "8371862e",
   "metadata": {},
   "outputs": [
    {
     "data": {
      "text/plain": [
       "[]"
      ]
     },
     "execution_count": 104,
     "metadata": {},
     "output_type": "execute_result"
    }
   ],
   "source": [
    "valid_ds[181].labels"
   ]
  },
  {
   "cell_type": "code",
   "execution_count": 113,
   "id": "01ced096",
   "metadata": {},
   "outputs": [
    {
     "data": {
      "text/plain": [
       "0"
      ]
     },
     "execution_count": 113,
     "metadata": {},
     "output_type": "execute_result"
    }
   ],
   "source": [
    "sample['labels'].numel()"
   ]
  },
  {
   "cell_type": "code",
   "execution_count": 116,
   "id": "78086d61",
   "metadata": {},
   "outputs": [
    {
     "name": "stdout",
     "output_type": "stream",
     "text": [
      "181\n"
     ]
    }
   ],
   "source": [
    "y_true_list = []\n",
    "y_pred_list = []\n",
    "logits = []\n",
    "\n",
    "\n",
    "eval_correct, total_count = 0.0, 0.0\n",
    "model.eval()\n",
    "with torch.no_grad():\n",
    "    collator = Collator(device)\n",
    "    dataloader = DataLoader(valid_ds, batch_size=1, collate_fn=collator, shuffle=False)\n",
    "    for idx, sample in enumerate(dataloader):\n",
    "        if sample['labels'].numel() == 0:\n",
    "            print(idx)\n",
    "            continue\n",
    "        \n",
    "        predictions = model(sample)\n",
    "        predictions = predictions.view(-1, predictions.shape[-1])\n",
    "        labels = sample['labels']\n",
    "        labels = labels.view(-1)\n",
    "\n",
    "        logits.append(predictions)\n",
    "\n",
    "        mask = labels != 0\n",
    "        labels = labels[mask]\n",
    "        y_true_list.append(labels.tolist())\n",
    "        \n",
    "        \n",
    "        predictions = predictions[mask]\n",
    "        maximum_logits, predicted_labels = predictions.max(1)\n",
    "\n",
    "        \n",
    "        # It may happen that more than one pronoun is classify as ambiguous\n",
    "#         multiple_ambiguous_pronouns_mask = predicted_labels == 2\n",
    "#         ambiguous_pronouns_logits = maximum_logits[multiple_ambiguous_pronouns_mask]\n",
    "        \n",
    "#         # More than one pronoun is classify as ambiguous\n",
    "#         if len(ambiguous_pronouns_logits) > 1:\n",
    "#             # Get the highest logit among the ambiguous ones\n",
    "#             highest_ambiguous_pronoun_logit = ambiguous_pronouns_logits.max()\n",
    "\n",
    "#             # Identity the position of the logit that should correspond to the ambiguous prononun class (2)\n",
    "#             ambiguous_pronoun_mask = maximum_logits == highest_ambiguous_pronoun_logit\n",
    "\n",
    "#             # All the predictions that are not of that class are set to the \"not ambiguous class\" (1)\n",
    "#             predicted_labels[~ambiguous_pronoun_mask] = 1\n",
    "\n",
    "            # However, it may happen again that we have multiple pronouns classified as ambiguous, \n",
    "            # since there may be more than one logit with value = highest_ambiguous_pronoun_logit\n",
    "        \n",
    "        \n",
    "        # # When the model predicts that all the pronouns are not ambiguous (no class 2)\n",
    "        # if not torch.any(predicted_labels == 2):\n",
    "        #     # Try to select the most probable ambiguous pronoun\n",
    "        #     probable_ambiguous_index = predictions[:,-1].argmax()\n",
    "        #     predicted_labels[probable_ambiguous_index] = 2\n",
    "        \n",
    "        \n",
    "        y_pred_list.append(predicted_labels.tolist())\n",
    "        \n",
    "        \n",
    "        label_ambiguous_mask = labels == 2\n",
    "        eval_correct += (labels[label_ambiguous_mask] == predicted_labels[label_ambiguous_mask]).sum().item()\n",
    "        total_count += 1\n"
   ]
  },
  {
   "cell_type": "code",
   "execution_count": 117,
   "id": "912f03e1",
   "metadata": {},
   "outputs": [
    {
     "data": {
      "text/plain": [
       "453.0"
      ]
     },
     "execution_count": 117,
     "metadata": {},
     "output_type": "execute_result"
    }
   ],
   "source": [
    "total_count"
   ]
  },
  {
   "cell_type": "code",
   "execution_count": 118,
   "id": "6ae4af2f",
   "metadata": {},
   "outputs": [
    {
     "data": {
      "text/plain": [
       "170.0"
      ]
     },
     "execution_count": 118,
     "metadata": {},
     "output_type": "execute_result"
    }
   ],
   "source": [
    "eval_correct"
   ]
  },
  {
   "cell_type": "code",
   "execution_count": 119,
   "id": "c1436200",
   "metadata": {},
   "outputs": [
    {
     "data": {
      "text/plain": [
       "0.37527593818984545"
      ]
     },
     "execution_count": 119,
     "metadata": {},
     "output_type": "execute_result"
    }
   ],
   "source": [
    "eval_correct / total_count"
   ]
  },
  {
   "cell_type": "code",
   "execution_count": 120,
   "id": "83c33ccd",
   "metadata": {},
   "outputs": [
    {
     "data": {
      "text/plain": [
       "0.3744493392070485"
      ]
     },
     "execution_count": 120,
     "metadata": {},
     "output_type": "execute_result"
    }
   ],
   "source": [
    "eval_correct / len(dataloader)"
   ]
  },
  {
   "cell_type": "code",
   "execution_count": 398,
   "id": "5ff402f7",
   "metadata": {},
   "outputs": [],
   "source": [
    "t1 = torch.tensor([1, 2, 1])\n",
    "t2 = torch.tensor([2, 2, 1])"
   ]
  },
  {
   "cell_type": "code",
   "execution_count": 402,
   "id": "e2d0aed6",
   "metadata": {},
   "outputs": [
    {
     "data": {
      "text/plain": [
       "tensor([False,  True,  True])"
      ]
     },
     "execution_count": 402,
     "metadata": {},
     "output_type": "execute_result"
    }
   ],
   "source": [
    "t1 == t2"
   ]
  },
  {
   "cell_type": "code",
   "execution_count": 400,
   "id": "e8b5fd12",
   "metadata": {},
   "outputs": [
    {
     "data": {
      "text/plain": [
       "tensor(False)"
      ]
     },
     "execution_count": 400,
     "metadata": {},
     "output_type": "execute_result"
    }
   ],
   "source": [
    "torch.all(t1 != t2)"
   ]
  },
  {
   "cell_type": "code",
   "execution_count": 50,
   "id": "6318eb25",
   "metadata": {},
   "outputs": [],
   "source": [
    "ambigous = t1 == 2"
   ]
  },
  {
   "cell_type": "code",
   "execution_count": 66,
   "id": "72efff0c",
   "metadata": {},
   "outputs": [
    {
     "data": {
      "text/plain": [
       "tensor([True])"
      ]
     },
     "execution_count": 66,
     "metadata": {},
     "output_type": "execute_result"
    }
   ],
   "source": [
    "(t1[ambigous] == t2[ambigous])"
   ]
  },
  {
   "cell_type": "code",
   "execution_count": 48,
   "id": "78d8c357",
   "metadata": {},
   "outputs": [
    {
     "data": {
      "text/plain": [
       "tensor([ True, False, False])"
      ]
     },
     "execution_count": 48,
     "metadata": {},
     "output_type": "execute_result"
    }
   ],
   "source": [
    "t2 == 2"
   ]
  },
  {
   "cell_type": "code",
   "execution_count": 129,
   "id": "30a47a02",
   "metadata": {},
   "outputs": [],
   "source": [
    "y_true_list = []\n",
    "y_pred_list = []\n",
    "logits = []\n",
    "\n",
    "eval_correct, total_count = 0.0, 0.0\n",
    "model.eval()\n",
    "with torch.no_grad():\n",
    "    dataloader = DataLoader(valid_ds, batch_size=1, collate_fn=collate_batch, shuffle=False)\n",
    "    for (features, offsets, labels) in dataloader:\n",
    "        predicted_labels = model(features, offsets)\n",
    "\n",
    "        predicted_labels = predicted_labels.view(-1, predicted_labels.shape[-1])\n",
    "        labels = labels.view(-1)\n",
    "        \n",
    "        logits.append(predicted_labels)\n",
    "\n",
    "        mask = labels != 0\n",
    "        predictions = predicted_labels.argmax(1)\n",
    "        predictions = predictions[mask].tolist()\n",
    "        \n",
    "        y_pred_list.append(predictions)\n",
    "        \n",
    "        \n",
    "        labels = labels[mask].tolist()\n",
    "        y_true_list.append(labels)\n",
    "        \n",
    "        \n",
    "#         eval_correct += (predicted_labels == labels).sum().item()\n",
    "#         total_count += labels.shape[0]\n",
    "            "
   ]
  },
  {
   "cell_type": "code",
   "execution_count": 104,
   "id": "d7616b45",
   "metadata": {},
   "outputs": [],
   "source": [
    "F = torch.nn.functional"
   ]
  },
  {
   "cell_type": "code",
   "execution_count": 387,
   "id": "28822a3a",
   "metadata": {},
   "outputs": [
    {
     "data": {
      "text/plain": [
       "tensor([ True,  True,  True,  True, False], device='cuda:0')"
      ]
     },
     "execution_count": 387,
     "metadata": {},
     "output_type": "execute_result"
    }
   ],
   "source": [
    "mask[4]= False\n",
    "mask"
   ]
  },
  {
   "cell_type": "code",
   "execution_count": 265,
   "id": "427c9bcb",
   "metadata": {},
   "outputs": [
    {
     "data": {
      "text/plain": [
       "tensor([[-3.3443,  4.5501, -1.0523],\n",
       "        [-3.3901,  4.5434, -0.9574],\n",
       "        [-3.3125,  4.5226, -1.0784],\n",
       "        [-3.6061,  4.0081, -0.1762],\n",
       "        [-3.3012,  4.5141, -1.1606],\n",
       "        [-3.3566,  4.4317, -1.0823],\n",
       "        [-3.7792,  3.9054, -0.0202],\n",
       "        [-3.8278,  3.0091,  1.3090],\n",
       "        [-3.5415,  3.3520,  0.2863]], device='cuda:0')"
      ]
     },
     "execution_count": 265,
     "metadata": {},
     "output_type": "execute_result"
    }
   ],
   "source": [
    "logits[206]"
   ]
  },
  {
   "cell_type": "code",
   "execution_count": 266,
   "id": "7e718c81",
   "metadata": {},
   "outputs": [],
   "source": [
    "a = logits[206].max(1)\n",
    "maximum_logits, predicted_classes = a"
   ]
  },
  {
   "cell_type": "code",
   "execution_count": 267,
   "id": "386d725c",
   "metadata": {},
   "outputs": [
    {
     "data": {
      "text/plain": [
       "tensor([4.5501, 4.5434, 4.5226, 4.0081, 4.5141, 4.4317, 3.9054, 3.0091, 3.3520],\n",
       "       device='cuda:0')"
      ]
     },
     "execution_count": 267,
     "metadata": {},
     "output_type": "execute_result"
    }
   ],
   "source": [
    "maximum_logits"
   ]
  },
  {
   "cell_type": "code",
   "execution_count": 289,
   "id": "c9bcca87",
   "metadata": {},
   "outputs": [],
   "source": [
    "maximum_logits = torch.tensor([1,1,4,2])\n",
    "predicted_labels = torch.tensor([1,1,1,1])"
   ]
  },
  {
   "cell_type": "code",
   "execution_count": 262,
   "id": "a29811c0",
   "metadata": {},
   "outputs": [
    {
     "data": {
      "text/plain": [
       "tensor([[1, 1, 4, 2],\n",
       "        [1, 1, 1, 1]])"
      ]
     },
     "execution_count": 262,
     "metadata": {},
     "output_type": "execute_result"
    }
   ],
   "source": [
    "a = torch.stack([maximum_logits, predicted_classes], dim=0)\n",
    "a"
   ]
  },
  {
   "cell_type": "code",
   "execution_count": 291,
   "id": "4538a24d",
   "metadata": {},
   "outputs": [
    {
     "name": "stdout",
     "output_type": "stream",
     "text": [
      "ef\n"
     ]
    }
   ],
   "source": [
    "if not torch.any(predicted_labels == 2):\n",
    "    print(\"ef\")"
   ]
  },
  {
   "cell_type": "code",
   "execution_count": 292,
   "id": "c944741d",
   "metadata": {},
   "outputs": [
    {
     "name": "stdout",
     "output_type": "stream",
     "text": [
      "tensor(1, device='cuda:0')\n"
     ]
    }
   ],
   "source": [
    "# When the model predicts that all the pronouns are not ambiguous (all class 1)\n",
    "if len(predicted_classes) == predicted_classes.sum().item():\n",
    "    # Try to select the most probable ambiguous one\n",
    "    probable_ambiguous_index = logits[184][:,-1].argmax()\n",
    "    \n",
    "    print(predicted_classes[probable_ambiguous_index])"
   ]
  },
  {
   "cell_type": "code",
   "execution_count": 372,
   "id": "2d3d4f15",
   "metadata": {},
   "outputs": [],
   "source": [
    "# It may happen that more than one pronoun is classify as ambiguous\n",
    "multiple_ambiguous_pronouns_mask = a[1] == 2\n",
    "\n",
    "ambiguous_pronouns_logits = a[0][multiple_ambiguous_pronouns_mask]\n",
    "\n",
    "# No ambiguity\n",
    "if len(ambiguous_pronouns_logits) <= 1:\n",
    "    print(\"RVFE\")\n",
    "\n",
    "# More than one pronoun is classify as ambiguous\n",
    "\n",
    "# Get the highest logit among the ambiguous ones\n",
    "highest_ambiguous_pronoun_logit = ambiguous_pronouns_logits.max()\n",
    "\n",
    "# Identity the position of the logit that should correspond to the ambiguous prononun class (2)\n",
    "ambiguous_pronoun_mask = a[0] == highest_ambiguous_pronoun_logit\n",
    "\n",
    "# All the predictions that are not of that class are set to the \"not ambiguous class\" (1)\n",
    "a[1][~ambiguous_pronoun_mask] = 1\n",
    "\n",
    "# However, With this function, it may happen again that we have multiple pronouns classified as ambiguous, \n",
    "# since there may be more than one logit with value = highest_ambiguous_pronoun_logit"
   ]
  },
  {
   "cell_type": "code",
   "execution_count": 376,
   "id": "79eb4952",
   "metadata": {},
   "outputs": [
    {
     "data": {
      "text/plain": [
       "tensor([1, 1, 1, 2])"
      ]
     },
     "execution_count": 376,
     "metadata": {},
     "output_type": "execute_result"
    }
   ],
   "source": [
    "a[1]"
   ]
  },
  {
   "cell_type": "code",
   "execution_count": 326,
   "id": "0ec5aa6f",
   "metadata": {},
   "outputs": [
    {
     "data": {
      "text/plain": [
       "tensor(0)"
      ]
     },
     "execution_count": 326,
     "metadata": {},
     "output_type": "execute_result"
    }
   ],
   "source": [
    "ambiguous_pronouns_logits.argmax()"
   ]
  },
  {
   "cell_type": "code",
   "execution_count": 327,
   "id": "fb962562",
   "metadata": {},
   "outputs": [
    {
     "data": {
      "text/plain": [
       "tensor([False, False, False, False])"
      ]
     },
     "execution_count": 327,
     "metadata": {},
     "output_type": "execute_result"
    }
   ],
   "source": [
    "a[1] == ambiguous_pronouns_logits.argmax()"
   ]
  },
  {
   "cell_type": "code",
   "execution_count": 337,
   "id": "fe0a3956",
   "metadata": {},
   "outputs": [
    {
     "data": {
      "text/plain": [
       "tensor(2)"
      ]
     },
     "execution_count": 337,
     "metadata": {},
     "output_type": "execute_result"
    }
   ],
   "source": [
    "a[1][multiple_ambiguous_pronouns_mask][ambiguous_pronouns_logits.argmax()]"
   ]
  },
  {
   "cell_type": "code",
   "execution_count": 356,
   "id": "359a5f11",
   "metadata": {},
   "outputs": [
    {
     "data": {
      "text/plain": [
       "tensor([1, 1, 2, 2])"
      ]
     },
     "execution_count": 356,
     "metadata": {},
     "output_type": "execute_result"
    }
   ],
   "source": [
    "predicted_classes"
   ]
  },
  {
   "cell_type": "code",
   "execution_count": 361,
   "id": "fe19cf58",
   "metadata": {},
   "outputs": [
    {
     "data": {
      "text/plain": [
       "tensor(2)"
      ]
     },
     "execution_count": 361,
     "metadata": {},
     "output_type": "execute_result"
    }
   ],
   "source": [
    "\n",
    "\n",
    "torch.index_select(predicted_classes[multiple_ambiguous_pronouns_mask], dim=0, index=torch.tensor([1]))\n",
    "\n",
    "torch.select(predicted_classes[multiple_ambiguous_pronouns_mask], dim=0, index=torch.tensor(1))"
   ]
  },
  {
   "cell_type": "code",
   "execution_count": 346,
   "id": "09b1a1f6",
   "metadata": {},
   "outputs": [
    {
     "data": {
      "text/plain": [
       "tensor([2])"
      ]
     },
     "execution_count": 346,
     "metadata": {},
     "output_type": "execute_result"
    }
   ],
   "source": [
    "idx = torch.index_select(a[1][multiple_ambiguous_pronouns_mask], dim=0, index=ambiguous_pronouns_logits.argmax())\n",
    "idx"
   ]
  },
  {
   "cell_type": "code",
   "execution_count": 349,
   "id": "335c8afd",
   "metadata": {},
   "outputs": [
    {
     "data": {
      "text/plain": [
       "tensor([2])"
      ]
     },
     "execution_count": 349,
     "metadata": {},
     "output_type": "execute_result"
    }
   ],
   "source": [
    "a[1][idx]"
   ]
  },
  {
   "cell_type": "code",
   "execution_count": 341,
   "id": "10353ed2",
   "metadata": {},
   "outputs": [
    {
     "data": {
      "text/plain": [
       "tensor(2)"
      ]
     },
     "execution_count": 341,
     "metadata": {},
     "output_type": "execute_result"
    }
   ],
   "source": [
    "torch.select(a[1][multiple_ambiguous_pronouns_mask], dim=0, index=ambiguous_pronouns_logits.argmax())"
   ]
  },
  {
   "cell_type": "code",
   "execution_count": 226,
   "id": "b388c0e4",
   "metadata": {},
   "outputs": [],
   "source": [
    "# Get the highest logit among the ambiguous ones\n",
    "ambiguous_pronoun_logit = a[0][multiple_ambiguous_pronouns_mask].max()"
   ]
  },
  {
   "cell_type": "code",
   "execution_count": 228,
   "id": "0d1caea5",
   "metadata": {},
   "outputs": [
    {
     "data": {
      "text/plain": [
       "tensor([False, False, False,  True], device='cuda:0')"
      ]
     },
     "execution_count": 228,
     "metadata": {},
     "output_type": "execute_result"
    }
   ],
   "source": [
    "# Identity the position of the logit that should correspond to the ambiguous prononun class (2)\n",
    "ambiguous_pronoun_mask = a[0] == ambiguous_pronoun_logit\n",
    "ambiguous_pronoun_mask"
   ]
  },
  {
   "cell_type": "code",
   "execution_count": 229,
   "id": "c63ef1f3",
   "metadata": {},
   "outputs": [],
   "source": [
    "# All the predictions that are not of that class are set to not ambiguous (1)\n",
    "a[1][~ambiguous_pronoun_mask] = 1"
   ]
  },
  {
   "cell_type": "code",
   "execution_count": 231,
   "id": "8df6a085",
   "metadata": {},
   "outputs": [
    {
     "data": {
      "text/plain": [
       "tensor([1, 1, 1, 2], device='cuda:0')"
      ]
     },
     "execution_count": 231,
     "metadata": {},
     "output_type": "execute_result"
    }
   ],
   "source": [
    "a[1]"
   ]
  },
  {
   "cell_type": "code",
   "execution_count": 188,
   "id": "fbc6297d",
   "metadata": {},
   "outputs": [],
   "source": [
    "my_pron = a[0][ambiguous].argmax()"
   ]
  },
  {
   "cell_type": "code",
   "execution_count": 208,
   "id": "a06462dd",
   "metadata": {},
   "outputs": [
    {
     "data": {
      "text/plain": [
       "tensor([False, False,  True,  True], device='cuda:0')"
      ]
     },
     "execution_count": 208,
     "metadata": {},
     "output_type": "execute_result"
    }
   ],
   "source": [
    "ambiguous"
   ]
  },
  {
   "cell_type": "code",
   "execution_count": 210,
   "id": "01497eed",
   "metadata": {},
   "outputs": [],
   "source": [
    "m = a[0][ambiguous].max()"
   ]
  },
  {
   "cell_type": "code",
   "execution_count": 214,
   "id": "d246f07b",
   "metadata": {},
   "outputs": [
    {
     "data": {
      "text/plain": [
       "tensor(1, device='cuda:0')"
      ]
     },
     "execution_count": 214,
     "metadata": {},
     "output_type": "execute_result"
    }
   ],
   "source": [
    "a[0][ambiguous].argmax()"
   ]
  },
  {
   "cell_type": "code",
   "execution_count": 209,
   "id": "33c8230b",
   "metadata": {},
   "outputs": [
    {
     "data": {
      "text/plain": [
       "tensor([False, False, False,  True], device='cuda:0')"
      ]
     },
     "execution_count": 209,
     "metadata": {},
     "output_type": "execute_result"
    }
   ],
   "source": [
    "pro = a[0] == m\n",
    "pro"
   ]
  },
  {
   "cell_type": "code",
   "execution_count": 204,
   "id": "f9b51434",
   "metadata": {},
   "outputs": [],
   "source": [
    "a[1][~pro] = 1"
   ]
  },
  {
   "cell_type": "code",
   "execution_count": 205,
   "id": "5901dc16",
   "metadata": {},
   "outputs": [
    {
     "data": {
      "text/plain": [
       "tensor([1, 1, 1, 2], device='cuda:0')"
      ]
     },
     "execution_count": 205,
     "metadata": {},
     "output_type": "execute_result"
    }
   ],
   "source": [
    "a[1]"
   ]
  },
  {
   "cell_type": "code",
   "execution_count": 185,
   "id": "833ce8ca",
   "metadata": {},
   "outputs": [
    {
     "name": "stdout",
     "output_type": "stream",
     "text": [
      "tensor([4.7404, 4.1840, 2.3523, 3.0847], device='cuda:0')\n"
     ]
    }
   ],
   "source": [
    "if a[0][ambiguous].shape != 1:\n",
    "    print(a[0])"
   ]
  },
  {
   "cell_type": "code",
   "execution_count": 148,
   "id": "1024a1c8",
   "metadata": {},
   "outputs": [
    {
     "data": {
      "text/plain": [
       "tensor(0, device='cuda:0')"
      ]
     },
     "execution_count": 148,
     "metadata": {},
     "output_type": "execute_result"
    }
   ],
   "source": [
    "a[0].argmax(0)\n"
   ]
  },
  {
   "cell_type": "code",
   "execution_count": 30,
   "id": "5748038c",
   "metadata": {},
   "outputs": [
    {
     "data": {
      "text/plain": [
       "[2, 1]"
      ]
     },
     "execution_count": 30,
     "metadata": {},
     "output_type": "execute_result"
    }
   ],
   "source": [
    "for idx, pred_list in enumerate(y_pred_list):"
   ]
  },
  {
   "cell_type": "code",
   "execution_count": 31,
   "id": "f2a209ee",
   "metadata": {},
   "outputs": [
    {
     "data": {
      "text/plain": [
       "[1, 1]"
      ]
     },
     "execution_count": 31,
     "metadata": {},
     "output_type": "execute_result"
    }
   ],
   "source": [
    "y_true_list[0]"
   ]
  },
  {
   "cell_type": "code",
   "execution_count": 298,
   "id": "208c36cd",
   "metadata": {},
   "outputs": [],
   "source": [
    "count_pred_ = 0\n",
    "for idx, pred_list in enumerate(y_pred_list):\n",
    "    c = 0\n",
    "    for num in pred_list:\n",
    "        if num == 2:\n",
    "            c += 1\n",
    "            \n",
    "    if c > 1:\n",
    "        print(idx)\n",
    "        count_pred_ += 1\n",
    "        \n",
    "    elif c == 0:\n",
    "        print(idx)\n",
    "        count_pred_ += 1"
   ]
  },
  {
   "cell_type": "code",
   "execution_count": 299,
   "id": "927fefd9",
   "metadata": {},
   "outputs": [
    {
     "data": {
      "text/plain": [
       "0"
      ]
     },
     "execution_count": 299,
     "metadata": {},
     "output_type": "execute_result"
    }
   ],
   "source": [
    "count_pred_"
   ]
  },
  {
   "cell_type": "code",
   "execution_count": 48,
   "id": "ad8e9ae1",
   "metadata": {},
   "outputs": [
    {
     "data": {
      "text/plain": [
       "[1, 1, 1, 1, 2, 1]"
      ]
     },
     "execution_count": 48,
     "metadata": {},
     "output_type": "execute_result"
    }
   ],
   "source": [
    "y_true_list[65]"
   ]
  },
  {
   "cell_type": "code",
   "execution_count": 121,
   "id": "d2a8f92f",
   "metadata": {
    "scrolled": true
   },
   "outputs": [
    {
     "name": "stdout",
     "output_type": "stream",
     "text": [
      "True Pred\n",
      "Id: 1\n",
      "2 1\n",
      "Id: 2\n",
      "2 1\n",
      "Id: 3\n",
      "2 1\n",
      "Id: 4\n",
      "2 1\n",
      "Id: 5\n",
      "2 1\n",
      "Id: 7\n",
      "2 1\n",
      "Id: 8\n",
      "2 1\n",
      "Id: 11\n",
      "2 1\n",
      "Id: 14\n",
      "2 1\n",
      "Id: 15\n",
      "1 2\n",
      "Id: 16\n",
      "2 1\n",
      "Id: 17\n",
      "1 2\n",
      "Id: 18\n",
      "2 1\n",
      "Id: 20\n",
      "2 1\n",
      "Id: 22\n",
      "2 1\n",
      "Id: 23\n",
      "2 1\n",
      "Id: 28\n",
      "2 1\n",
      "Id: 29\n",
      "2 1\n",
      "Id: 30\n",
      "2 1\n",
      "Id: 31\n",
      "2 1\n",
      "Id: 34\n",
      "2 1\n",
      "Id: 36\n",
      "2 1\n",
      "Id: 37\n",
      "2 1\n",
      "Id: 39\n",
      "2 1\n",
      "Id: 42\n",
      "2 1\n",
      "Id: 45\n",
      "2 1\n",
      "Id: 46\n",
      "2 1\n",
      "Id: 48\n",
      "2 1\n",
      "Id: 53\n",
      "2 1\n",
      "Id: 53\n",
      "1 2\n",
      "Id: 54\n",
      "2 1\n",
      "Id: 55\n",
      "2 1\n",
      "Id: 57\n",
      "2 1\n",
      "Id: 59\n",
      "2 1\n",
      "Id: 60\n",
      "2 1\n",
      "Id: 62\n",
      "2 1\n",
      "Id: 64\n",
      "2 1\n",
      "Id: 64\n",
      "1 2\n",
      "Id: 65\n",
      "2 1\n",
      "Id: 67\n",
      "2 1\n",
      "Id: 72\n",
      "2 1\n",
      "Id: 73\n",
      "1 2\n",
      "Id: 74\n",
      "2 1\n",
      "Id: 76\n",
      "1 2\n",
      "Id: 76\n",
      "2 1\n",
      "Id: 77\n",
      "2 1\n",
      "Id: 77\n",
      "1 2\n",
      "Id: 79\n",
      "2 1\n",
      "Id: 80\n",
      "1 2\n",
      "Id: 82\n",
      "1 2\n",
      "Id: 83\n",
      "2 1\n",
      "Id: 83\n",
      "1 2\n",
      "Id: 85\n",
      "2 1\n",
      "Id: 87\n",
      "1 2\n",
      "Id: 87\n",
      "2 1\n",
      "Id: 89\n",
      "2 1\n",
      "Id: 90\n",
      "2 1\n",
      "Id: 90\n",
      "1 2\n",
      "Id: 95\n",
      "2 1\n",
      "Id: 99\n",
      "2 1\n",
      "Id: 102\n",
      "2 1\n",
      "Id: 105\n",
      "2 1\n",
      "Id: 106\n",
      "1 2\n",
      "Id: 107\n",
      "2 1\n",
      "Id: 111\n",
      "2 1\n",
      "Id: 113\n",
      "2 1\n",
      "Id: 114\n",
      "2 1\n",
      "Id: 115\n",
      "2 1\n",
      "Id: 118\n",
      "2 1\n",
      "Id: 122\n",
      "1 2\n",
      "Id: 122\n",
      "1 2\n",
      "Id: 126\n",
      "2 1\n",
      "Id: 129\n",
      "2 1\n",
      "Id: 130\n",
      "2 1\n",
      "Id: 130\n",
      "1 2\n",
      "Id: 136\n",
      "1 2\n",
      "Id: 136\n",
      "2 1\n",
      "Id: 137\n",
      "2 1\n",
      "Id: 140\n",
      "2 1\n",
      "Id: 141\n",
      "1 2\n",
      "Id: 143\n",
      "2 1\n",
      "Id: 143\n",
      "1 2\n",
      "Id: 148\n",
      "2 1\n",
      "Id: 149\n",
      "2 1\n",
      "Id: 151\n",
      "2 1\n",
      "Id: 152\n",
      "2 1\n",
      "Id: 153\n",
      "2 1\n",
      "Id: 155\n",
      "2 1\n",
      "Id: 156\n",
      "2 1\n",
      "Id: 157\n",
      "2 1\n",
      "Id: 159\n",
      "2 1\n",
      "Id: 160\n",
      "1 2\n",
      "Id: 162\n",
      "2 1\n",
      "Id: 163\n",
      "2 1\n",
      "Id: 165\n",
      "1 2\n",
      "Id: 172\n",
      "2 1\n",
      "Id: 173\n",
      "2 1\n",
      "Id: 174\n",
      "2 1\n",
      "Id: 176\n",
      "2 1\n",
      "Id: 180\n",
      "2 1\n",
      "Id: 183\n",
      "2 1\n",
      "Id: 185\n",
      "2 1\n",
      "Id: 186\n",
      "1 2\n",
      "Id: 187\n",
      "1 2\n",
      "Id: 187\n",
      "2 1\n",
      "Id: 189\n",
      "2 1\n",
      "Id: 189\n",
      "1 2\n",
      "Id: 192\n",
      "2 1\n",
      "Id: 193\n",
      "1 2\n",
      "Id: 194\n",
      "2 1\n",
      "Id: 196\n",
      "2 1\n",
      "Id: 199\n",
      "2 1\n",
      "Id: 200\n",
      "2 1\n",
      "Id: 202\n",
      "2 1\n",
      "Id: 203\n",
      "2 1\n",
      "Id: 204\n",
      "2 1\n",
      "Id: 205\n",
      "2 1\n",
      "Id: 206\n",
      "2 1\n",
      "Id: 208\n",
      "2 1\n",
      "Id: 216\n",
      "2 1\n",
      "Id: 218\n",
      "2 1\n",
      "Id: 220\n",
      "2 1\n",
      "Id: 224\n",
      "2 1\n",
      "Id: 225\n",
      "2 1\n",
      "Id: 227\n",
      "2 1\n",
      "Id: 228\n",
      "2 1\n",
      "Id: 231\n",
      "2 1\n",
      "Id: 233\n",
      "2 1\n",
      "Id: 234\n",
      "2 1\n",
      "Id: 235\n",
      "2 1\n",
      "Id: 236\n",
      "1 2\n",
      "Id: 236\n",
      "2 1\n",
      "Id: 237\n",
      "2 1\n",
      "Id: 240\n",
      "2 1\n",
      "Id: 242\n",
      "2 1\n",
      "Id: 243\n",
      "2 1\n",
      "Id: 245\n",
      "2 1\n",
      "Id: 247\n",
      "2 1\n",
      "Id: 251\n",
      "2 1\n",
      "Id: 252\n",
      "2 1\n",
      "Id: 253\n",
      "2 1\n",
      "Id: 254\n",
      "1 2\n",
      "Id: 254\n",
      "2 1\n",
      "Id: 255\n",
      "2 1\n",
      "Id: 255\n",
      "1 2\n",
      "Id: 255\n",
      "1 2\n",
      "Id: 256\n",
      "2 1\n",
      "Id: 258\n",
      "2 1\n",
      "Id: 259\n",
      "2 1\n",
      "Id: 262\n",
      "2 1\n",
      "Id: 263\n",
      "2 1\n",
      "Id: 263\n",
      "1 2\n",
      "Id: 264\n",
      "2 1\n",
      "Id: 270\n",
      "2 1\n",
      "Id: 271\n",
      "1 2\n",
      "Id: 271\n",
      "2 1\n",
      "Id: 272\n",
      "2 1\n",
      "Id: 273\n",
      "2 1\n",
      "Id: 275\n",
      "1 2\n",
      "Id: 276\n",
      "2 1\n",
      "Id: 278\n",
      "2 1\n",
      "Id: 279\n",
      "2 1\n",
      "Id: 282\n",
      "2 1\n",
      "Id: 283\n",
      "1 2\n",
      "Id: 283\n",
      "2 1\n",
      "Id: 289\n",
      "2 1\n",
      "Id: 290\n",
      "2 1\n",
      "Id: 292\n",
      "2 1\n",
      "Id: 296\n",
      "2 1\n",
      "Id: 297\n",
      "2 1\n",
      "Id: 301\n",
      "2 1\n",
      "Id: 302\n",
      "2 1\n",
      "Id: 303\n",
      "2 1\n",
      "Id: 304\n",
      "2 1\n",
      "Id: 305\n",
      "1 2\n",
      "Id: 308\n",
      "2 1\n",
      "Id: 309\n",
      "1 2\n",
      "Id: 309\n",
      "1 2\n",
      "Id: 312\n",
      "2 1\n",
      "Id: 313\n",
      "2 1\n",
      "Id: 314\n",
      "2 1\n",
      "Id: 316\n",
      "2 1\n",
      "Id: 320\n",
      "2 1\n",
      "Id: 321\n",
      "2 1\n",
      "Id: 322\n",
      "2 1\n",
      "Id: 323\n",
      "2 1\n",
      "Id: 324\n",
      "2 1\n",
      "Id: 326\n",
      "2 1\n",
      "Id: 328\n",
      "2 1\n",
      "Id: 329\n",
      "2 1\n",
      "Id: 332\n",
      "2 1\n",
      "Id: 333\n",
      "2 1\n",
      "Id: 334\n",
      "2 1\n",
      "Id: 335\n",
      "2 1\n",
      "Id: 338\n",
      "2 1\n",
      "Id: 338\n",
      "1 2\n",
      "Id: 339\n",
      "2 1\n",
      "Id: 340\n",
      "2 1\n",
      "Id: 341\n",
      "2 1\n",
      "Id: 342\n",
      "2 1\n",
      "Id: 346\n",
      "2 1\n",
      "Id: 348\n",
      "1 2\n",
      "Id: 350\n",
      "2 1\n",
      "Id: 355\n",
      "2 1\n",
      "Id: 357\n",
      "2 1\n",
      "Id: 358\n",
      "2 1\n",
      "Id: 364\n",
      "2 1\n",
      "Id: 366\n",
      "1 2\n",
      "Id: 367\n",
      "1 2\n",
      "Id: 368\n",
      "1 2\n",
      "Id: 371\n",
      "2 1\n",
      "Id: 372\n",
      "2 1\n",
      "Id: 374\n",
      "2 1\n",
      "Id: 375\n",
      "1 2\n",
      "Id: 378\n",
      "2 1\n",
      "Id: 381\n",
      "2 1\n",
      "Id: 384\n",
      "2 1\n",
      "Id: 386\n",
      "2 1\n",
      "Id: 387\n",
      "2 1\n",
      "Id: 388\n",
      "1 2\n",
      "Id: 389\n",
      "2 1\n",
      "Id: 392\n",
      "2 1\n",
      "Id: 393\n",
      "1 2\n",
      "Id: 395\n",
      "2 1\n",
      "Id: 396\n",
      "2 1\n",
      "Id: 398\n",
      "2 1\n",
      "Id: 401\n",
      "2 1\n",
      "Id: 402\n",
      "1 2\n",
      "Id: 402\n",
      "2 1\n",
      "Id: 408\n",
      "2 1\n",
      "Id: 409\n",
      "2 1\n",
      "Id: 410\n",
      "2 1\n",
      "Id: 414\n",
      "1 2\n",
      "Id: 419\n",
      "2 1\n",
      "Id: 420\n",
      "2 1\n",
      "Id: 425\n",
      "2 1\n",
      "Id: 425\n",
      "1 2\n",
      "Id: 426\n",
      "2 1\n",
      "Id: 431\n",
      "2 1\n",
      "Id: 432\n",
      "2 1\n",
      "Id: 433\n",
      "1 2\n",
      "Id: 433\n",
      "2 1\n",
      "Id: 435\n",
      "1 2\n",
      "Id: 437\n",
      "2 1\n",
      "Id: 438\n",
      "2 1\n",
      "Id: 439\n",
      "2 1\n",
      "Id: 441\n",
      "2 1\n",
      "Id: 442\n",
      "2 1\n",
      "Id: 443\n",
      "2 1\n",
      "Id: 447\n",
      "2 1\n",
      "Id: 450\n",
      "2 1\n",
      "Id: 452\n",
      "2 1\n"
     ]
    }
   ],
   "source": [
    "print(\"True\", \"Pred\")\n",
    "count = 0\n",
    "count_wrong = 0\n",
    "for sentence_id, (true, pred) in enumerate(zip(y_true_list, y_pred_list)):\n",
    "\n",
    "    for idx, elem in enumerate(true):\n",
    "        if (elem == 2 and pred[idx] == 1) or (elem == 1 and pred[idx] == 2):\n",
    "#         if pred[idx] != elem:\n",
    "            print(\"Id:\", sentence_id)\n",
    "            print(elem, pred[idx])\n",
    "            count_wrong += 1\n",
    "    \n",
    "#     print(\"\\n\")\n",
    "    count += 1\n",
    "    \n",
    "#     if count == 100:\n",
    "#         break"
   ]
  },
  {
   "cell_type": "code",
   "execution_count": 37,
   "id": "6e271dbe",
   "metadata": {},
   "outputs": [
    {
     "data": {
      "text/plain": [
       "244"
      ]
     },
     "execution_count": 37,
     "metadata": {},
     "output_type": "execute_result"
    }
   ],
   "source": [
    "count_wrong"
   ]
  },
  {
   "cell_type": "code",
   "execution_count": 38,
   "id": "fd07b832",
   "metadata": {},
   "outputs": [
    {
     "data": {
      "text/plain": [
       "0.4613686534216336"
      ]
     },
     "execution_count": 38,
     "metadata": {},
     "output_type": "execute_result"
    }
   ],
   "source": [
    "1 - count_wrong / count"
   ]
  },
  {
   "cell_type": "code",
   "execution_count": 28,
   "id": "9febb1fb",
   "metadata": {},
   "outputs": [
    {
     "data": {
      "text/plain": [
       "0.8458149779735683"
      ]
     },
     "execution_count": 28,
     "metadata": {},
     "output_type": "execute_result"
    }
   ],
   "source": [
    "1 - count_wrong / len(valid_ds)"
   ]
  },
  {
   "cell_type": "code",
   "execution_count": 39,
   "id": "29cf2011",
   "metadata": {},
   "outputs": [
    {
     "name": "stdout",
     "output_type": "stream",
     "text": [
      "2\n"
     ]
    }
   ],
   "source": [
    "for i, num in enumerate(y_true_list[18]):\n",
    "    if num == 2:\n",
    "        print(i)"
   ]
  },
  {
   "cell_type": "code",
   "execution_count": 40,
   "id": "34657e75",
   "metadata": {},
   "outputs": [
    {
     "name": "stdout",
     "output_type": "stream",
     "text": [
      "1\n",
      "3\n"
     ]
    }
   ],
   "source": [
    "for idx, n in enumerate(y_pred_list[18]):\n",
    "    if n == 2:\n",
    "        print(idx)"
   ]
  },
  {
   "cell_type": "code",
   "execution_count": 42,
   "id": "cca2315a",
   "metadata": {},
   "outputs": [
    {
     "data": {
      "text/plain": [
       "[1, 2, 1, 2]"
      ]
     },
     "execution_count": 42,
     "metadata": {},
     "output_type": "execute_result"
    }
   ],
   "source": [
    "y_pred_list[18]"
   ]
  },
  {
   "cell_type": "code",
   "execution_count": 43,
   "id": "0acb56cb",
   "metadata": {},
   "outputs": [
    {
     "data": {
      "text/plain": [
       "[1, 1, 2, 1]"
      ]
     },
     "execution_count": 43,
     "metadata": {},
     "output_type": "execute_result"
    }
   ],
   "source": [
    "y_true_list[18]"
   ]
  },
  {
   "cell_type": "code",
   "execution_count": 44,
   "id": "af4f6331",
   "metadata": {},
   "outputs": [
    {
     "data": {
      "text/plain": [
       "tensor([[-3.4895,  5.2925, -0.8361],\n",
       "        [-3.7354,  1.9461,  2.5019],\n",
       "        [-3.8786,  2.7945,  1.8456],\n",
       "        [-3.7035,  1.9725,  2.2364]], device='cuda:0')"
      ]
     },
     "execution_count": 44,
     "metadata": {},
     "output_type": "execute_result"
    }
   ],
   "source": [
    "logits[18]"
   ]
  },
  {
   "cell_type": "code",
   "execution_count": 74,
   "id": "16b7aac1",
   "metadata": {},
   "outputs": [],
   "source": [
    "a = [1, 2, 3, 7]"
   ]
  },
  {
   "cell_type": "code",
   "execution_count": 78,
   "id": "e4add84a",
   "metadata": {},
   "outputs": [
    {
     "data": {
      "text/plain": [
       "BertLayer(\n",
       "  (attention): BertAttention(\n",
       "    (self): BertSelfAttention(\n",
       "      (query): Linear(in_features=768, out_features=768, bias=True)\n",
       "      (key): Linear(in_features=768, out_features=768, bias=True)\n",
       "      (value): Linear(in_features=768, out_features=768, bias=True)\n",
       "      (dropout): Dropout(p=0.1, inplace=False)\n",
       "    )\n",
       "    (output): BertSelfOutput(\n",
       "      (dense): Linear(in_features=768, out_features=768, bias=True)\n",
       "      (LayerNorm): LayerNorm((768,), eps=1e-12, elementwise_affine=True)\n",
       "      (dropout): Dropout(p=0.1, inplace=False)\n",
       "    )\n",
       "  )\n",
       "  (intermediate): BertIntermediate(\n",
       "    (dense): Linear(in_features=768, out_features=3072, bias=True)\n",
       "    (intermediate_act_fn): GELUActivation()\n",
       "  )\n",
       "  (output): BertOutput(\n",
       "    (dense): Linear(in_features=3072, out_features=768, bias=True)\n",
       "    (LayerNorm): LayerNorm((768,), eps=1e-12, elementwise_affine=True)\n",
       "    (dropout): Dropout(p=0.1, inplace=False)\n",
       "  )\n",
       ")"
      ]
     },
     "execution_count": 78,
     "metadata": {},
     "output_type": "execute_result"
    }
   ],
   "source": [
    "model.bert.encoder.layer[11]"
   ]
  },
  {
   "cell_type": "code",
   "execution_count": 67,
   "id": "4261128d",
   "metadata": {},
   "outputs": [
    {
     "data": {
      "text/plain": [
       "id                                                                                                                                                                                                                                                                                                      validation-19\n",
       "text          But that backfires when Andy decides to renege on the prices with Dwight's client, thus voiding both a major sale for the company and wrecks Dwight's sales record. Dwight later tells false stories to Andy when the manager is in need of being caught up on his branch, in hopes of sabotaging Andy.\n",
       "pron                                                                                                                                                                                                                                                                                                              his\n",
       "p_offset                                                                                                                                                                                                                                                                                                          255\n",
       "entity_A                                                                                                                                                                                                                                                                                                       Dwight\n",
       "offset_A                                                                                                                                                                                                                                                                                                          164\n",
       "is_coref_A                                                                                                                                                                                                                                                                                                      False\n",
       "entity_B                                                                                                                                                                                                                                                                                                         Andy\n",
       "offset_B                                                                                                                                                                                                                                                                                                          200\n",
       "is_coref_B                                                                                                                                                                                                                                                                                                       True\n",
       "url                                                                                                                                                                                                                                                                         http://en.wikipedia.org/wiki/Andy_Bernard\n",
       "Name: 18, dtype: object"
      ]
     },
     "execution_count": 67,
     "metadata": {},
     "output_type": "execute_result"
    }
   ],
   "source": [
    "df_valid.iloc[18]"
   ]
  },
  {
   "cell_type": "code",
   "execution_count": 51,
   "id": "30ae9b70",
   "metadata": {},
   "outputs": [],
   "source": [
    "sent = GAP_AmbiguousDetection_Dataset(df_valid[18:19], tokenizer, stanza_processor, tag_labels)"
   ]
  },
  {
   "cell_type": "code",
   "execution_count": 68,
   "id": "9e8602b0",
   "metadata": {},
   "outputs": [
    {
     "data": {
      "text/plain": [
       "'Andy when the manager is in need of being caught up on his branch, in hopes of sabotaging Andy.'"
      ]
     },
     "execution_count": 68,
     "metadata": {},
     "output_type": "execute_result"
    }
   ],
   "source": [
    "text = df_valid['text'][18]\n",
    "text[200:]"
   ]
  },
  {
   "cell_type": "code",
   "execution_count": 66,
   "id": "65125526",
   "metadata": {},
   "outputs": [
    {
     "name": "stdout",
     "output_type": "stream",
     "text": [
      "(['But', 'that', 'back', '##fires', 'when', '<E>', 'Andy', '</E>', 'decides', 'to', 're', '##ne', '##ge', 'on', 'the', 'prices', 'with', 'Dwight', \"'\", 's', 'client', ',', 'thus', 'void', '##ing', 'both', 'a', 'major', 'sale', 'for', 'the', 'company', 'and', 'wreck', '##s', 'Dwight', \"'\", 's', 'sales', 'record', '.', '<E>', 'Dwight', '</E>', 'later', 'tells', 'false', 'stories', 'to', '<E>', 'Andy', '</E>', 'when', 'the', 'manager', 'is', 'in', 'need', 'of', 'being', 'caught', 'up', 'on', '<P>', 'his', 'branch', ',', 'in', 'hopes', 'of', 'sa', '##bot', '##aging', '<E>', 'Andy', '</E>', '.'], {'<P>': [64], '<E>': [6, 42, 74], '</E>': [7, 43, 75], '<C>': [50], '</C>': [51]})\n"
     ]
    }
   ],
   "source": [
    "print(sent.tokenize(df_valid.iloc[18]))"
   ]
  },
  {
   "cell_type": "code",
   "execution_count": 425,
   "id": "6bc39dc4",
   "metadata": {},
   "outputs": [
    {
     "data": {
      "text/plain": [
       "51.0"
      ]
     },
     "execution_count": 425,
     "metadata": {},
     "output_type": "execute_result"
    }
   ],
   "source": [
    "len(valid_ds) - eval_correct"
   ]
  },
  {
   "cell_type": "code",
   "execution_count": 422,
   "id": "e5b5657b",
   "metadata": {},
   "outputs": [
    {
     "data": {
      "text/plain": [
       "81"
      ]
     },
     "execution_count": 422,
     "metadata": {},
     "output_type": "execute_result"
    }
   ],
   "source": [
    "count_wrong"
   ]
  },
  {
   "cell_type": "markdown",
   "id": "d0b13971",
   "metadata": {},
   "source": [
    "## Observation: The model fails when the coreferenced mentions are both wrong? (valid 405)\n",
    "\n",
    "## Also fails when the mention comes after the pronoun"
   ]
  },
  {
   "cell_type": "code",
   "execution_count": 328,
   "id": "fc28b349",
   "metadata": {},
   "outputs": [
    {
     "data": {
      "text/plain": [
       "id                                                                                                                                                                                                                                                                                                                                                                                                validation-173\n",
       "text          Lizzie also is very sure Sasha is dead. She also shows a disliking towards Tyreese. After Lizzie kills Mika, Carol and Tyreese realize that she is too psychotic to be kept around & had to be executed in order for Judith to be safe, so Carol leads her out to the fields to look at the flowers, and as Lizzie tried to apologize for having threatened Carol and Tyreese, Carol executed her.\n",
       "pron                                                                                                                                                                                                                                                                                                                                                                                                         her\n",
       "p_offset                                                                                                                                                                                                                                                                                                                                                                                                     247\n",
       "entity_A                                                                                                                                                                                                                                                                                                                                                                                                  Lizzie\n",
       "offset_A                                                                                                                                                                                                                                                                                                                                                                                                     300\n",
       "is_coref_A                                                                                                                                                                                                                                                                                                                                                                                                  True\n",
       "entity_B                                                                                                                                                                                                                                                                                                                                                                                                   Carol\n",
       "offset_B                                                                                                                                                                                                                                                                                                                                                                                                     348\n",
       "is_coref_B                                                                                                                                                                                                                                                                                                                                                                                                 False\n",
       "url                                                                                                                                                                                                                                                                                                                                 http://en.wikipedia.org/wiki/List_of_The_Walking_Dead_(TV_series)_characters\n",
       "Name: 172, dtype: object"
      ]
     },
     "execution_count": 328,
     "metadata": {},
     "output_type": "execute_result"
    }
   ],
   "source": [
    "df_valid.iloc[172]"
   ]
  },
  {
   "cell_type": "code",
   "execution_count": 329,
   "id": "39b0b27e",
   "metadata": {},
   "outputs": [
    {
     "data": {
      "text/plain": [
       "'her out to the fields to look at the flowers, and as Lizzie tried to apologize for having threatened Carol and Tyreese, Carol executed her.'"
      ]
     },
     "execution_count": 329,
     "metadata": {},
     "output_type": "execute_result"
    }
   ],
   "source": [
    "df_valid['text'][172][247:]"
   ]
  },
  {
   "cell_type": "code",
   "execution_count": 332,
   "id": "9eacf29e",
   "metadata": {},
   "outputs": [
    {
     "data": {
      "text/plain": [
       "'she'"
      ]
     },
     "execution_count": 332,
     "metadata": {},
     "output_type": "execute_result"
    }
   ],
   "source": [
    "index = 172\n",
    "tokenizer.convert_ids_to_tokens(valid_ds[index][0])[valid_ds[index][1][1]]"
   ]
  },
  {
   "cell_type": "markdown",
   "id": "577f7f88",
   "metadata": {},
   "source": [
    "# Remove double punctuation symbols. -- '' (valid_ds 64 67)"
   ]
  },
  {
   "cell_type": "code",
   "execution_count": 172,
   "id": "f9277db8",
   "metadata": {},
   "outputs": [],
   "source": [
    "# df_valid['text'][64].split()"
   ]
  },
  {
   "cell_type": "code",
   "execution_count": 173,
   "id": "240ce35f",
   "metadata": {},
   "outputs": [],
   "source": [
    "# tokenizer.convert_ids_to_tokens(valid_ds[67][0])"
   ]
  },
  {
   "cell_type": "code",
   "execution_count": 316,
   "id": "d59e6346",
   "metadata": {},
   "outputs": [
    {
     "data": {
      "text/plain": [
       "tensor([[-3.7543,  4.1640, -0.2318],\n",
       "        [-3.6449,  1.0342,  3.1476],\n",
       "        [-3.5492,  3.7941, -0.2013]], device='cuda:0')"
      ]
     },
     "execution_count": 316,
     "metadata": {},
     "output_type": "execute_result"
    }
   ],
   "source": [
    "logits[171]"
   ]
  },
  {
   "cell_type": "code",
   "execution_count": 254,
   "id": "49ea8506",
   "metadata": {},
   "outputs": [
    {
     "data": {
      "text/plain": [
       "tensor([0.0198, 0.0193, 0.0199, 0.0195, 0.0249, 0.0259, 0.6350, 0.1268, 0.0598,\n",
       "        0.0491], device='cuda:0')"
      ]
     },
     "execution_count": 254,
     "metadata": {},
     "output_type": "execute_result"
    }
   ],
   "source": [
    "import torch.nn.functional as F\n",
    "F.softmax(logits[184][:,2], dim=0)"
   ]
  },
  {
   "cell_type": "code",
   "execution_count": 253,
   "id": "5211e48e",
   "metadata": {},
   "outputs": [
    {
     "data": {
      "text/plain": [
       "tensor([-1.4585, -1.4833, -1.4543, -1.4747, -1.2275, -1.1908,  2.0098,  0.3989,\n",
       "        -0.3531, -0.5495], device='cuda:0')"
      ]
     },
     "execution_count": 253,
     "metadata": {},
     "output_type": "execute_result"
    }
   ],
   "source": [
    "logits[184][:,2]"
   ]
  },
  {
   "cell_type": "code",
   "execution_count": 224,
   "id": "3790cacd",
   "metadata": {},
   "outputs": [],
   "source": [
    "import torch.nn.functional as F\n",
    "\n",
    "tokens_labels = []\n",
    "scores = []\n",
    "\n",
    "for idx, feature in enumerate(valid_ds):\n",
    "    tokens = feature[0]\n",
    "    offsets = feature[1]\n",
    "    \n",
    "    tokens_labels.append(tokenizer.convert_ids_to_tokens(tokens))\n",
    "    \n",
    "    score = [0 for _ in range(len(tokens))]\n",
    "    \n",
    "    for i_off, off in enumerate(offsets):\n",
    "        score[off] =  round(F.softmax(logits[idx][:,2], dim=0)[i_off].item(), 5)\n",
    "  \n",
    "    scores.append(score)    "
   ]
  },
  {
   "cell_type": "code",
   "execution_count": 212,
   "id": "e8657ad4",
   "metadata": {},
   "outputs": [
    {
     "data": {
      "text/plain": [
       "[34, 48, 61, 75, 99]"
      ]
     },
     "execution_count": 212,
     "metadata": {},
     "output_type": "execute_result"
    }
   ],
   "source": [
    "valid_ds[98][1]"
   ]
  },
  {
   "cell_type": "code",
   "execution_count": 317,
   "id": "9d0c795d",
   "metadata": {},
   "outputs": [],
   "source": [
    "# scores[447]"
   ]
  },
  {
   "cell_type": "code",
   "execution_count": 318,
   "id": "129ad16e",
   "metadata": {},
   "outputs": [
    {
     "data": {
      "image/png": "[encoded data removed]",
      "text/plain": [
       "<Figure size 2400x800 with 1 Axes>"
      ]
     },
     "metadata": {
      "needs_background": "light"
     },
     "output_type": "display_data"
    }
   ],
   "source": [
    "import seaborn as sns\n",
    "from matplotlib.pyplot import figure\n",
    "import matplotlib.pyplot as plt\n",
    "\n",
    "index = 171\n",
    "\n",
    "figure(figsize=(30, 10), dpi=80)\n",
    "# Create a barplot showing the start word score for all of the tokens.\n",
    "ax = sns.barplot(x=tokens_labels[index], y=scores[index], ci=None)\n",
    "\n",
    "# Turn the xlabels vertical.\n",
    "ax.set_xticklabels(ax.get_xticklabels(), rotation=90, ha=\"center\")\n",
    "\n",
    "# Turn on the vertical grid to help align words to scores.\n",
    "ax.grid(True)\n",
    "\n",
    "plt.title('Start Word Scores')\n",
    "\n",
    "plt.show()"
   ]
  },
  {
   "cell_type": "code",
   "execution_count": 178,
   "id": "a20cf6e1",
   "metadata": {
    "scrolled": true
   },
   "outputs": [
    {
     "data": {
      "text/plain": [
       "id                                                                                                                                                                                                                                                                                                                                                                                                                                                                                                                                                                                                                                                                              validation-88\n",
       "text          Jenkins reaction to those comments saw him reach the semi final of the 2010 European Championship Darts, losing narrowly again to Phil Taylor in a classic 11-10, but showing a welcome return to form. Jenkins had a decent 2010 Grand Slam of Darts, beating Tony O'Shea in the 2nd round before succombing to a final leg decider to James Wade. Following his Grand Slam of Darts quarter final defeat to Wade, Jenkins said in an interview that he believed players raise their game when they play him, as an example, Raymond van Barneveld struggled for form during the premier league campaign, but managed to beat Jenkins twice and hit a nine darter aganist him.\n",
       "pron                                                                                                                                                                                                                                                                                                                                                                                                                                                                                                                                                                                                                                                                                      him\n",
       "p_offset                                                                                                                                                                                                                                                                                                                                                                                                                                                                                                                                                                                                                                                                                  490\n",
       "entity_A                                                                                                                                                                                                                                                                                                                                                                                                                                                                                                                                                                                                                                                                Raymond van Barneveld\n",
       "offset_A                                                                                                                                                                                                                                                                                                                                                                                                                                                                                                                                                                                                                                                                                  510\n",
       "is_coref_A                                                                                                                                                                                                                                                                                                                                                                                                                                                                                                                                                                                                                                                                              False\n",
       "entity_B                                                                                                                                                                                                                                                                                                                                                                                                                                                                                                                                                                                                                                                                              Jenkins\n",
       "offset_B                                                                                                                                                                                                                                                                                                                                                                                                                                                                                                                                                                                                                                                                                  607\n",
       "is_coref_B                                                                                                                                                                                                                                                                                                                                                                                                                                                                                                                                                                                                                                                                               True\n",
       "url                                                                                                                                                                                                                                                                                                                                                                                                                                                                                                                                                                                                                                                http://en.wikipedia.org/wiki/Terry_Jenkins\n",
       "Name: 87, dtype: object"
      ]
     },
     "execution_count": 178,
     "metadata": {},
     "output_type": "execute_result"
    }
   ],
   "source": [
    "df_valid.iloc[87]"
   ]
  },
  {
   "cell_type": "code",
   "execution_count": 203,
   "id": "1a2a7354",
   "metadata": {},
   "outputs": [
    {
     "data": {
      "text/plain": [
       "['[CLS]',\n",
       " 'In',\n",
       " '1924',\n",
       " 'Arthur',\n",
       " 'Raymond',\n",
       " 'Hi',\n",
       " '##bbe',\n",
       " '##rt',\n",
       " 'was',\n",
       " 'born',\n",
       " 'in',\n",
       " 'End',\n",
       " '##er',\n",
       " '##by',\n",
       " ',',\n",
       " 'Leicestershire',\n",
       " ',',\n",
       " 'the',\n",
       " 'son',\n",
       " 'of',\n",
       " 'Canon',\n",
       " 'H',\n",
       " '.',\n",
       " 'V',\n",
       " '.',\n",
       " 'Hi',\n",
       " '##bbe',\n",
       " '##rt',\n",
       " '(',\n",
       " 'd',\n",
       " '.',\n",
       " '1980',\n",
       " ')',\n",
       " 'and',\n",
       " 'his',\n",
       " 'wife',\n",
       " 'Maud',\n",
       " '##e',\n",
       " ',',\n",
       " 'and',\n",
       " 'was',\n",
       " 'educated',\n",
       " 'at',\n",
       " 'Ra',\n",
       " '##dley',\n",
       " 'College',\n",
       " ',',\n",
       " 'before',\n",
       " 'he',\n",
       " 'went',\n",
       " 'up',\n",
       " 'to',\n",
       " 'Or',\n",
       " '##iel',\n",
       " 'College',\n",
       " 'at',\n",
       " 'the',\n",
       " 'University',\n",
       " 'of',\n",
       " 'Oxford',\n",
       " '.',\n",
       " 'He',\n",
       " 'was',\n",
       " 'awarded',\n",
       " 'the',\n",
       " 'degrees',\n",
       " 'of',\n",
       " 'B',\n",
       " '.',\n",
       " 'A',\n",
       " '.',\n",
       " 'and',\n",
       " 'later',\n",
       " 'MA',\n",
       " '.',\n",
       " 'He',\n",
       " 'left',\n",
       " 'Or',\n",
       " '##iel',\n",
       " 'College',\n",
       " 'to',\n",
       " 'join',\n",
       " 'the',\n",
       " 'Army',\n",
       " ',',\n",
       " 'where',\n",
       " 'a',\n",
       " 'sergeant',\n",
       " 'major',\n",
       " 'referred',\n",
       " 'to',\n",
       " 'Hi',\n",
       " '##bbe',\n",
       " '##rt',\n",
       " 'as',\n",
       " 'Christopher',\n",
       " 'Robin',\n",
       " 'based',\n",
       " 'upon',\n",
       " 'his',\n",
       " 'youthful',\n",
       " 'looks',\n",
       " '.',\n",
       " '[SEP]']"
      ]
     },
     "execution_count": 203,
     "metadata": {},
     "output_type": "execute_result"
    }
   ],
   "source": [
    "tokens_labels[98]"
   ]
  },
  {
   "cell_type": "code",
   "execution_count": 186,
   "id": "169cc6d0",
   "metadata": {},
   "outputs": [
    {
     "data": {
      "text/plain": [
       "1140"
      ]
     },
     "execution_count": 186,
     "metadata": {},
     "output_type": "execute_result"
    }
   ],
   "source": [
    "valid_ds[87][0][104]"
   ]
  },
  {
   "cell_type": "code",
   "execution_count": 187,
   "id": "71f54e7d",
   "metadata": {},
   "outputs": [
    {
     "data": {
      "text/plain": [
       "'him'"
      ]
     },
     "execution_count": 187,
     "metadata": {},
     "output_type": "execute_result"
    }
   ],
   "source": [
    "tokenizer.convert_ids_to_tokens(1140)"
   ]
  },
  {
   "cell_type": "code",
   "execution_count": 22,
   "id": "665abfcd",
   "metadata": {},
   "outputs": [],
   "source": [
    "pred = output.view(-1, output.shape[-1])\n",
    "labels = labels.view(-1)"
   ]
  },
  {
   "cell_type": "code",
   "execution_count": 23,
   "id": "b8c74e9e",
   "metadata": {},
   "outputs": [],
   "source": [
    "mask = labels != 0"
   ]
  },
  {
   "cell_type": "code",
   "execution_count": 24,
   "id": "b75363f0",
   "metadata": {},
   "outputs": [
    {
     "data": {
      "text/plain": [
       "195"
      ]
     },
     "execution_count": 24,
     "metadata": {},
     "output_type": "execute_result"
    }
   ],
   "source": [
    "# l = labels[mask].tolist() \n",
    "l = labels[mask]\n",
    "len(l)"
   ]
  },
  {
   "cell_type": "code",
   "execution_count": 25,
   "id": "bf023c7f",
   "metadata": {},
   "outputs": [],
   "source": [
    "pred = pred.argmax(1)\n",
    "# p = pred[mask].tolist()\n",
    "p = pred[mask]"
   ]
  },
  {
   "cell_type": "code",
   "execution_count": 26,
   "id": "18c4a500",
   "metadata": {},
   "outputs": [
    {
     "data": {
      "text/plain": [
       "174"
      ]
     },
     "execution_count": 26,
     "metadata": {},
     "output_type": "execute_result"
    }
   ],
   "source": [
    "(p == l).sum().item()"
   ]
  },
  {
   "cell_type": "code",
   "execution_count": 31,
   "id": "316eef0d",
   "metadata": {},
   "outputs": [],
   "source": [
    "# ! pip install torchmetrics"
   ]
  },
  {
   "cell_type": "code",
   "execution_count": 41,
   "id": "7d69cca2",
   "metadata": {},
   "outputs": [],
   "source": [
    "# Utility function taken from the 'evaluate.py' script\n",
    "def flat_list(l: List[List[Any]]) -> List[Any]:\n",
    "    \"\"\"\n",
    "    Returns\n",
    "    -------\n",
    "        A single list containing all elements that\n",
    "        were in the input list.\n",
    "        \n",
    "    Parameters\n",
    "    ----------\n",
    "    l: List[List[Any]]\n",
    "        A list of lists of any type\n",
    "    \"\"\"\n",
    "    return [_e for e in l for _e in e]"
   ]
  },
  {
   "cell_type": "code",
   "execution_count": 46,
   "id": "599df696",
   "metadata": {},
   "outputs": [
    {
     "data": {
      "text/plain": [
       "tensor(0.9973)"
      ]
     },
     "execution_count": 46,
     "metadata": {},
     "output_type": "execute_result"
    }
   ],
   "source": [
    "from torchmetrics import F1Score\n",
    "\n",
    "f1 = F1Score(3)\n",
    "f1(torch.tensor(flat_list(y_pred_list)), torch.tensor(flat_list(y_true_list)))"
   ]
  },
  {
   "cell_type": "code",
   "execution_count": null,
   "id": "a223155d",
   "metadata": {},
   "outputs": [],
   "source": []
  },
  {
   "cell_type": "code",
   "execution_count": null,
   "id": "7efb3d47",
   "metadata": {},
   "outputs": [],
   "source": []
  },
  {
   "cell_type": "code",
   "execution_count": null,
   "id": "8b8e9715",
   "metadata": {},
   "outputs": [],
   "source": []
  },
  {
   "cell_type": "code",
   "execution_count": null,
   "id": "32fb954d",
   "metadata": {},
   "outputs": [],
   "source": []
  },
  {
   "cell_type": "code",
   "execution_count": null,
   "id": "4149b3ad",
   "metadata": {
    "id": "4149b3ad",
    "outputId": "bb0ab979-3747-4941-f533-1e06ca29d047"
   },
   "outputs": [
    {
     "name": "stdout",
     "output_type": "stream",
     "text": [
      "-----------------\n",
      "| LR: 1.000e-05 |\n",
      "| epoch   2/10  |\n"
     ]
    }
   ],
   "source": [
    "epoch = 1\n",
    "epochs = 10\n",
    "s = 0.00001\n",
    "print('-' * 17)\n",
    "print(f\"| LR: {s:.3e} |\")\n",
    "print(f'| epoch {epoch+1:>3d}/{epochs:<3d} |')"
   ]
  },
  {
   "cell_type": "code",
   "execution_count": null,
   "id": "8569d8f9",
   "metadata": {
    "id": "8569d8f9",
    "outputId": "57936374-9bc5-47ed-a694-4ad2953e0ea5"
   },
   "outputs": [
    {
     "data": {
      "image/png": "[encoded data removed]",
      "text/plain": [
       "<Figure size 432x288 with 1 Axes>"
      ]
     },
     "metadata": {
      "needs_background": "light"
     },
     "output_type": "display_data"
    }
   ],
   "source": [
    "from matplotlib import pyplot as plt\n",
    "plt.plot(metrics_history['train_acc'])\n",
    "plt.plot(metrics_history['valid_acc'])\n",
    "plt.title('model accuracy')\n",
    "plt.ylabel('accuracy')\n",
    "plt.xlabel('epoch')\n",
    "plt.legend(['train', 'val'], loc='upper left')\n",
    "plt.show()"
   ]
  },
  {
   "cell_type": "code",
   "execution_count": null,
   "id": "e847996d",
   "metadata": {
    "id": "e847996d",
    "outputId": "931b0268-2a3b-443c-dc6c-525121e52d23"
   },
   "outputs": [
    {
     "ename": "TypeError",
     "evalue": "get_linear_schedule_with_warmup() missing 3 required positional arguments: 'optimizer', 'num_warmup_steps', and 'num_training_steps'",
     "output_type": "error",
     "traceback": [
      "\u001b[1;31m---------------------------------------------------------------------------\u001b[0m",
      "\u001b[1;31mTypeError\u001b[0m                                 Traceback (most recent call last)",
      "\u001b[1;32m~\\AppData\\Local\\Temp\\ipykernel_21352\\2506784198.py\u001b[0m in \u001b[0;36m<module>\u001b[1;34m\u001b[0m\n\u001b[0;32m      2\u001b[0m \u001b[1;33m\u001b[0m\u001b[0m\n\u001b[0;32m      3\u001b[0m \u001b[1;33m\u001b[0m\u001b[0m\n\u001b[1;32m----> 4\u001b[1;33m \u001b[0mscheduler\u001b[0m \u001b[1;33m=\u001b[0m \u001b[0mget_linear_schedule_with_warmup\u001b[0m\u001b[1;33m(\u001b[0m\u001b[1;33m)\u001b[0m\u001b[1;33m\u001b[0m\u001b[1;33m\u001b[0m\u001b[0m\n\u001b[0m",
      "\u001b[1;31mTypeError\u001b[0m: get_linear_schedule_with_warmup() missing 3 required positional arguments: 'optimizer', 'num_warmup_steps', and 'num_training_steps'"
     ]
    }
   ],
   "source": [
    "from transformers import get_linear_schedule_with_warmup\n",
    "\n",
    "\n",
    "scheduler = get_linear_schedule_with_warmup()"
   ]
  },
  {
   "cell_type": "code",
   "execution_count": null,
   "id": "bfcc7055",
   "metadata": {
    "id": "bfcc7055",
    "outputId": "91099e06-378b-4b8b-c1d2-5cd2fbd75b71"
   },
   "outputs": [
    {
     "name": "stderr",
     "output_type": "stream",
     "text": [
      "Some weights of the model checkpoint at bert-base-uncased were not used when initializing BertModel: ['cls.predictions.transform.dense.bias', 'cls.predictions.transform.LayerNorm.weight', 'cls.seq_relationship.weight', 'cls.predictions.decoder.weight', 'cls.predictions.bias', 'cls.predictions.transform.LayerNorm.bias', 'cls.seq_relationship.bias', 'cls.predictions.transform.dense.weight']\n",
      "- This IS expected if you are initializing BertModel from the checkpoint of a model trained on another task or with another architecture (e.g. initializing a BertForSequenceClassification model from a BertForPreTraining model).\n",
      "- This IS NOT expected if you are initializing BertModel from the checkpoint of a model that you expect to be exactly identical (initializing a BertForSequenceClassification model from a BertForSequenceClassification model).\n"
     ]
    }
   ],
   "source": [
    "model_resumed = GAPModel(model_name_or_path).to(device, non_blocking=True)\n",
    "optimizer_resumed = torch.optim.Adam(model_resumed.parameters())"
   ]
  },
  {
   "cell_type": "code",
   "execution_count": null,
   "id": "f9a3799f",
   "metadata": {
    "id": "f9a3799f"
   },
   "outputs": [],
   "source": [
    "path = \"../../model/checkpoints/my_model_861_6.pth\""
   ]
  },
  {
   "cell_type": "code",
   "execution_count": null,
   "id": "683896dc",
   "metadata": {
    "id": "683896dc"
   },
   "outputs": [],
   "source": [
    "checkpoint = torch.load(path, map_location=device)\n",
    "model_resumed.load_state_dict(checkpoint['model_state_dict'])\n",
    "optimizer_resumed.load_state_dict(checkpoint['optimizer_state_dict'])"
   ]
  },
  {
   "cell_type": "code",
   "execution_count": null,
   "id": "e0617e0d",
   "metadata": {
    "id": "e0617e0d"
   },
   "outputs": [],
   "source": [
    "# del checkpoint"
   ]
  },
  {
   "cell_type": "code",
   "execution_count": null,
   "id": "a02d185d",
   "metadata": {
    "id": "a02d185d",
    "outputId": "a19a33b5-747b-414b-f51a-15fdae74ea22"
   },
   "outputs": [
    {
     "data": {
      "text/plain": [
       "Adam (\n",
       "Parameter Group 0\n",
       "    amsgrad: False\n",
       "    betas: (0.9, 0.999)\n",
       "    eps: 1e-08\n",
       "    initial_lr: 5e-06\n",
       "    lr: 2.5e-06\n",
       "    maximize: False\n",
       "    weight_decay: 0\n",
       ")"
      ]
     },
     "execution_count": 16,
     "metadata": {},
     "output_type": "execute_result"
    }
   ],
   "source": [
    "optimizer_resumed"
   ]
  },
  {
   "cell_type": "code",
   "execution_count": null,
   "id": "dd7d971b",
   "metadata": {
    "id": "dd7d971b",
    "outputId": "45dc87cc-1d6a-4de3-8cfc-8d18e52d9139"
   },
   "outputs": [
    {
     "data": {
      "text/plain": [
       "8"
      ]
     },
     "execution_count": 34,
     "metadata": {},
     "output_type": "execute_result"
    }
   ],
   "source": [
    "len(checkpoint['scheduler_state_dict'])"
   ]
  },
  {
   "cell_type": "code",
   "execution_count": null,
   "id": "da5c3b5f",
   "metadata": {
    "id": "da5c3b5f"
   },
   "outputs": [],
   "source": [
    "scheduler_resumed = torch.optim.lr_scheduler.StepLR(optimizer_resumed, step_size=4, gamma=0.5)"
   ]
  },
  {
   "cell_type": "code",
   "execution_count": null,
   "id": "b3d60c3a",
   "metadata": {
    "id": "b3d60c3a"
   },
   "outputs": [],
   "source": [
    "scheduler_resumed.load_state_dict(checkpoint['scheduler_state_dict'])"
   ]
  },
  {
   "cell_type": "code",
   "execution_count": null,
   "id": "dd48209e",
   "metadata": {
    "id": "dd48209e",
    "outputId": "6dedfb7b-a93e-4b32-9275-77da7aad5749"
   },
   "outputs": [
    {
     "name": "stdout",
     "output_type": "stream",
     "text": [
      "../../model/checkpoints\\my_model_861_6.pth\n",
      "861_6\n"
     ]
    }
   ],
   "source": [
    "import glob\n",
    "directory = \"../../model/checkpoints/*.pth\"\n",
    "files = glob.glob(directory)\n",
    "\n",
    "for file in files:\n",
    "    print(file)\n",
    "    print(file[-9:-4])"
   ]
  },
  {
   "cell_type": "code",
   "execution_count": null,
   "id": "01d78d01",
   "metadata": {
    "id": "01d78d01",
    "outputId": "d8d325cb-1780-40be-a878-d38f59c6a88e"
   },
   "outputs": [
    {
     "data": {
      "text/plain": [
       "[41, 42, 44, 44, 61]"
      ]
     },
     "execution_count": 46,
     "metadata": {},
     "output_type": "execute_result"
    }
   ],
   "source": [
    "tokens = tokenizer.convert_ids_to_tokens(train_ds[0][0])\n",
    "# tokens[train_ds[0][1][0] - 1]\n",
    "train_ds[0][1]"
   ]
  },
  {
   "cell_type": "code",
   "execution_count": null,
   "id": "36ad9afe",
   "metadata": {
    "id": "36ad9afe",
    "outputId": "6b9cc51f-8378-4a0a-f39f-a9f85115b9f6"
   },
   "outputs": [
    {
     "data": {
      "text/plain": [
       "['cheryl', 'cassidy']"
      ]
     },
     "execution_count": 68,
     "metadata": {},
     "output_type": "execute_result"
    }
   ],
   "source": [
    "tokens[42:44]"
   ]
  },
  {
   "cell_type": "markdown",
   "id": "095dabb5",
   "metadata": {
    "id": "095dabb5"
   },
   "source": [
    "A List with your predictions.\n",
    "\n",
    "Each prediction is a tuple, composed by two tuples:\n",
    "(ambigous_pronoun, ambiguous_pronoun_offset), (coreferent_entity, coreferent_entity_offset))\n",
    "\n",
    "for example:\n",
    "    [(('her', 274), ('Pauline', 418))]"
   ]
  },
  {
   "cell_type": "markdown",
   "id": "6bf34075",
   "metadata": {
    "id": "6bf34075"
   },
   "source": [
    "I need to know the original positions.\n",
    "\n",
    "The model return the label prediction (0 1 2)\n",
    "\n",
    "If pred == 0 => A\n",
    "\n",
    "elif pred == 1 => B\n",
    "\n",
    "else => --\n",
    "\n",
    "I have to know:\n",
    "1. The pronoun and its pos\n",
    "2. The predicted entity and its pos\n",
    "\n",
    "\n",
    "1. I can retrieve the pronoun through the last offset in offsets after encoding the ids.\n",
    "    I also need its original position.\n",
    "    \n",
    "2. \n",
    "    \n"
   ]
  },
  {
   "cell_type": "code",
   "execution_count": null,
   "id": "180d6256",
   "metadata": {
    "id": "180d6256"
   },
   "outputs": [],
   "source": [
    "def read_dataset(path: str) -> List[Dict]:\n",
    "    samples: List[Dict] = []\n",
    "    pron_counter = Counter()\n",
    "    with open(path) as f:\n",
    "        next(f)\n",
    "        for line in f:\n",
    "            (\n",
    "                id,\n",
    "                text,\n",
    "                pron,\n",
    "                p_offset,\n",
    "                entity_A,\n",
    "                offset_A,\n",
    "                is_coref_A,\n",
    "                entity_B,\n",
    "                offset_B,\n",
    "                is_coref_B,\n",
    "                url,\n",
    "            ) = line.strip().split(\"\\t\")\n",
    "            pron_counter[pron.lower()] += 1\n",
    "            samples.append(\n",
    "                {\n",
    "                    \"id\": id,\n",
    "                    \"text\": text,\n",
    "                    \"pron\": pron,\n",
    "                    \"p_offset\": int(p_offset),\n",
    "                    \"entity_A\": entity_A,\n",
    "                    \"offset_A\": int(offset_A),\n",
    "                    \"is_coref_A\": is_coref_A,\n",
    "                    \"entity_B\": entity_B,\n",
    "                    \"offset_B\": int(offset_B),\n",
    "                    \"is_coref_B\": is_coref_B,\n",
    "                    \"url\": url,\n",
    "                }\n",
    "            )\n",
    "    print(pron_counter)\n",
    "    return samples, pron_counter"
   ]
  },
  {
   "cell_type": "code",
   "execution_count": null,
   "id": "b8a8bee5",
   "metadata": {
    "id": "b8a8bee5"
   },
   "outputs": [],
   "source": [
    "train_path = \"../../model/data/train.tsv\"\n",
    "valid_path = \"../../model/data/dev.tsv\""
   ]
  },
  {
   "cell_type": "code",
   "execution_count": null,
   "id": "4ab5e64b",
   "metadata": {
    "id": "4ab5e64b",
    "outputId": "067c9bad-ec3a-4414-8989-e1fdaf39e8a1"
   },
   "outputs": [
    {
     "name": "stdout",
     "output_type": "stream",
     "text": [
      "Counter({'his': 904, 'her': 773, 'he': 610, 'she': 555, 'him': 157})\n",
      "Counter({'her': 140, 'his': 108, 'he': 93, 'she': 87, 'him': 26})\n"
     ]
    }
   ],
   "source": [
    "train_dataset, train_pron_counter = read_dataset(train_path)\n",
    "valid_dataset, valid_pron_counter = read_dataset(valid_path)"
   ]
  },
  {
   "cell_type": "code",
   "execution_count": null,
   "id": "7cbc6e74",
   "metadata": {
    "id": "7cbc6e74",
    "outputId": "611ea31b-3883-4644-c1df-057ce66f683e"
   },
   "outputs": [
    {
     "data": {
      "text/plain": [
       "{'id': 'train-1',\n",
       " 'text': \"Zoe Telford -- played the police officer girlfriend of Simon, Maggie. Dumped by Simon in the final episode of series 1, after he slept with Jenny, and is not seen again. Phoebe Thomas played Cheryl Cassidy, Pauline's friend and also a year 11 pupil in Simon's class. Dumped her boyfriend following Simon's advice after he wouldn't have sex with her but later realised this was due to him catching crabs off her friend Pauline.\",\n",
       " 'pron': 'her',\n",
       " 'p_offset': 274,\n",
       " 'entity_A': 'Cheryl Cassidy',\n",
       " 'offset_A': 191,\n",
       " 'is_coref_A': 'TRUE',\n",
       " 'entity_B': 'Pauline',\n",
       " 'offset_B': 207,\n",
       " 'is_coref_B': 'FALSE',\n",
       " 'url': 'http://en.wikipedia.org/wiki/List_of_Teachers_(UK_TV_series)_characters'}"
      ]
     },
     "execution_count": 99,
     "metadata": {},
     "output_type": "execute_result"
    }
   ],
   "source": [
    "train_dataset[0]"
   ]
  },
  {
   "cell_type": "code",
   "execution_count": null,
   "id": "e635bc0e",
   "metadata": {
    "id": "e635bc0e"
   },
   "outputs": [],
   "source": [
    "def get_entity_and_offset_from_id(label_id, sentence):\n",
    "    if label_id == 0: # Entity A\n",
    "        return sentence['entity_A'], sentence['offset_A']\n",
    "    elif label_id == 1: # Entity B\n",
    "        return sentence['entity_B'], sentence['offset_B']\n",
    "    else: # Neither\n",
    "        return None, None "
   ]
  },
  {
   "cell_type": "code",
   "execution_count": null,
   "id": "3a00c15d",
   "metadata": {
    "id": "3a00c15d",
    "outputId": "2390d1d4-9f8b-4102-ee5b-1d15fa04e839"
   },
   "outputs": [
    {
     "data": {
      "text/plain": [
       "(None, None)"
      ]
     },
     "execution_count": 112,
     "metadata": {},
     "output_type": "execute_result"
    }
   ],
   "source": [
    "get_entity_and_offset_from_id(2, train_dataset[0])"
   ]
  },
  {
   "cell_type": "code",
   "execution_count": null,
   "id": "6ca534a6",
   "metadata": {
    "id": "6ca534a6"
   },
   "outputs": [],
   "source": [
    "def predict(model, sentences: List[Dict]) -> List[Tuple[Tuple[str, int], Tuple[str, int]]]:\n",
    "    df = pd.DataFrame(sentences)\n",
    "    \n",
    "    # tokenizer will be self.tokenizer in the final implementation\n",
    "    dataset = GAPDataset(df, tokenizer)\n",
    "    collator = Collator(device)\n",
    "\n",
    "    predictions = []\n",
    "    \n",
    "    #self.model.eval()\n",
    "    model.eval()\n",
    "    with torch.no_grad():\n",
    "        dataloader = DataLoader(dataset, batch_size=1, \n",
    "                                collate_fn=collator, shuffle=False)\n",
    "        \n",
    "        for (features, offsets, labels), sentence in zip(dataloader, sentences):\n",
    "            \n",
    "#             predictions = self.model(features, offsets).argmax(1).item()\n",
    "            predicted_label_id = model(features, offsets).argmax(1).item()\n",
    "            pred_entity, pred_entity_offset = get_entity_and_offset_from_id(predicted_label_id, sentence)\n",
    "            pron, pron_offset = sentence['pron'],  sentence['p_offset']\n",
    "            \n",
    "            predictions.append(((pron, pron_offset), (pred_entity, pred_entity_offset)))\n",
    "            \n",
    "    return predictions\n",
    "            "
   ]
  },
  {
   "cell_type": "code",
   "execution_count": null,
   "id": "c427614f",
   "metadata": {
    "id": "c427614f"
   },
   "outputs": [],
   "source": [
    "pred = predict(model_resumed, valid_dataset)"
   ]
  },
  {
   "cell_type": "code",
   "execution_count": null,
   "id": "9bba0ffa",
   "metadata": {
    "id": "9bba0ffa"
   },
   "outputs": [],
   "source": [
    "gold_values = []\n",
    "for sentence in valid_dataset:\n",
    "    gold_both_wrong = sentence[\"is_coref_A\"] == \"FALSE\" and sentence[\"is_coref_B\"] == \"FALSE\"\n",
    "    if gold_both_wrong:\n",
    "        gold_entity_offset = None\n",
    "        gold_entity = None\n",
    "    else:\n",
    "        gold_entity_offset = (\n",
    "            sentence[\"offset_A\"] if sentence[\"is_coref_A\"] == \"TRUE\" else sentence[\"offset_B\"]\n",
    "        )\n",
    "        gold_entity = (\n",
    "            sentence[\"entity_A\"] if sentence[\"is_coref_A\"] == \"TRUE\" else sentence[\"entity_B\"]\n",
    "        )\n",
    "    \n",
    "    \n",
    "    gold_values.append(((sentence['pron'], sentence['p_offset']),(gold_entity, gold_entity_offset)))"
   ]
  },
  {
   "cell_type": "code",
   "execution_count": null,
   "id": "94057fda",
   "metadata": {
    "id": "94057fda",
    "outputId": "dd206596-b432-4181-f96d-97e7a2f3f1ec"
   },
   "outputs": [
    {
     "data": {
      "text/plain": [
       "0"
      ]
     },
     "execution_count": 79,
     "metadata": {},
     "output_type": "execute_result"
    }
   ],
   "source": [
    "a = {}\n",
    "\n",
    "a.setdefault(\"age\", 0)\n",
    "a.setdefault(\"age\", 5)"
   ]
  },
  {
   "cell_type": "code",
   "execution_count": null,
   "id": "940ba563",
   "metadata": {
    "id": "940ba563",
    "outputId": "dd0b78b1-dc5f-4023-dd76-677df3ffe869"
   },
   "outputs": [
    {
     "data": {
      "text/plain": [
       "{'age': 0, 'a': 0}"
      ]
     },
     "execution_count": 80,
     "metadata": {},
     "output_type": "execute_result"
    }
   ],
   "source": [
    "a['a'] = 0\n",
    "a"
   ]
  },
  {
   "cell_type": "code",
   "execution_count": null,
   "id": "b86c72b7",
   "metadata": {
    "id": "b86c72b7"
   },
   "outputs": [],
   "source": [
    "wrong = []\n",
    "for p, g in zip(pred, gold_values):\n",
    "    if g[1][0] != p[1][0]:\n",
    "        wrong.append((g, p))\n",
    "#     print(p[1], g[1])"
   ]
  },
  {
   "cell_type": "code",
   "execution_count": null,
   "id": "5d5f3f38",
   "metadata": {
    "id": "5d5f3f38"
   },
   "outputs": [],
   "source": [
    "pr = wrong[0][0][0][0]\n",
    "get_gender(\"she\")\n",
    "\n",
    "gender = {}\n",
    "\n",
    "for pair in wrong:\n",
    "    pr = pair[0][0][0]\n",
    "    gender.setdefault(get_gender(pr.lower()), 0)\n",
    "    gender[get_gender(pr.lower())] += 1 \n"
   ]
  },
  {
   "cell_type": "code",
   "execution_count": null,
   "id": "19ef2627",
   "metadata": {
    "id": "19ef2627",
    "outputId": "39bd69ff-30b3-4107-9796-c65d11499e76"
   },
   "outputs": [
    {
     "data": {
      "text/plain": [
       "{1: 35, 0: 34}"
      ]
     },
     "execution_count": 89,
     "metadata": {},
     "output_type": "execute_result"
    }
   ],
   "source": [
    "gender"
   ]
  },
  {
   "cell_type": "code",
   "execution_count": null,
   "id": "2d475e6f",
   "metadata": {
    "id": "2d475e6f",
    "outputId": "b09b0735-78cd-41d6-f2ab-a67274d07c31"
   },
   "outputs": [
    {
     "data": {
      "text/plain": [
       "{'id': 'validation-2',\n",
       " 'text': \"Kathleen Nott was born in Camberwell, London. Her father, Philip, was a lithographic printer, and her mother, Ellen, ran a boarding house in Brixton; Kathleen was their third daughter. She was educated at Mary Datchelor Girls' School (now closed), London, before attending King's College, London.\",\n",
       " 'pron': 'She',\n",
       " 'p_offset': 185,\n",
       " 'entity_A': 'Ellen',\n",
       " 'offset_A': 110,\n",
       " 'is_coref_A': 'FALSE',\n",
       " 'entity_B': 'Kathleen',\n",
       " 'offset_B': 150,\n",
       " 'is_coref_B': 'TRUE',\n",
       " 'url': 'http://en.wikipedia.org/wiki/Kathleen_Nott'}"
      ]
     },
     "execution_count": 124,
     "metadata": {},
     "output_type": "execute_result"
    }
   ],
   "source": [
    "valid_dataset[1]"
   ]
  },
  {
   "cell_type": "code",
   "execution_count": null,
   "id": "f429bd56",
   "metadata": {
    "id": "f429bd56"
   },
   "outputs": [],
   "source": [
    "def compute_metrics(predictions_s, samples):\n",
    "    total = 0\n",
    "    correct = 0\n",
    "    for pred, label in zip(predictions_s, samples):\n",
    "        gold_pron_offset = label[\"p_offset\"]\n",
    "        pred_pron_offset = pred[0][1] if len(pred[0]) > 0 else None\n",
    "        gold_pron = label[\"pron\"]\n",
    "        pred_pron = pred[0][0] if len(pred[0]) > 0 else None\n",
    "        gold_both_wrong = label[\"is_coref_A\"] == \"FALSE\" and label[\"is_coref_B\"] == \"FALSE\"\n",
    "        pred_entity_offset = pred[1][1] if len(pred[1]) > 0 else None\n",
    "        pred_entity = pred[1][0] if len(pred[1]) > 0 else None\n",
    "              \n",
    "        if gold_both_wrong:\n",
    "            if pred_entity is None and gold_pron_offset == pred_pron_offset and gold_pron == pred_pron:\n",
    "                correct += 1\n",
    "            total += 1\n",
    "        else:\n",
    "            gold_entity_offset = (\n",
    "                label[\"offset_A\"] if label[\"is_coref_A\"] == \"TRUE\" else label[\"offset_B\"]\n",
    "            )\n",
    "            gold_entity = (\n",
    "                label[\"entity_A\"] if label[\"is_coref_A\"] == \"TRUE\" else label[\"entity_B\"]\n",
    "            )\n",
    "            if (\n",
    "                gold_pron_offset == pred_pron_offset\n",
    "                and gold_pron == pred_pron\n",
    "                and gold_entity_offset == pred_entity_offset\n",
    "                and gold_entity == pred_entity\n",
    "            ):\n",
    "                correct += 1\n",
    "            total += 1\n",
    "    \n",
    "    print(f\"# instances: {total}\")\n",
    "    acc = float(correct) / total\n",
    "    print(f\"# accuracy: {acc:.4f}\")"
   ]
  },
  {
   "cell_type": "code",
   "execution_count": null,
   "id": "f970c3d9",
   "metadata": {
    "id": "f970c3d9",
    "outputId": "a73a7b89-4175-45f2-ce1b-1c88e4ee808e"
   },
   "outputs": [
    {
     "name": "stdout",
     "output_type": "stream",
     "text": [
      "# instances: 454\n",
      "# accuracy: 0.8568\n"
     ]
    }
   ],
   "source": [
    "compute_metrics(pred, valid_dataset)"
   ]
  },
  {
   "cell_type": "code",
   "execution_count": null,
   "id": "3908b386",
   "metadata": {
    "id": "3908b386"
   },
   "outputs": [],
   "source": [
    "from arguments import CustomTrainingArguments\n",
    "a = CustomTrainingArguments(output_dir=\"c\")"
   ]
  },
  {
   "cell_type": "code",
   "execution_count": null,
   "id": "aaff3c45",
   "metadata": {
    "id": "aaff3c45",
    "outputId": "a920bfef-2e7b-405d-e992-5756cf1ea819"
   },
   "outputs": [
    {
     "data": {
      "text/plain": [
       "CustomTrainingArguments(output_dir='c', resume_from_checkpoint=None, save_model=False, num_train_epochs=3, logging_steps=250, learning_rate=0.0005, grad_clipping=None, early_stopping=False, early_stopping_mode='max', early_stopping_patience=0)"
      ]
     },
     "execution_count": 3,
     "metadata": {},
     "output_type": "execute_result"
    }
   ],
   "source": [
    "a"
   ]
  },
  {
   "cell_type": "code",
   "execution_count": null,
   "id": "0b7ae21f",
   "metadata": {
    "id": "0b7ae21f",
    "outputId": "22c6c145-e93b-4a94-f7fb-47600fbbc5cc"
   },
   "outputs": [
    {
     "ename": "TypeError",
     "evalue": "__init__() got an unexpected keyword argument 'resume_from_checkpoint'",
     "output_type": "error",
     "traceback": [
      "\u001b[1;31m---------------------------------------------------------------------------\u001b[0m",
      "\u001b[1;31mTypeError\u001b[0m                                 Traceback (most recent call last)",
      "\u001b[1;32m~\\AppData\\Local\\Temp\\ipykernel_9356\\1665919785.py\u001b[0m in \u001b[0;36m<module>\u001b[1;34m\u001b[0m\n\u001b[0;32m      7\u001b[0m     \u001b[0mconfig\u001b[0m \u001b[1;33m=\u001b[0m \u001b[0myaml\u001b[0m\u001b[1;33m.\u001b[0m\u001b[0msafe_load\u001b[0m\u001b[1;33m(\u001b[0m\u001b[0mfile\u001b[0m\u001b[1;33m)\u001b[0m\u001b[1;33m\u001b[0m\u001b[1;33m\u001b[0m\u001b[0m\n\u001b[0;32m      8\u001b[0m \u001b[1;33m\u001b[0m\u001b[0m\n\u001b[1;32m----> 9\u001b[1;33m \u001b[0marg\u001b[0m \u001b[1;33m=\u001b[0m \u001b[0mCustomTrainingArguments\u001b[0m\u001b[1;33m(\u001b[0m\u001b[1;33m**\u001b[0m\u001b[0mconfig\u001b[0m\u001b[1;33m[\u001b[0m\u001b[1;34m'training_args'\u001b[0m\u001b[1;33m]\u001b[0m\u001b[1;33m)\u001b[0m\u001b[1;33m\u001b[0m\u001b[1;33m\u001b[0m\u001b[0m\n\u001b[0m",
      "\u001b[1;31mTypeError\u001b[0m: __init__() got an unexpected keyword argument 'resume_from_checkpoint'"
     ]
    }
   ],
   "source": [
    "from arguments import CustomTrainingArguments\n",
    "\n",
    "yaml_file = \"./train.yaml\"\n",
    "\n",
    "# Read configuration file with all the necessary parameters\n",
    "with open(yaml_file) as file:\n",
    "    config = yaml.safe_load(file)\n",
    "    \n",
    "arg = CustomTrainingArguments(**config['training_args'])"
   ]
  },
  {
   "cell_type": "code",
   "execution_count": null,
   "id": "d9e9ff37",
   "metadata": {
    "id": "d9e9ff37",
    "outputId": "0b3baa1d-1449-4619-deea-490de73200d6"
   },
   "outputs": [
    {
     "name": "stdout",
     "output_type": "stream",
     "text": [
      "CustomTrainingArguments(output_dir='../../model/checkpoints/', num_train_epochs=6, logging_steps=250, save_model=False, learning_rate=5e-06, grad_clipping=None, early_stopping=False, early_stopping_mode='max', early_stopping_patience=0)\n"
     ]
    }
   ],
   "source": [
    "print(arg)"
   ]
  },
  {
   "cell_type": "code",
   "execution_count": null,
   "id": "c3a6450b",
   "metadata": {
    "id": "c3a6450b"
   },
   "outputs": [],
   "source": []
  }
 ],
 "metadata": {
  "accelerator": "GPU",
  "colab": {
   "collapsed_sections": [],
   "name": "Training.ipynb",
   "provenance": []
  },
  "gpuClass": "standard",
  "kernelspec": {
   "display_name": "Python 3.7 (DL)",
   "language": "python",
   "name": "dl"
  },
  "language_info": {
   "codemirror_mode": {
    "name": "ipython",
    "version": 3
   },
   "file_extension": ".py",
   "mimetype": "text/x-python",
   "name": "python",
   "nbconvert_exporter": "python",
   "pygments_lexer": "ipython3",
   "version": "3.7.13"
  }
 },
 "nbformat": 4,
 "nbformat_minor": 5
}
